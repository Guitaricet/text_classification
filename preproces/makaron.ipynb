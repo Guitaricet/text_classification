{
 "cells": [
  {
   "cell_type": "code",
   "execution_count": 24,
   "metadata": {},
   "outputs": [],
   "source": [
    "import numpy as np\n",
    "import pandas as pd\n",
    "\n",
    "import torch\n",
    "import torch.utils.data"
   ]
  },
  {
   "cell_type": "code",
   "execution_count": 2,
   "metadata": {},
   "outputs": [],
   "source": [
    "data_pos = pd.read_csv('/media/data/nlp/sentiment/rus-mokoron/positive.csv',\n",
    "                   names=['id', 'date', 'user', 'text', 'sentiment'], index_col=0,\n",
    "                   sep=';', usecols=[0, 1, 2, 3, 4])\n",
    "data_neg = pd.read_csv('/media/data/nlp/sentiment/rus-mokoron/negative.csv',\n",
    "                   names=['id', 'date', 'user', 'text', 'sentiment'], index_col=0,\n",
    "                   sep=';', usecols=[0, 1, 2, 3, 4])\n",
    "\n",
    "data = pd.concat([data_pos, data_neg])"
   ]
  },
  {
   "cell_type": "code",
   "execution_count": 3,
   "metadata": {},
   "outputs": [
    {
     "data": {
      "text/html": [
       "<div>\n",
       "<style scoped>\n",
       "    .dataframe tbody tr th:only-of-type {\n",
       "        vertical-align: middle;\n",
       "    }\n",
       "\n",
       "    .dataframe tbody tr th {\n",
       "        vertical-align: top;\n",
       "    }\n",
       "\n",
       "    .dataframe thead th {\n",
       "        text-align: right;\n",
       "    }\n",
       "</style>\n",
       "<table border=\"1\" class=\"dataframe\">\n",
       "  <thead>\n",
       "    <tr style=\"text-align: right;\">\n",
       "      <th></th>\n",
       "      <th>date</th>\n",
       "      <th>user</th>\n",
       "      <th>text</th>\n",
       "      <th>sentiment</th>\n",
       "    </tr>\n",
       "    <tr>\n",
       "      <th>id</th>\n",
       "      <th></th>\n",
       "      <th></th>\n",
       "      <th></th>\n",
       "      <th></th>\n",
       "    </tr>\n",
       "  </thead>\n",
       "  <tbody>\n",
       "    <tr>\n",
       "      <th>413821004637806593</th>\n",
       "      <td>1387497590</td>\n",
       "      <td>Artem_NS</td>\n",
       "      <td>И как в этом шлюхообразном мире можно найти св...</td>\n",
       "      <td>-1</td>\n",
       "    </tr>\n",
       "    <tr>\n",
       "      <th>410848220143972352</th>\n",
       "      <td>1386788823</td>\n",
       "      <td>missdevine_</td>\n",
       "      <td>среда, 18.12, волейбол. учителя vs лицеисты :)...</td>\n",
       "      <td>1</td>\n",
       "    </tr>\n",
       "    <tr>\n",
       "      <th>410792065178812417</th>\n",
       "      <td>1386775435</td>\n",
       "      <td>pennyroyal_teea</td>\n",
       "      <td>@cykaaaa_ я в рязани хочу учиться..в.москву бу...</td>\n",
       "      <td>1</td>\n",
       "    </tr>\n",
       "    <tr>\n",
       "      <th>416426390217834496</th>\n",
       "      <td>1388118762</td>\n",
       "      <td>ViktoriaMshn</td>\n",
       "      <td>@strikalo в жизни оскорблять не так просто:(</td>\n",
       "      <td>-1</td>\n",
       "    </tr>\n",
       "    <tr>\n",
       "      <th>411127764864217088</th>\n",
       "      <td>1386855472</td>\n",
       "      <td>AvramenkoAnuta</td>\n",
       "      <td>У меня попугай подпевает музыке, которую я слу...</td>\n",
       "      <td>1</td>\n",
       "    </tr>\n",
       "  </tbody>\n",
       "</table>\n",
       "</div>"
      ],
      "text/plain": [
       "                          date             user  \\\n",
       "id                                                \n",
       "413821004637806593  1387497590         Artem_NS   \n",
       "410848220143972352  1386788823      missdevine_   \n",
       "410792065178812417  1386775435  pennyroyal_teea   \n",
       "416426390217834496  1388118762     ViktoriaMshn   \n",
       "411127764864217088  1386855472   AvramenkoAnuta   \n",
       "\n",
       "                                                                 text  \\\n",
       "id                                                                      \n",
       "413821004637806593  И как в этом шлюхообразном мире можно найти св...   \n",
       "410848220143972352  среда, 18.12, волейбол. учителя vs лицеисты :)...   \n",
       "410792065178812417  @cykaaaa_ я в рязани хочу учиться..в.москву бу...   \n",
       "416426390217834496       @strikalo в жизни оскорблять не так просто:(   \n",
       "411127764864217088  У меня попугай подпевает музыке, которую я слу...   \n",
       "\n",
       "                    sentiment  \n",
       "id                             \n",
       "413821004637806593         -1  \n",
       "410848220143972352          1  \n",
       "410792065178812417          1  \n",
       "416426390217834496         -1  \n",
       "411127764864217088          1  "
      ]
     },
     "execution_count": 3,
     "metadata": {},
     "output_type": "execute_result"
    }
   ],
   "source": [
    "data.sample(5)"
   ]
  },
  {
   "cell_type": "markdown",
   "metadata": {},
   "source": [
    "## Train-val-test split"
   ]
  },
  {
   "cell_type": "code",
   "execution_count": 8,
   "metadata": {},
   "outputs": [
    {
     "data": {
      "text/plain": [
       "226834"
      ]
     },
     "execution_count": 8,
     "metadata": {},
     "output_type": "execute_result"
    }
   ],
   "source": [
    "len(data)"
   ]
  },
  {
   "cell_type": "code",
   "execution_count": 12,
   "metadata": {},
   "outputs": [
    {
     "name": "stdout",
     "output_type": "stream",
     "text": [
      "Train:  158784\n",
      "Valid:  34025\n",
      "Test :  34025\n"
     ]
    }
   ],
   "source": [
    "indices = list(data.index)\n",
    "np.random.shuffle(indices)\n",
    "\n",
    "TEST_SIZE = 0.15\n",
    "VAL_SIZE = 0.15\n",
    "\n",
    "test_size = int(len(indices) * TEST_SIZE)\n",
    "val_size = int(len(indices) * VAL_SIZE)\n",
    "train_size = len(indices) - test_size - val_size\n",
    "\n",
    "train_idxs = indices[:train_size]\n",
    "valid_idxs = indices[train_size:train_size+val_size]\n",
    "test_idxs = indices[train_size+val_size:]\n",
    "\n",
    "print('Train: ', train_size)\n",
    "print('Valid: ', val_size)\n",
    "print('Test : ', test_size)"
   ]
  },
  {
   "cell_type": "code",
   "execution_count": 14,
   "metadata": {},
   "outputs": [],
   "source": [
    "train_data = data.loc[train_idxs]\n",
    "valid_data = data.loc[valid_idxs]\n",
    "test_data = data.loc[test_idxs]"
   ]
  },
  {
   "cell_type": "code",
   "execution_count": 15,
   "metadata": {},
   "outputs": [],
   "source": [
    "basepath = '/media/data/nlp/sentiment/rus-mokoron/splits/'\n",
    "train_data.to_csv(basepath+'train.csv')\n",
    "valid_data.to_csv(basepath+'validation.csv')\n",
    "test_data.to_csv(basepath+'test.csv')"
   ]
  },
  {
   "cell_type": "markdown",
   "metadata": {},
   "source": [
    "# Dataset"
   ]
  },
  {
   "cell_type": "code",
   "execution_count": 56,
   "metadata": {},
   "outputs": [],
   "source": [
    "import numpy as np\n",
    "import pandas as pd\n",
    "\n",
    "import torch\n",
    "import torch.utils.data\n",
    "\n",
    "ALPHABET = ['<UNK>'] + ['\\n'] + [s for s in \"\"\" абвгдеёжзийклмнопрстуфхцчщъыьэюя0123456789-,;.!?:'’’/\\|_@#$%ˆ&* ̃‘+-=<>()[]{}\"\"\"]\n",
    "ALPHABET += 'abcdefghijklmnopqrstuvwxyz'\n",
    "\n",
    "class MokoronDatasetOneHot(torch.utils.data.Dataset):\n",
    "    \"\"\"\n",
    "    Zero vector for padding.\n",
    "    \"\"\"\n",
    "\n",
    "    def __init__(self, filepath, maxlen=512, noise_level=0):\n",
    "        self.alphabet = ALPHABET\n",
    "\n",
    "        self.dataframe = pd.read_csv(filepath)\n",
    "        self.noise_level = 0\n",
    "        self.maxlen = maxlen\n",
    "        self.char2int = {s: i for s, i in zip(self.alphabet, range(len(self.alphabet)))}\n",
    "        self.noise_level = noise_level\n",
    "\n",
    "    def __len__(self):\n",
    "        return len(self.data)\n",
    "\n",
    "    def __getitem__(self, idx):\n",
    "        line = self.dataframe.iloc[idx]\n",
    "        if self.noise_level > 0:\n",
    "            text = self._noise_generator(text)\n",
    "        text = self._preprocess_text_nobatch(line.text)\n",
    "        label = (line.sentiment == 1.)\n",
    "        return text, label\n",
    "\n",
    "    def _noise_generator(string):\n",
    "        noised = \"\"\n",
    "        for c in string:\n",
    "            if random() > self.noise_level:\n",
    "                noised += c\n",
    "            if random() < self.noise_level:\n",
    "                noised += choice(self.alphabet)\n",
    "        return noised\n",
    "\n",
    "    def _one_hot(self, char):\n",
    "        zeros = np.zeros(len(self.alphabet))\n",
    "        if char in self.char2int:\n",
    "            zeros[self.char2int[char]] = 1.\n",
    "        else:\n",
    "            zeros[self.char2int['<UNK>']] = 1.\n",
    "\n",
    "    def _preprocess_text_nobatch(self, text):\n",
    "        text = text.lower()\n",
    "        one_hotted_text = np.zeros((self.maxlen, len(self.alphabet)))\n",
    "        for i, char in enumerate(text):\n",
    "            if i >= self.maxlen:\n",
    "                break\n",
    "            one_hotted_text[i, self.char2int.get(char, self.char2int['<UNK>'])] = 1.\n",
    "\n",
    "        return torch.FloatTensor(one_hotted_text)\n",
    "\n",
    "    def onehot2text(self, one_hotted_text, show_pad=False):\n",
    "        text = ''\n",
    "        max_values, idx = torch.max(one_hotted_text, 1)\n",
    "        for c, i in enumerate(idx):\n",
    "            if max_values[c] == 0:\n",
    "                if show_pad:\n",
    "                    symb = '<PAD>'\n",
    "                else:\n",
    "                    symb = ''\n",
    "            else:\n",
    "                symb = ALPHABET[i]\n",
    "            text += symb\n",
    "        return text\n"
   ]
  },
  {
   "cell_type": "code",
   "execution_count": 57,
   "metadata": {},
   "outputs": [],
   "source": [
    "dataset = MokoronDatasetOneHot(filepath=basepath+'train.csv')"
   ]
  },
  {
   "cell_type": "code",
   "execution_count": 58,
   "metadata": {},
   "outputs": [
    {
     "data": {
      "text/plain": [
       "(\n",
       "     0     0     0  ...      0     0     0\n",
       "     0     0     0  ...      0     0     0\n",
       "     0     0     0  ...      0     0     0\n",
       "        ...          ⋱          ...       \n",
       "     0     0     0  ...      0     0     0\n",
       "     0     0     0  ...      0     0     0\n",
       "     0     0     0  ...      0     0     0\n",
       " [torch.FloatTensor of size 512x106], False)"
      ]
     },
     "execution_count": 58,
     "metadata": {},
     "output_type": "execute_result"
    }
   ],
   "source": [
    "text, sentiment = dataset[0]\n",
    "text, sentiment"
   ]
  },
  {
   "cell_type": "code",
   "execution_count": 59,
   "metadata": {},
   "outputs": [
    {
     "data": {
      "text/plain": [
       "'@SPB_citizen @gruppa_GS Сдулися оба.((( \\nОдно радует: в семействе Гудковых не наблюдается конфликта отцов и детей.'"
      ]
     },
     "execution_count": 59,
     "metadata": {},
     "output_type": "execute_result"
    }
   ],
   "source": [
    "dataset.dataframe.iloc[0].text"
   ]
  },
  {
   "cell_type": "code",
   "execution_count": 60,
   "metadata": {},
   "outputs": [
    {
     "data": {
      "text/plain": [
       "'@spb_citizen @gruppa_gs сдулися оба.((( \\nодно радует: в семействе гудковых не наблюдается конфликта отцов и детей.'"
      ]
     },
     "execution_count": 60,
     "metadata": {},
     "output_type": "execute_result"
    }
   ],
   "source": [
    "dataset.onehot2text(text)"
   ]
  }
 ],
 "metadata": {
  "kernelspec": {
   "display_name": "pytorch-env",
   "language": "python",
   "name": "pytorch-env"
  },
  "language_info": {
   "codemirror_mode": {
    "name": "ipython",
    "version": 3
   },
   "file_extension": ".py",
   "mimetype": "text/x-python",
   "name": "python",
   "nbconvert_exporter": "python",
   "pygments_lexer": "ipython3",
   "version": "3.5.2"
  }
 },
 "nbformat": 4,
 "nbformat_minor": 2
}
