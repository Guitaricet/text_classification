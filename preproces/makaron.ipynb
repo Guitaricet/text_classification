{
 "cells": [
  {
   "cell_type": "code",
   "execution_count": 94,
   "metadata": {},
   "outputs": [],
   "source": [
    "import numpy as np\n",
    "import pandas as pd\n",
    "\n",
    "import torch\n",
    "import torch.utils.data"
   ]
  },
  {
   "cell_type": "code",
   "execution_count": 96,
   "metadata": {},
   "outputs": [],
   "source": [
    "data_pos = pd.read_csv('/media/data/nlp/sentiment/ru-mokoron/positive.csv',\n",
    "                   names=['id', 'date', 'user', 'text', 'sentiment'], index_col=0,\n",
    "                   sep=';', usecols=[0, 1, 2, 3, 4])\n",
    "data_neg = pd.read_csv('/media/data/nlp/sentiment/ru-mokoron/negative.csv',\n",
    "                   names=['id', 'date', 'user', 'text', 'sentiment'], index_col=0,\n",
    "                   sep=';', usecols=[0, 1, 2, 3, 4])\n",
    "\n",
    "data = pd.concat([data_pos, data_neg])"
   ]
  },
  {
   "cell_type": "code",
   "execution_count": 100,
   "metadata": {},
   "outputs": [
    {
     "data": {
      "text/plain": [
       "(114911, 110396)"
      ]
     },
     "execution_count": 100,
     "metadata": {},
     "output_type": "execute_result"
    }
   ],
   "source": [
    "len(data_pos.text), len(set(data_pos.text))"
   ]
  },
  {
   "cell_type": "code",
   "execution_count": 65,
   "metadata": {},
   "outputs": [],
   "source": [
    "%matplotlib inline\n",
    "import seaborn\n",
    "seaborn.set()"
   ]
  },
  {
   "cell_type": "code",
   "execution_count": 63,
   "metadata": {},
   "outputs": [
    {
     "data": {
      "text/plain": [
       "(189, 94)"
      ]
     },
     "execution_count": 63,
     "metadata": {},
     "output_type": "execute_result"
    }
   ],
   "source": [
    "max(data.text.str.len()), max(data.text.str.split(' ').str.len())"
   ]
  },
  {
   "cell_type": "code",
   "execution_count": 70,
   "metadata": {},
   "outputs": [
    {
     "data": {
      "text/plain": [
       "<matplotlib.axes._subplots.AxesSubplot at 0x7f6cfe09f748>"
      ]
     },
     "execution_count": 70,
     "metadata": {},
     "output_type": "execute_result"
    },
    {
     "data": {
      "image/png": "[encoded data removed]",
      "text/plain": [
       "<matplotlib.figure.Figure at 0x7f6cfe0739b0>"
      ]
     },
     "metadata": {},
     "output_type": "display_data"
    }
   ],
   "source": [
    "data.text.str.len().hist()"
   ]
  },
  {
   "cell_type": "code",
   "execution_count": 69,
   "metadata": {},
   "outputs": [
    {
     "data": {
      "text/plain": [
       "<matplotlib.axes._subplots.AxesSubplot at 0x7f6cfe0a57f0>"
      ]
     },
     "execution_count": 69,
     "metadata": {},
     "output_type": "execute_result"
    },
    {
     "data": {
      "image/png": "[encoded data removed]",
      "text/plain": [
       "<matplotlib.figure.Figure at 0x7f6cfe0565c0>"
      ]
     },
     "metadata": {},
     "output_type": "display_data"
    }
   ],
   "source": [
    "data.text.str.split(' ').str.len().hist()"
   ]
  },
  {
   "cell_type": "code",
   "execution_count": 3,
   "metadata": {
    "collapsed": false
   },
   "outputs": [
    {
     "data": {
      "text/html": [
       "<div>\n",
       "<style scoped>\n",
       "    .dataframe tbody tr th:only-of-type {\n",
       "        vertical-align: middle;\n",
       "    }\n",
       "\n",
       "    .dataframe tbody tr th {\n",
       "        vertical-align: top;\n",
       "    }\n",
       "\n",
       "    .dataframe thead th {\n",
       "        text-align: right;\n",
       "    }\n",
       "</style>\n",
       "<table border=\"1\" class=\"dataframe\">\n",
       "  <thead>\n",
       "    <tr style=\"text-align: right;\">\n",
       "      <th></th>\n",
       "      <th>date</th>\n",
       "      <th>user</th>\n",
       "      <th>text</th>\n",
       "      <th>sentiment</th>\n",
       "    </tr>\n",
       "    <tr>\n",
       "      <th>id</th>\n",
       "      <th></th>\n",
       "      <th></th>\n",
       "      <th></th>\n",
       "      <th></th>\n",
       "    </tr>\n",
       "  </thead>\n",
       "  <tbody>\n",
       "    <tr>\n",
       "      <th>413821004637806593</th>\n",
       "      <td>1387497590</td>\n",
       "      <td>Artem_NS</td>\n",
       "      <td>И как в этом шлюхообразном мире можно найти св...</td>\n",
       "      <td>-1</td>\n",
       "    </tr>\n",
       "    <tr>\n",
       "      <th>410848220143972352</th>\n",
       "      <td>1386788823</td>\n",
       "      <td>missdevine_</td>\n",
       "      <td>среда, 18.12, волейбол. учителя vs лицеисты :)...</td>\n",
       "      <td>1</td>\n",
       "    </tr>\n",
       "    <tr>\n",
       "      <th>410792065178812417</th>\n",
       "      <td>1386775435</td>\n",
       "      <td>pennyroyal_teea</td>\n",
       "      <td>@cykaaaa_ я в рязани хочу учиться..в.москву бу...</td>\n",
       "      <td>1</td>\n",
       "    </tr>\n",
       "    <tr>\n",
       "      <th>416426390217834496</th>\n",
       "      <td>1388118762</td>\n",
       "      <td>ViktoriaMshn</td>\n",
       "      <td>@strikalo в жизни оскорблять не так просто:(</td>\n",
       "      <td>-1</td>\n",
       "    </tr>\n",
       "    <tr>\n",
       "      <th>411127764864217088</th>\n",
       "      <td>1386855472</td>\n",
       "      <td>AvramenkoAnuta</td>\n",
       "      <td>У меня попугай подпевает музыке, которую я слу...</td>\n",
       "      <td>1</td>\n",
       "    </tr>\n",
       "  </tbody>\n",
       "</table>\n",
       "</div>"
      ],
      "text/plain": [
       "                          date             user  \\\n",
       "id                                                \n",
       "413821004637806593  1387497590         Artem_NS   \n",
       "410848220143972352  1386788823      missdevine_   \n",
       "410792065178812417  1386775435  pennyroyal_teea   \n",
       "416426390217834496  1388118762     ViktoriaMshn   \n",
       "411127764864217088  1386855472   AvramenkoAnuta   \n",
       "\n",
       "                                                                 text  \\\n",
       "id                                                                      \n",
       "413821004637806593  И как в этом шлюхообразном мире можно найти св...   \n",
       "410848220143972352  среда, 18.12, волейбол. учителя vs лицеисты :)...   \n",
       "410792065178812417  @cykaaaa_ я в рязани хочу учиться..в.москву бу...   \n",
       "416426390217834496       @strikalo в жизни оскорблять не так просто:(   \n",
       "411127764864217088  У меня попугай подпевает музыке, которую я слу...   \n",
       "\n",
       "                    sentiment  \n",
       "id                             \n",
       "413821004637806593         -1  \n",
       "410848220143972352          1  \n",
       "410792065178812417          1  \n",
       "416426390217834496         -1  \n",
       "411127764864217088          1  "
      ]
     },
     "execution_count": 3,
     "metadata": {},
     "output_type": "execute_result"
    }
   ],
   "source": [
    "data.sample(5)"
   ]
  },
  {
   "cell_type": "code",
   "execution_count": 98,
   "metadata": {},
   "outputs": [
    {
     "data": {
      "text/plain": [
       "(226834, 217440)"
      ]
     },
     "execution_count": 98,
     "metadata": {},
     "output_type": "execute_result"
    }
   ],
   "source": [
    "len(data.text), len(set(list(data.text)))"
   ]
  },
  {
   "cell_type": "markdown",
   "metadata": {},
   "source": [
    "## Train-val-test split"
   ]
  },
  {
   "cell_type": "code",
   "execution_count": 8,
   "metadata": {
    "collapsed": false
   },
   "outputs": [
    {
     "data": {
      "text/plain": [
       "226834"
      ]
     },
     "execution_count": 8,
     "metadata": {},
     "output_type": "execute_result"
    }
   ],
   "source": [
    "len(data)"
   ]
  },
  {
   "cell_type": "code",
   "execution_count": 12,
   "metadata": {
    "collapsed": false
   },
   "outputs": [
    {
     "name": "stdout",
     "output_type": "stream",
     "text": [
      "Train:  158784\n",
      "Valid:  34025\n",
      "Test :  34025\n"
     ]
    }
   ],
   "source": [
    "indices = list(data.index)\n",
    "np.random.shuffle(indices)\n",
    "\n",
    "TEST_SIZE = 0.15\n",
    "VAL_SIZE = 0.15\n",
    "\n",
    "test_size = int(len(indices) * TEST_SIZE)\n",
    "val_size = int(len(indices) * VAL_SIZE)\n",
    "train_size = len(indices) - test_size - val_size\n",
    "\n",
    "train_idxs = indices[:train_size]\n",
    "valid_idxs = indices[train_size:train_size+val_size]\n",
    "test_idxs = indices[train_size+val_size:]\n",
    "\n",
    "print('Train: ', train_size)\n",
    "print('Valid: ', val_size)\n",
    "print('Test : ', test_size)"
   ]
  },
  {
   "cell_type": "code",
   "execution_count": 14,
   "metadata": {
    "collapsed": true
   },
   "outputs": [],
   "source": [
    "train_data = data.loc[train_idxs]\n",
    "valid_data = data.loc[valid_idxs]\n",
    "test_data = data.loc[test_idxs]"
   ]
  },
  {
   "cell_type": "code",
   "execution_count": 77,
   "metadata": {},
   "outputs": [],
   "source": [
    "basepath = '/media/data/nlp/sentiment/ru-mokoron/splits/'"
   ]
  },
  {
   "cell_type": "code",
   "execution_count": 15,
   "metadata": {
    "collapsed": true
   },
   "outputs": [],
   "source": [
    "train_data.to_csv(basepath+'train.csv')\n",
    "valid_data.to_csv(basepath+'validation.csv')\n",
    "test_data.to_csv(basepath+'test.csv')"
   ]
  },
  {
   "cell_type": "code",
   "execution_count": 79,
   "metadata": {},
   "outputs": [],
   "source": [
    "train_data = pd.read_csv(basepath+'train.csv')\n",
    "valid_data = pd.read_csv(basepath+'validation.csv')\n",
    "test_data = pd.read_csv(basepath+'test.csv')"
   ]
  },
  {
   "cell_type": "code",
   "execution_count": 88,
   "metadata": {},
   "outputs": [
    {
     "data": {
      "text/plain": [
       "<matplotlib.axes._subplots.AxesSubplot at 0x7f6d0c214f60>"
      ]
     },
     "execution_count": 88,
     "metadata": {},
     "output_type": "execute_result"
    },
    {
     "data": {
      "image/png": "[encoded data removed]",
      "text/plain": [
       "<matplotlib.figure.Figure at 0x7f6d1d8c7470>"
      ]
     },
     "metadata": {},
     "output_type": "display_data"
    }
   ],
   "source": [
    "train_data.sentiment.hist()\n",
    "valid_data.sentiment.hist()"
   ]
  },
  {
   "cell_type": "code",
   "execution_count": 87,
   "metadata": {},
   "outputs": [
    {
     "data": {
      "text/plain": [
       "<matplotlib.axes._subplots.AxesSubplot at 0x7f6d2830cb38>"
      ]
     },
     "execution_count": 87,
     "metadata": {},
     "output_type": "execute_result"
    },
    {
     "data": {
      "image/png": "[encoded data removed]",
      "text/plain": [
       "<matplotlib.figure.Figure at 0x7f6d0c207400>"
      ]
     },
     "metadata": {},
     "output_type": "display_data"
    }
   ],
   "source": [
    "test_data.sentiment.hist()"
   ]
  },
  {
   "cell_type": "code",
   "execution_count": 92,
   "metadata": {},
   "outputs": [
    {
     "data": {
      "text/plain": [
       "1463"
      ]
     },
     "execution_count": 92,
     "metadata": {},
     "output_type": "execute_result"
    }
   ],
   "source": [
    "len(set(valid_data.text).intersection(set(train_data.text)))"
   ]
  },
  {
   "cell_type": "code",
   "execution_count": 99,
   "metadata": {},
   "outputs": [
    {
     "data": {
      "text/plain": [
       "1443"
      ]
     },
     "execution_count": 99,
     "metadata": {},
     "output_type": "execute_result"
    }
   ],
   "source": [
    "len(set(test_data.text).intersection(set(train_data.text)))"
   ]
  },
  {
   "cell_type": "code",
   "execution_count": 93,
   "metadata": {},
   "outputs": [
    {
     "data": {
      "text/plain": [
       "34025"
      ]
     },
     "execution_count": 93,
     "metadata": {},
     "output_type": "execute_result"
    }
   ],
   "source": [
    "len(valid_data)"
   ]
  },
  {
   "cell_type": "markdown",
   "metadata": {},
   "source": [
    "# Dataset"
   ]
  },
  {
   "cell_type": "code",
   "execution_count": 56,
   "metadata": {
    "collapsed": true
   },
   "outputs": [],
   "source": [
    "MAXLEN = 170\n",
    "\n",
    "ALPHABET = ['<UNK>'] + ['\\n'] + [s for s in \"\"\" абвгдеёжзийклмнопрстуфхцчщъыьэюя0123456789-,;.!?:'’’/\\|_@#$%ˆ&* ̃‘+-=<>()[]{}\"\"\"]\n",
    "ALPHABET += 'abcdefghijklmnopqrstuvwxyz'\n",
    "ALPHABET_LEN = len(ALPHABET)\n",
    "char2int = {s: i for s, i in zip(ALPHABET, range(ALPHABET_LEN))}\n",
    "\n",
    "class MokoronDatasetOneHot(torch.utils.data.Dataset):\n",
    "    \"\"\"\n",
    "    Zero vector for padding.\n",
    "    \"\"\"\n",
    "    noise_level = 0\n",
    "\n",
    "    def __init__(self, filepath, maxlen=MAXLEN, noise_level=0):\n",
    "        self.alphabet = ALPHABET\n",
    "\n",
    "        self.data = pd.read_csv(filepath)\n",
    "        self.maxlen = maxlen\n",
    "        self.char2int = {s: i for s, i in zip(self.alphabet, range(len(self.alphabet)))}\n",
    "        self.noise_level = noise_level\n",
    "\n",
    "    def __len__(self):\n",
    "        return len(self.data)\n",
    "\n",
    "    def __getitem__(self, idx):\n",
    "        line = self.data.iloc[idx]\n",
    "        if self.noise_level > 0:\n",
    "            text = self._noise_generator(text)\n",
    "        text = self._preprocess_text_nobatch(line.text)\n",
    "        label = int(line.sentiment == 1.)\n",
    "        return text, label\n",
    "\n",
    "    def _noise_generator(string):\n",
    "        noised = \"\"\n",
    "        for c in string:\n",
    "            if random() > self.noise_level:\n",
    "                noised += c\n",
    "            if random() < self.noise_level:\n",
    "                noised += choice(self.alphabet)\n",
    "        return noised\n",
    "\n",
    "    def _one_hot(self, char):\n",
    "        zeros = np.zeros(len(self.alphabet))\n",
    "        if char in self.char2int:\n",
    "            zeros[self.char2int[char]] = 1.\n",
    "        else:\n",
    "            zeros[self.char2int['<UNK>']] = 1.\n",
    "\n",
    "    def _preprocess_text_nobatch(self, text):\n",
    "        text = text.lower()\n",
    "        one_hotted_text = np.zeros((self.maxlen, len(self.alphabet)))\n",
    "        for i, char in enumerate(text):\n",
    "            if i >= self.maxlen:\n",
    "                break\n",
    "            one_hotted_text[i, self.char2int.get(char, self.char2int['<UNK>'])] = 1.\n",
    "\n",
    "        return torch.FloatTensor(one_hotted_text)\n",
    "\n",
    "    def onehot2text(self, one_hotted_text, show_pad=False):\n",
    "        text = ''\n",
    "        max_values, idx = torch.max(one_hotted_text, 1)\n",
    "        for c, i in enumerate(idx):\n",
    "            if max_values[c] == 0:\n",
    "                if show_pad:\n",
    "                    symb = '<PAD>'\n",
    "                else:\n",
    "                    symb = ''\n",
    "            else:\n",
    "                symb = ALPHABET[i]\n",
    "            text += symb\n",
    "        return text\n"
   ]
  },
  {
   "cell_type": "code",
   "execution_count": 73,
   "metadata": {},
   "outputs": [],
   "source": [
    "dataset = MokoronDatasetOneHot(filepath=basepath+'train.csv')"
   ]
  },
  {
   "cell_type": "code",
   "execution_count": 76,
   "metadata": {},
   "outputs": [
    {
     "data": {
      "text/plain": [
       "(\n",
       "     0     0     0  ...      0     0     0\n",
       "     0     0     0  ...      0     0     0\n",
       "     0     0     0  ...      0     0     0\n",
       "        ...          ⋱          ...       \n",
       "     0     0     0  ...      0     0     0\n",
       "     0     0     0  ...      0     0     0\n",
       "     0     0     0  ...      0     0     0\n",
       " [torch.FloatTensor of size 512x106], True)"
      ]
     },
     "execution_count": 76,
     "metadata": {},
     "output_type": "execute_result"
    }
   ],
   "source": [
    "text, sentiment = dataset[10000]\n",
    "text, sentiment"
   ]
  },
  {
   "cell_type": "code",
   "execution_count": 59,
   "metadata": {
    "collapsed": false
   },
   "outputs": [
    {
     "data": {
      "text/plain": [
       "'@SPB_citizen @gruppa_GS Сдулися оба.((( \\nОдно радует: в семействе Гудковых не наблюдается конфликта отцов и детей.'"
      ]
     },
     "execution_count": 59,
     "metadata": {},
     "output_type": "execute_result"
    }
   ],
   "source": [
    "dataset.dataframe.iloc[0].text"
   ]
  },
  {
   "cell_type": "code",
   "execution_count": 60,
   "metadata": {
    "collapsed": false
   },
   "outputs": [
    {
     "data": {
      "text/plain": [
       "'@spb_citizen @gruppa_gs сдулися оба.((( \\nодно радует: в семействе гудковых не наблюдается конфликта отцов и детей.'"
      ]
     },
     "execution_count": 60,
     "metadata": {},
     "output_type": "execute_result"
    }
   ],
   "source": [
    "dataset.onehot2text(text)"
   ]
  },
  {
   "cell_type": "code",
   "execution_count": null,
   "metadata": {},
   "outputs": [],
   "source": [
    "MAX_WORD_LEN = 8\n",
    "MAX_TEXT_LEN = 256\n",
    "\n",
    "ALPHABET = ['<UNK>'] + ['\\n'] + [s for s in \"\"\" абвгдеёжзийклмнопрстуфхцчщъыьэюя0123456789-,;.!?:'’’/\\|_@#$%ˆ&* ̃‘+-=<>()[]{}\"\"\"]\n",
    "ALPHABET += 'abcdefghijklmnopqrstuvwxyz'\n",
    "ALPHABET_LEN = len(ALPHABET)\n",
    "char2int = {s: i for s, i in zip(ALPHABET, range(ALPHABET_LEN))}\n",
    "\n",
    "class MokoronDatasetHieracial(torch.utils.data.Dataset):\n",
    "    \"\"\"\n",
    "    Zero vector for padding.\n",
    "    \"\"\"\n",
    "    noise_level = 0\n",
    "\n",
    "    def __init__(self, filepath, maxwordlen=8, maxtextlen=128, noise_level=0):\n",
    "        self.alphabet = ALPHABET\n",
    "\n",
    "        self.data = pd.read_csv(filepath)\n",
    "        self.maxwordlen = maxwordlen\n",
    "        self.maxtextlen = maxtextlen\n",
    "        self.char2int = {s: i for s, i in zip(self.alphabet, range(len(self.alphabet)))}\n",
    "        self.noise_level = noise_level\n",
    "\n",
    "    def __len__(self):\n",
    "        return len(self.data)\n",
    "\n",
    "    def __getitem__(self, idx):\n",
    "        line = self.data.iloc[idx]\n",
    "        if self.noise_level > 0:\n",
    "            text = self._noise_generator(text)\n",
    "        text = self._preprocess_text_nobatch(line.text)\n",
    "        label = int(line.sentiment == 1.)\n",
    "        return text, label\n",
    "\n",
    "    def _noise_generator(string):\n",
    "        noised = \"\"\n",
    "        for c in string:\n",
    "            if random() > self.noise_level:\n",
    "                noised += c\n",
    "            if random() < self.noise_level:\n",
    "                noised += choice(self.alphabet)\n",
    "        return noised\n",
    "\n",
    "    def _one_hot(self, char):\n",
    "        zeros = np.zeros(len(self.alphabet))\n",
    "        if char in self.char2int:\n",
    "            zeros[self.char2int[char]] = 1.\n",
    "        else:\n",
    "            zeros[self.char2int['<UNK>']] = 1.\n",
    "\n",
    "    def _preprocess_text_nobatch(self, text):\n",
    "        text = text.lower()\n",
    "        one_hotted_text = np.zeros((self.maxlen, len(self.alphabet)))\n",
    "        for i, char in enumerate(text):\n",
    "            if i >= self.maxlen:\n",
    "                break\n",
    "            one_hotted_text[i, self.char2int.get(char, self.char2int['<UNK>'])] = 1.\n",
    "\n",
    "        return torch.FloatTensor(one_hotted_text)\n",
    "\n",
    "    def onehot2text(self, one_hotted_text, show_pad=False):\n",
    "        text = ''\n",
    "        max_values, idx = torch.max(one_hotted_text, 1)\n",
    "        for c, i in enumerate(idx):\n",
    "            if max_values[c] == 0:\n",
    "                if show_pad:\n",
    "                    symb = '<PAD>'\n",
    "                else:\n",
    "                    symb = ''\n",
    "            else:\n",
    "                symb = ALPHABET[i]\n",
    "            text += symb\n",
    "        return text\n"
   ]
  },
  {
   "cell_type": "code",
   "execution_count": null,
   "metadata": {},
   "outputs": [],
   "source": []
  }
 ],
 "metadata": {
  "kernelspec": {
   "display_name": "Python 3",
   "language": "python",
   "name": "python3"
  },
  "language_info": {
   "codemirror_mode": {
    "name": "ipython",
    "version": 3
   },
   "file_extension": ".py",
   "mimetype": "text/x-python",
   "name": "python",
   "nbconvert_exporter": "python",
   "pygments_lexer": "ipython3",
   "version": "3.6.3"
  }
 },
 "nbformat": 4,
 "nbformat_minor": 2
}
