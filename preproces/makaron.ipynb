{
 "cells": [
  {
   "cell_type": "code",
   "execution_count": 94,
   "metadata": {},
   "outputs": [],
   "source": [
    "import numpy as np\n",
    "import pandas as pd\n",
    "\n",
    "import torch\n",
    "import torch.utils.data"
   ]
  },
  {
   "cell_type": "code",
   "execution_count": 96,
   "metadata": {},
   "outputs": [],
   "source": [
    "data_pos = pd.read_csv('/media/data/nlp/sentiment/ru-mokoron/positive.csv',\n",
    "                   names=['id', 'date', 'user', 'text', 'sentiment'], index_col=0,\n",
    "                   sep=';', usecols=[0, 1, 2, 3, 4])\n",
    "data_neg = pd.read_csv('/media/data/nlp/sentiment/ru-mokoron/negative.csv',\n",
    "                   names=['id', 'date', 'user', 'text', 'sentiment'], index_col=0,\n",
    "                   sep=';', usecols=[0, 1, 2, 3, 4])\n",
    "\n",
    "data = pd.concat([data_pos, data_neg])"
   ]
  },
  {
   "cell_type": "code",
   "execution_count": 100,
   "metadata": {},
   "outputs": [
    {
     "data": {
      "text/plain": [
       "(114911, 110396)"
      ]
     },
     "execution_count": 100,
     "metadata": {},
     "output_type": "execute_result"
    }
   ],
   "source": [
    "len(data_pos.text), len(set(data_pos.text))"
   ]
  },
  {
   "cell_type": "code",
   "execution_count": 65,
   "metadata": {},
   "outputs": [],
   "source": [
    "%matplotlib inline\n",
    "import seaborn\n",
    "seaborn.set()"
   ]
  },
  {
   "cell_type": "code",
   "execution_count": 63,
   "metadata": {},
   "outputs": [
    {
     "data": {
      "text/plain": [
       "(189, 94)"
      ]
     },
     "execution_count": 63,
     "metadata": {},
     "output_type": "execute_result"
    }
   ],
   "source": [
    "max(data.text.str.len()), max(data.text.str.split(' ').str.len())"
   ]
  },
  {
   "cell_type": "code",
   "execution_count": 70,
   "metadata": {},
   "outputs": [
    {
     "data": {
      "text/plain": [
       "<matplotlib.axes._subplots.AxesSubplot at 0x7f6cfe09f748>"
      ]
     },
     "execution_count": 70,
     "metadata": {},
     "output_type": "execute_result"
    },
    {
     "data": {
      "image/png": "[encoded data removed]",
      "text/plain": [
       "<matplotlib.figure.Figure at 0x7f6cfe0739b0>"
      ]
     },
     "metadata": {},
     "output_type": "display_data"
    }
   ],
   "source": [
    "data.text.str.len().hist()"
   ]
  },
  {
   "cell_type": "code",
   "execution_count": 69,
   "metadata": {},
   "outputs": [
    {
     "data": {
      "text/plain": [
       "<matplotlib.axes._subplots.AxesSubplot at 0x7f6cfe0a57f0>"
      ]
     },
     "execution_count": 69,
     "metadata": {},
     "output_type": "execute_result"
    },
    {
     "data": {
      "image/png": "[encoded data removed]",
      "text/plain": [
       "<matplotlib.figure.Figure at 0x7f6cfe0565c0>"
      ]
     },
     "metadata": {},
     "output_type": "display_data"
    }
   ],
   "source": [
    "data.text.str.split(' ').str.len().hist()"
   ]
  },
  {
   "cell_type": "code",
   "execution_count": 3,
   "metadata": {
    "collapsed": false
   },
   "outputs": [
    {
     "data": {
      "text/html": [
       "<div>\n",
       "<style scoped>\n",
       "    .dataframe tbody tr th:only-of-type {\n",
       "        vertical-align: middle;\n",
       "    }\n",
       "\n",
       "    .dataframe tbody tr th {\n",
       "        vertical-align: top;\n",
       "    }\n",
       "\n",
       "    .dataframe thead th {\n",
       "        text-align: right;\n",
       "    }\n",
       "</style>\n",
       "<table border=\"1\" class=\"dataframe\">\n",
       "  <thead>\n",
       "    <tr style=\"text-align: right;\">\n",
       "      <th></th>\n",
       "      <th>date</th>\n",
       "      <th>user</th>\n",
       "      <th>text</th>\n",
       "      <th>sentiment</th>\n",
       "    </tr>\n",
       "    <tr>\n",
       "      <th>id</th>\n",
       "      <th></th>\n",
       "      <th></th>\n",
       "      <th></th>\n",
       "      <th></th>\n",
       "    </tr>\n",
       "  </thead>\n",
       "  <tbody>\n",
       "    <tr>\n",
       "      <th>413821004637806593</th>\n",
       "      <td>1387497590</td>\n",
       "      <td>Artem_NS</td>\n",
       "      <td>И как в этом шлюхообразном мире можно найти св...</td>\n",
       "      <td>-1</td>\n",
       "    </tr>\n",
       "    <tr>\n",
       "      <th>410848220143972352</th>\n",
       "      <td>1386788823</td>\n",
       "      <td>missdevine_</td>\n",
       "      <td>среда, 18.12, волейбол. учителя vs лицеисты :)...</td>\n",
       "      <td>1</td>\n",
       "    </tr>\n",
       "    <tr>\n",
       "      <th>410792065178812417</th>\n",
       "      <td>1386775435</td>\n",
       "      <td>pennyroyal_teea</td>\n",
       "      <td>@cykaaaa_ я в рязани хочу учиться..в.москву бу...</td>\n",
       "      <td>1</td>\n",
       "    </tr>\n",
       "    <tr>\n",
       "      <th>416426390217834496</th>\n",
       "      <td>1388118762</td>\n",
       "      <td>ViktoriaMshn</td>\n",
       "      <td>@strikalo в жизни оскорблять не так просто:(</td>\n",
       "      <td>-1</td>\n",
       "    </tr>\n",
       "    <tr>\n",
       "      <th>411127764864217088</th>\n",
       "      <td>1386855472</td>\n",
       "      <td>AvramenkoAnuta</td>\n",
       "      <td>У меня попугай подпевает музыке, которую я слу...</td>\n",
       "      <td>1</td>\n",
       "    </tr>\n",
       "  </tbody>\n",
       "</table>\n",
       "</div>"
      ],
      "text/plain": [
       "                          date             user  \\\n",
       "id                                                \n",
       "413821004637806593  1387497590         Artem_NS   \n",
       "410848220143972352  1386788823      missdevine_   \n",
       "410792065178812417  1386775435  pennyroyal_teea   \n",
       "416426390217834496  1388118762     ViktoriaMshn   \n",
       "411127764864217088  1386855472   AvramenkoAnuta   \n",
       "\n",
       "                                                                 text  \\\n",
       "id                                                                      \n",
       "413821004637806593  И как в этом шлюхообразном мире можно найти св...   \n",
       "410848220143972352  среда, 18.12, волейбол. учителя vs лицеисты :)...   \n",
       "410792065178812417  @cykaaaa_ я в рязани хочу учиться..в.москву бу...   \n",
       "416426390217834496       @strikalo в жизни оскорблять не так просто:(   \n",
       "411127764864217088  У меня попугай подпевает музыке, которую я слу...   \n",
       "\n",
       "                    sentiment  \n",
       "id                             \n",
       "413821004637806593         -1  \n",
       "410848220143972352          1  \n",
       "410792065178812417          1  \n",
       "416426390217834496         -1  \n",
       "411127764864217088          1  "
      ]
     },
     "execution_count": 3,
     "metadata": {},
     "output_type": "execute_result"
    }
   ],
   "source": [
    "data.sample(5)"
   ]
  },
  {
   "cell_type": "code",
   "execution_count": 98,
   "metadata": {},
   "outputs": [
    {
     "data": {
      "text/plain": [
       "(226834, 217440)"
      ]
     },
     "execution_count": 98,
     "metadata": {},
     "output_type": "execute_result"
    }
   ],
   "source": [
    "len(data.text), len(set(list(data.text)))"
   ]
  },
  {
   "cell_type": "markdown",
   "metadata": {},
   "source": [
    "## Train-val-test split"
   ]
  },
  {
   "cell_type": "code",
   "execution_count": 164,
   "metadata": {},
   "outputs": [],
   "source": [
    "data = pd.read_csv('/media/data/nlp/sentiment/ru-mokoron/spellchecked.csv', index_col=0)"
   ]
  },
  {
   "cell_type": "code",
   "execution_count": 165,
   "metadata": {},
   "outputs": [
    {
     "data": {
      "text/html": [
       "<div>\n",
       "<style scoped>\n",
       "    .dataframe tbody tr th:only-of-type {\n",
       "        vertical-align: middle;\n",
       "    }\n",
       "\n",
       "    .dataframe tbody tr th {\n",
       "        vertical-align: top;\n",
       "    }\n",
       "\n",
       "    .dataframe thead th {\n",
       "        text-align: right;\n",
       "    }\n",
       "</style>\n",
       "<table border=\"1\" class=\"dataframe\">\n",
       "  <thead>\n",
       "    <tr style=\"text-align: right;\">\n",
       "      <th></th>\n",
       "      <th>id</th>\n",
       "      <th>original_text</th>\n",
       "      <th>sentiment</th>\n",
       "      <th>text</th>\n",
       "    </tr>\n",
       "  </thead>\n",
       "  <tbody>\n",
       "    <tr>\n",
       "      <th>109500</th>\n",
       "      <td>411174049717698560</td>\n",
       "      <td>RT @pydybeheqixo: Завтра я улетаю в Москву. А ...</td>\n",
       "      <td>1</td>\n",
       "      <td>RT @pydybeheqixo: Завтра я улетаю в Москву. А ...</td>\n",
       "    </tr>\n",
       "    <tr>\n",
       "      <th>127808</th>\n",
       "      <td>410790557490085888</td>\n",
       "      <td>RT @ARTEM_KLYUSHIN: Кто ненавидит пробки ретви...</td>\n",
       "      <td>-1</td>\n",
       "      <td>RT @ARTEM_KLYUSHIN: Кто ненавидит пробки ретви...</td>\n",
       "    </tr>\n",
       "  </tbody>\n",
       "</table>\n",
       "</div>"
      ],
      "text/plain": [
       "                        id                                      original_text  \\\n",
       "109500  411174049717698560  RT @pydybeheqixo: Завтра я улетаю в Москву. А ...   \n",
       "127808  410790557490085888  RT @ARTEM_KLYUSHIN: Кто ненавидит пробки ретви...   \n",
       "\n",
       "        sentiment                                               text  \n",
       "109500          1  RT @pydybeheqixo: Завтра я улетаю в Москву. А ...  \n",
       "127808         -1  RT @ARTEM_KLYUSHIN: Кто ненавидит пробки ретви...  "
      ]
     },
     "execution_count": 165,
     "metadata": {},
     "output_type": "execute_result"
    }
   ],
   "source": [
    "data.sample(2)"
   ]
  },
  {
   "cell_type": "code",
   "execution_count": 199,
   "metadata": {},
   "outputs": [
    {
     "data": {
      "text/html": [
       "<div>\n",
       "<style scoped>\n",
       "    .dataframe tbody tr th:only-of-type {\n",
       "        vertical-align: middle;\n",
       "    }\n",
       "\n",
       "    .dataframe tbody tr th {\n",
       "        vertical-align: top;\n",
       "    }\n",
       "\n",
       "    .dataframe thead th {\n",
       "        text-align: right;\n",
       "    }\n",
       "</style>\n",
       "<table border=\"1\" class=\"dataframe\">\n",
       "  <thead>\n",
       "    <tr style=\"text-align: right;\">\n",
       "      <th></th>\n",
       "      <th>id</th>\n",
       "      <th>text_original</th>\n",
       "      <th>sentiment</th>\n",
       "      <th>text_spellchecked</th>\n",
       "    </tr>\n",
       "  </thead>\n",
       "  <tbody>\n",
       "    <tr>\n",
       "      <th>161648</th>\n",
       "      <td>414761184446140416</td>\n",
       "      <td>RT @ArizonaDreamer_: Я проснулся в два часа дн...</td>\n",
       "      <td>-1</td>\n",
       "      <td>RT @Arizona Dreamer_: Я проснулся в два часа д...</td>\n",
       "    </tr>\n",
       "    <tr>\n",
       "      <th>114210</th>\n",
       "      <td>411221965584596992</td>\n",
       "      <td>@ivnikana спасибо, Насть) Но зимой я пас, хотя...</td>\n",
       "      <td>1</td>\n",
       "      <td>@ivnikana спасибо, Насть) Но зимой я пас, хотя...</td>\n",
       "    </tr>\n",
       "    <tr>\n",
       "      <th>130412</th>\n",
       "      <td>411094301930946561</td>\n",
       "      <td>Ущнала,что вчера в поселке моем взорвался дом(...</td>\n",
       "      <td>-1</td>\n",
       "      <td>Узнала,что вчера в поселке моем взорвался дом(...</td>\n",
       "    </tr>\n",
       "    <tr>\n",
       "      <th>123093</th>\n",
       "      <td>410076583949778944</td>\n",
       "      <td>RT @k_bobileva: Как-то очень резко похолодало(...</td>\n",
       "      <td>-1</td>\n",
       "      <td>RT @k_bobileva: Как-то очень резко похолодало(...</td>\n",
       "    </tr>\n",
       "    <tr>\n",
       "      <th>117085</th>\n",
       "      <td>409342114464825345</td>\n",
       "      <td>В последнее время теперь ложусь, в среднем, в ...</td>\n",
       "      <td>-1</td>\n",
       "      <td>В последнее время теперь ложусь, в среднем, в ...</td>\n",
       "    </tr>\n",
       "    <tr>\n",
       "      <th>64507</th>\n",
       "      <td>410359557685141505</td>\n",
       "      <td>@elinahazza ну ок. \\nтак, стоп!\\nтопор нужен м...</td>\n",
       "      <td>1</td>\n",
       "      <td>@elinahazza ну ок. \\nтак, стоп!\\nтопор нужен м...</td>\n",
       "    </tr>\n",
       "    <tr>\n",
       "      <th>60567</th>\n",
       "      <td>410281452043898880</td>\n",
       "      <td>Сегодня как идиоты накрасили губы красной пома...</td>\n",
       "      <td>1</td>\n",
       "      <td>Сегодня как идиоты накрасили губы красной пома...</td>\n",
       "    </tr>\n",
       "    <tr>\n",
       "      <th>26866</th>\n",
       "      <td>409582530023522304</td>\n",
       "      <td>Партнерская программа №1 в России.Зарабатывайт...</td>\n",
       "      <td>1</td>\n",
       "      <td>Партнерская программа №1 в России.Зарабатывайт...</td>\n",
       "    </tr>\n",
       "    <tr>\n",
       "      <th>112770</th>\n",
       "      <td>411211516088971264</td>\n",
       "      <td>RT @leylya1996: @yanabankovskay2 ахах оу,собст...</td>\n",
       "      <td>1</td>\n",
       "      <td>RT @leylya1996: @yanabankovskay2 ахах оу,собст...</td>\n",
       "    </tr>\n",
       "    <tr>\n",
       "      <th>34570</th>\n",
       "      <td>409767818943795200</td>\n",
       "      <td>новый фильм с макэвоем, а этот вечер не так уж...</td>\n",
       "      <td>1</td>\n",
       "      <td>новый фильм с макэвоем, а этот вечер не так уж...</td>\n",
       "    </tr>\n",
       "    <tr>\n",
       "      <th>115217</th>\n",
       "      <td>408930279227527169</td>\n",
       "      <td>@Anastasiya_kat да, но все равно, сейчас метел...</td>\n",
       "      <td>-1</td>\n",
       "      <td>@Anastasiya_kat да, но все равно, сейчас метел...</td>\n",
       "    </tr>\n",
       "    <tr>\n",
       "      <th>179810</th>\n",
       "      <td>417022558769135616</td>\n",
       "      <td>@Pit_dO_Ob @darina3601 @puh1004 я уже посмотрела</td>\n",
       "      <td>-1</td>\n",
       "      <td>@Pit_do_Ob @darina3601 @puh1004 я уже посмотрела</td>\n",
       "    </tr>\n",
       "    <tr>\n",
       "      <th>25760</th>\n",
       "      <td>409566464773865472</td>\n",
       "      <td>Бантаны танцуют под Т-аra? Боже, ну бантаны, н...</td>\n",
       "      <td>1</td>\n",
       "      <td>Банданы танцуют под Тага? Боже, ну банданы, ну...</td>\n",
       "    </tr>\n",
       "    <tr>\n",
       "      <th>64002</th>\n",
       "      <td>410354591025598464</td>\n",
       "      <td>Немного слез в др это норма. У меня даже слезы...</td>\n",
       "      <td>1</td>\n",
       "      <td>Немного слез в др. это норма. У меня даже слез...</td>\n",
       "    </tr>\n",
       "    <tr>\n",
       "      <th>75065</th>\n",
       "      <td>410642453482336258</td>\n",
       "      <td>-я скольжу\\n-добро пожаловать на борт\\n-спасиб...</td>\n",
       "      <td>1</td>\n",
       "      <td>-я скольжу\\n-добро пожаловать на борт\\n-спасиб...</td>\n",
       "    </tr>\n",
       "    <tr>\n",
       "      <th>50899</th>\n",
       "      <td>410041644357287936</td>\n",
       "      <td>@sedov_oleg доверь Маркизу выключить компьютер...</td>\n",
       "      <td>1</td>\n",
       "      <td>@sedov_Oleg доверь Маркизу выключить компьютер...</td>\n",
       "    </tr>\n",
       "    <tr>\n",
       "      <th>145667</th>\n",
       "      <td>412897281306673152</td>\n",
       "      <td>@SoiHijikata ему и так больно препатат колим б...</td>\n",
       "      <td>-1</td>\n",
       "      <td>@SoiHijikata ему и так больно препарат Колин б...</td>\n",
       "    </tr>\n",
       "    <tr>\n",
       "      <th>92640</th>\n",
       "      <td>410863338898206720</td>\n",
       "      <td>@justsonch тогда я ниче не понимаю) в оригинал...</td>\n",
       "      <td>1</td>\n",
       "      <td>@justsonch тогда я ниче не понимаю) в оригинал...</td>\n",
       "    </tr>\n",
       "    <tr>\n",
       "      <th>90134</th>\n",
       "      <td>410842040449392641</td>\n",
       "      <td>RT @JibJib777: Я решила как теперьможно будет ...</td>\n",
       "      <td>1</td>\n",
       "      <td>RT @JibJib777: Я решила как теперь можно будет...</td>\n",
       "    </tr>\n",
       "    <tr>\n",
       "      <th>10484</th>\n",
       "      <td>409287742921916416</td>\n",
       "      <td>Ииии... хлопья!хлопья снега!!))))) Вот только ...</td>\n",
       "      <td>1</td>\n",
       "      <td>Ии... хлопья!хлопья снега!!))))) Вот только те...</td>\n",
       "    </tr>\n",
       "    <tr>\n",
       "      <th>49235</th>\n",
       "      <td>410024862489395203</td>\n",
       "      <td>RT @Unenbayar: Манай жиргээчид дундаасаа нэг х...</td>\n",
       "      <td>1</td>\n",
       "      <td>RT @Unenbayar: Манной жиргээчид дундаасаа нэк ...</td>\n",
       "    </tr>\n",
       "    <tr>\n",
       "      <th>133537</th>\n",
       "      <td>411456223062409216</td>\n",
       "      <td>@DrawAnn о дааа, конееечно, нам же звездец как...</td>\n",
       "      <td>-1</td>\n",
       "      <td>@Drawn о да, конечно, нам же звезде как пригод...</td>\n",
       "    </tr>\n",
       "    <tr>\n",
       "      <th>96266</th>\n",
       "      <td>411024068859924480</td>\n",
       "      <td>Сбежали с Алишой, Клюшкиным и Прокопьевым из ш...</td>\n",
       "      <td>1</td>\n",
       "      <td>Сбежали с Алешей, Клюшк.иным и Прокопьевым из ...</td>\n",
       "    </tr>\n",
       "    <tr>\n",
       "      <th>130830</th>\n",
       "      <td>411117918391255040</td>\n",
       "      <td>@OlgaD0505 @TukvaSociopat @ukrpravda_news ага,...</td>\n",
       "      <td>-1</td>\n",
       "      <td>@OlgaD0505 @TukvaSociopat @ukrpravda_news ага,...</td>\n",
       "    </tr>\n",
       "    <tr>\n",
       "      <th>26586</th>\n",
       "      <td>409578823857213440</td>\n",
       "      <td>Утро началось с прочтения 2 главы Мастера и Ма...</td>\n",
       "      <td>1</td>\n",
       "      <td>Утро началось с прочтения 2 главы Мастера и Ма...</td>\n",
       "    </tr>\n",
       "    <tr>\n",
       "      <th>204506</th>\n",
       "      <td>421602773033943040</td>\n",
       "      <td>@JuliaDolbik даа, я нужные мне так и не нашла(...</td>\n",
       "      <td>-1</td>\n",
       "      <td>@JuliaDolbik да, я нужные мне так и не нашла((...</td>\n",
       "    </tr>\n",
       "    <tr>\n",
       "      <th>28984</th>\n",
       "      <td>409621134725115904</td>\n",
       "      <td>RT @nicituhysyb: детей от табачного дыма\" Собе...</td>\n",
       "      <td>1</td>\n",
       "      <td>RT @nicituhysyb: детей от табачного дыма\" Собе...</td>\n",
       "    </tr>\n",
       "    <tr>\n",
       "      <th>47480</th>\n",
       "      <td>410008009193324544</td>\n",
       "      <td>RT @1995_bond: замутили с @d_grigorovich, @Vit...</td>\n",
       "      <td>1</td>\n",
       "      <td>RT @1995_bond: замутили с @d_grigorovich, @Vit...</td>\n",
       "    </tr>\n",
       "    <tr>\n",
       "      <th>36534</th>\n",
       "      <td>409832203829661696</td>\n",
       "      <td>@novaya_gazeta Киселеву не такой орден нужен:-...</td>\n",
       "      <td>1</td>\n",
       "      <td>@novaya_gazeta Киселеву не такой орден нужен:-...</td>\n",
       "    </tr>\n",
       "    <tr>\n",
       "      <th>41831</th>\n",
       "      <td>409935822909997056</td>\n",
       "      <td>Попила 1 стакан морса и живот перестал болеть,...</td>\n",
       "      <td>1</td>\n",
       "      <td>Попила 1 стакан морса и живот перестал болеть,...</td>\n",
       "    </tr>\n",
       "    <tr>\n",
       "      <th>...</th>\n",
       "      <td>...</td>\n",
       "      <td>...</td>\n",
       "      <td>...</td>\n",
       "      <td>...</td>\n",
       "    </tr>\n",
       "    <tr>\n",
       "      <th>138660</th>\n",
       "      <td>411937291154624512</td>\n",
       "      <td>RT @piemstd: бля я не лесби чо делать((((</td>\n",
       "      <td>-1</td>\n",
       "      <td>RT @piemstd: бля я не лесби че делать((((</td>\n",
       "    </tr>\n",
       "    <tr>\n",
       "      <th>64730</th>\n",
       "      <td>410361803554566144</td>\n",
       "      <td>@yzfalineysmk и я тебя малышка)))люблю и скоро...</td>\n",
       "      <td>1</td>\n",
       "      <td>@yzfalineysmk и я тебя малышка)))люблю и скоро...</td>\n",
       "    </tr>\n",
       "    <tr>\n",
       "      <th>17860</th>\n",
       "      <td>409375139521122304</td>\n",
       "      <td>Блии уже безумно хочу новый год поговорили о т...</td>\n",
       "      <td>1</td>\n",
       "      <td>Юлии уже безумно хочу новый год поговорили о т...</td>\n",
       "    </tr>\n",
       "    <tr>\n",
       "      <th>84027</th>\n",
       "      <td>410780807713009664</td>\n",
       "      <td>@piligrim45 Быт президента Уругвая! Почувствуй...</td>\n",
       "      <td>1</td>\n",
       "      <td>@piligrim45 Быт президента Уругвая! Почувствуй...</td>\n",
       "    </tr>\n",
       "    <tr>\n",
       "      <th>119202</th>\n",
       "      <td>409627001197047808</td>\n",
       "      <td>Сколько отмененных столиков в ресторанах. =(</td>\n",
       "      <td>-1</td>\n",
       "      <td>Сколько отмененных столиков в ресторанах. =(</td>\n",
       "    </tr>\n",
       "    <tr>\n",
       "      <th>129949</th>\n",
       "      <td>411056217104982016</td>\n",
       "      <td>у хани три какие-то не очень ништяки к нг (</td>\n",
       "      <td>-1</td>\n",
       "      <td>у ани три какие-то не очень ништяк к нг (</td>\n",
       "    </tr>\n",
       "    <tr>\n",
       "      <th>129058</th>\n",
       "      <td>410868701957988352</td>\n",
       "      <td>Скукота :( / Развлекаюсь как могу  =^.^= http:...</td>\n",
       "      <td>-1</td>\n",
       "      <td>Скукота :( / Развлекаюсь как могу  =^.^= http:...</td>\n",
       "    </tr>\n",
       "    <tr>\n",
       "      <th>198059</th>\n",
       "      <td>419881779894693888</td>\n",
       "      <td>и вот я снова в большой деревне под названием ...</td>\n",
       "      <td>-1</td>\n",
       "      <td>и вот я снова в большой деревне под названием ...</td>\n",
       "    </tr>\n",
       "    <tr>\n",
       "      <th>66305</th>\n",
       "      <td>410382466705145856</td>\n",
       "      <td>@tsoommo харин тиймээ, дахиж мурихгүйг хичээнэ...</td>\n",
       "      <td>1</td>\n",
       "      <td>@tsoommo Харин тиймээ, духи мурихгүйг хичээнээ...</td>\n",
       "    </tr>\n",
       "    <tr>\n",
       "      <th>60744</th>\n",
       "      <td>410283842894036992</td>\n",
       "      <td>RT @akuma_hereru: будем вызывать дух бабки-мат...</td>\n",
       "      <td>1</td>\n",
       "      <td>RT @akuma_harry: будем вызывать дух бабки-матю...</td>\n",
       "    </tr>\n",
       "    <tr>\n",
       "      <th>171938</th>\n",
       "      <td>415901793273806849</td>\n",
       "      <td>Погода просто ужас ((( А ведь всего через неск...</td>\n",
       "      <td>-1</td>\n",
       "      <td>Погода просто ужас ((( А ведь всего через неск...</td>\n",
       "    </tr>\n",
       "    <tr>\n",
       "      <th>190992</th>\n",
       "      <td>419018436048846848</td>\n",
       "      <td>@cup_way завииииисть\\nЯ в электронке читаю((</td>\n",
       "      <td>-1</td>\n",
       "      <td>@cup_way завииииисть\\nЯ в электронике читаю((</td>\n",
       "    </tr>\n",
       "    <tr>\n",
       "      <th>206301</th>\n",
       "      <td>421978764612882432</td>\n",
       "      <td>@Bimo2013 Если ты считаешь всех людей дерьмом,...</td>\n",
       "      <td>-1</td>\n",
       "      <td>@Bimo2013 Если ты считаешь всех людей дерьмом,...</td>\n",
       "    </tr>\n",
       "    <tr>\n",
       "      <th>198540</th>\n",
       "      <td>419912930092515328</td>\n",
       "      <td>@amarichbitch лол, вот это отстой, а мне она р...</td>\n",
       "      <td>-1</td>\n",
       "      <td>@amarichbitch Лол, вот это отстой, а мне она р...</td>\n",
       "    </tr>\n",
       "    <tr>\n",
       "      <th>91441</th>\n",
       "      <td>410853533685411840</td>\n",
       "      <td>@aliona_danko @Yana_Trusova @kate_zzk43 мда......</td>\n",
       "      <td>1</td>\n",
       "      <td>@alone_dance @Yana_Trusova @Kate_zzk43 мода......</td>\n",
       "    </tr>\n",
       "    <tr>\n",
       "      <th>120865</th>\n",
       "      <td>409905409492013056</td>\n",
       "      <td>Удивительное дерьмо творится в русском интерне...</td>\n",
       "      <td>-1</td>\n",
       "      <td>Удивительное дерьмо творится в русском интерне...</td>\n",
       "    </tr>\n",
       "    <tr>\n",
       "      <th>101180</th>\n",
       "      <td>411089784086740992</td>\n",
       "      <td>У меня будет самый офигенный подарок на новый ...</td>\n",
       "      <td>1</td>\n",
       "      <td>У меня будет самый офигенный подарок на новый ...</td>\n",
       "    </tr>\n",
       "    <tr>\n",
       "      <th>62081</th>\n",
       "      <td>410299799507062784</td>\n",
       "      <td>@Pravodumru а этот вариант?) http://t.co/dxYgf...</td>\n",
       "      <td>1</td>\n",
       "      <td>@Pravodumru а этот вариант?) http://t.co/dxYgf...</td>\n",
       "    </tr>\n",
       "    <tr>\n",
       "      <th>197261</th>\n",
       "      <td>419831934013816832</td>\n",
       "      <td>блин  правда грустно тут еще были записи с тог...</td>\n",
       "      <td>-1</td>\n",
       "      <td>блин  правда грустно тут еще были записи с тог...</td>\n",
       "    </tr>\n",
       "    <tr>\n",
       "      <th>20822</th>\n",
       "      <td>409418759363772416</td>\n",
       "      <td>Мой любимый момент из Южного Бутово) http://t....</td>\n",
       "      <td>1</td>\n",
       "      <td>Мой любимый момент из Южного Бутово) http://t....</td>\n",
       "    </tr>\n",
       "    <tr>\n",
       "      <th>148283</th>\n",
       "      <td>413241082542317568</td>\n",
       "      <td>RT @OlyaAnisimovaa: Верните нам прежнюю клаху,...</td>\n",
       "      <td>-1</td>\n",
       "      <td>RT @OlyaAnisimovaa: Верните нам прежнюю краху,...</td>\n",
       "    </tr>\n",
       "    <tr>\n",
       "      <th>205653</th>\n",
       "      <td>421688446260760576</td>\n",
       "      <td>если её сейчас убьют, то это будет вообще ужас :(</td>\n",
       "      <td>-1</td>\n",
       "      <td>если её сейчас убьют, то это будет вообще ужас :(</td>\n",
       "    </tr>\n",
       "    <tr>\n",
       "      <th>5119</th>\n",
       "      <td>409061517108076544</td>\n",
       "      <td>Так кайфово смотреть на полёты самолётов в пря...</td>\n",
       "      <td>1</td>\n",
       "      <td>Так кайфово смотреть на полёты самолётов в пря...</td>\n",
       "    </tr>\n",
       "    <tr>\n",
       "      <th>116975</th>\n",
       "      <td>409333358728978432</td>\n",
       "      <td>@Michail_Shor упс... бро... я удалила пароль о...</td>\n",
       "      <td>-1</td>\n",
       "      <td>@Michael_Show упс... бро... я удалила пароль о...</td>\n",
       "    </tr>\n",
       "    <tr>\n",
       "      <th>147294</th>\n",
       "      <td>413168142450696192</td>\n",
       "      <td>Не пошла на электив по физике, живот болит;(</td>\n",
       "      <td>-1</td>\n",
       "      <td>Не пошла на электив по физике, живот болит;(</td>\n",
       "    </tr>\n",
       "    <tr>\n",
       "      <th>226746</th>\n",
       "      <td>425051524692475904</td>\n",
       "      <td>Я устала :( и как-то спать хочется. И вообще я...</td>\n",
       "      <td>-1</td>\n",
       "      <td>Я устала :( и как-то спать хочется. И вообще я...</td>\n",
       "    </tr>\n",
       "    <tr>\n",
       "      <th>10749</th>\n",
       "      <td>409291291617271809</td>\n",
       "      <td>@JOHN_CoronaRec С днем рождения красавчик! : )...</td>\n",
       "      <td>1</td>\n",
       "      <td>@JOHN_Coronary С днем рождения красавчик! : ) ...</td>\n",
       "    </tr>\n",
       "    <tr>\n",
       "      <th>92118</th>\n",
       "      <td>410858998435692546</td>\n",
       "      <td>в школе, так хоть в одноклассниках я отличница...</td>\n",
       "      <td>1</td>\n",
       "      <td>в школе, так хоть в одноклассниках я отличница...</td>\n",
       "    </tr>\n",
       "    <tr>\n",
       "      <th>226827</th>\n",
       "      <td>425137934443233281</td>\n",
       "      <td>У нас физ ра на улице\\nПака линт:(\\nЧерез 45 м...</td>\n",
       "      <td>-1</td>\n",
       "      <td>У нас физ. Ра на улице\\nПака линт:(\\nЧерез 45 ...</td>\n",
       "    </tr>\n",
       "    <tr>\n",
       "      <th>110485</th>\n",
       "      <td>411195062094413824</td>\n",
       "      <td>Стоим в Котельниково, заряжаю телефон, придума...</td>\n",
       "      <td>1</td>\n",
       "      <td>Стоим в Котельниково, заряжаю телефон, придума...</td>\n",
       "    </tr>\n",
       "  </tbody>\n",
       "</table>\n",
       "<p>100 rows × 4 columns</p>\n",
       "</div>"
      ],
      "text/plain": [
       "                        id                                      text_original  \\\n",
       "161648  414761184446140416  RT @ArizonaDreamer_: Я проснулся в два часа дн...   \n",
       "114210  411221965584596992  @ivnikana спасибо, Насть) Но зимой я пас, хотя...   \n",
       "130412  411094301930946561  Ущнала,что вчера в поселке моем взорвался дом(...   \n",
       "123093  410076583949778944  RT @k_bobileva: Как-то очень резко похолодало(...   \n",
       "117085  409342114464825345  В последнее время теперь ложусь, в среднем, в ...   \n",
       "64507   410359557685141505  @elinahazza ну ок. \\nтак, стоп!\\nтопор нужен м...   \n",
       "60567   410281452043898880  Сегодня как идиоты накрасили губы красной пома...   \n",
       "26866   409582530023522304  Партнерская программа №1 в России.Зарабатывайт...   \n",
       "112770  411211516088971264  RT @leylya1996: @yanabankovskay2 ахах оу,собст...   \n",
       "34570   409767818943795200  новый фильм с макэвоем, а этот вечер не так уж...   \n",
       "115217  408930279227527169  @Anastasiya_kat да, но все равно, сейчас метел...   \n",
       "179810  417022558769135616   @Pit_dO_Ob @darina3601 @puh1004 я уже посмотрела   \n",
       "25760   409566464773865472  Бантаны танцуют под Т-аra? Боже, ну бантаны, н...   \n",
       "64002   410354591025598464  Немного слез в др это норма. У меня даже слезы...   \n",
       "75065   410642453482336258  -я скольжу\\n-добро пожаловать на борт\\n-спасиб...   \n",
       "50899   410041644357287936  @sedov_oleg доверь Маркизу выключить компьютер...   \n",
       "145667  412897281306673152  @SoiHijikata ему и так больно препатат колим б...   \n",
       "92640   410863338898206720  @justsonch тогда я ниче не понимаю) в оригинал...   \n",
       "90134   410842040449392641  RT @JibJib777: Я решила как теперьможно будет ...   \n",
       "10484   409287742921916416  Ииии... хлопья!хлопья снега!!))))) Вот только ...   \n",
       "49235   410024862489395203  RT @Unenbayar: Манай жиргээчид дундаасаа нэг х...   \n",
       "133537  411456223062409216  @DrawAnn о дааа, конееечно, нам же звездец как...   \n",
       "96266   411024068859924480  Сбежали с Алишой, Клюшкиным и Прокопьевым из ш...   \n",
       "130830  411117918391255040  @OlgaD0505 @TukvaSociopat @ukrpravda_news ага,...   \n",
       "26586   409578823857213440  Утро началось с прочтения 2 главы Мастера и Ма...   \n",
       "204506  421602773033943040  @JuliaDolbik даа, я нужные мне так и не нашла(...   \n",
       "28984   409621134725115904  RT @nicituhysyb: детей от табачного дыма\" Собе...   \n",
       "47480   410008009193324544  RT @1995_bond: замутили с @d_grigorovich, @Vit...   \n",
       "36534   409832203829661696  @novaya_gazeta Киселеву не такой орден нужен:-...   \n",
       "41831   409935822909997056  Попила 1 стакан морса и живот перестал болеть,...   \n",
       "...                    ...                                                ...   \n",
       "138660  411937291154624512          RT @piemstd: бля я не лесби чо делать((((   \n",
       "64730   410361803554566144  @yzfalineysmk и я тебя малышка)))люблю и скоро...   \n",
       "17860   409375139521122304  Блии уже безумно хочу новый год поговорили о т...   \n",
       "84027   410780807713009664  @piligrim45 Быт президента Уругвая! Почувствуй...   \n",
       "119202  409627001197047808       Сколько отмененных столиков в ресторанах. =(   \n",
       "129949  411056217104982016        у хани три какие-то не очень ништяки к нг (   \n",
       "129058  410868701957988352  Скукота :( / Развлекаюсь как могу  =^.^= http:...   \n",
       "198059  419881779894693888  и вот я снова в большой деревне под названием ...   \n",
       "66305   410382466705145856  @tsoommo харин тиймээ, дахиж мурихгүйг хичээнэ...   \n",
       "60744   410283842894036992  RT @akuma_hereru: будем вызывать дух бабки-мат...   \n",
       "171938  415901793273806849  Погода просто ужас ((( А ведь всего через неск...   \n",
       "190992  419018436048846848       @cup_way завииииисть\\nЯ в электронке читаю((   \n",
       "206301  421978764612882432  @Bimo2013 Если ты считаешь всех людей дерьмом,...   \n",
       "198540  419912930092515328  @amarichbitch лол, вот это отстой, а мне она р...   \n",
       "91441   410853533685411840  @aliona_danko @Yana_Trusova @kate_zzk43 мда......   \n",
       "120865  409905409492013056  Удивительное дерьмо творится в русском интерне...   \n",
       "101180  411089784086740992  У меня будет самый офигенный подарок на новый ...   \n",
       "62081   410299799507062784  @Pravodumru а этот вариант?) http://t.co/dxYgf...   \n",
       "197261  419831934013816832  блин  правда грустно тут еще были записи с тог...   \n",
       "20822   409418759363772416  Мой любимый момент из Южного Бутово) http://t....   \n",
       "148283  413241082542317568  RT @OlyaAnisimovaa: Верните нам прежнюю клаху,...   \n",
       "205653  421688446260760576  если её сейчас убьют, то это будет вообще ужас :(   \n",
       "5119    409061517108076544  Так кайфово смотреть на полёты самолётов в пря...   \n",
       "116975  409333358728978432  @Michail_Shor упс... бро... я удалила пароль о...   \n",
       "147294  413168142450696192       Не пошла на электив по физике, живот болит;(   \n",
       "226746  425051524692475904  Я устала :( и как-то спать хочется. И вообще я...   \n",
       "10749   409291291617271809  @JOHN_CoronaRec С днем рождения красавчик! : )...   \n",
       "92118   410858998435692546  в школе, так хоть в одноклассниках я отличница...   \n",
       "226827  425137934443233281  У нас физ ра на улице\\nПака линт:(\\nЧерез 45 м...   \n",
       "110485  411195062094413824  Стоим в Котельниково, заряжаю телефон, придума...   \n",
       "\n",
       "        sentiment                                  text_spellchecked  \n",
       "161648         -1  RT @Arizona Dreamer_: Я проснулся в два часа д...  \n",
       "114210          1  @ivnikana спасибо, Насть) Но зимой я пас, хотя...  \n",
       "130412         -1  Узнала,что вчера в поселке моем взорвался дом(...  \n",
       "123093         -1  RT @k_bobileva: Как-то очень резко похолодало(...  \n",
       "117085         -1  В последнее время теперь ложусь, в среднем, в ...  \n",
       "64507           1  @elinahazza ну ок. \\nтак, стоп!\\nтопор нужен м...  \n",
       "60567           1  Сегодня как идиоты накрасили губы красной пома...  \n",
       "26866           1  Партнерская программа №1 в России.Зарабатывайт...  \n",
       "112770          1  RT @leylya1996: @yanabankovskay2 ахах оу,собст...  \n",
       "34570           1  новый фильм с макэвоем, а этот вечер не так уж...  \n",
       "115217         -1  @Anastasiya_kat да, но все равно, сейчас метел...  \n",
       "179810         -1   @Pit_do_Ob @darina3601 @puh1004 я уже посмотрела  \n",
       "25760           1  Банданы танцуют под Тага? Боже, ну банданы, ну...  \n",
       "64002           1  Немного слез в др. это норма. У меня даже слез...  \n",
       "75065           1  -я скольжу\\n-добро пожаловать на борт\\n-спасиб...  \n",
       "50899           1  @sedov_Oleg доверь Маркизу выключить компьютер...  \n",
       "145667         -1  @SoiHijikata ему и так больно препарат Колин б...  \n",
       "92640           1  @justsonch тогда я ниче не понимаю) в оригинал...  \n",
       "90134           1  RT @JibJib777: Я решила как теперь можно будет...  \n",
       "10484           1  Ии... хлопья!хлопья снега!!))))) Вот только те...  \n",
       "49235           1  RT @Unenbayar: Манной жиргээчид дундаасаа нэк ...  \n",
       "133537         -1  @Drawn о да, конечно, нам же звезде как пригод...  \n",
       "96266           1  Сбежали с Алешей, Клюшк.иным и Прокопьевым из ...  \n",
       "130830         -1  @OlgaD0505 @TukvaSociopat @ukrpravda_news ага,...  \n",
       "26586           1  Утро началось с прочтения 2 главы Мастера и Ма...  \n",
       "204506         -1  @JuliaDolbik да, я нужные мне так и не нашла((...  \n",
       "28984           1  RT @nicituhysyb: детей от табачного дыма\" Собе...  \n",
       "47480           1  RT @1995_bond: замутили с @d_grigorovich, @Vit...  \n",
       "36534           1  @novaya_gazeta Киселеву не такой орден нужен:-...  \n",
       "41831           1  Попила 1 стакан морса и живот перестал болеть,...  \n",
       "...           ...                                                ...  \n",
       "138660         -1          RT @piemstd: бля я не лесби че делать((((  \n",
       "64730           1  @yzfalineysmk и я тебя малышка)))люблю и скоро...  \n",
       "17860           1  Юлии уже безумно хочу новый год поговорили о т...  \n",
       "84027           1  @piligrim45 Быт президента Уругвая! Почувствуй...  \n",
       "119202         -1       Сколько отмененных столиков в ресторанах. =(  \n",
       "129949         -1          у ани три какие-то не очень ништяк к нг (  \n",
       "129058         -1  Скукота :( / Развлекаюсь как могу  =^.^= http:...  \n",
       "198059         -1  и вот я снова в большой деревне под названием ...  \n",
       "66305           1  @tsoommo Харин тиймээ, духи мурихгүйг хичээнээ...  \n",
       "60744           1  RT @akuma_harry: будем вызывать дух бабки-матю...  \n",
       "171938         -1  Погода просто ужас ((( А ведь всего через неск...  \n",
       "190992         -1      @cup_way завииииисть\\nЯ в электронике читаю((  \n",
       "206301         -1  @Bimo2013 Если ты считаешь всех людей дерьмом,...  \n",
       "198540         -1  @amarichbitch Лол, вот это отстой, а мне она р...  \n",
       "91441           1  @alone_dance @Yana_Trusova @Kate_zzk43 мода......  \n",
       "120865         -1  Удивительное дерьмо творится в русском интерне...  \n",
       "101180          1  У меня будет самый офигенный подарок на новый ...  \n",
       "62081           1  @Pravodumru а этот вариант?) http://t.co/dxYgf...  \n",
       "197261         -1  блин  правда грустно тут еще были записи с тог...  \n",
       "20822           1  Мой любимый момент из Южного Бутово) http://t....  \n",
       "148283         -1  RT @OlyaAnisimovaa: Верните нам прежнюю краху,...  \n",
       "205653         -1  если её сейчас убьют, то это будет вообще ужас :(  \n",
       "5119            1  Так кайфово смотреть на полёты самолётов в пря...  \n",
       "116975         -1  @Michael_Show упс... бро... я удалила пароль о...  \n",
       "147294         -1       Не пошла на электив по физике, живот болит;(  \n",
       "226746         -1  Я устала :( и как-то спать хочется. И вообще я...  \n",
       "10749           1  @JOHN_Coronary С днем рождения красавчик! : ) ...  \n",
       "92118           1  в школе, так хоть в одноклассниках я отличница...  \n",
       "226827         -1  У нас физ. Ра на улице\\nПака линт:(\\nЧерез 45 ...  \n",
       "110485          1  Стоим в Котельниково, заряжаю телефон, придума...  \n",
       "\n",
       "[100 rows x 4 columns]"
      ]
     },
     "execution_count": 199,
     "metadata": {},
     "output_type": "execute_result"
    }
   ],
   "source": [
    "data.sample(100)"
   ]
  },
  {
   "cell_type": "code",
   "execution_count": 183,
   "metadata": {},
   "outputs": [],
   "source": [
    "data.columns = ['id', 'text_original', 'sentiment', 'text_spellchecked']"
   ]
  },
  {
   "cell_type": "code",
   "execution_count": 184,
   "metadata": {},
   "outputs": [
    {
     "data": {
      "text/plain": [
       "217440"
      ]
     },
     "execution_count": 184,
     "metadata": {},
     "output_type": "execute_result"
    }
   ],
   "source": [
    "len(data)"
   ]
  },
  {
   "cell_type": "code",
   "execution_count": 186,
   "metadata": {},
   "outputs": [
    {
     "data": {
      "text/plain": [
       "217440"
      ]
     },
     "execution_count": 186,
     "metadata": {},
     "output_type": "execute_result"
    }
   ],
   "source": [
    "len(data.drop_duplicates('text_original'))"
   ]
  },
  {
   "cell_type": "code",
   "execution_count": 187,
   "metadata": {},
   "outputs": [],
   "source": [
    "data = data.drop_duplicates('text_original')"
   ]
  },
  {
   "cell_type": "code",
   "execution_count": 188,
   "metadata": {
    "collapsed": false
   },
   "outputs": [
    {
     "name": "stdout",
     "output_type": "stream",
     "text": [
      "Train:  152208\n",
      "Valid:  32616\n",
      "Test :  32616\n"
     ]
    }
   ],
   "source": [
    "indices = list(data.index)\n",
    "np.random.shuffle(indices)\n",
    "\n",
    "TEST_SIZE = 0.15\n",
    "VAL_SIZE = 0.15\n",
    "\n",
    "test_size = int(len(indices) * TEST_SIZE)\n",
    "val_size = int(len(indices) * VAL_SIZE)\n",
    "train_size = len(indices) - test_size - val_size\n",
    "\n",
    "train_idxs = indices[:train_size]\n",
    "valid_idxs = indices[train_size:train_size+val_size]\n",
    "test_idxs = indices[train_size+val_size:]\n",
    "\n",
    "print('Train: ', train_size)\n",
    "print('Valid: ', val_size)\n",
    "print('Test : ', test_size)"
   ]
  },
  {
   "cell_type": "code",
   "execution_count": 189,
   "metadata": {
    "collapsed": true
   },
   "outputs": [],
   "source": [
    "train_data = data.loc[train_idxs]\n",
    "valid_data = data.loc[valid_idxs]\n",
    "test_data = data.loc[test_idxs]"
   ]
  },
  {
   "cell_type": "code",
   "execution_count": 191,
   "metadata": {},
   "outputs": [
    {
     "data": {
      "text/plain": [
       "(0, 0)"
      ]
     },
     "execution_count": 191,
     "metadata": {},
     "output_type": "execute_result"
    }
   ],
   "source": [
    "len(set(valid_data.text_original).intersection(set(train_data.text_original))),\\\n",
    "len(set(test_data.text_original).intersection(set(train_data.text_original)))"
   ]
  },
  {
   "cell_type": "code",
   "execution_count": 192,
   "metadata": {},
   "outputs": [
    {
     "data": {
      "text/plain": [
       "(2, 2)"
      ]
     },
     "execution_count": 192,
     "metadata": {},
     "output_type": "execute_result"
    }
   ],
   "source": [
    "# Это очень странно, но хотя бы их немного\n",
    "len(set(valid_data.text_spellchecked).intersection(set(train_data.text_spellchecked))),\\\n",
    "len(set(test_data.text_spellchecked).intersection(set(train_data.text_spellchecked)))"
   ]
  },
  {
   "cell_type": "code",
   "execution_count": 193,
   "metadata": {},
   "outputs": [],
   "source": [
    "basepath = '/media/data/nlp/sentiment/ru-mokoron/splits/'"
   ]
  },
  {
   "cell_type": "code",
   "execution_count": 194,
   "metadata": {
    "collapsed": true
   },
   "outputs": [],
   "source": [
    "train_data.to_csv(basepath+'train.csv')\n",
    "valid_data.to_csv(basepath+'validation.csv')\n",
    "test_data.to_csv(basepath+'test.csv')"
   ]
  },
  {
   "cell_type": "code",
   "execution_count": 79,
   "metadata": {},
   "outputs": [],
   "source": [
    "train_data = pd.read_csv(basepath+'train.csv')\n",
    "valid_data = pd.read_csv(basepath+'validation.csv')\n",
    "test_data = pd.read_csv(basepath+'test.csv')"
   ]
  },
  {
   "cell_type": "code",
   "execution_count": 195,
   "metadata": {},
   "outputs": [
    {
     "data": {
      "text/plain": [
       "<matplotlib.axes._subplots.AxesSubplot at 0x7f6b32721160>"
      ]
     },
     "execution_count": 195,
     "metadata": {},
     "output_type": "execute_result"
    },
    {
     "data": {
      "image/png": "[encoded data removed]",
      "text/plain": [
       "<matplotlib.figure.Figure at 0x7f6b3720ffd0>"
      ]
     },
     "metadata": {},
     "output_type": "display_data"
    }
   ],
   "source": [
    "train_data.sentiment.hist()\n",
    "valid_data.sentiment.hist()"
   ]
  },
  {
   "cell_type": "code",
   "execution_count": 196,
   "metadata": {},
   "outputs": [
    {
     "data": {
      "text/plain": [
       "<matplotlib.axes._subplots.AxesSubplot at 0x7f6b3722d6d8>"
      ]
     },
     "execution_count": 196,
     "metadata": {},
     "output_type": "execute_result"
    },
    {
     "data": {
      "image/png": "[encoded data removed]",
      "text/plain": [
       "<matplotlib.figure.Figure at 0x7f6b3718d748>"
      ]
     },
     "metadata": {},
     "output_type": "display_data"
    }
   ],
   "source": [
    "test_data.sentiment.hist()"
   ]
  },
  {
   "cell_type": "markdown",
   "metadata": {},
   "source": [
    "# Dataset"
   ]
  },
  {
   "cell_type": "markdown",
   "metadata": {},
   "source": [
    "### One-hot symbols"
   ]
  },
  {
   "cell_type": "code",
   "execution_count": 137,
   "metadata": {
    "collapsed": true
   },
   "outputs": [],
   "source": [
    "MAXLEN = 170\n",
    "# Убрал () и = чтобы избавиться от смайлов\n",
    "# Вернул это обратно. Хороший индикатор устойчивости к adversarial-атакам\n",
    "ALPHABET = ['<UNK>'] + ['\\n'] + [s for s in \"\"\" 0123456789-,;.!?:'’’/\\|_@#$%ˆ&* ̃‘+-=<>()[]{}\"\"\"]\n",
    "ALPHABET += [s for s in 'абвгдеёжзийклмнопрстуфхцчщъыьэюя']\n",
    "ALPHABET += [s for s in 'abcdefghijklmnopqrstuvwxyz']\n",
    "\n",
    "ALPHABET_LEN = len(ALPHABET)\n",
    "char2int = {s: i for s, i in zip(ALPHABET, range(ALPHABET_LEN))}\n",
    "\n",
    "class MokoronDatasetOneHot(torch.utils.data.Dataset):\n",
    "    \"\"\"\n",
    "    Zero vector for padding.\n",
    "    \"\"\"\n",
    "    noise_level = 0\n",
    "\n",
    "    def __init__(self, filepath, text_field, maxlen=MAXLEN):\n",
    "        self.alphabet = ALPHABET\n",
    "\n",
    "        self.data = pd.read_csv(filepath)\n",
    "        self.text_field = text_field\n",
    "        self.maxlen = maxlen\n",
    "        self.char2int = {s: i for s, i in zip(self.alphabet, range(len(self.alphabet)))}\n",
    "\n",
    "    def __len__(self):\n",
    "        return len(self.data)\n",
    "\n",
    "    def __getitem__(self, idx):\n",
    "        line = self.data.iloc[idx]\n",
    "        text = line[self.text_field]\n",
    "        label = int(line.sentiment == 1.)\n",
    "\n",
    "        if self.noise_level > 0:\n",
    "            text = self._noise_generator(text)\n",
    "        text = self._preprocess(text)\n",
    "        return text, label\n",
    "\n",
    "    def _noise_generator(self, string):\n",
    "        noised = \"\"\n",
    "        for c in string:\n",
    "            if random() > self.noise_level:\n",
    "                noised += c\n",
    "            if random() < self.noise_level:\n",
    "                noised += choice(self.alphabet)\n",
    "        return noised\n",
    "\n",
    "    def _one_hot(self, char):\n",
    "        zeros = np.zeros(len(self.alphabet))\n",
    "        if char in self.char2int:\n",
    "            zeros[self.char2int[char]] = 1.\n",
    "        else:\n",
    "            zeros[self.char2int['<UNK>']] = 1.\n",
    "\n",
    "    def _preprocess(self, text):\n",
    "        text = text.lower()\n",
    "        one_hotted_text = np.zeros((self.maxlen, len(self.alphabet)))\n",
    "        for i, char in enumerate(text):\n",
    "            if i >= self.maxlen:\n",
    "                break\n",
    "            one_hotted_text[i, self.char2int.get(char, self.char2int['<UNK>'])] = 1.\n",
    "\n",
    "        return torch.FloatTensor(one_hotted_text)\n",
    "\n",
    "    def onehot2text(self, one_hotted_text, show_pad=False):\n",
    "        text = ''\n",
    "        max_values, idx = torch.max(one_hotted_text, 1)\n",
    "        for c, i in enumerate(idx):\n",
    "            if max_values[c] == 0:\n",
    "                if show_pad:\n",
    "                    symb = '<PAD>'\n",
    "                else:\n",
    "                    symb = ''\n",
    "            else:\n",
    "                symb = ALPHABET[i]\n",
    "            text += symb\n",
    "        return text\n",
    "\n"
   ]
  },
  {
   "cell_type": "code",
   "execution_count": 138,
   "metadata": {},
   "outputs": [],
   "source": [
    "dataset = MokoronDatasetOneHot(filepath=basepath+'train.csv')"
   ]
  },
  {
   "cell_type": "code",
   "execution_count": 149,
   "metadata": {},
   "outputs": [
    {
     "data": {
      "text/plain": [
       "(\n",
       "     0     0     0  ...      0     0     0\n",
       "     0     0     0  ...      0     0     0\n",
       "     0     0     0  ...      0     0     0\n",
       "        ...          ⋱          ...       \n",
       "     0     0     0  ...      0     0     0\n",
       "     0     0     0  ...      0     0     0\n",
       "     0     0     0  ...      0     0     0\n",
       " [torch.FloatTensor of size 170x106], 0)"
      ]
     },
     "execution_count": 149,
     "metadata": {},
     "output_type": "execute_result"
    }
   ],
   "source": [
    "text, sentiment = dataset[0]\n",
    "text, sentiment"
   ]
  },
  {
   "cell_type": "code",
   "execution_count": 151,
   "metadata": {
    "collapsed": false
   },
   "outputs": [
    {
     "data": {
      "text/plain": [
       "'@SPB_citizen @gruppa_GS Сдулися оба.((( \\nОдно радует: в семействе Гудковых не наблюдается конфликта отцов и детей.'"
      ]
     },
     "execution_count": 151,
     "metadata": {},
     "output_type": "execute_result"
    }
   ],
   "source": [
    "dataset.data.iloc[0].text"
   ]
  },
  {
   "cell_type": "code",
   "execution_count": 152,
   "metadata": {
    "collapsed": false
   },
   "outputs": [
    {
     "data": {
      "text/plain": [
       "'@spb_citizen @gruppa_gs сдулися оба.((( \\nодно радует: в семействе гудковых не наблюдается конфликта отцов и детей.'"
      ]
     },
     "execution_count": 152,
     "metadata": {},
     "output_type": "execute_result"
    }
   ],
   "source": [
    "dataset.onehot2text(text)"
   ]
  },
  {
   "cell_type": "markdown",
   "metadata": {},
   "source": [
    "### FastText"
   ]
  },
  {
   "cell_type": "code",
   "execution_count": 101,
   "metadata": {},
   "outputs": [],
   "source": [
    "from pymystem3 import Mystem"
   ]
  },
  {
   "cell_type": "code",
   "execution_count": 102,
   "metadata": {},
   "outputs": [
    {
     "name": "stderr",
     "output_type": "stream",
     "text": [
      "Installing mystem to /home/phobos_aijun/.local/bin/mystem from http://download.cdn.yandex.net/mystem/mystem-3.0-linux3.1-64bit.tar.gz\n"
     ]
    }
   ],
   "source": [
    "m = Mystem() # grammar_info=False, disambiguation=False)"
   ]
  },
  {
   "cell_type": "code",
   "execution_count": 108,
   "metadata": {},
   "outputs": [
    {
     "data": {
      "text/plain": [
       "[{'text': '@'},\n",
       " {'analysis': [], 'text': 'spb'},\n",
       " {'text': '_'},\n",
       " {'analysis': [], 'text': 'citizen'},\n",
       " {'text': ' '},\n",
       " {'text': '@'},\n",
       " {'analysis': [], 'text': 'gruppa'},\n",
       " {'text': '_'},\n",
       " {'analysis': [], 'text': 'gs'},\n",
       " {'text': ' '},\n",
       " {'analysis': [{'gr': 'V,несов,нп=непрош,деепр',\n",
       "    'lex': 'сдулисить',\n",
       "    'qual': 'bastard'}],\n",
       "  'text': 'сдулися'},\n",
       " {'text': ' '},\n",
       " {'analysis': [{'gr': 'NUM=(вин,муж,неод|им,муж|вин,сред|им,сред)',\n",
       "    'lex': 'оба'}],\n",
       "  'text': 'оба'},\n",
       " {'text': '.'},\n",
       " {'text': '((( \\n'},\n",
       " {'analysis': [{'gr': 'APRO=(вин,ед,сред|им,ед,сред)', 'lex': 'один'}],\n",
       "  'text': 'одно'},\n",
       " {'text': ' '},\n",
       " {'analysis': [{'gr': 'V,несов,пе=непрош,ед,изъяв,3-л', 'lex': 'радовать'}],\n",
       "  'text': 'радует'},\n",
       " {'text': ': '},\n",
       " {'analysis': [{'gr': 'PR=', 'lex': 'в'}], 'text': 'в'},\n",
       " {'text': ' '},\n",
       " {'analysis': [{'gr': 'S,сред,неод=пр,ед', 'lex': 'семейство'}],\n",
       "  'text': 'семействе'},\n",
       " {'text': ' '},\n",
       " {'analysis': [{'gr': 'S,фам,муж,од=(пр,мн|вин,мн|род,мн)', 'lex': 'гудков'}],\n",
       "  'text': 'гудковых'},\n",
       " {'text': ' '},\n",
       " {'analysis': [{'gr': 'PART=', 'lex': 'не'}], 'text': 'не'},\n",
       " {'text': ' '},\n",
       " {'analysis': [{'gr': 'V,несов,нп=непрош,ед,изъяв,3-л', 'lex': 'наблюдаться'}],\n",
       "  'text': 'наблюдается'},\n",
       " {'text': ' '},\n",
       " {'analysis': [{'gr': 'S,муж,неод=род,ед', 'lex': 'конфликт'}],\n",
       "  'text': 'конфликта'},\n",
       " {'text': ' '},\n",
       " {'analysis': [{'gr': 'S,муж,од=(вин,мн|род,мн)', 'lex': 'отец'}],\n",
       "  'text': 'отцов'},\n",
       " {'text': ' '},\n",
       " {'analysis': [{'gr': 'CONJ=', 'lex': 'и'}], 'text': 'и'},\n",
       " {'text': ' '},\n",
       " {'analysis': [{'gr': 'S,муж,од=(вин,мн|род,мн)', 'lex': 'ребенок'}],\n",
       "  'text': 'детей'},\n",
       " {'text': '.'},\n",
       " {'text': '\\n'}]"
      ]
     },
     "execution_count": 108,
     "metadata": {},
     "output_type": "execute_result"
    }
   ],
   "source": [
    "m.analyze('@spb_citizen @gruppa_gs сдулися оба.((( \\nодно радует: в семействе гудковых не наблюдается конфликта отцов и детей.')"
   ]
  },
  {
   "cell_type": "code",
   "execution_count": null,
   "metadata": {},
   "outputs": [],
   "source": []
  },
  {
   "cell_type": "code",
   "execution_count": 114,
   "metadata": {},
   "outputs": [
    {
     "name": "stdout",
     "output_type": "stream",
     "text": [
      "CPU times: user 3min 30s, sys: 9.56 s, total: 3min 40s\n",
      "Wall time: 4min 5s\n"
     ]
    }
   ],
   "source": [
    "%%time\n",
    "import gensim\n",
    "fasttext = gensim.models.FastText.load_fasttext_format('/media/data/nlp/data/wiki.ru.bin')"
   ]
  },
  {
   "cell_type": "code",
   "execution_count": 156,
   "metadata": {},
   "outputs": [],
   "source": [
    "from random import random\n",
    "from pymystem3 import Mystem\n",
    "\n",
    "\n",
    "MAX_WORD_LEN = 8\n",
    "MAX_TEXT_LEN = 32\n",
    "\n",
    "ALPHABET = ['<UNK>'] + ['\\n'] + [s for s in \"\"\" 0123456789-,;.!?:'’’/\\|_@#$%ˆ&* ̃‘+-=<>()[]{}\"\"\"]\n",
    "ALPHABET += [s for s in 'абвгдеёжзийклмнопрстуфхцчщъыьэюя']\n",
    "ALPHABET += [s for s in 'abcdefghijklmnopqrstuvwxyz']\n",
    "\n",
    "ALPHABET_LEN = len(ALPHABET)\n",
    "char2int = {s: i for s, i in zip(ALPHABET, range(ALPHABET_LEN))}\n",
    "\n",
    "\n",
    "class HieracialMokoron(torch.utils.data.Dataset):\n",
    "    \"\"\"\n",
    "    Zero vector for padding.\n",
    "    \"\"\"\n",
    "    noise_level = 0\n",
    "\n",
    "    def __init__(self, filepath, text_field, maxwordlen=MAX_WORD_LEN, maxtextlen=MAX_TEXT_LEN):\n",
    "        self.alphabet = ALPHABET\n",
    "\n",
    "        self.mystem = Mystem()\n",
    "        self.text_field = text_field\n",
    "        self.data = pd.read_csv(filepath)\n",
    "        self.maxwordlen = maxwordlen\n",
    "        self.maxtextlen = maxtextlen\n",
    "        self.char2int = {s: i for s, i in zip(self.alphabet, range(len(self.alphabet)))}\n",
    "\n",
    "    def __len__(self):\n",
    "        return len(self.data)\n",
    "\n",
    "    def __getitem__(self, idx):\n",
    "        line = self.data.iloc[idx]\n",
    "        text = line[self.text_field].lower()\n",
    "        label = int(line.sentiment == 1.)\n",
    "\n",
    "        if self.noise_level > 0:\n",
    "            text = self._noise_generator(text)\n",
    "\n",
    "        text = self._tokenize(text)\n",
    "        text = self._preprocess_text_nobatch(text)\n",
    "        return text, label\n",
    "\n",
    "    def _tokenize(self, text):\n",
    "        return [res['text'] for res in self.mystem.analyze(text) if res['text'] != ' ']\n",
    "\n",
    "    def _noise_generator(string):\n",
    "        noised = \"\"\n",
    "        for c in string:\n",
    "            if random() > self.noise_level:\n",
    "                noised += c\n",
    "            if random() < self.noise_level:\n",
    "                noised += choice(self.alphabet)\n",
    "        return noised\n",
    "\n",
    "    def _one_hot(self, char):\n",
    "        zeros = np.zeros(len(self.alphabet))\n",
    "        if char in self.char2int:\n",
    "            zeros[self.char2int[char]] = 1.\n",
    "        else:\n",
    "            zeros[self.char2int['<UNK>']] = 1.\n",
    "\n",
    "    def _preprocess_text_nobatch(self, text):\n",
    "        _text_tensor = torch.zeros([self.maxwordlen * self.maxtextlen, len(self.alphabet)])\n",
    "        \n",
    "        text = text.lower()\n",
    "        one_hotted_text = np.zeros((self.maxlen, len(self.alphabet)))\n",
    "        for i, char in enumerate(text):\n",
    "            if i >= self.maxlen:\n",
    "                break\n",
    "            one_hotted_text[i, self.char2int.get(char, self.char2int['<UNK>'])] = 1.\n",
    "\n",
    "        return torch.FloatTensor(one_hotted_text)\n",
    "\n",
    "    def onehot2text(one_hotted_text, batch_size=None, show_pad=False):\n",
    "        if batch_size is None:\n",
    "            text = ''\n",
    "            max_values, idx = torch.max(one_hotted_text, 1)\n",
    "            for c, i in enumerate(idx):\n",
    "                if max_values[c] == 0:\n",
    "                    if show_pad:\n",
    "                        symb = '<PAD>'\n",
    "                    else:\n",
    "                        symb = ''\n",
    "                else:\n",
    "                    symb = ALPHABET[i]\n",
    "                text += symb\n",
    "            return text\n",
    "        else:\n",
    "            texts = []\n",
    "            for text in one_hotted_text:\n",
    "                texts.append(onehot2text(one_hotted_text, batch_size=None))\n",
    "            return texts"
   ]
  },
  {
   "cell_type": "code",
   "execution_count": 157,
   "metadata": {},
   "outputs": [],
   "source": [
    "ftm = FastTextMokoron(basepath+'train.csv')"
   ]
  },
  {
   "cell_type": "code",
   "execution_count": 163,
   "metadata": {},
   "outputs": [
    {
     "name": "stdout",
     "output_type": "stream",
     "text": [
      "((( \n",
      "\n",
      ": \n",
      "\n",
      "\n"
     ]
    },
    {
     "name": "stderr",
     "output_type": "stream",
     "text": [
      "/home/phobos_aijun/.virtualenvs/pytorch-env/lib/python3.5/site-packages/ipykernel_launcher.py:48: DeprecationWarning: Call to deprecated `__contains__` (Method will be removed in 4.0.0, use self.wv.__contains__() instead).\n",
      "/home/phobos_aijun/.virtualenvs/pytorch-env/lib/python3.5/site-packages/ipykernel_launcher.py:49: DeprecationWarning: Call to deprecated `__getitem__` (Method will be removed in 4.0.0, use self.wv.__getitem__() instead).\n",
      "/home/phobos_aijun/.virtualenvs/pytorch-env/lib/python3.5/site-packages/ipykernel_launcher.py:52: DeprecationWarning: Call to deprecated `__getitem__` (Method will be removed in 4.0.0, use self.wv.__getitem__() instead).\n"
     ]
    },
    {
     "data": {
      "text/plain": [
       "(\n",
       " -0.1698  0.3966 -0.0577  ...  -0.3822  0.1688  0.1148\n",
       "  0.1100  0.1611  0.6203  ...  -0.4057 -0.8733  0.2973\n",
       " -0.4550  0.9556  0.1204  ...  -0.3032 -0.3318  0.1527\n",
       "           ...             ⋱             ...          \n",
       "  0.0000  0.0000  0.0000  ...   0.0000  0.0000  0.0000\n",
       "  0.0000  0.0000  0.0000  ...   0.0000  0.0000  0.0000\n",
       "  0.0000  0.0000  0.0000  ...   0.0000  0.0000  0.0000\n",
       " [torch.FloatTensor of size 32x300], 0)"
      ]
     },
     "execution_count": 163,
     "metadata": {},
     "output_type": "execute_result"
    }
   ],
   "source": [
    "ftm[0]"
   ]
  },
  {
   "cell_type": "markdown",
   "metadata": {},
   "source": [
    "### Hieracial"
   ]
  },
  {
   "cell_type": "code",
   "execution_count": 198,
   "metadata": {},
   "outputs": [],
   "source": [
    "MAX_WORD_LEN = 8\n",
    "MAX_TEXT_LEN = 32\n",
    "\n",
    "ALPHABET = ['<UNK>'] + ['\\n'] + [s for s in \"\"\" 0123456789-,;.!?:'’’/\\|_@#$%ˆ&* ̃‘+-=<>()[]{}\"\"\"]\n",
    "ALPHABET += [s for s in 'абвгдеёжзийклмнопрстуфхцчщъыьэюя']\n",
    "ALPHABET += [s for s in 'abcdefghijklmnopqrstuvwxyz']\n",
    "\n",
    "ALPHABET_LEN = len(ALPHABET)\n",
    "char2int = {s: i for s, i in zip(ALPHABET, range(ALPHABET_LEN))}\n",
    "\n",
    "\n",
    "class HieracialMokoron(torch.utils.data.Dataset):\n",
    "    \"\"\"\n",
    "    Zero vector for padding.\n",
    "    \"\"\"\n",
    "    noise_level = 0\n",
    "\n",
    "    def __init__(self, filepath, text_field, maxwordlen=MAX_WORD_LEN, maxtextlen=MAX_TEXT_LEN):\n",
    "        self.alphabet = ALPHABET\n",
    "\n",
    "        self.text_field = text_field\n",
    "        self.data = pd.read_csv(filepath)\n",
    "        self.maxwordlen = maxwordlen\n",
    "        self.maxtextlen = maxtextlen\n",
    "        self.char2int = {s: i for s, i in zip(self.alphabet, range(len(self.alphabet)))}\n",
    "\n",
    "    def __len__(self):\n",
    "        return len(self.data)\n",
    "\n",
    "    def __getitem__(self, idx):\n",
    "        line = self.data.iloc[idx]\n",
    "        text = line[text_field].lower()\n",
    "        label = int(line.sentiment == 1.)\n",
    "\n",
    "        if self.noise_level > 0:\n",
    "            text = self._noise_generator(text)\n",
    "\n",
    "        text = self._tokenize(text)\n",
    "        text = self._preprocess_text_nobatch(text)\n",
    "        return text, label\n",
    "\n",
    "    def _noise_generator(string):\n",
    "        noised = \"\"\n",
    "        for c in string:\n",
    "            if random() > self.noise_level:\n",
    "                noised += c\n",
    "            if random() < self.noise_level:\n",
    "                noised += choice(self.alphabet)\n",
    "        return noised\n",
    "\n",
    "    def _one_hot(self, char):\n",
    "        zeros = np.zeros(len(self.alphabet))\n",
    "        if char in self.char2int:\n",
    "            zeros[self.char2int[char]] = 1.\n",
    "        else:\n",
    "            zeros[self.char2int['<UNK>']] = 1.\n",
    "\n",
    "    def _preprocess_text_nobatch(self, text):\n",
    "        _text_tensor = torch.zeros([self.maxwordlen * self.maxtextlen, len(self.alphabet)])\n",
    "        \n",
    "        text = text.lower()\n",
    "        one_hotted_text = np.zeros((self.maxlen, len(self.alphabet)))\n",
    "        for i, char in enumerate(text):\n",
    "            if i >= self.maxlen:\n",
    "                break\n",
    "            one_hotted_text[i, self.char2int.get(char, self.char2int['<UNK>'])] = 1.\n",
    "\n",
    "        return torch.FloatTensor(one_hotted_text)\n",
    "\n",
    "    def onehot2text(self, one_hotted_text, show_pad=False):\n",
    "        text = ''\n",
    "        max_values, idx = torch.max(one_hotted_text, 1)\n",
    "        for c, i in enumerate(idx):\n",
    "            if max_values[c] == 0:\n",
    "                if show_pad:\n",
    "                    symb = '<PAD>'\n",
    "                else:\n",
    "                    symb = ''\n",
    "            else:\n",
    "                symb = ALPHABET[i]\n",
    "            text += symb\n",
    "        return text\n"
   ]
  },
  {
   "cell_type": "code",
   "execution_count": null,
   "metadata": {},
   "outputs": [],
   "source": []
  }
 ],
 "metadata": {
  "kernelspec": {
   "display_name": "pytorch-env",
   "language": "python",
   "name": "pytorch-env"
  },
  "language_info": {
   "codemirror_mode": {
    "name": "ipython",
    "version": 3
   },
   "file_extension": ".py",
   "mimetype": "text/x-python",
   "name": "python",
   "nbconvert_exporter": "python",
   "pygments_lexer": "ipython3",
   "version": "3.5.2"
  }
 },
 "nbformat": 4,
 "nbformat_minor": 2
}
