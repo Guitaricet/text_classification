{
 "cells": [
  {
   "cell_type": "code",
   "execution_count": 1,
   "metadata": {},
   "outputs": [
    {
     "name": "stdout",
     "output_type": "stream",
     "text": [
      "Populating the interactive namespace from numpy and matplotlib\n"
     ]
    }
   ],
   "source": [
    "import pandas as pd\n",
    "\n",
    "import matplotlib.pyplot as plt\n",
    "import seaborn\n",
    "%pylab inline\n",
    "\n",
    "seaborn.set()"
   ]
  },
  {
   "cell_type": "code",
   "execution_count": 3,
   "metadata": {},
   "outputs": [],
   "source": [
    "import sys\n",
    "sys.path.append(\"..\")\n",
    "\n",
    "import cfg"
   ]
  },
  {
   "cell_type": "code",
   "execution_count": 4,
   "metadata": {},
   "outputs": [
    {
     "data": {
      "text/plain": [
       "array([0.   , 0.01 , 0.02 , 0.03 , 0.04 , 0.05 , 0.075, 0.1  , 0.125,\n",
       "       0.15 , 0.175, 0.2  ])"
      ]
     },
     "execution_count": 4,
     "metadata": {},
     "output_type": "execute_result"
    }
   ],
   "source": [
    "NOISE_LEVELS = cfg.experiment.noise_levels; NOISE_LEVELS"
   ]
  },
  {
   "cell_type": "markdown",
   "metadata": {},
   "source": [
    "# IMDB"
   ]
  },
  {
   "cell_type": "markdown",
   "metadata": {},
   "source": [
    "## CharCNN"
   ]
  },
  {
   "cell_type": "code",
   "execution_count": 55,
   "metadata": {},
   "outputs": [],
   "source": [
    "results = pd.read_csv('../results/CharCNN_IMDB.csv', index_col=0)"
   ]
  },
  {
   "cell_type": "code",
   "execution_count": 9,
   "metadata": {},
   "outputs": [
    {
     "data": {
      "text/html": [
       "<div>\n",
       "<style scoped>\n",
       "    .dataframe tbody tr th:only-of-type {\n",
       "        vertical-align: middle;\n",
       "    }\n",
       "\n",
       "    .dataframe tbody tr th {\n",
       "        vertical-align: top;\n",
       "    }\n",
       "\n",
       "    .dataframe thead th {\n",
       "        text-align: right;\n",
       "    }\n",
       "</style>\n",
       "<table border=\"1\" class=\"dataframe\">\n",
       "  <thead>\n",
       "    <tr style=\"text-align: right;\">\n",
       "      <th></th>\n",
       "      <th>acc_test</th>\n",
       "      <th>f1_test</th>\n",
       "      <th>noise_level_test</th>\n",
       "      <th>model_type</th>\n",
       "      <th>noise_level_train</th>\n",
       "      <th>acc_train</th>\n",
       "      <th>f1_train</th>\n",
       "    </tr>\n",
       "  </thead>\n",
       "  <tbody>\n",
       "    <tr>\n",
       "      <th>54</th>\n",
       "      <td>0.69404</td>\n",
       "      <td>0.705434</td>\n",
       "      <td>0.075</td>\n",
       "      <td>CharCNN</td>\n",
       "      <td>0.02</td>\n",
       "      <td>0.646455</td>\n",
       "      <td>0.656392</td>\n",
       "    </tr>\n",
       "    <tr>\n",
       "      <th>76</th>\n",
       "      <td>0.69368</td>\n",
       "      <td>0.682636</td>\n",
       "      <td>0.040</td>\n",
       "      <td>CharCNN</td>\n",
       "      <td>0.03</td>\n",
       "      <td>0.662780</td>\n",
       "      <td>0.666667</td>\n",
       "    </tr>\n",
       "    <tr>\n",
       "      <th>0</th>\n",
       "      <td>0.72556</td>\n",
       "      <td>0.725373</td>\n",
       "      <td>-1.000</td>\n",
       "      <td>CharCNN</td>\n",
       "      <td>0.00</td>\n",
       "      <td>0.659981</td>\n",
       "      <td>0.658228</td>\n",
       "    </tr>\n",
       "    <tr>\n",
       "      <th>109</th>\n",
       "      <td>0.72008</td>\n",
       "      <td>0.720058</td>\n",
       "      <td>0.010</td>\n",
       "      <td>CharCNN</td>\n",
       "      <td>0.00</td>\n",
       "      <td>0.659981</td>\n",
       "      <td>0.658228</td>\n",
       "    </tr>\n",
       "    <tr>\n",
       "      <th>35</th>\n",
       "      <td>0.64532</td>\n",
       "      <td>0.654106</td>\n",
       "      <td>0.200</td>\n",
       "      <td>CharCNN</td>\n",
       "      <td>0.01</td>\n",
       "      <td>0.623601</td>\n",
       "      <td>0.627939</td>\n",
       "    </tr>\n",
       "    <tr>\n",
       "      <th>24</th>\n",
       "      <td>0.70428</td>\n",
       "      <td>0.691405</td>\n",
       "      <td>0.000</td>\n",
       "      <td>CharCNN</td>\n",
       "      <td>0.03</td>\n",
       "      <td>0.662780</td>\n",
       "      <td>0.666667</td>\n",
       "    </tr>\n",
       "    <tr>\n",
       "      <th>86</th>\n",
       "      <td>0.70972</td>\n",
       "      <td>0.721153</td>\n",
       "      <td>0.020</td>\n",
       "      <td>CharCNN</td>\n",
       "      <td>0.02</td>\n",
       "      <td>0.646455</td>\n",
       "      <td>0.656392</td>\n",
       "    </tr>\n",
       "    <tr>\n",
       "      <th>107</th>\n",
       "      <td>0.64496</td>\n",
       "      <td>0.652358</td>\n",
       "      <td>0.200</td>\n",
       "      <td>CharCNN</td>\n",
       "      <td>0.01</td>\n",
       "      <td>0.623601</td>\n",
       "      <td>0.627939</td>\n",
       "    </tr>\n",
       "    <tr>\n",
       "      <th>23</th>\n",
       "      <td>0.66804</td>\n",
       "      <td>0.671053</td>\n",
       "      <td>0.200</td>\n",
       "      <td>CharCNN</td>\n",
       "      <td>0.00</td>\n",
       "      <td>0.659981</td>\n",
       "      <td>0.658228</td>\n",
       "    </tr>\n",
       "    <tr>\n",
       "      <th>49</th>\n",
       "      <td>0.72040</td>\n",
       "      <td>0.719817</td>\n",
       "      <td>0.010</td>\n",
       "      <td>CharCNN</td>\n",
       "      <td>0.00</td>\n",
       "      <td>0.659981</td>\n",
       "      <td>0.658228</td>\n",
       "    </tr>\n",
       "  </tbody>\n",
       "</table>\n",
       "</div>"
      ],
      "text/plain": [
       "     acc_test   f1_test  noise_level_test model_type  noise_level_train  \\\n",
       "54    0.69404  0.705434             0.075    CharCNN               0.02   \n",
       "76    0.69368  0.682636             0.040    CharCNN               0.03   \n",
       "0     0.72556  0.725373            -1.000    CharCNN               0.00   \n",
       "109   0.72008  0.720058             0.010    CharCNN               0.00   \n",
       "35    0.64532  0.654106             0.200    CharCNN               0.01   \n",
       "24    0.70428  0.691405             0.000    CharCNN               0.03   \n",
       "86    0.70972  0.721153             0.020    CharCNN               0.02   \n",
       "107   0.64496  0.652358             0.200    CharCNN               0.01   \n",
       "23    0.66804  0.671053             0.200    CharCNN               0.00   \n",
       "49    0.72040  0.719817             0.010    CharCNN               0.00   \n",
       "\n",
       "     acc_train  f1_train  \n",
       "54    0.646455  0.656392  \n",
       "76    0.662780  0.666667  \n",
       "0     0.659981  0.658228  \n",
       "109   0.659981  0.658228  \n",
       "35    0.623601  0.627939  \n",
       "24    0.662780  0.666667  \n",
       "86    0.646455  0.656392  \n",
       "107   0.623601  0.627939  \n",
       "23    0.659981  0.658228  \n",
       "49    0.659981  0.658228  "
      ]
     },
     "execution_count": 9,
     "metadata": {},
     "output_type": "execute_result"
    }
   ],
   "source": [
    "results.sample(10)"
   ]
  },
  {
   "cell_type": "code",
   "execution_count": 57,
   "metadata": {},
   "outputs": [],
   "source": [
    "results = pd.read_csv('../results/CharCNN_IMDB.csv', index_col=0)\n",
    "results_same = results[results['noise_level_test'] > 0]\n",
    "results_orig = results[results['noise_level_test'] == -1]\n",
    "\n",
    "plot_x = []\n",
    "plot_y = []\n",
    "\n",
    "j = 0\n",
    "for i, noise_level in enumerate(NOISE_LEVELS):\n",
    "    plot_data = results_same[(results_same.noise_level_train == noise_level) &\\\n",
    "                             (results_same.noise_level_test == noise_level)]\n",
    "    if not plot_data.empty:\n",
    "        plot_x.append(noise_level)\n",
    "        plot_y.append([])\n",
    "        for _, res in plot_data.iterrows():\n",
    "            plot_y[j].append(res['acc_test'])\n",
    "        j += 1\n"
   ]
  },
  {
   "cell_type": "code",
   "execution_count": 58,
   "metadata": {},
   "outputs": [
    {
     "data": {
      "image/png": "[encoded data removed]",
      "text/plain": [
       "<Figure size 720x576 with 1 Axes>"
      ]
     },
     "metadata": {},
     "output_type": "display_data"
    }
   ],
   "source": [
    "plt.figure(figsize=(10, 8))\n",
    "plt.title('IMDB')\n",
    "plt.xlabel('train noise level')\n",
    "plt.ylabel('test acc')\n",
    "\n",
    "seaborn.boxplot(plot_x, plot_y)\n",
    "plt.savefig('IMDB.png')\n",
    "plt.show()"
   ]
  },
  {
   "cell_type": "code",
   "execution_count": null,
   "metadata": {},
   "outputs": [],
   "source": []
  }
 ],
 "metadata": {
  "kernelspec": {
   "display_name": "Python 3",
   "language": "python",
   "name": "python3"
  },
  "language_info": {
   "codemirror_mode": {
    "name": "ipython",
    "version": 3
   },
   "file_extension": ".py",
   "mimetype": "text/x-python",
   "name": "python",
   "nbconvert_exporter": "python",
   "pygments_lexer": "ipython3",
   "version": "3.6.5"
  }
 },
 "nbformat": 4,
 "nbformat_minor": 2
}
