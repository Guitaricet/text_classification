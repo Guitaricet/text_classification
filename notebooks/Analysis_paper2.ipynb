{
 "cells": [
  {
   "cell_type": "code",
   "execution_count": 2,
   "metadata": {},
   "outputs": [
    {
     "name": "stdout",
     "output_type": "stream",
     "text": [
      "Populating the interactive namespace from numpy and matplotlib\n"
     ]
    }
   ],
   "source": [
    "import pandas as pd\n",
    "\n",
    "import matplotlib.pyplot as plt\n",
    "import seaborn\n",
    "%pylab inline\n",
    "\n",
    "seaborn.set()"
   ]
  },
  {
   "cell_type": "code",
   "execution_count": 3,
   "metadata": {},
   "outputs": [],
   "source": [
    "import sys\n",
    "sys.path.append(\"..\")\n",
    "\n",
    "import cfg"
   ]
  },
  {
   "cell_type": "code",
   "execution_count": 4,
   "metadata": {},
   "outputs": [
    {
     "data": {
      "text/plain": [
       "array([0.   , 0.01 , 0.02 , 0.03 , 0.04 , 0.05 , 0.075, 0.1  , 0.125,\n",
       "       0.15 , 0.175, 0.2  ])"
      ]
     },
     "execution_count": 4,
     "metadata": {},
     "output_type": "execute_result"
    }
   ],
   "source": [
    "NOISE_LEVELS = cfg.experiment.noise_levels; NOISE_LEVELS"
   ]
  },
  {
   "cell_type": "markdown",
   "metadata": {},
   "source": [
    "# IMDB"
   ]
  },
  {
   "cell_type": "markdown",
   "metadata": {},
   "source": [
    "## CharCNN"
   ]
  },
  {
   "cell_type": "code",
   "execution_count": 5,
   "metadata": {},
   "outputs": [],
   "source": [
    "results = pd.read_csv('../results/CharCNN_IMDB.csv', index_col=0)"
   ]
  },
  {
   "cell_type": "code",
   "execution_count": 6,
   "metadata": {},
   "outputs": [
    {
     "data": {
      "text/html": [
       "<div>\n",
       "<style scoped>\n",
       "    .dataframe tbody tr th:only-of-type {\n",
       "        vertical-align: middle;\n",
       "    }\n",
       "\n",
       "    .dataframe tbody tr th {\n",
       "        vertical-align: top;\n",
       "    }\n",
       "\n",
       "    .dataframe thead th {\n",
       "        text-align: right;\n",
       "    }\n",
       "</style>\n",
       "<table border=\"1\" class=\"dataframe\">\n",
       "  <thead>\n",
       "    <tr style=\"text-align: right;\">\n",
       "      <th></th>\n",
       "      <th>acc_test</th>\n",
       "      <th>f1_test</th>\n",
       "      <th>noise_level_test</th>\n",
       "      <th>model_type</th>\n",
       "      <th>noise_level_train</th>\n",
       "      <th>acc_train</th>\n",
       "      <th>f1_train</th>\n",
       "    </tr>\n",
       "  </thead>\n",
       "  <tbody>\n",
       "    <tr>\n",
       "      <th>117</th>\n",
       "      <td>0.59048</td>\n",
       "      <td>0.440302</td>\n",
       "      <td>0.150</td>\n",
       "      <td>CharCNN</td>\n",
       "      <td>0.200</td>\n",
       "      <td>0.893657</td>\n",
       "      <td>0.895028</td>\n",
       "    </tr>\n",
       "    <tr>\n",
       "      <th>90</th>\n",
       "      <td>0.67972</td>\n",
       "      <td>0.648338</td>\n",
       "      <td>0.075</td>\n",
       "      <td>CharCNN</td>\n",
       "      <td>0.030</td>\n",
       "      <td>0.886660</td>\n",
       "      <td>0.888379</td>\n",
       "    </tr>\n",
       "    <tr>\n",
       "      <th>57</th>\n",
       "      <td>0.59428</td>\n",
       "      <td>0.451285</td>\n",
       "      <td>0.150</td>\n",
       "      <td>CharCNN</td>\n",
       "      <td>0.010</td>\n",
       "      <td>0.879664</td>\n",
       "      <td>0.880886</td>\n",
       "    </tr>\n",
       "    <tr>\n",
       "      <th>26</th>\n",
       "      <td>0.73836</td>\n",
       "      <td>0.734720</td>\n",
       "      <td>0.020</td>\n",
       "      <td>CharCNN</td>\n",
       "      <td>0.030</td>\n",
       "      <td>0.886660</td>\n",
       "      <td>0.888379</td>\n",
       "    </tr>\n",
       "    <tr>\n",
       "      <th>71</th>\n",
       "      <td>0.56308</td>\n",
       "      <td>0.409791</td>\n",
       "      <td>0.200</td>\n",
       "      <td>CharCNN</td>\n",
       "      <td>0.020</td>\n",
       "      <td>0.889459</td>\n",
       "      <td>0.891632</td>\n",
       "    </tr>\n",
       "    <tr>\n",
       "      <th>103</th>\n",
       "      <td>0.63808</td>\n",
       "      <td>0.556384</td>\n",
       "      <td>0.100</td>\n",
       "      <td>CharCNN</td>\n",
       "      <td>0.200</td>\n",
       "      <td>0.893657</td>\n",
       "      <td>0.895028</td>\n",
       "    </tr>\n",
       "    <tr>\n",
       "      <th>109</th>\n",
       "      <td>0.74452</td>\n",
       "      <td>0.737582</td>\n",
       "      <td>0.010</td>\n",
       "      <td>CharCNN</td>\n",
       "      <td>0.175</td>\n",
       "      <td>0.877799</td>\n",
       "      <td>0.877456</td>\n",
       "    </tr>\n",
       "    <tr>\n",
       "      <th>102</th>\n",
       "      <td>0.65956</td>\n",
       "      <td>0.596922</td>\n",
       "      <td>0.075</td>\n",
       "      <td>CharCNN</td>\n",
       "      <td>0.125</td>\n",
       "      <td>0.879198</td>\n",
       "      <td>0.880259</td>\n",
       "    </tr>\n",
       "    <tr>\n",
       "      <th>85</th>\n",
       "      <td>0.74640</td>\n",
       "      <td>0.742235</td>\n",
       "      <td>0.010</td>\n",
       "      <td>CharCNN</td>\n",
       "      <td>0.200</td>\n",
       "      <td>0.893657</td>\n",
       "      <td>0.895028</td>\n",
       "    </tr>\n",
       "    <tr>\n",
       "      <th>104</th>\n",
       "      <td>0.61424</td>\n",
       "      <td>0.502630</td>\n",
       "      <td>0.125</td>\n",
       "      <td>CharCNN</td>\n",
       "      <td>0.150</td>\n",
       "      <td>0.876399</td>\n",
       "      <td>0.880469</td>\n",
       "    </tr>\n",
       "  </tbody>\n",
       "</table>\n",
       "</div>"
      ],
      "text/plain": [
       "     acc_test   f1_test  noise_level_test model_type  noise_level_train  \\\n",
       "117   0.59048  0.440302             0.150    CharCNN              0.200   \n",
       "90    0.67972  0.648338             0.075    CharCNN              0.030   \n",
       "57    0.59428  0.451285             0.150    CharCNN              0.010   \n",
       "26    0.73836  0.734720             0.020    CharCNN              0.030   \n",
       "71    0.56308  0.409791             0.200    CharCNN              0.020   \n",
       "103   0.63808  0.556384             0.100    CharCNN              0.200   \n",
       "109   0.74452  0.737582             0.010    CharCNN              0.175   \n",
       "102   0.65956  0.596922             0.075    CharCNN              0.125   \n",
       "85    0.74640  0.742235             0.010    CharCNN              0.200   \n",
       "104   0.61424  0.502630             0.125    CharCNN              0.150   \n",
       "\n",
       "     acc_train  f1_train  \n",
       "117   0.893657  0.895028  \n",
       "90    0.886660  0.888379  \n",
       "57    0.879664  0.880886  \n",
       "26    0.886660  0.888379  \n",
       "71    0.889459  0.891632  \n",
       "103   0.893657  0.895028  \n",
       "109   0.877799  0.877456  \n",
       "102   0.879198  0.880259  \n",
       "85    0.893657  0.895028  \n",
       "104   0.876399  0.880469  "
      ]
     },
     "execution_count": 6,
     "metadata": {},
     "output_type": "execute_result"
    }
   ],
   "source": [
    "results.sample(10)"
   ]
  },
  {
   "cell_type": "code",
   "execution_count": 11,
   "metadata": {},
   "outputs": [
    {
     "data": {
      "text/plain": [
       "0.02"
      ]
     },
     "execution_count": 11,
     "metadata": {},
     "output_type": "execute_result"
    }
   ],
   "source": [
    "round(0.02000007, 2)"
   ]
  },
  {
   "cell_type": "code",
   "execution_count": 22,
   "metadata": {},
   "outputs": [],
   "source": [
    "results = pd.read_csv('../results/CharCNN_IMDB.csv', index_col=0)\n",
    "results_same = results[results['noise_level_test'] > 0]\n",
    "results_orig = results[results['noise_level_test'] == -1]\n",
    "\n",
    "plot_x = []\n",
    "plot_y = []\n",
    "\n",
    "j = 0\n",
    "for i, noise_level in enumerate(NOISE_LEVELS):\n",
    "    plot_data = results_same[(results_same.noise_level_train == noise_level) &\\\n",
    "                             (results_same.noise_level_test == noise_level)]\n",
    "    if not plot_data.empty:\n",
    "        plot_x.append(round(noise_level, 3))\n",
    "        plot_y.append([])\n",
    "        for _, res in plot_data.iterrows():\n",
    "            plot_y[j].append(res['acc_test'])\n",
    "        j += 1\n"
   ]
  },
  {
   "cell_type": "code",
   "execution_count": 23,
   "metadata": {},
   "outputs": [
    {
     "data": {
      "image/png": "[encoded data removed]",
      "text/plain": [
       "<Figure size 720x576 with 1 Axes>"
      ]
     },
     "metadata": {},
     "output_type": "display_data"
    }
   ],
   "source": [
    "# Проверил tensorboard, все модели сошлись. Нелинейное поведение не из-за недообучения.\n",
    "plt.figure(figsize=(10, 8))\n",
    "plt.title('IMDB CharCNN')\n",
    "plt.xlabel('train noise level')\n",
    "plt.ylabel('test acc')\n",
    "\n",
    "seaborn.boxplot(plot_x, plot_y)\n",
    "plt.savefig('IMDB.png')\n",
    "plt.show()"
   ]
  },
  {
   "cell_type": "code",
   "execution_count": 21,
   "metadata": {},
   "outputs": [
    {
     "data": {
      "image/png": "[encoded data removed]",
      "text/plain": [
       "<Figure size 720x576 with 1 Axes>"
      ]
     },
     "metadata": {},
     "output_type": "display_data"
    }
   ],
   "source": [
    "# Проверил tensorboard, все модели сошлись. Нелинейное поведение не из-за недообучения.\n",
    "results = pd.read_csv('../results/FastText_IMDB.csv', index_col=0)\n",
    "results_same = results[results['noise_level_test'] > 0]\n",
    "results_orig = results[results['noise_level_test'] == -1]\n",
    "\n",
    "plot_x = []\n",
    "plot_y = []\n",
    "\n",
    "j = 0\n",
    "for i, noise_level in enumerate(NOISE_LEVELS):\n",
    "    plot_data = results_same[(results_same.noise_level_train == noise_level) &\\\n",
    "                             (results_same.noise_level_test == noise_level)]\n",
    "    if not plot_data.empty:\n",
    "        plot_x.append(round(noise_level, 3))\n",
    "        plot_y.append([])\n",
    "        for _, res in plot_data.iterrows():\n",
    "            plot_y[j].append(res['acc_test'])\n",
    "        j += 1\n",
    "\n",
    "plt.figure(figsize=(10, 8))\n",
    "plt.title('IMDB FastText')\n",
    "plt.xlabel('train noise level')\n",
    "plt.ylabel('test acc')\n",
    "\n",
    "seaborn.boxplot(plot_x, plot_y)\n",
    "plt.savefig('IMDB.png')\n",
    "plt.show()"
   ]
  },
  {
   "cell_type": "markdown",
   "metadata": {},
   "source": [
    "# Mokoron"
   ]
  },
  {
   "cell_type": "code",
   "execution_count": 20,
   "metadata": {},
   "outputs": [
    {
     "data": {
      "image/png": "[encoded data removed]",
      "text/plain": [
       "<Figure size 720x576 with 1 Axes>"
      ]
     },
     "metadata": {},
     "output_type": "display_data"
    }
   ],
   "source": [
    "# Acc на валидации сошлась\n",
    "results = pd.read_csv('../results/CharCNN_mokoron_backup.csv', index_col=0)\n",
    "results_same = results[results['noise_level_test'] > 0]\n",
    "results_orig = results[results['noise_level_test'] == -1]\n",
    "\n",
    "plot_x = []\n",
    "plot_y = []\n",
    "\n",
    "j = 0\n",
    "for i, noise_level in enumerate(NOISE_LEVELS):\n",
    "    plot_data = results_same[(results_same.noise_level_train == noise_level) &\\\n",
    "                             (results_same.noise_level_test == noise_level)]\n",
    "    plot_data\n",
    "    if not plot_data.empty:\n",
    "        plot_x.append(round(noise_level, 3))\n",
    "        plot_y.append([])\n",
    "        for _, res in plot_data.iterrows():\n",
    "            plot_y[j].append(res['acc_test'])\n",
    "        j += 1\n",
    "\n",
    "plt.figure(figsize=(10, 8))\n",
    "plt.title('Mokoron CharCNN')\n",
    "plt.xlabel('train noise level')\n",
    "plt.ylabel('test acc')\n",
    "\n",
    "seaborn.boxplot(plot_x, plot_y)\n",
    "plt.savefig('IMDB.png')\n",
    "plt.show()"
   ]
  },
  {
   "cell_type": "code",
   "execution_count": 19,
   "metadata": {},
   "outputs": [
    {
     "data": {
      "image/png": "[encoded data removed]",
      "text/plain": [
       "<Figure size 720x576 with 1 Axes>"
      ]
     },
     "metadata": {},
     "output_type": "display_data"
    }
   ],
   "source": [
    "# Ошибка, не убраны скобочки\n",
    "results = pd.read_csv('../results/FastText_mokoron.csv', index_col=0)\n",
    "results_same = results[results['noise_level_test'] > 0]\n",
    "results_orig = results[results['noise_level_test'] == -1]\n",
    "\n",
    "plot_x = []\n",
    "plot_y = []\n",
    "\n",
    "j = 0\n",
    "for i, noise_level in enumerate(NOISE_LEVELS):\n",
    "    plot_data = results_same[(results_same.noise_level_train == noise_level) &\\\n",
    "                             (results_same.noise_level_test == noise_level)]\n",
    "    if not plot_data.empty:\n",
    "        plot_x.append(round(noise_level, 3))\n",
    "        plot_y.append([])\n",
    "        for _, res in plot_data.iterrows():\n",
    "            plot_y[j].append(res['acc_test'])\n",
    "        j += 1\n",
    "\n",
    "plt.figure(figsize=(10, 8))\n",
    "plt.title('Mokoron Fasttext')\n",
    "plt.xlabel('train noise level')\n",
    "plt.ylabel('test acc')\n",
    "\n",
    "seaborn.boxplot(plot_x, plot_y)\n",
    "plt.savefig('IMDB.png')\n",
    "plt.show()"
   ]
  },
  {
   "cell_type": "code",
   "execution_count": null,
   "metadata": {},
   "outputs": [],
   "source": []
  }
 ],
 "metadata": {
  "kernelspec": {
   "display_name": "Python 3",
   "language": "python",
   "name": "python3"
  },
  "language_info": {
   "codemirror_mode": {
    "name": "ipython",
    "version": 3
   },
   "file_extension": ".py",
   "mimetype": "text/x-python",
   "name": "python",
   "nbconvert_exporter": "python",
   "pygments_lexer": "ipython3",
   "version": "3.6.5"
  }
 },
 "nbformat": 4,
 "nbformat_minor": 2
}
