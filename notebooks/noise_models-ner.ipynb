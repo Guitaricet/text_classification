{
 "cells": [
  {
   "cell_type": "code",
   "execution_count": 36,
   "metadata": {},
   "outputs": [],
   "source": [
    "ALPHABET = ['e', 't', 'a', 'i', 'o', 's', 'n', 'r', 'h', 'l', 'd', 'c', 'm', 'u', 'f', 'g', 'y', 'b', 'w', 'p',\\\n",
    "            '.', 'v', ',', 'k', \"'\", '/', '>', '<', '-', '\"', 'j', 'x', ')', '(', '!', 'z', 'q', '0', '1', '?', ':',\\\n",
    "            '9', '2', '*', ';', '3', '5', '8', '4', '7', '&', '6', 'é', '`', '$', '_', '%', '=', '#']"
   ]
  },
  {
   "cell_type": "code",
   "execution_count": 37,
   "metadata": {},
   "outputs": [],
   "source": [
    "from random import random, choice\n",
    "\n",
    "def noise_generator(string, noise_level, chars=ALPHABET):\n",
    "    noised = \"\"\n",
    "    for c in string:\n",
    "        if c == ' ':\n",
    "            noised += c\n",
    "            continue\n",
    "        if random() > noise_level:\n",
    "            noised += c\n",
    "        else:\n",
    "#         if random() < noise_level:\n",
    "            noised += choice(chars)\n",
    "    assert len(noised) == len(string), (len(noised), len(string))\n",
    "    return noised\n"
   ]
  },
  {
   "cell_type": "code",
   "execution_count": 38,
   "metadata": {},
   "outputs": [],
   "source": [
    "text = \"\"\"Spanish is the second most spoken language in the United States of America. Forty-five million Hispanophones speak Spanish as their first, second or heritage language,[1] and there are six million Spanish language students in the United States.[2] This makes the United States the third-largest Hispanophone country in the world after Mexico and Colombia, and before Spain. Spanish has both the largest number of native language Romance speakers and native Indo-European language speakers in the world.[3] About half of all American Spanish speakers also assessed themselves as speaking English \"very well\" in the 2000 U.S. Census.[4]\n",
    "\n",
    "There are more Spanish-speakers in the United States than speakers of French, German, Italian, Hawaiian, varieties of Chinese and Native American languages combined. According to the 2012 American Community Survey conducted by the U.S. Census Bureau, Spanish is the primary language spoken at home by 38.3 million people aged five or older, more than twice that of 1990.[5][6]\n",
    "\n",
    "The Spanish language has been present in what is now the United States since the 16th and 17th centuries, with the arrival of Spanish colonization in North America. Colonizers settled in areas that would later become the states of Florida, Texas, Colorado, New Mexico, Arizona, Nevada, Utah, and California. The Spanish explorers explored areas of 42 future U.S. states leaving behind a varying range of Hispanic legacy in the North American continent. Western regions of the Louisiana Territory were also under Spanish rule between 1763 and 1800, after the French and Indian War, further extending the Spanish influence throughout the modern-day United States of America.\n",
    "\n",
    "After the incorporation of these areas into the United States in the first half of the 19th century, the Spanish language was later reinforced in the country by the acquisition of Puerto Rico in 1898. Later waves of emigration from Mexico, Cuba, El Salvador and elsewhere in Hispanic America to the United States beginning in the second half of the 19th century to the present-day have strengthened the role of the Spanish language in the country. Today, Hispanics are one of the fastest growing ethnic groups in the United States, thus increasing the use and importance of American Spanish in the United States.\"\"\""
   ]
  },
  {
   "cell_type": "code",
   "execution_count": 41,
   "metadata": {},
   "outputs": [],
   "source": [
    "text = text.lower()"
   ]
  },
  {
   "cell_type": "code",
   "execution_count": 46,
   "metadata": {},
   "outputs": [
    {
     "data": {
      "text/plain": [
       "'spanish iq the secono most spoken languago in the united states of anerica. f$rty-five villion hispanopho<es speak spanish as their firmt, seconj or heritage language,[1] and there are six mislion spanish lang5a-e students in *he unit:d states.[2] this mak1s the united stakeo the third-uar<e<t hizp`nophone country in 9he world aft;r mexico and colimbia, ?nd before mnain. spanish hfs both the 8argest number of native language roma8ce speakers and nati=e in(o-european lgnguage speakers nn thl iorld.[3] about ha`f of all a<erican span.sl speakers also assessed themcelves as smeaking english \"very well\" in the 2000 u.s. censue.[4]\\n\\n7here qre more spanich-speakers in the united states mhan splakers cf french, 1erman, itali4v, hawaiian, varie1ie; of chinese and natiqu american aanguages combiged. according to the 2012 ameri7an community surve9 conducted by the u.s. cen9us bur4ku? spanish is the pzvma2y language spoken at home by 38.3 millio6 pekple aged fiv> or ofder, more than twnce that of 1990.[5]56]\\n\\nthe swanish language has been p*esent in phpt is 4ow the united states =ince thé 16th and 17th ct`turies, with the agrival of spav0sh colonizatpon in north $merica. colonizers s4ttled in areas that uoukd later become the states of florida, texas, cjlorado, new mexico, arizona, nevada, utah, anr california. the spanish !xplorers explored areas of té fut_re u.s( states leaving behind a varymng range of hispanic legacy in the no3eh americ-n c?)tinent. western regiens of t.e k!uisiana territory were also under spanish rule be9ween 176` and 1800, after the french and in(ia0 wars fu8ther extendinq t0e 4panish influe3ce *hroughout the modern-da$ uniqed states of america.\\n\\nafqbr the inco.porati.n of these areas intz the united states in the fir&t half 5f the 89th centu4y, the spaniih l.ngukge w*s later reinforcee in the country by the acqvi)ition of puerto ric, :< 1898. later wa96: of emigration from mexico, cub\", el salvador and elsewhere in hispanic ameri,9 to !he united .tateo beginning in the second half o6 rhe 19th century to the prssent-day have s?rn8gthened the r(le *f the sbanish lang%age in éhe csuntry. today, h\"spani;s are one of t$e fastest -rowing ethnic gsoups iv the united states, th(s increasing tve use and importance of am<rican spa0ixh in thh united statos.'"
      ]
     },
     "execution_count": 46,
     "metadata": {},
     "output_type": "execute_result"
    }
   ],
   "source": [
    "noise_generator(text, 0.1)"
   ]
  },
  {
   "cell_type": "code",
   "execution_count": 4,
   "metadata": {},
   "outputs": [],
   "source": [
    "text = text[:1024].lower()"
   ]
  },
  {
   "cell_type": "code",
   "execution_count": 5,
   "metadata": {},
   "outputs": [
    {
     "data": {
      "text/plain": [
       "'spanish is the second most spoken language in the united states of america. forty-five million hispanophones speak spanish as their first, second or heritage language,[1] and there are six million spanish language students in the united states.[2] this makes the united states the third-largest hispanophone country in the world after mexico and colombia, and before spain. spanish has both the largest number of native language romance speakers and native indo-european language speakers in the world.[3] about half of all american spanish speakers also assessed themselves as speaking english \"very well\" in the 2000 u.s. census.[4]\\n\\nthere are more spanish-speakers in the united states than speakers of french, german, italian, hawaiian, varieties of chinese and native american languages combined. according to the 2012 american community survey conducted by the u.s. census bureau, spanish is the primary language spoken at home by 38.3 million people aged five or older, more than twice that of 1990.[5][6]\\n\\nthe spanis'"
      ]
     },
     "execution_count": 5,
     "metadata": {},
     "output_type": "execute_result"
    }
   ],
   "source": [
    "text"
   ]
  },
  {
   "cell_type": "code",
   "execution_count": 47,
   "metadata": {},
   "outputs": [
    {
     "data": {
      "text/plain": [
       "'spanish is the second most spoken language in the united states of america; forty-five million hispanophones speak spanish as their first, second or heritage language,[1] and there are six million spanish language students in the united states.[2] this makes the united states the third-largest hispanophone country in the world after mexico and colombia, and before spain. spanish has both the largest number of native language romance speakers and native indo-eurepean languaue speakers in the world.[3] about half of all american :panish speakers also assessed themselves as speaking english \"very well\" in the 2000 u.s. census.[4]\\n\\nthere are more spanish-speakers in the united states than speakers of french, german, italian, hawaiian, varieties of chinese and native :merican l,nguages combined. according to the 2012 american community survey conducted by the u.s. census bureau, spanish is the primary language spoken at home by 38.3 million people aged five or older, more than twice that of 1990.[5][6]\\n\\nthe spanish language has been present in what is now the united states since the 16th and 17th centuries, with the arrival of spanish colonization in north america. colonizers settled in areas that would later become the states of florida, texas, colorado, new mexic>, arizona, nevada, utah, and california. the s(anish explorers explored aéeas of 42 future u.s. states leaving behind a varying range of hispanic legacy in the north american continent. western regions of the louisiana territory were also under spanish rule between 1763 and 1800, after the french and indian war, further extending the spanish influence throughout the modern-day united states of america.\\n\\n>fter the incorporation of these areas into the united states in the fir#8 half of the 19th century, the spanish language was later reinforced in t1e country by the acquisition of puerto ri<o in 1898= later waves of emigration from mexico, cuba, el salvador and elsewhere in hispaniq america to the united states beginning in the second half ,f the 19th century =o the present-day have strengthened the role of the spanish language in the country. today, hispanics are one of the fastest growing ethnic groups in the united states, thus increasing the use and importance of american spanish in the united states.'"
      ]
     },
     "execution_count": 47,
     "metadata": {},
     "output_type": "execute_result"
    }
   ],
   "source": [
    "noise_generator(text, 0.01)"
   ]
  },
  {
   "cell_type": "code",
   "execution_count": 22,
   "metadata": {},
   "outputs": [
    {
     "data": {
      "text/plain": [
       "'spanish is the second most spoken language i the united states of america. forty-five millon hispanophones spek spanish as their first, second 2rheritage language,[1] and there are six million spanish language students in the united states.[2] this maks the uited sbtates he third-largest hispanophone country ing the wo-rld after mexico and colomb!ia, and before/ spain. spanish has bhotPADh the larPADgest number of native language rmance speakers and native indo-european language speakers% i.n the world.u[3] abo>ut half of alll americanpanish speakers also assessed themselves a speaking english \"v_ery well\" in t(hoe 2000 u.s. census.[4]\\n\\nthere are morespanish-speakers in the united sttes tvhan speakers of frech, geran, italian, hawaiian, varieti?s of chinese and native american languages co_msbined. according to the 212 american community urvey conducted by the u.s. cen.sus bureau, spanish is the primary language spoken at home by 38.3 millioun people agedfiv>e or older, morethan twice tat of 1990.[5][6]\\n\\nthe 8spanis'"
      ]
     },
     "execution_count": 22,
     "metadata": {},
     "output_type": "execute_result"
    }
   ],
   "source": [
    "noise_generator(text, 0.02)"
   ]
  },
  {
   "cell_type": "code",
   "execution_count": 50,
   "metadata": {},
   "outputs": [
    {
     "data": {
      "text/plain": [
       "'spanish is the seiond most spoken languave in the uniked statys of america. forty-five million hispan\\'phsnes speak spanish as their firs1, seton< or heritage `anguage,[1] and theze are six million spa;ish language students in the unite7 states.[2] this ma0es 1he united swates the third-large:t hispanophone country in the wotld aft*r mexicw and coloqbia, and before spain. spanish has bolh the largest number of native languuge romance speakers and native in>o-european lfnguage speakers in the world.[3] abou8 half of all rmbrican spanish speakers also assessed themselves as tpeaking english \"very well\" in the 2000 u.s. census.[q]\\nptherz are more spanish-speakers in the united 8tates than speakers of french, german, italian, hawaiian, varieties of chinese and native amexican languages combined. according to the 2012 amesicav com;unity surve$ conducted by the u.s. cens,s bureau, spanish is the primar* lang6age spoken at home by 38.3 m7?lion people aged fivz or older, more than twice that of 1990.[5][m]\\n\\nthe spanish language has been present in what is now the united sta0es `ince the 16th anq 17tt ce7turies, with the arrival of spwnish colonization in north amer%ca. cosonizers settled in areas that would later bécome phe soates of florida# texas, colorado, new mexico, arizonaq nyva:a, utah, and california. the spanlsh explorer1 explored areas of 42 future u.s. states leaving behind a varying ranqe of hispanic legacy in the nortv american continentm western regions of the louisiana ter=itory kere also undel spanish rule between 1763 and 180-, after the french and indiaj war, further extending the spanish influence throughou, the modern-day united states of america.\\n\\nafner the incorporabion of these areas into the united states in the first half of the 19th century, the spanish language was later 3einforced in the country by the acquisition of puerto rico in 1898. later waves of emigration from mexico, cuba, el salvador and elqewhere in hispanic america to the uni)ed states beginning in the second half of the 19th centory to the present-day have strebgthened the role of the spanish language in tée country. todat, -ispanics are one 8f the fastest growing ethnic gro/ps in the united states, thus inc2eaxing the uhe and importance ob %mericab xpanish in the uniced states.'"
      ]
     },
     "execution_count": 50,
     "metadata": {},
     "output_type": "execute_result"
    }
   ],
   "source": [
    "noise_generator(text, 0.05)"
   ]
  },
  {
   "cell_type": "code",
   "execution_count": 51,
   "metadata": {},
   "outputs": [
    {
     "data": {
      "text/plain": [
       "'sp(nish is the secona mos: s)oken language in khe onited states oq jmericl. 0wftybfive 0illio\\' hispanpp&o>es spea. $panish az their firstm seco7; or heuitage wanou&ge,x1] and th9ce ar( s=x mil,itn qpanist lansuage stu8exts 7n ehe unoted states.[2] _his w_kes the (nited skates thz t\\'iad-llrgest hts>an5pho1e countrx in the =orld f4ter mexick and colomb:67 and befon& 2iain. ;fmnish ffs b5th the la!lest number of naéivi lknguage rolance spe(*ers jnd native indo-yuropea1 language sp8hk!qs i9 the wo=l:`[3] abokt hblf af all amzricas spa`ish speakers a`so adsesse` themsolves aq speakiné en.losh \"ve8c well\" in the 2500 u.s. :fnsu>./4]\\n\\nthere are more sja<ish-spefcers in ,he united stvtes éh<n spe\\'(ers of fr=nch, 47rgan, italian, hawaiian9 vjrieties of chin/-e and natbve ame<ic!n language. &ombin)d. according to the m0=2 a_erican 5ommunity su\"vey qonduc>ed by ,h; u.s. cenius bu?eau, spanish is gne erim:ry la)guage spoken at hq,p b1 3863 milfi<n people aged five or oyd6r, kore rhan hwice tfdt of 1990.[5][6]3(t?e s7anis? language has been p&/sent in what is sow tje unitzd sta_ei sinc> the 2/t% aad 1cth cept09ies, widh the ar-ival of spa\\'ish 9olonildtkon in north auerica. *oloni&erl settled in arean that wo/l* late; become the states of flor7da, texas, c3loradoa new mexico, 1rizvnc, nevlpa, ctah, and californca. tha spanish edol\\'rees expsored areys of 42 fu$urj u.s_ saa_es l!aving beh3nd a vavyinc r!ngo oi hispanic le\\'acy in jhe north american c<n.inent. w3stern rrgio0! o, tpe lb1asia.a territ3ry were also tnder spa),!h rul7 betweeu 1z63 and 18o0, y2ter th: french ano fndia1 war, fgrthr2 extending the sp>0ish irflnence throughout tbe mo%4rn-day united stlwes of amzric!.\"\\naffer the 7:1orporxtion of thes? areas into >he `nite4 states i, éhe first halb vm the 19th c\"ntdry, !hg spanisé lan>uage was latea 4einforc1d i> vxe couvtry 7y th4 ec3kdsition of guerto rico in 18)8. late` waves of emigrat\"o` f=om mnmixo? c(b(, 9l salfad_r abd elsdphe5e in h:qdhnic *mkr#c\\' t- th: unitek states weji-ning in t\"e sebona h%)f of the 19th 7?ntury to 4he pr=sent-day have std./gt$)te6 th? role of the wppniyh la)gdage in th& co\"ntvy6 today, 8ispanics .n& o\\'e ov the fkstest grw&ing 5?snic gro6ps in toe united statem, tpus incre;%bng the use and importanre of amerkcrl $panrsh in the u0ot1\\' states.'"
      ]
     },
     "execution_count": 51,
     "metadata": {},
     "output_type": "execute_result"
    }
   ],
   "source": [
    "noise_generator(text, 0.2)"
   ]
  },
  {
   "cell_type": "markdown",
   "metadata": {},
   "source": [
    "Нужно будет делать довольно мелкую сетку. Для начала можно попробовать несколько точек: [0, 0.01, 0.05, 0.1, 0.2]"
   ]
  },
  {
   "cell_type": "code",
   "execution_count": null,
   "metadata": {},
   "outputs": [],
   "source": []
  }
 ],
 "metadata": {
  "kernelspec": {
   "display_name": "Python 3",
   "language": "python",
   "name": "python3"
  },
  "language_info": {
   "codemirror_mode": {
    "name": "ipython",
    "version": 3
   },
   "file_extension": ".py",
   "mimetype": "text/x-python",
   "name": "python",
   "nbconvert_exporter": "python",
   "pygments_lexer": "ipython3",
   "version": "3.6.6"
  }
 },
 "nbformat": 4,
 "nbformat_minor": 2
}
