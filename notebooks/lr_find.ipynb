{
 "cells": [
  {
   "cell_type": "code",
   "execution_count": 27,
   "metadata": {},
   "outputs": [],
   "source": [
    "import sys\n",
    "sys.path.append(\"..\")\n",
    "\n",
    "import torch\n",
    "import torchtext\n",
    "\n",
    "import matplotlib.pyplot as plt\n",
    "device = torch.cuda.device(0)"
   ]
  },
  {
   "cell_type": "code",
   "execution_count": 13,
   "metadata": {},
   "outputs": [],
   "source": [
    "import cfg\n",
    "\n",
    "from text_classification import trainutils\n",
    "from text_classification.layers import CharCNN\n",
    "from text_classification.datautils import CharIMDB\n",
    "from train import train"
   ]
  },
  {
   "cell_type": "code",
   "execution_count": 14,
   "metadata": {},
   "outputs": [],
   "source": [
    "text_field = torchtext.data.Field(\n",
    "    lower=True, include_lengths=False, tensor_type=torch.FloatTensor, batch_first=True,\n",
    "    tokenize=lambda x: x, use_vocab=False, sequential=False\n",
    ")\n",
    "label_field = torchtext.data.Field(sequential=False, use_vocab=False)\n",
    "\n",
    "CharIMDB.maxlen = 512\n",
    "train_data, test_data = CharIMDB.splits(text_field, label_field, root='../.data')\n",
    "\n",
    "train_dataloader, val_dataloader, test_dataloader = \\\n",
    "    trainutils.get_dataloaders(train_data, test_data, batch_size=cfg.train.batch_size,\n",
    "                               valid_size=cfg.train.val_size)\n"
   ]
  },
  {
   "cell_type": "code",
   "execution_count": 29,
   "metadata": {},
   "outputs": [],
   "source": [
    "class LRFinder:\n",
    "    def __init__(self, optimizer, max_lr=1e1, min_lr=1e-5, iters=1000):\n",
    "        self.max_lr = max_lr\n",
    "        self.min_lr = min_lr\n",
    "        self.iters = iters\n",
    "        self._optimizer = optimizer\n",
    "        self._mult = (max_lr / min_lr) ** (1 / iters)\n",
    "        self._lr = min_lr\n",
    "\n",
    "    def __next__(self):\n",
    "        self._lr *= self._mult\n",
    "        return self._lr\n",
    "\n",
    "    def batch_step(self):\n",
    "        \"\"\"\n",
    "        Updates lr of optimizer\n",
    "        \"\"\"\n",
    "        lr = self.__next__()\n",
    "        for param in self._optimizer.param_groups:\n",
    "            param['lr'] = lr\n",
    "\n",
    "    def find_for(self, model):\n",
    "        lr_hist = []\n",
    "        loss_hist = []\n",
    "        \n",
    "        for _ in self.iters:\n",
    "            lr = self.__next__()\n",
    "            "
   ]
  },
  {
   "cell_type": "code",
   "execution_count": 30,
   "metadata": {},
   "outputs": [],
   "source": [
    "lrfinder = LRFinder(None)"
   ]
  },
  {
   "cell_type": "code",
   "execution_count": 32,
   "metadata": {},
   "outputs": [
    {
     "data": {
      "text/plain": [
       "[<matplotlib.lines.Line2D at 0x7fdcab9c6ac8>]"
      ]
     },
     "execution_count": 32,
     "metadata": {},
     "output_type": "execute_result"
    },
    {
     "data": {
      "image/png": "[encoded data removed]",
      "text/plain": [
       "<Figure size 432x288 with 1 Axes>"
      ]
     },
     "metadata": {},
     "output_type": "display_data"
    }
   ],
   "source": [
    "lr_hist = []\n",
    "\n",
    "for _ in range(1000):\n",
    "    lr_hist.append(next(lrfinder))\n",
    "\n",
    "plt.plot(lr_hist)"
   ]
  },
  {
   "cell_type": "code",
   "execution_count": 25,
   "metadata": {},
   "outputs": [
    {
     "data": {
      "text/plain": [
       "9.840111057611336"
      ]
     },
     "execution_count": 25,
     "metadata": {},
     "output_type": "execute_result"
    }
   ],
   "source": [
    "next(lrfinder)"
   ]
  },
  {
   "cell_type": "code",
   "execution_count": 34,
   "metadata": {},
   "outputs": [],
   "source": [
    "from tqdm import tqdm"
   ]
  },
  {
   "cell_type": "code",
   "execution_count": 48,
   "metadata": {},
   "outputs": [],
   "source": [
    "def find_lr(model, dataloader, optimizer_class, loss_f, max_lr=1e1, min_lr=1e-5, epochs=1):\n",
    "\n",
    "    optimizer = optimizer_class(model.parameters(), lr=min_lr)\n",
    "    mult = (max_lr / min_lr) ** (1 / (len(dataloader) * epochs))\n",
    "    lr = min_lr\n",
    "\n",
    "    lr_hist = []\n",
    "    loss_hist = []\n",
    "\n",
    "    for epoch in range(epochs):\n",
    "        for i, (x, y) in tqdm(enumerate(dataloader), total=len(dataloader)):\n",
    "            optimizer.zero_grad()\n",
    "\n",
    "            lr *= mult\n",
    "            for param in optimizer.param_groups:\n",
    "                param['lr'] = lr\n",
    "\n",
    "            x = x.cuda()\n",
    "            y = torch.LongTensor(y).cuda()\n",
    "\n",
    "            x = x.permute(1, 0, 2)\n",
    "            pred = model(x)\n",
    "            loss = loss_f(pred, y)\n",
    "\n",
    "            lr_hist.append(lr)\n",
    "            loss_hist.append(loss.data)\n",
    "\n",
    "    plt.plot(lr_hist, loss_hist)\n",
    "    return lr_hist, loss_hist"
   ]
  },
  {
   "cell_type": "code",
   "execution_count": 50,
   "metadata": {},
   "outputs": [
    {
     "name": "stderr",
     "output_type": "stream",
     "text": [
      "100%|██████████| 665/665 [00:04<00:00, 158.37it/s]\n",
      "100%|██████████| 665/665 [00:04<00:00, 154.74it/s]\n",
      "100%|██████████| 665/665 [00:04<00:00, 152.04it/s]\n"
     ]
    },
    {
     "data": {
      "image/png": "[encoded data removed]",
      "text/plain": [
       "<Figure size 432x288 with 1 Axes>"
      ]
     },
     "metadata": {},
     "output_type": "display_data"
    }
   ],
   "source": [
    "model = CharCNN(256, 5, 512, len(cfg.alphabet))\n",
    "model.cuda()\n",
    "lr_hist, loss_hist = find_lr(model, train_dataloader, torch.optim.Adam, torch.nn.functional.cross_entropy, epochs=3)"
   ]
  },
  {
   "cell_type": "code",
   "execution_count": null,
   "metadata": {},
   "outputs": [],
   "source": []
  }
 ],
 "metadata": {
  "kernelspec": {
   "display_name": "Python 3",
   "language": "python",
   "name": "python3"
  },
  "language_info": {
   "codemirror_mode": {
    "name": "ipython",
    "version": 3
   },
   "file_extension": ".py",
   "mimetype": "text/x-python",
   "name": "python",
   "nbconvert_exporter": "python",
   "pygments_lexer": "ipython3",
   "version": "3.6.5"
  }
 },
 "nbformat": 4,
 "nbformat_minor": 2
}
