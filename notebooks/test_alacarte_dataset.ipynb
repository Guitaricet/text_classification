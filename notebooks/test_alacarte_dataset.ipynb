{
 "cells": [
  {
   "cell_type": "code",
   "execution_count": 29,
   "metadata": {},
   "outputs": [
    {
     "name": "stdout",
     "output_type": "stream",
     "text": [
      "The autoreload extension is already loaded. To reload it, use:\n",
      "  %reload_ext autoreload\n"
     ]
    }
   ],
   "source": [
    "import sys\n",
    "sys.path.append('..')\n",
    "\n",
    "import numpy as np\n",
    "import pandas as pd\n",
    "from gensim.models import KeyedVectors\n",
    "\n",
    "from text_classification.datautils import ALaCarteCSVDataset\n",
    "from text_classification.utils import PadCollate, pad_tensor\n",
    "\n",
    "np.set_printoptions(threshold=np.inf)\n",
    "%load_ext autoreload\n",
    "%autoreload 2"
   ]
  },
  {
   "cell_type": "markdown",
   "metadata": {},
   "source": [
    "## Check ALaCarteCSVDataset"
   ]
  },
  {
   "cell_type": "code",
   "execution_count": 2,
   "metadata": {},
   "outputs": [],
   "source": [
    "toy_vectors = KeyedVectors(3)\n",
    "_v = np.array([\n",
    "    [1, 1, 1],  # he\n",
    "    [2, 2, 2],  # was\n",
    "    [3, 3, 3],  # a\n",
    "    [4, 4, 4]   # big\n",
    "])\n",
    "toy_vectors.add(['he', 'was', 'a', 'big'], _v)\n",
    "toy_text = 'he was a something of a big spoon he'\n",
    "\n",
    "_w1 = 1\n",
    "_expected_w1 = [\n",
    "    [1, 1, 1],  # he\n",
    "    [2, 2, 2],  # was\n",
    "    [3, 3, 3],  # a\n",
    "    [3, 3, 3],  # <UNK>\n",
    "    [3, 3, 3],  # <UNK>\n",
    "    [3, 3, 3],  # a\n",
    "    [4, 4, 4],  # big\n",
    "    [2.5, 2.5, 2.5],   # <UNK>\n",
    "    [1, 1, 1],  # he\n",
    "]"
   ]
  },
  {
   "cell_type": "code",
   "execution_count": 3,
   "metadata": {},
   "outputs": [],
   "source": [
    "pd.DataFrame([{'text': toy_text, 'label': 1}]).to_csv('test.csv')"
   ]
  },
  {
   "cell_type": "code",
   "execution_count": 4,
   "metadata": {},
   "outputs": [],
   "source": [
    "dataset = ALaCarteCSVDataset('test.csv', 'text', 'label', toy_vectors,\n",
    "                             induce_vectors=True, induction_matrix='identity', window_half_size=_w1)"
   ]
  },
  {
   "cell_type": "code",
   "execution_count": 5,
   "metadata": {},
   "outputs": [
    {
     "data": {
      "text/plain": [
       "array([0.4125049 , 0.46644373, 0.47615791])"
      ]
     },
     "execution_count": 5,
     "metadata": {},
     "output_type": "execute_result"
    }
   ],
   "source": [
    "dataset.unk_vec"
   ]
  },
  {
   "cell_type": "code",
   "execution_count": 6,
   "metadata": {},
   "outputs": [
    {
     "data": {
      "text/plain": [
       "array([[1. , 1. , 1. ],\n",
       "       [2. , 2. , 2. ],\n",
       "       [3. , 3. , 3. ],\n",
       "       [3. , 3. , 3. ],\n",
       "       [3. , 3. , 3. ],\n",
       "       [3. , 3. , 3. ],\n",
       "       [4. , 4. , 4. ],\n",
       "       [2.5, 2.5, 2.5],\n",
       "       [1. , 1. , 1. ]], dtype=float32)"
      ]
     },
     "execution_count": 6,
     "metadata": {},
     "output_type": "execute_result"
    }
   ],
   "source": [
    "X, y = dataset[0]\n",
    "X.numpy()"
   ]
  },
  {
   "cell_type": "code",
   "execution_count": 7,
   "metadata": {},
   "outputs": [],
   "source": [
    "from nltk.tokenize import word_tokenize\n",
    "from torch.utils.data import DataLoader"
   ]
  },
  {
   "cell_type": "markdown",
   "metadata": {},
   "source": [
    "## Check pad"
   ]
  },
  {
   "cell_type": "code",
   "execution_count": 30,
   "metadata": {},
   "outputs": [],
   "source": [
    "import torch"
   ]
  },
  {
   "cell_type": "code",
   "execution_count": 31,
   "metadata": {},
   "outputs": [
    {
     "data": {
      "text/plain": [
       "tensor([[1, 1, 1, 1, 1, 1, 1, 1, 1, 1, 1, 1, 1, 0, 0],\n",
       "        [1, 1, 1, 1, 1, 1, 1, 1, 1, 1, 1, 1, 1, 0, 0]])"
      ]
     },
     "execution_count": 31,
     "metadata": {},
     "output_type": "execute_result"
    }
   ],
   "source": [
    "pad_tensor(torch.ones(2, 13, dtype=torch.long), pad=15, dim=1)"
   ]
  },
  {
   "cell_type": "markdown",
   "metadata": {},
   "source": [
    "## Check dataloader"
   ]
  },
  {
   "cell_type": "code",
   "execution_count": 11,
   "metadata": {},
   "outputs": [],
   "source": [
    "dataset = ALaCarteCSVDataset('/data/classification/clickbait/valid.csv', 'text', 'label', toy_vectors,\n",
    "                             induce_vectors=True, induction_matrix='identity', window_half_size=3, max_text_len=2048)"
   ]
  },
  {
   "cell_type": "code",
   "execution_count": 12,
   "metadata": {},
   "outputs": [
    {
     "data": {
      "text/plain": [
       "'Bob Bryan, Business Insider 9.02.2017, 16:25 182 facebook linkedin twitter email print \"We\\'re going to be announcing something over the next, I would say, two or three weeks that will be phenomenal in terms of tax,\" Trump said at a meeting with airline executives on Thursday. The president also said he is \"lowering the overall tax burden on American businesses, big league.\" Trump has long expressed a desire to redo the US\\'s corporate and personal tax systems. The president promised in a meeting with manufacturing executives two weeks ago to cut businesses taxes to between 15% and 20%. \"We\\'re going to be cutting taxes massively for both the middle class and for companies, and that\\'s massively,\" Trump said at the January 23 meeting. Among the proposals Trump has floated are slashing taxes for families and imposing a border tax of possibly 20% on imports, particularly those from Mexico. It\\'s unclear which elements of those proposals would be included in the plan. A promise to cut taxes was one of the most desirable elements of Trump\\'s platforms. Economists have said slashing corporate taxes could lead to higher profits for large businesses, but that any border tax could be detrimental to the economy. Trump also said at the Thursday meeting that he plans to defend the airline industry and roll back regulations. MOMENTS AGO: @POTUS meets with airline execs. pic.twitter.com/dtKZIrNM4w'"
      ]
     },
     "execution_count": 12,
     "metadata": {},
     "output_type": "execute_result"
    }
   ],
   "source": [
    "dataset.data.iloc[0].text"
   ]
  },
  {
   "cell_type": "code",
   "execution_count": 13,
   "metadata": {},
   "outputs": [
    {
     "data": {
      "text/plain": [
       "[\"''\", 'Trump', 'said', 'at', 'a', 'meeting', 'with', 'airline', 'executives']"
      ]
     },
     "execution_count": 13,
     "metadata": {},
     "output_type": "execute_result"
    }
   ],
   "source": [
    "word_tokenize(dataset.data.iloc[0].text)[43:52]"
   ]
  },
  {
   "cell_type": "code",
   "execution_count": 14,
   "metadata": {},
   "outputs": [
    {
     "data": {
      "text/plain": [
       "tensor([[0.2674, 0.0872, 0.5475],\n",
       "        [3.0000, 3.0000, 3.0000],\n",
       "        [3.0000, 3.0000, 3.0000],\n",
       "        [3.0000, 3.0000, 3.0000],\n",
       "        [3.0000, 3.0000, 3.0000],\n",
       "        [3.0000, 3.0000, 3.0000],\n",
       "        [3.0000, 3.0000, 3.0000],\n",
       "        [3.0000, 3.0000, 3.0000],\n",
       "        [0.2674, 0.0872, 0.5475]])"
      ]
     },
     "execution_count": 14,
     "metadata": {},
     "output_type": "execute_result"
    }
   ],
   "source": [
    "dataset[0][0][43:52]"
   ]
  },
  {
   "cell_type": "code",
   "execution_count": 15,
   "metadata": {},
   "outputs": [
    {
     "data": {
      "text/plain": [
       "torch.Size([266, 3])"
      ]
     },
     "execution_count": 15,
     "metadata": {},
     "output_type": "execute_result"
    }
   ],
   "source": [
    "dataset[0][0].shape"
   ]
  },
  {
   "cell_type": "code",
   "execution_count": 16,
   "metadata": {},
   "outputs": [],
   "source": [
    "dataloader = DataLoader(dataset, 3, collate_fn=PadCollate(dim=0))"
   ]
  },
  {
   "cell_type": "code",
   "execution_count": 17,
   "metadata": {},
   "outputs": [],
   "source": [
    "x, y = next(iter(dataloader))"
   ]
  },
  {
   "cell_type": "code",
   "execution_count": 18,
   "metadata": {},
   "outputs": [
    {
     "data": {
      "text/plain": [
       "torch.Size([3, 266, 3])"
      ]
     },
     "execution_count": 18,
     "metadata": {},
     "output_type": "execute_result"
    }
   ],
   "source": [
    "x.shape"
   ]
  },
  {
   "cell_type": "code",
   "execution_count": null,
   "metadata": {},
   "outputs": [],
   "source": []
  }
 ],
 "metadata": {
  "kernelspec": {
   "display_name": "Python 3",
   "language": "python",
   "name": "python3"
  },
  "language_info": {
   "codemirror_mode": {
    "name": "ipython",
    "version": 3
   },
   "file_extension": ".py",
   "mimetype": "text/x-python",
   "name": "python",
   "nbconvert_exporter": "python",
   "pygments_lexer": "ipython3",
   "version": "3.7.2"
  }
 },
 "nbformat": 4,
 "nbformat_minor": 2
}
