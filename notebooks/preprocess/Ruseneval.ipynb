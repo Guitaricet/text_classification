{
 "cells": [
  {
   "cell_type": "code",
   "execution_count": 9,
   "metadata": {},
   "outputs": [],
   "source": [
    "import numpy as np\n",
    "import pandas as pd\n",
    "\n",
    "import seaborn\n",
    "import matplotlib.pyplot as plt\n",
    "seaborn.set()\n",
    "%matplotlib inline"
   ]
  },
  {
   "cell_type": "code",
   "execution_count": null,
   "metadata": {},
   "outputs": [],
   "source": [
    "# https://github.com/kiddick/speller\n",
    "import requests\n",
    "\n",
    "\n",
    "class Speller(object):\n",
    "    service = 'http://speller.yandex.net/services/spellservice.json/checkText'\n",
    "\n",
    "    def __init__(self, text, options=None, lang=None, format_text=None):\n",
    "        self.text = text\n",
    "        self.options = options\n",
    "        self.lang = lang\n",
    "        self.format_text = format_text\n",
    "        self._answer = None\n",
    "\n",
    "    def check(self):\n",
    "        data = {'text': self.text}\n",
    "        if self.options:\n",
    "            data['options'] = self.options\n",
    "        if self.lang:\n",
    "            data['lang'] = self.lang\n",
    "        if self.format_text:\n",
    "            data['format'] = self.format_text\n",
    "        answer = requests.post(url=self.service, data=data).json()\n",
    "        return answer\n",
    "\n",
    "    @property\n",
    "    def answer(self):\n",
    "        if self._answer is None:\n",
    "            self._answer = self.check()\n",
    "        return self._answer\n",
    "\n",
    "    @property\n",
    "    def correct(self):\n",
    "        return not self.answer\n",
    "\n",
    "    @property\n",
    "    def spellsafe(self):\n",
    "        raise NotImplementedError(\"Subclasses should implement this!\")\n",
    "\n",
    "\n",
    "class Word(Speller):\n",
    "\n",
    "    @property\n",
    "    def variants(self):\n",
    "        if self.correct:\n",
    "            return\n",
    "        return self.answer[0]['s']\n",
    "\n",
    "    @property\n",
    "    def spellsafe(self):\n",
    "        if self.correct:\n",
    "            return\n",
    "        return self.variants[0]\n",
    "\n",
    "\n",
    "class Text(Speller):\n",
    "\n",
    "    @property\n",
    "    def spellsafe(self):\n",
    "        changes = {el['word']: el['s'][0] for el in self.answer if len(el['s']) > 0}\n",
    "        result = self.text\n",
    "        for wrong, fixed in changes.items():\n",
    "            result = result.replace(wrong, fixed)\n",
    "        return result\n",
    "\n",
    "    @property\n",
    "    def errors(self):\n",
    "        return [el['word'] for el in self.answer]\n",
    "\n",
    "def spellcheck_dataframe_simple(dataframe, text_field='text', lang=None):\n",
    "    fixed_texts = []\n",
    "\n",
    "    total = len(dataframe)\n",
    "    for idx, line in tqdm(dataframe.iterrows(), total=total, leave=False):\n",
    "        fixed_text = Text(line[text_field], lang=lang).spellsafe\n",
    "        fixed_texts.append(fixed_text)\n",
    "\n",
    "    return fixed_texts\n",
    "\n",
    "print(Text('42 is a cUl maagic namber').spellsafe)"
   ]
  },
  {
   "cell_type": "markdown",
   "metadata": {},
   "source": [
    "# Rusenteval"
   ]
  },
  {
   "cell_type": "code",
   "execution_count": 7,
   "metadata": {
    "collapsed": true
   },
   "outputs": [
    {
     "name": "stdout",
     "output_type": "stream",
     "text": [
      "\u001b[0m\u001b[01;32mrusentiment_preselected_posts.csv\u001b[0m*  \u001b[01;32mrusentiment_test.csv\u001b[0m*\n",
      "\u001b[01;32mrusentiment_random_posts.csv\u001b[0m*\n"
     ]
    }
   ],
   "source": [
    "ls /data/classification/rusentiment/Dataset/"
   ]
  },
  {
   "cell_type": "code",
   "execution_count": 8,
   "metadata": {},
   "outputs": [
    {
     "name": "stdout",
     "output_type": "stream",
     "text": [
      "\u001b[0m\u001b[01;34mDataset\u001b[0m/  \u001b[01;34mGuidelines\u001b[0m/  LICENSE.md  README.md\n"
     ]
    }
   ],
   "source": [
    "ls /data/classification/rusentiment"
   ]
  },
  {
   "cell_type": "markdown",
   "metadata": {},
   "source": [
    "### preselected"
   ]
  },
  {
   "cell_type": "code",
   "execution_count": 21,
   "metadata": {},
   "outputs": [
    {
     "data": {
      "text/html": [
       "<div>\n",
       "<style scoped>\n",
       "    .dataframe tbody tr th:only-of-type {\n",
       "        vertical-align: middle;\n",
       "    }\n",
       "\n",
       "    .dataframe tbody tr th {\n",
       "        vertical-align: top;\n",
       "    }\n",
       "\n",
       "    .dataframe thead th {\n",
       "        text-align: right;\n",
       "    }\n",
       "</style>\n",
       "<table border=\"1\" class=\"dataframe\">\n",
       "  <thead>\n",
       "    <tr style=\"text-align: right;\">\n",
       "      <th></th>\n",
       "      <th>label</th>\n",
       "      <th>text</th>\n",
       "      <th>text_spellchecked</th>\n",
       "    </tr>\n",
       "  </thead>\n",
       "  <tbody>\n",
       "    <tr>\n",
       "      <th>113</th>\n",
       "      <td>negative</td>\n",
       "      <td>Прощай Авгур... Пусть земля тебе будет пухом.....</td>\n",
       "      <td>Прощай Авгур... Пусть земля тебе будет пухом.....</td>\n",
       "    </tr>\n",
       "    <tr>\n",
       "      <th>4423</th>\n",
       "      <td>neutral</td>\n",
       "      <td>Выжрать любой ценой!</td>\n",
       "      <td>Выжрать любой ценой!</td>\n",
       "    </tr>\n",
       "  </tbody>\n",
       "</table>\n",
       "</div>"
      ],
      "text/plain": [
       "         label                                               text  \\\n",
       "113   negative  Прощай Авгур... Пусть земля тебе будет пухом.....   \n",
       "4423   neutral                               Выжрать любой ценой!   \n",
       "\n",
       "                                      text_spellchecked  \n",
       "113   Прощай Авгур... Пусть земля тебе будет пухом.....  \n",
       "4423                               Выжрать любой ценой!  "
      ]
     },
     "execution_count": 21,
     "metadata": {},
     "output_type": "execute_result"
    }
   ],
   "source": [
    "filepath = '/data/classification/rusentiment/original/Dataset/rusentiment_preselected_posts.csv'\n",
    "data = pd.read_csv(filepath)\n",
    "data.sample(2)"
   ]
  },
  {
   "cell_type": "code",
   "execution_count": 16,
   "metadata": {},
   "outputs": [
    {
     "name": "stdout",
     "output_type": "stream",
     "text": [
      "changed texts ratio:  0.2529496402877698\n"
     ]
    }
   ],
   "source": [
    "assert False, 'do not call me again'\n",
    "spellchecked = spellcheck_dataframe_simple(data, lang='ru', text_field='text')\n",
    "data['text_spellchecked'] = spellchecked\n",
    "print('changed texts ratio: ', sum(data.text != data.text_spellchecked) / len(data))\n",
    "data.to_csv(filepath, index=False)"
   ]
  },
  {
   "cell_type": "code",
   "execution_count": 10,
   "metadata": {},
   "outputs": [
    {
     "data": {
      "text/plain": [
       "<matplotlib.axes._subplots.AxesSubplot at 0x7f4346a75940>"
      ]
     },
     "execution_count": 10,
     "metadata": {},
     "output_type": "execute_result"
    },
    {
     "data": {
      "image/png": "[encoded data removed]",
      "text/plain": [
       "<Figure size 432x288 with 1 Axes>"
      ]
     },
     "metadata": {},
     "output_type": "display_data"
    }
   ],
   "source": [
    "data.label.value_counts().plot(kind='bar')"
   ]
  },
  {
   "cell_type": "code",
   "execution_count": 18,
   "metadata": {},
   "outputs": [
    {
     "data": {
      "text/plain": [
       "<matplotlib.axes._subplots.AxesSubplot at 0x7f4344f84cf8>"
      ]
     },
     "execution_count": 18,
     "metadata": {},
     "output_type": "execute_result"
    },
    {
     "data": {
      "image/png": "[encoded data removed]",
      "text/plain": [
       "<Figure size 432x288 with 1 Axes>"
      ]
     },
     "metadata": {},
     "output_type": "display_data"
    }
   ],
   "source": [
    "data.text.str.split(' ').str.len().hist()"
   ]
  },
  {
   "cell_type": "code",
   "execution_count": 23,
   "metadata": {},
   "outputs": [
    {
     "data": {
      "text/plain": [
       "1.0"
      ]
     },
     "execution_count": 23,
     "metadata": {},
     "output_type": "execute_result"
    }
   ],
   "source": [
    "len(data.drop_duplicates('text')) / len(data)"
   ]
  },
  {
   "cell_type": "code",
   "execution_count": 24,
   "metadata": {},
   "outputs": [
    {
     "name": "stdout",
     "output_type": "stream",
     "text": [
      "Train:  5908\n",
      "Valid:  1042\n"
     ]
    }
   ],
   "source": [
    "indices = list(data.index)\n",
    "np.random.shuffle(indices)\n",
    "\n",
    "VAL_SIZE = 0.15\n",
    "\n",
    "val_size = int(len(indices) * VAL_SIZE)\n",
    "train_size = len(indices) - val_size\n",
    "\n",
    "train_idxs = indices[:train_size]\n",
    "valid_idxs = indices[train_size:]\n",
    "\n",
    "print('Train: ', train_size)\n",
    "print('Valid: ', val_size)"
   ]
  },
  {
   "cell_type": "code",
   "execution_count": 25,
   "metadata": {},
   "outputs": [],
   "source": [
    "train_data = data.loc[train_idxs]\n",
    "valid_data = data.loc[valid_idxs]"
   ]
  },
  {
   "cell_type": "code",
   "execution_count": 26,
   "metadata": {},
   "outputs": [],
   "source": [
    "train_data.to_csv('/data/classification/rusentiment/preselected/train.csv', index=False)\n",
    "valid_data.to_csv('/data/classification/rusentiment/preselected/validation.csv', index=False)"
   ]
  },
  {
   "cell_type": "markdown",
   "metadata": {},
   "source": [
    "### random"
   ]
  },
  {
   "cell_type": "code",
   "execution_count": 12,
   "metadata": {},
   "outputs": [
    {
     "data": {
      "text/html": [
       "<div>\n",
       "<style scoped>\n",
       "    .dataframe tbody tr th:only-of-type {\n",
       "        vertical-align: middle;\n",
       "    }\n",
       "\n",
       "    .dataframe tbody tr th {\n",
       "        vertical-align: top;\n",
       "    }\n",
       "\n",
       "    .dataframe thead th {\n",
       "        text-align: right;\n",
       "    }\n",
       "</style>\n",
       "<table border=\"1\" class=\"dataframe\">\n",
       "  <thead>\n",
       "    <tr style=\"text-align: right;\">\n",
       "      <th></th>\n",
       "      <th>label</th>\n",
       "      <th>text</th>\n",
       "      <th>text_spellchecked</th>\n",
       "    </tr>\n",
       "  </thead>\n",
       "  <tbody>\n",
       "    <tr>\n",
       "      <th>9521</th>\n",
       "      <td>speech</td>\n",
       "      <td>ВЫПУСКНИЦА ТЫ МОЯ С ПРАЗДНИКОМ ТЕБЯ ДОРОГАЯ МО...</td>\n",
       "      <td>ВЫПУСКНИЦА ТЫ МОЯ С ПРАЗДНИКОМ ТЕБЯ ДОРОГАЯ МО...</td>\n",
       "    </tr>\n",
       "    <tr>\n",
       "      <th>12694</th>\n",
       "      <td>positive</td>\n",
       "      <td>- the Milky Way! Ошеломляюще красиво и реали...</td>\n",
       "      <td>- the Milky Way! Ошеломляюще красиво и реали...</td>\n",
       "    </tr>\n",
       "  </tbody>\n",
       "</table>\n",
       "</div>"
      ],
      "text/plain": [
       "          label                                               text  \\\n",
       "9521     speech  ВЫПУСКНИЦА ТЫ МОЯ С ПРАЗДНИКОМ ТЕБЯ ДОРОГАЯ МО...   \n",
       "12694  positive    - the Milky Way! Ошеломляюще красиво и реали...   \n",
       "\n",
       "                                       text_spellchecked  \n",
       "9521   ВЫПУСКНИЦА ТЫ МОЯ С ПРАЗДНИКОМ ТЕБЯ ДОРОГАЯ МО...  \n",
       "12694    - the Milky Way! Ошеломляюще красиво и реали...  "
      ]
     },
     "execution_count": 12,
     "metadata": {},
     "output_type": "execute_result"
    }
   ],
   "source": [
    "filepath = '/data/classification/rusentiment/original/Dataset/rusentiment_random_posts.csv'\n",
    "data = pd.read_csv(filepath)\n",
    "data.sample(2)"
   ]
  },
  {
   "cell_type": "code",
   "execution_count": 20,
   "metadata": {},
   "outputs": [
    {
     "name": "stdout",
     "output_type": "stream",
     "text": [
      "changed texts ratio:  0.24924769606921196\n"
     ]
    }
   ],
   "source": [
    "assert False, 'do not call me again'\n",
    "spellchecked = spellcheck_dataframe_simple(data, lang='ru', text_field='text')\n",
    "data['text_spellchecked'] = spellchecked\n",
    "print('changed texts ratio: ', sum(data.text != data.text_spellchecked) / len(data))\n",
    "data.to_csv(filepath, index=False)"
   ]
  },
  {
   "cell_type": "code",
   "execution_count": 21,
   "metadata": {},
   "outputs": [
    {
     "data": {
      "text/plain": [
       "array(['negative', 'speech', 'skip', 'neutral', 'positive'], dtype=object)"
      ]
     },
     "execution_count": 21,
     "metadata": {},
     "output_type": "execute_result"
    }
   ],
   "source": [
    "data.label.unique()"
   ]
  },
  {
   "cell_type": "code",
   "execution_count": 13,
   "metadata": {},
   "outputs": [
    {
     "data": {
      "text/plain": [
       "<matplotlib.axes._subplots.AxesSubplot at 0x7f4344f4d940>"
      ]
     },
     "execution_count": 13,
     "metadata": {},
     "output_type": "execute_result"
    },
    {
     "data": {
      "image/png": "[encoded data removed]",
      "text/plain": [
       "<Figure size 432x288 with 1 Axes>"
      ]
     },
     "metadata": {},
     "output_type": "display_data"
    }
   ],
   "source": [
    "data.label.value_counts().plot(kind='bar')"
   ]
  },
  {
   "cell_type": "code",
   "execution_count": 19,
   "metadata": {},
   "outputs": [
    {
     "data": {
      "text/plain": [
       "<matplotlib.axes._subplots.AxesSubplot at 0x7f4345e28f60>"
      ]
     },
     "execution_count": 19,
     "metadata": {},
     "output_type": "execute_result"
    },
    {
     "data": {
      "image/png": "[encoded data removed]",
      "text/plain": [
       "<Figure size 432x288 with 1 Axes>"
      ]
     },
     "metadata": {},
     "output_type": "display_data"
    }
   ],
   "source": [
    "data.text.str.split(' ').str.len().hist()"
   ]
  },
  {
   "cell_type": "markdown",
   "metadata": {},
   "source": [
    "## testset"
   ]
  },
  {
   "cell_type": "code",
   "execution_count": 15,
   "metadata": {},
   "outputs": [
    {
     "data": {
      "text/html": [
       "<div>\n",
       "<style scoped>\n",
       "    .dataframe tbody tr th:only-of-type {\n",
       "        vertical-align: middle;\n",
       "    }\n",
       "\n",
       "    .dataframe tbody tr th {\n",
       "        vertical-align: top;\n",
       "    }\n",
       "\n",
       "    .dataframe thead th {\n",
       "        text-align: right;\n",
       "    }\n",
       "</style>\n",
       "<table border=\"1\" class=\"dataframe\">\n",
       "  <thead>\n",
       "    <tr style=\"text-align: right;\">\n",
       "      <th></th>\n",
       "      <th>label</th>\n",
       "      <th>text</th>\n",
       "      <th>text_spellchecked</th>\n",
       "    </tr>\n",
       "  </thead>\n",
       "  <tbody>\n",
       "    <tr>\n",
       "      <th>2865</th>\n",
       "      <td>skip</td>\n",
       "      <td>привет)\\nв смисле з ким?\\nсама)</td>\n",
       "      <td>привет)\\nв смысле з Ким?\\nсама)</td>\n",
       "    </tr>\n",
       "    <tr>\n",
       "      <th>639</th>\n",
       "      <td>neutral</td>\n",
       "      <td>По всей форме</td>\n",
       "      <td>По всей форме</td>\n",
       "    </tr>\n",
       "  </tbody>\n",
       "</table>\n",
       "</div>"
      ],
      "text/plain": [
       "        label                             text  \\\n",
       "2865     skip  привет)\\nв смисле з ким?\\nсама)   \n",
       "639   neutral                    По всей форме   \n",
       "\n",
       "                    text_spellchecked  \n",
       "2865  привет)\\nв смысле з Ким?\\nсама)  \n",
       "639                     По всей форме  "
      ]
     },
     "execution_count": 15,
     "metadata": {},
     "output_type": "execute_result"
    }
   ],
   "source": [
    "filepath = '/data/classification/rusentiment/original/Dataset/rusentiment_test.csv'\n",
    "data = pd.read_csv(filepath)\n",
    "data.sample(2)"
   ]
  },
  {
   "cell_type": "code",
   "execution_count": 26,
   "metadata": {},
   "outputs": [
    {
     "name": "stdout",
     "output_type": "stream",
     "text": [
      "changed texts ratio:  0.254128749578699\n"
     ]
    }
   ],
   "source": [
    "assert False, 'do not call me again'\n",
    "spellchecked = spellcheck_dataframe_simple(data, lang='ru', text_field='text')\n",
    "data['text_spellchecked'] = spellchecked\n",
    "print('changed texts ratio: ', sum(data.text != data.text_spellchecked) / len(data))\n",
    "data.to_csv(filepath, index=False)"
   ]
  },
  {
   "cell_type": "code",
   "execution_count": 16,
   "metadata": {},
   "outputs": [
    {
     "data": {
      "text/plain": [
       "<matplotlib.axes._subplots.AxesSubplot at 0x7f43469c62e8>"
      ]
     },
     "execution_count": 16,
     "metadata": {},
     "output_type": "execute_result"
    },
    {
     "data": {
      "image/png": "[encoded data removed]",
      "text/plain": [
       "<Figure size 432x288 with 1 Axes>"
      ]
     },
     "metadata": {},
     "output_type": "display_data"
    }
   ],
   "source": [
    "data.label.value_counts().plot(kind='bar')"
   ]
  },
  {
   "cell_type": "code",
   "execution_count": 20,
   "metadata": {},
   "outputs": [
    {
     "data": {
      "text/plain": [
       "<matplotlib.axes._subplots.AxesSubplot at 0x7f4346063a90>"
      ]
     },
     "execution_count": 20,
     "metadata": {},
     "output_type": "execute_result"
    },
    {
     "data": {
      "image/png": "[encoded data removed]",
      "text/plain": [
       "<Figure size 432x288 with 1 Axes>"
      ]
     },
     "metadata": {},
     "output_type": "display_data"
    }
   ],
   "source": [
    "data.text.str.split(' ').str.len().hist()"
   ]
  },
  {
   "cell_type": "code",
   "execution_count": null,
   "metadata": {},
   "outputs": [],
   "source": []
  }
 ],
 "metadata": {
  "kernelspec": {
   "display_name": "Python 3",
   "language": "python",
   "name": "python3"
  },
  "language_info": {
   "codemirror_mode": {
    "name": "ipython",
    "version": 3
   },
   "file_extension": ".py",
   "mimetype": "text/x-python",
   "name": "python",
   "nbconvert_exporter": "python",
   "pygments_lexer": "ipython3",
   "version": "3.6.5"
  }
 },
 "nbformat": 4,
 "nbformat_minor": 2
}
