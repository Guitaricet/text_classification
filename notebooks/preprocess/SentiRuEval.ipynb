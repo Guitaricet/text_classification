{
 "cells": [
  {
   "cell_type": "code",
   "execution_count": 6,
   "metadata": {},
   "outputs": [],
   "source": [
    "import numpy as np\n",
    "import pandas as pd\n",
    "\n",
    "import seaborn\n",
    "import matplotlib.pyplot as plt\n",
    "\n",
    "from tqdm import tqdm\n",
    "seaborn.set()\n",
    "%matplotlib inline"
   ]
  },
  {
   "cell_type": "code",
   "execution_count": 2,
   "metadata": {},
   "outputs": [
    {
     "name": "stdout",
     "output_type": "stream",
     "text": [
      "42 is a cool magic number\n"
     ]
    }
   ],
   "source": [
    "# https://github.com/kiddick/speller\n",
    "import requests\n",
    "\n",
    "\n",
    "class Speller(object):\n",
    "    service = 'http://speller.yandex.net/services/spellservice.json/checkText'\n",
    "\n",
    "    def __init__(self, text, options=None, lang=None, format_text=None):\n",
    "        self.text = text\n",
    "        self.options = options\n",
    "        self.lang = lang\n",
    "        self.format_text = format_text\n",
    "        self._answer = None\n",
    "\n",
    "    def check(self):\n",
    "        data = {'text': self.text}\n",
    "        if self.options:\n",
    "            data['options'] = self.options\n",
    "        if self.lang:\n",
    "            data['lang'] = self.lang\n",
    "        if self.format_text:\n",
    "            data['format'] = self.format_text\n",
    "        answer = requests.post(url=self.service, data=data).json()\n",
    "        return answer\n",
    "\n",
    "    @property\n",
    "    def answer(self):\n",
    "        if self._answer is None:\n",
    "            self._answer = self.check()\n",
    "        return self._answer\n",
    "\n",
    "    @property\n",
    "    def correct(self):\n",
    "        return not self.answer\n",
    "\n",
    "    @property\n",
    "    def spellsafe(self):\n",
    "        raise NotImplementedError(\"Subclasses should implement this!\")\n",
    "\n",
    "\n",
    "class Word(Speller):\n",
    "\n",
    "    @property\n",
    "    def variants(self):\n",
    "        if self.correct:\n",
    "            return\n",
    "        return self.answer[0]['s']\n",
    "\n",
    "    @property\n",
    "    def spellsafe(self):\n",
    "        if self.correct:\n",
    "            return\n",
    "        return self.variants[0]\n",
    "\n",
    "\n",
    "class Text(Speller):\n",
    "\n",
    "    @property\n",
    "    def spellsafe(self):\n",
    "        changes = {el['word']: el['s'][0] for el in self.answer if len(el['s']) > 0}\n",
    "        result = self.text\n",
    "        for wrong, fixed in changes.items():\n",
    "            result = result.replace(wrong, fixed)\n",
    "        return result\n",
    "\n",
    "    @property\n",
    "    def errors(self):\n",
    "        return [el['word'] for el in self.answer]\n",
    "\n",
    "def spellcheck_dataframe_simple(dataframe, text_field='text', lang=None):\n",
    "    fixed_texts = []\n",
    "\n",
    "    total = len(dataframe)\n",
    "    for idx, line in tqdm(dataframe.iterrows(), total=total, leave=False):\n",
    "        fixed_text = Text(line[text_field], lang=lang).spellsafe\n",
    "        fixed_texts.append(fixed_text)\n",
    "\n",
    "    return fixed_texts\n",
    "\n",
    "print(Text('42 is a cUl maagic namber').spellsafe)"
   ]
  },
  {
   "cell_type": "markdown",
   "metadata": {},
   "source": [
    "### Train"
   ]
  },
  {
   "cell_type": "code",
   "execution_count": 12,
   "metadata": {},
   "outputs": [
    {
     "data": {
      "text/html": [
       "<div>\n",
       "<style scoped>\n",
       "    .dataframe tbody tr th:only-of-type {\n",
       "        vertical-align: middle;\n",
       "    }\n",
       "\n",
       "    .dataframe tbody tr th {\n",
       "        vertical-align: top;\n",
       "    }\n",
       "\n",
       "    .dataframe thead th {\n",
       "        text-align: right;\n",
       "    }\n",
       "</style>\n",
       "<table border=\"1\" class=\"dataframe\">\n",
       "  <thead>\n",
       "    <tr style=\"text-align: right;\">\n",
       "      <th></th>\n",
       "      <th>text</th>\n",
       "      <th>label</th>\n",
       "    </tr>\n",
       "  </thead>\n",
       "  <tbody>\n",
       "    <tr>\n",
       "      <th>13956</th>\n",
       "      <td>063 1185319 новый номер!!!!!!! МТС не работает...</td>\n",
       "      <td>negative</td>\n",
       "    </tr>\n",
       "    <tr>\n",
       "      <th>11742</th>\n",
       "      <td>Час была в Билайн.Написала заявление.Столько к...</td>\n",
       "      <td>negative</td>\n",
       "    </tr>\n",
       "  </tbody>\n",
       "</table>\n",
       "</div>"
      ],
      "text/plain": [
       "                                                    text     label\n",
       "13956  063 1185319 новый номер!!!!!!! МТС не работает...  negative\n",
       "11742  Час была в Билайн.Написала заявление.Столько к...  negative"
      ]
     },
     "execution_count": 12,
     "metadata": {},
     "output_type": "execute_result"
    }
   ],
   "source": [
    "filepath = '/data/classification/SentiRuEval_data/all_data/train.csv'\n",
    "data = pd.read_csv(filepath)[['text', 'label']]\n",
    "data.sample(2)"
   ]
  },
  {
   "cell_type": "code",
   "execution_count": 13,
   "metadata": {},
   "outputs": [
    {
     "data": {
      "text/plain": [
       "array(['neutral', 'positive', 'both', 'negative'], dtype=object)"
      ]
     },
     "execution_count": 13,
     "metadata": {},
     "output_type": "execute_result"
    }
   ],
   "source": [
    "data.label.unique()"
   ]
  },
  {
   "cell_type": "code",
   "execution_count": 7,
   "metadata": {},
   "outputs": [
    {
     "name": "stderr",
     "output_type": "stream",
     "text": []
    },
    {
     "name": "stdout",
     "output_type": "stream",
     "text": [
      "changed texts ratio:  0.3518912529550827\n"
     ]
    }
   ],
   "source": [
    "spellchecked = spellcheck_dataframe_simple(data, lang='ru', text_field='text')\n",
    "data['text_spellchecked'] = spellchecked\n",
    "print('changed texts ratio: ', sum(data.text != data.text_spellchecked) / len(data))\n",
    "data.to_csv(filepath, index=False)"
   ]
  },
  {
   "cell_type": "markdown",
   "metadata": {},
   "source": [
    "### Valid"
   ]
  },
  {
   "cell_type": "code",
   "execution_count": 8,
   "metadata": {},
   "outputs": [
    {
     "data": {
      "text/html": [
       "<div>\n",
       "<style scoped>\n",
       "    .dataframe tbody tr th:only-of-type {\n",
       "        vertical-align: middle;\n",
       "    }\n",
       "\n",
       "    .dataframe tbody tr th {\n",
       "        vertical-align: top;\n",
       "    }\n",
       "\n",
       "    .dataframe thead th {\n",
       "        text-align: right;\n",
       "    }\n",
       "</style>\n",
       "<table border=\"1\" class=\"dataframe\">\n",
       "  <thead>\n",
       "    <tr style=\"text-align: right;\">\n",
       "      <th></th>\n",
       "      <th>text</th>\n",
       "      <th>label</th>\n",
       "    </tr>\n",
       "  </thead>\n",
       "  <tbody>\n",
       "    <tr>\n",
       "      <th>1150</th>\n",
       "      <td>@MatveyevIgor в Москве 3G то у Билайна нормаль...</td>\n",
       "      <td>negative</td>\n",
       "    </tr>\n",
       "    <tr>\n",
       "      <th>114</th>\n",
       "      <td>@Beeline_RUS домашний,  всё, всё норм</td>\n",
       "      <td>neutral</td>\n",
       "    </tr>\n",
       "  </tbody>\n",
       "</table>\n",
       "</div>"
      ],
      "text/plain": [
       "                                                   text     label\n",
       "1150  @MatveyevIgor в Москве 3G то у Билайна нормаль...  negative\n",
       "114               @Beeline_RUS домашний,  всё, всё норм   neutral"
      ]
     },
     "execution_count": 8,
     "metadata": {},
     "output_type": "execute_result"
    }
   ],
   "source": [
    "filepath = '/data/classification/SentiRuEval_data/all_data/valid.csv'\n",
    "data = pd.read_csv(filepath)[['text', 'label']]\n",
    "data.sample(2)"
   ]
  },
  {
   "cell_type": "code",
   "execution_count": 9,
   "metadata": {},
   "outputs": [
    {
     "name": "stderr",
     "output_type": "stream",
     "text": []
    },
    {
     "name": "stdout",
     "output_type": "stream",
     "text": [
      "changed texts ratio:  0.3851063829787234\n"
     ]
    }
   ],
   "source": [
    "spellchecked = spellcheck_dataframe_simple(data, lang='ru', text_field='text')\n",
    "data['text_spellchecked'] = spellchecked\n",
    "print('changed texts ratio: ', sum(data.text != data.text_spellchecked) / len(data))\n",
    "data.to_csv(filepath, index=False)"
   ]
  },
  {
   "cell_type": "markdown",
   "metadata": {},
   "source": [
    "### Test"
   ]
  },
  {
   "cell_type": "code",
   "execution_count": 10,
   "metadata": {},
   "outputs": [
    {
     "name": "stderr",
     "output_type": "stream",
     "text": [
      "/home/not_a_robot/.local/lib/python3.6/site-packages/IPython/core/interactiveshell.py:2785: DtypeWarning: Columns (0,1,2,3,4,5,6,7,8,9,10,11,12,14,20,22,23,27,28) have mixed types. Specify dtype option on import or set low_memory=False.\n",
      "  interactivity=interactivity, compiler=compiler, result=result)\n"
     ]
    },
    {
     "data": {
      "text/html": [
       "<div>\n",
       "<style scoped>\n",
       "    .dataframe tbody tr th:only-of-type {\n",
       "        vertical-align: middle;\n",
       "    }\n",
       "\n",
       "    .dataframe tbody tr th {\n",
       "        vertical-align: top;\n",
       "    }\n",
       "\n",
       "    .dataframe thead th {\n",
       "        text-align: right;\n",
       "    }\n",
       "</style>\n",
       "<table border=\"1\" class=\"dataframe\">\n",
       "  <thead>\n",
       "    <tr style=\"text-align: right;\">\n",
       "      <th></th>\n",
       "      <th>text</th>\n",
       "      <th>label</th>\n",
       "    </tr>\n",
       "  </thead>\n",
       "  <tbody>\n",
       "    <tr>\n",
       "      <th>17265</th>\n",
       "      <td>RT @stevenudemejab: #Сбербанк - калькулятор кр...</td>\n",
       "      <td>neutral</td>\n",
       "    </tr>\n",
       "    <tr>\n",
       "      <th>28148</th>\n",
       "      <td>@ru_mts Интернет у меня в планшете не работает...</td>\n",
       "      <td>neutral</td>\n",
       "    </tr>\n",
       "  </tbody>\n",
       "</table>\n",
       "</div>"
      ],
      "text/plain": [
       "                                                    text    label\n",
       "17265  RT @stevenudemejab: #Сбербанк - калькулятор кр...  neutral\n",
       "28148  @ru_mts Интернет у меня в планшете не работает...  neutral"
      ]
     },
     "execution_count": 10,
     "metadata": {},
     "output_type": "execute_result"
    }
   ],
   "source": [
    "filepath = '/data/classification/SentiRuEval_data/all_data/test.csv'\n",
    "data = pd.read_csv(filepath)[['text', 'label']]\n",
    "data.sample(2)"
   ]
  },
  {
   "cell_type": "code",
   "execution_count": 11,
   "metadata": {},
   "outputs": [
    {
     "name": "stderr",
     "output_type": "stream",
     "text": []
    },
    {
     "name": "stdout",
     "output_type": "stream",
     "text": [
      "changed texts ratio:  0.34081681394793406\n"
     ]
    }
   ],
   "source": [
    "spellchecked = spellcheck_dataframe_simple(data, lang='ru', text_field='text')\n",
    "data['text_spellchecked'] = spellchecked\n",
    "print('changed texts ratio: ', sum(data.text != data.text_spellchecked) / len(data))\n",
    "data.to_csv(filepath, index=False)"
   ]
  },
  {
   "cell_type": "code",
   "execution_count": null,
   "metadata": {},
   "outputs": [],
   "source": []
  }
 ],
 "metadata": {
  "kernelspec": {
   "display_name": "Python 3",
   "language": "python",
   "name": "python3"
  },
  "language_info": {
   "codemirror_mode": {
    "name": "ipython",
    "version": 3
   },
   "file_extension": ".py",
   "mimetype": "text/x-python",
   "name": "python",
   "nbconvert_exporter": "python",
   "pygments_lexer": "ipython3",
   "version": "3.6.5"
  }
 },
 "nbformat": 4,
 "nbformat_minor": 2
}
