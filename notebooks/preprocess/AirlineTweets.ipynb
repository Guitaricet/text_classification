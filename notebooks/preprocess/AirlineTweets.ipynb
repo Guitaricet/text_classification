{
 "cells": [
  {
   "cell_type": "code",
   "execution_count": 7,
   "metadata": {},
   "outputs": [],
   "source": [
    "import numpy as np\n",
    "import pandas as pd"
   ]
  },
  {
   "cell_type": "code",
   "execution_count": 2,
   "metadata": {},
   "outputs": [],
   "source": [
    "data = pd.read_csv('../../data/AirlineTweets.csv')"
   ]
  },
  {
   "cell_type": "code",
   "execution_count": 4,
   "metadata": {},
   "outputs": [
    {
     "data": {
      "text/html": [
       "<div>\n",
       "<style scoped>\n",
       "    .dataframe tbody tr th:only-of-type {\n",
       "        vertical-align: middle;\n",
       "    }\n",
       "\n",
       "    .dataframe tbody tr th {\n",
       "        vertical-align: top;\n",
       "    }\n",
       "\n",
       "    .dataframe thead th {\n",
       "        text-align: right;\n",
       "    }\n",
       "</style>\n",
       "<table border=\"1\" class=\"dataframe\">\n",
       "  <thead>\n",
       "    <tr style=\"text-align: right;\">\n",
       "      <th></th>\n",
       "      <th>tweet_id</th>\n",
       "      <th>airline_sentiment</th>\n",
       "      <th>airline_sentiment_confidence</th>\n",
       "      <th>negativereason</th>\n",
       "      <th>negativereason_confidence</th>\n",
       "      <th>airline</th>\n",
       "      <th>airline_sentiment_gold</th>\n",
       "      <th>name</th>\n",
       "      <th>negativereason_gold</th>\n",
       "      <th>retweet_count</th>\n",
       "      <th>text</th>\n",
       "      <th>tweet_coord</th>\n",
       "      <th>tweet_created</th>\n",
       "      <th>tweet_location</th>\n",
       "      <th>user_timezone</th>\n",
       "    </tr>\n",
       "  </thead>\n",
       "  <tbody>\n",
       "    <tr>\n",
       "      <th>14174</th>\n",
       "      <td>569658878939410432</td>\n",
       "      <td>neutral</td>\n",
       "      <td>0.6315</td>\n",
       "      <td>NaN</td>\n",
       "      <td>0.0000</td>\n",
       "      <td>American</td>\n",
       "      <td>NaN</td>\n",
       "      <td>SouljaCoy</td>\n",
       "      <td>NaN</td>\n",
       "      <td>0</td>\n",
       "      <td>@AmericanAir yep, they moved me to 16A as they...</td>\n",
       "      <td>NaN</td>\n",
       "      <td>2015-02-22 16:43:55 -0800</td>\n",
       "      <td>Orange County, CA</td>\n",
       "      <td>Pacific Time (US &amp; Canada)</td>\n",
       "    </tr>\n",
       "    <tr>\n",
       "      <th>84</th>\n",
       "      <td>569929243146088448</td>\n",
       "      <td>negative</td>\n",
       "      <td>1.0000</td>\n",
       "      <td>Can't Tell</td>\n",
       "      <td>1.0000</td>\n",
       "      <td>Virgin America</td>\n",
       "      <td>NaN</td>\n",
       "      <td>GunsNDip</td>\n",
       "      <td>NaN</td>\n",
       "      <td>0</td>\n",
       "      <td>@VirginAmerica it was a disappointing experien...</td>\n",
       "      <td>NaN</td>\n",
       "      <td>2015-02-23 10:38:14 -0800</td>\n",
       "      <td>NaN</td>\n",
       "      <td>Pacific Time (US &amp; Canada)</td>\n",
       "    </tr>\n",
       "    <tr>\n",
       "      <th>1986</th>\n",
       "      <td>569491295766343681</td>\n",
       "      <td>negative</td>\n",
       "      <td>0.6586</td>\n",
       "      <td>Customer Service Issue</td>\n",
       "      <td>0.6586</td>\n",
       "      <td>United</td>\n",
       "      <td>NaN</td>\n",
       "      <td>RodahlLL</td>\n",
       "      <td>NaN</td>\n",
       "      <td>0</td>\n",
       "      <td>@united On hold 2X 60 min ea. Trying to bk a t...</td>\n",
       "      <td>NaN</td>\n",
       "      <td>2015-02-22 05:38:00 -0800</td>\n",
       "      <td>Hong Kong</td>\n",
       "      <td>Central Time (US &amp; Canada)</td>\n",
       "    </tr>\n",
       "    <tr>\n",
       "      <th>8806</th>\n",
       "      <td>567831434838159360</td>\n",
       "      <td>positive</td>\n",
       "      <td>0.6647</td>\n",
       "      <td>NaN</td>\n",
       "      <td>NaN</td>\n",
       "      <td>Delta</td>\n",
       "      <td>NaN</td>\n",
       "      <td>kimbetech</td>\n",
       "      <td>NaN</td>\n",
       "      <td>0</td>\n",
       "      <td>@JetBlue will call. Thank you!</td>\n",
       "      <td>NaN</td>\n",
       "      <td>2015-02-17 15:42:18 -0800</td>\n",
       "      <td>NYC</td>\n",
       "      <td>Eastern Time (US &amp; Canada)</td>\n",
       "    </tr>\n",
       "    <tr>\n",
       "      <th>14511</th>\n",
       "      <td>569605022197153792</td>\n",
       "      <td>positive</td>\n",
       "      <td>0.6593</td>\n",
       "      <td>NaN</td>\n",
       "      <td>NaN</td>\n",
       "      <td>American</td>\n",
       "      <td>NaN</td>\n",
       "      <td>wesleytravis</td>\n",
       "      <td>NaN</td>\n",
       "      <td>0</td>\n",
       "      <td>@AmericanAir my return flight is scheduled on ...</td>\n",
       "      <td>[44.26313964, -69.78197616]</td>\n",
       "      <td>2015-02-22 13:09:54 -0800</td>\n",
       "      <td>Webster Groves, MO</td>\n",
       "      <td>NaN</td>\n",
       "    </tr>\n",
       "  </tbody>\n",
       "</table>\n",
       "</div>"
      ],
      "text/plain": [
       "                 tweet_id airline_sentiment  airline_sentiment_confidence  \\\n",
       "14174  569658878939410432           neutral                        0.6315   \n",
       "84     569929243146088448          negative                        1.0000   \n",
       "1986   569491295766343681          negative                        0.6586   \n",
       "8806   567831434838159360          positive                        0.6647   \n",
       "14511  569605022197153792          positive                        0.6593   \n",
       "\n",
       "               negativereason  negativereason_confidence         airline  \\\n",
       "14174                     NaN                     0.0000        American   \n",
       "84                 Can't Tell                     1.0000  Virgin America   \n",
       "1986   Customer Service Issue                     0.6586          United   \n",
       "8806                      NaN                        NaN           Delta   \n",
       "14511                     NaN                        NaN        American   \n",
       "\n",
       "      airline_sentiment_gold          name negativereason_gold  retweet_count  \\\n",
       "14174                    NaN     SouljaCoy                 NaN              0   \n",
       "84                       NaN      GunsNDip                 NaN              0   \n",
       "1986                     NaN      RodahlLL                 NaN              0   \n",
       "8806                     NaN     kimbetech                 NaN              0   \n",
       "14511                    NaN  wesleytravis                 NaN              0   \n",
       "\n",
       "                                                    text  \\\n",
       "14174  @AmericanAir yep, they moved me to 16A as they...   \n",
       "84     @VirginAmerica it was a disappointing experien...   \n",
       "1986   @united On hold 2X 60 min ea. Trying to bk a t...   \n",
       "8806                      @JetBlue will call. Thank you!   \n",
       "14511  @AmericanAir my return flight is scheduled on ...   \n",
       "\n",
       "                       tweet_coord              tweet_created  \\\n",
       "14174                          NaN  2015-02-22 16:43:55 -0800   \n",
       "84                             NaN  2015-02-23 10:38:14 -0800   \n",
       "1986                           NaN  2015-02-22 05:38:00 -0800   \n",
       "8806                           NaN  2015-02-17 15:42:18 -0800   \n",
       "14511  [44.26313964, -69.78197616]  2015-02-22 13:09:54 -0800   \n",
       "\n",
       "           tweet_location               user_timezone  \n",
       "14174   Orange County, CA  Pacific Time (US & Canada)  \n",
       "84                    NaN  Pacific Time (US & Canada)  \n",
       "1986            Hong Kong  Central Time (US & Canada)  \n",
       "8806                  NYC  Eastern Time (US & Canada)  \n",
       "14511  Webster Groves, MO                         NaN  "
      ]
     },
     "execution_count": 4,
     "metadata": {},
     "output_type": "execute_result"
    }
   ],
   "source": [
    "data.sample(5)"
   ]
  },
  {
   "cell_type": "code",
   "execution_count": 5,
   "metadata": {},
   "outputs": [
    {
     "data": {
      "text/plain": [
       "(14640, 15)"
      ]
     },
     "execution_count": 5,
     "metadata": {},
     "output_type": "execute_result"
    }
   ],
   "source": [
    "data.shape"
   ]
  },
  {
   "cell_type": "code",
   "execution_count": 14,
   "metadata": {},
   "outputs": [],
   "source": [
    "data = data.drop_duplicates('text')"
   ]
  },
  {
   "cell_type": "code",
   "execution_count": 15,
   "metadata": {},
   "outputs": [
    {
     "data": {
      "text/plain": [
       "(14427, 15)"
      ]
     },
     "execution_count": 15,
     "metadata": {},
     "output_type": "execute_result"
    }
   ],
   "source": [
    "data.shape"
   ]
  },
  {
   "cell_type": "code",
   "execution_count": 16,
   "metadata": {},
   "outputs": [
    {
     "name": "stdout",
     "output_type": "stream",
     "text": [
      "Train:  10099\n",
      "Valid:  2164\n",
      "Test :  2164\n"
     ]
    }
   ],
   "source": [
    "indices = list(data.index)\n",
    "np.random.shuffle(indices)\n",
    "\n",
    "TEST_SIZE = 0.15\n",
    "VAL_SIZE = 0.15\n",
    "\n",
    "test_size = int(len(indices) * TEST_SIZE)\n",
    "val_size = int(len(indices) * VAL_SIZE)\n",
    "train_size = len(indices) - test_size - val_size\n",
    "\n",
    "train_idxs = indices[:train_size]\n",
    "valid_idxs = indices[train_size:train_size+val_size]\n",
    "test_idxs = indices[train_size+val_size:]\n",
    "\n",
    "print('Train: ', train_size)\n",
    "print('Valid: ', val_size)\n",
    "print('Test : ', test_size)"
   ]
  },
  {
   "cell_type": "code",
   "execution_count": 17,
   "metadata": {},
   "outputs": [],
   "source": [
    "train_data = data.loc[train_idxs]\n",
    "valid_data = data.loc[valid_idxs]\n",
    "test_data = data.loc[test_idxs]"
   ]
  },
  {
   "cell_type": "code",
   "execution_count": 18,
   "metadata": {},
   "outputs": [
    {
     "data": {
      "text/plain": [
       "(0, 0)"
      ]
     },
     "execution_count": 18,
     "metadata": {},
     "output_type": "execute_result"
    }
   ],
   "source": [
    "len(set(valid_data.text).intersection(set(train_data.text))),\\\n",
    "len(set(test_data.text).intersection(set(train_data.text)))"
   ]
  },
  {
   "cell_type": "code",
   "execution_count": null,
   "metadata": {},
   "outputs": [],
   "source": [
    "'../../data/mokoron/'"
   ]
  },
  {
   "cell_type": "code",
   "execution_count": 20,
   "metadata": {},
   "outputs": [],
   "source": [
    "basepath = '../../data/airline_tweets/'\n",
    "\n",
    "train_data.to_csv(basepath+'train.csv', index=False)\n",
    "valid_data.to_csv(basepath+'validation.csv', index=False)\n",
    "test_data.to_csv(basepath+'test.csv', index=False)"
   ]
  },
  {
   "cell_type": "code",
   "execution_count": null,
   "metadata": {},
   "outputs": [],
   "source": []
  }
 ],
 "metadata": {
  "kernelspec": {
   "display_name": "Python 3",
   "language": "python",
   "name": "python3"
  },
  "language_info": {
   "codemirror_mode": {
    "name": "ipython",
    "version": 3
   },
   "file_extension": ".py",
   "mimetype": "text/x-python",
   "name": "python",
   "nbconvert_exporter": "python",
   "pygments_lexer": "ipython3",
   "version": "3.6.5"
  }
 },
 "nbformat": 4,
 "nbformat_minor": 2
}
