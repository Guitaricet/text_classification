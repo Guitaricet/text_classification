{
 "cells": [
  {
   "cell_type": "code",
   "execution_count": 1,
   "metadata": {},
   "outputs": [],
   "source": [
    "import numpy as np\n",
    "import pandas as pd\n",
    "\n",
    "import torch\n",
    "import torchtext\n",
    "\n",
    "from tqdm import tqdm"
   ]
  },
  {
   "cell_type": "code",
   "execution_count": 7,
   "metadata": {},
   "outputs": [
    {
     "name": "stdout",
     "output_type": "stream",
     "text": [
      "downloading aclImdb_v1.tar.gz\n",
      "CPU times: user 10.2 s, sys: 2.51 s, total: 12.7 s\n",
      "Wall time: 1min 1s\n"
     ]
    }
   ],
   "source": [
    "%%time\n",
    "MAX_WORD_LEN = 8  # chars in word\n",
    "MAX_TEXT_LEN = 256  # words in text\n",
    "\n",
    "text_field = torchtext.data.Field(\n",
    "    lower=True, include_lengths=False, fix_length=MAX_TEXT_LEN, tensor_type=torch.FloatTensor, batch_first=True,\n",
    "    tokenize=lambda x: x, use_vocab=False, sequential=False\n",
    ")\n",
    "label_field = torchtext.data.Field(sequential=False, use_vocab=False)\n",
    "\n",
    "train, test = torchtext.datasets.imdb.IMDB.splits(text_field, label_field)"
   ]
  },
  {
   "cell_type": "code",
   "execution_count": 8,
   "metadata": {},
   "outputs": [
    {
     "name": "stderr",
     "output_type": "stream",
     "text": [
      "100%|██████████| 25000/25000 [00:00<00:00, 1138951.83it/s]\n",
      "100%|██████████| 25000/25000 [00:00<00:00, 1143460.34it/s]\n"
     ]
    }
   ],
   "source": [
    "data_train = []\n",
    "data_test = []\n",
    "\n",
    "for line in tqdm(train):\n",
    "    data_train.append({'text': line.text, 'sentiment': line.label})\n",
    "\n",
    "for line in tqdm(test):\n",
    "    data_test.append({'text': line.text, 'sentiment': line.label})"
   ]
  },
  {
   "cell_type": "code",
   "execution_count": 9,
   "metadata": {},
   "outputs": [],
   "source": [
    "data_train = pd.DataFrame(data_train)\n",
    "data_test = pd.DataFrame(data_test)"
   ]
  },
  {
   "cell_type": "code",
   "execution_count": 10,
   "metadata": {},
   "outputs": [
    {
     "data": {
      "text/html": [
       "<div>\n",
       "<style scoped>\n",
       "    .dataframe tbody tr th:only-of-type {\n",
       "        vertical-align: middle;\n",
       "    }\n",
       "\n",
       "    .dataframe tbody tr th {\n",
       "        vertical-align: top;\n",
       "    }\n",
       "\n",
       "    .dataframe thead th {\n",
       "        text-align: right;\n",
       "    }\n",
       "</style>\n",
       "<table border=\"1\" class=\"dataframe\">\n",
       "  <thead>\n",
       "    <tr style=\"text-align: right;\">\n",
       "      <th></th>\n",
       "      <th>sentiment</th>\n",
       "      <th>text</th>\n",
       "    </tr>\n",
       "  </thead>\n",
       "  <tbody>\n",
       "    <tr>\n",
       "      <th>13463</th>\n",
       "      <td>neg</td>\n",
       "      <td>not really spoilers in my opinion, but i wante...</td>\n",
       "    </tr>\n",
       "  </tbody>\n",
       "</table>\n",
       "</div>"
      ],
      "text/plain": [
       "      sentiment                                               text\n",
       "13463       neg  not really spoilers in my opinion, but i wante..."
      ]
     },
     "execution_count": 10,
     "metadata": {},
     "output_type": "execute_result"
    }
   ],
   "source": [
    "data_train.sample()"
   ]
  },
  {
   "cell_type": "markdown",
   "metadata": {},
   "source": [
    "### Clean"
   ]
  },
  {
   "cell_type": "code",
   "execution_count": 11,
   "metadata": {},
   "outputs": [
    {
     "name": "stdout",
     "output_type": "stream",
     "text": [
      "42 is a cool magic number\n"
     ]
    }
   ],
   "source": [
    "# https://github.com/kiddick/speller\n",
    "import requests\n",
    "\n",
    "\n",
    "class Speller(object):\n",
    "    service = 'http://speller.yandex.net/services/spellservice.json/checkText'\n",
    "\n",
    "    def __init__(self, text, options=None, lang=None, format_text=None):\n",
    "        self.text = text\n",
    "        self.options = options\n",
    "        self.lang = lang\n",
    "        self.format_text = format_text\n",
    "        self._answer = None\n",
    "\n",
    "    def check(self):\n",
    "        data = {'text': self.text}\n",
    "        if self.options:\n",
    "            data['options'] = self.options\n",
    "        if self.lang:\n",
    "            data['lang'] = self.lang\n",
    "        if self.format_text:\n",
    "            data['format'] = self.format_text\n",
    "        answer = requests.post(url=self.service, data=data).json()\n",
    "        return answer\n",
    "\n",
    "    @property\n",
    "    def answer(self):\n",
    "        if self._answer is None:\n",
    "            self._answer = self.check()\n",
    "        return self._answer\n",
    "\n",
    "    @property\n",
    "    def correct(self):\n",
    "        return not self.answer\n",
    "\n",
    "    @property\n",
    "    def spellsafe(self):\n",
    "        raise NotImplementedError(\"Subclasses should implement this!\")\n",
    "\n",
    "\n",
    "class Word(Speller):\n",
    "\n",
    "    @property\n",
    "    def variants(self):\n",
    "        if self.correct:\n",
    "            return\n",
    "        return self.answer[0]['s']\n",
    "\n",
    "    @property\n",
    "    def spellsafe(self):\n",
    "        if self.correct:\n",
    "            return\n",
    "        return self.variants[0]\n",
    "\n",
    "\n",
    "class Text(Speller):\n",
    "\n",
    "    @property\n",
    "    def spellsafe(self):\n",
    "        changes = {el['word']: el['s'][0] for el in self.answer if len(el['s']) > 0}\n",
    "        result = self.text\n",
    "        for wrong, fixed in changes.items():\n",
    "            result = result.replace(wrong, fixed)\n",
    "        return result\n",
    "\n",
    "    @property\n",
    "    def errors(self):\n",
    "        return [el['word'] for el in self.answer]\n",
    "\n",
    "def spellcheck_dataframe_simple(dataframe, text_field='text', lang=None):\n",
    "    fixed_texts = []\n",
    "\n",
    "    total = len(dataframe)\n",
    "    for idx, line in tqdm(dataframe.iterrows(), total=total, leave=False):\n",
    "        fixed_text = Text(line[text_field], lang=lang).spellsafe\n",
    "        fixed_texts.append(fixed_text)\n",
    "\n",
    "    return fixed_texts\n",
    "\n",
    "print(Text('42 is a cUl maagic namber').spellsafe)"
   ]
  },
  {
   "cell_type": "code",
   "execution_count": 13,
   "metadata": {},
   "outputs": [
    {
     "name": "stderr",
     "output_type": "stream",
     "text": [
      "                                                     "
     ]
    },
    {
     "name": "stdout",
     "output_type": "stream",
     "text": [
      "changed texts ratio:  0.92936\n"
     ]
    },
    {
     "name": "stderr",
     "output_type": "stream",
     "text": []
    }
   ],
   "source": [
    "spellchecked = spellcheck_dataframe_simple(data_train, lang='en', text_field='text')\n",
    "data_train['text_spellchecked'] = spellchecked\n",
    "print('changed texts ratio: ', sum(data_train.text != data_train.text_spellchecked) / len(data_train))"
   ]
  },
  {
   "cell_type": "code",
   "execution_count": 14,
   "metadata": {},
   "outputs": [
    {
     "name": "stderr",
     "output_type": "stream",
     "text": [
      "                                                     "
     ]
    },
    {
     "name": "stdout",
     "output_type": "stream",
     "text": [
      "changed texts ratio:  0.92664\n"
     ]
    },
    {
     "name": "stderr",
     "output_type": "stream",
     "text": []
    }
   ],
   "source": [
    "spellchecked = spellcheck_dataframe_simple(data_test, lang='en', text_field='text')\n",
    "data_test['text_spellchecked'] = spellchecked\n",
    "print('changed texts ratio: ', sum(data_test.text != data_test.text_spellchecked) / len(data_test))"
   ]
  },
  {
   "cell_type": "markdown",
   "metadata": {},
   "source": [
    "Валидация на 15% train "
   ]
  },
  {
   "cell_type": "code",
   "execution_count": 15,
   "metadata": {},
   "outputs": [
    {
     "name": "stdout",
     "output_type": "stream",
     "text": [
      "Train:  21250\n",
      "Valid:  3750\n"
     ]
    }
   ],
   "source": [
    "indices = list(data_train.index)\n",
    "np.random.shuffle(indices)\n",
    "\n",
    "VAL_SIZE = 0.15\n",
    "\n",
    "val_size = int(len(indices) * VAL_SIZE)\n",
    "train_size = len(indices) - val_size\n",
    "\n",
    "train_idxs = indices[:train_size]\n",
    "valid_idxs = indices[train_size:]\n",
    "\n",
    "print('Train: ', len(train_idxs))\n",
    "print('Valid: ', len(valid_idxs))\n",
    "#Train:  21250\n",
    "#Valid:  3750"
   ]
  },
  {
   "cell_type": "code",
   "execution_count": 16,
   "metadata": {},
   "outputs": [],
   "source": [
    "data_val = data_train.loc[valid_idxs]\n",
    "data_train = data_train.loc[train_idxs]"
   ]
  },
  {
   "cell_type": "code",
   "execution_count": 17,
   "metadata": {},
   "outputs": [
    {
     "data": {
      "text/plain": [
       "(3750, 21250)"
      ]
     },
     "execution_count": 17,
     "metadata": {},
     "output_type": "execute_result"
    }
   ],
   "source": [
    "len(data_val), len(data_train)  # (3750, 21250)"
   ]
  },
  {
   "cell_type": "code",
   "execution_count": 20,
   "metadata": {},
   "outputs": [],
   "source": [
    "import os\n",
    "os.makedirs('/data/classification/IMDB', exist_ok=True)"
   ]
  },
  {
   "cell_type": "code",
   "execution_count": 21,
   "metadata": {},
   "outputs": [],
   "source": [
    "data_train.to_csv('/data/classification/IMDB/train.csv')\n",
    "data_val.to_csv('/data/classification/IMDB/validation.csv')\n",
    "data_test.to_csv('/data/classification/IMDB/test.csv')"
   ]
  },
  {
   "cell_type": "code",
   "execution_count": 22,
   "metadata": {},
   "outputs": [
    {
     "data": {
      "text/html": [
       "<div>\n",
       "<style scoped>\n",
       "    .dataframe tbody tr th:only-of-type {\n",
       "        vertical-align: middle;\n",
       "    }\n",
       "\n",
       "    .dataframe tbody tr th {\n",
       "        vertical-align: top;\n",
       "    }\n",
       "\n",
       "    .dataframe thead th {\n",
       "        text-align: right;\n",
       "    }\n",
       "</style>\n",
       "<table border=\"1\" class=\"dataframe\">\n",
       "  <thead>\n",
       "    <tr style=\"text-align: right;\">\n",
       "      <th></th>\n",
       "      <th>sentiment</th>\n",
       "      <th>text</th>\n",
       "      <th>text_spellchecked</th>\n",
       "    </tr>\n",
       "  </thead>\n",
       "  <tbody>\n",
       "    <tr>\n",
       "      <th>23900</th>\n",
       "      <td>neg</td>\n",
       "      <td>the first home alone was a decent enough film....</td>\n",
       "      <td>the first home alone was a decent enough film....</td>\n",
       "    </tr>\n",
       "  </tbody>\n",
       "</table>\n",
       "</div>"
      ],
      "text/plain": [
       "      sentiment                                               text  \\\n",
       "23900       neg  the first home alone was a decent enough film....   \n",
       "\n",
       "                                       text_spellchecked  \n",
       "23900  the first home alone was a decent enough film....  "
      ]
     },
     "execution_count": 22,
     "metadata": {},
     "output_type": "execute_result"
    }
   ],
   "source": [
    "data_val.sample()"
   ]
  },
  {
   "cell_type": "code",
   "execution_count": null,
   "metadata": {},
   "outputs": [],
   "source": []
  }
 ],
 "metadata": {
  "kernelspec": {
   "display_name": "Python 3",
   "language": "python",
   "name": "python3"
  },
  "language_info": {
   "codemirror_mode": {
    "name": "ipython",
    "version": 3
   },
   "file_extension": ".py",
   "mimetype": "text/x-python",
   "name": "python",
   "nbconvert_exporter": "python",
   "pygments_lexer": "ipython3",
   "version": "3.6.5"
  }
 },
 "nbformat": 4,
 "nbformat_minor": 2
}
