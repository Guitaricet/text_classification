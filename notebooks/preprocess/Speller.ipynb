{
 "cells": [
  {
   "cell_type": "code",
   "execution_count": 4,
   "metadata": {
    "collapsed": false
   },
   "outputs": [
    {
     "name": "stdout",
     "output_type": "stream",
     "text": [
      "42 is a cool magic number\n"
     ]
    }
   ],
   "source": [
    "# https://github.com/kiddick/speller\n",
    "import requests\n",
    "\n",
    "\n",
    "class Speller(object):\n",
    "    service = 'http://speller.yandex.net/services/spellservice.json/checkText'\n",
    "\n",
    "    def __init__(self, text, options=None, lang=None, format_text=None):\n",
    "        self.text = text\n",
    "        self.options = options\n",
    "        self.lang = lang\n",
    "        self.format_text = format_text\n",
    "        self._answer = None\n",
    "\n",
    "    def check(self):\n",
    "        data = {'text': self.text}\n",
    "        if self.options:\n",
    "            data['options'] = self.options\n",
    "        if self.lang:\n",
    "            data['lang'] = self.lang\n",
    "        if self.format_text:\n",
    "            data['format'] = self.format_text\n",
    "        answer = requests.post(url=self.service, data=data).json()\n",
    "        return answer\n",
    "\n",
    "    @property\n",
    "    def answer(self):\n",
    "        if self._answer is None:\n",
    "            self._answer = self.check()\n",
    "        return self._answer\n",
    "\n",
    "    @property\n",
    "    def correct(self):\n",
    "        return not self.answer\n",
    "\n",
    "    @property\n",
    "    def spellsafe(self):\n",
    "        raise NotImplementedError(\"Subclasses should implement this!\")\n",
    "\n",
    "\n",
    "class Word(Speller):\n",
    "\n",
    "    @property\n",
    "    def variants(self):\n",
    "        if self.correct:\n",
    "            return\n",
    "        return self.answer[0]['s']\n",
    "\n",
    "    @property\n",
    "    def spellsafe(self):\n",
    "        if self.correct:\n",
    "            return\n",
    "        return self.variants[0]\n",
    "\n",
    "\n",
    "class Text(Speller):\n",
    "\n",
    "    @property\n",
    "    def spellsafe(self):\n",
    "        changes = {el['word']: el['s'][0] for el in self.answer if len(el['s']) > 0}\n",
    "        result = self.text\n",
    "        for wrong, fixed in changes.items():\n",
    "            result = result.replace(wrong, fixed)\n",
    "        return result\n",
    "\n",
    "    @property\n",
    "    def errors(self):\n",
    "        return [el['word'] for el in self.answer]\n",
    "\n",
    "print(Text('42 is a cUl maagic namber').spellsafe)"
   ]
  },
  {
   "cell_type": "code",
   "execution_count": 5,
   "metadata": {
    "collapsed": true
   },
   "outputs": [],
   "source": [
    "import pandas as pd\n",
    "from tqdm import tqdm"
   ]
  },
  {
   "cell_type": "code",
   "execution_count": 7,
   "metadata": {},
   "outputs": [],
   "source": [
    "def spellcheck_dataframe(dataframe, text_field='text', lang=None):\n",
    "    fixed_texts = []\n",
    "\n",
    "    total = len(dataframe)\n",
    "    for idx, line in tqdm(dataframe.iterrows(), total=total, leave=False):\n",
    "        fixed_text = Text(line[text_field], lang=lang).spellsafe\n",
    "        fixed_texts.append({\n",
    "            'text_spellchecked': fixed_text,\n",
    "            'text_original': line.text,\n",
    "            'sentiment': int(line.sentiment == 'pos')\n",
    "        })\n",
    "\n",
    "    return fixed_texts"
   ]
  },
  {
   "cell_type": "code",
   "execution_count": 10,
   "metadata": {},
   "outputs": [],
   "source": [
    "def spellcheck_dataframe_simple(dataframe, text_field='text', lang=None):\n",
    "    fixed_texts = []\n",
    "\n",
    "    total = len(dataframe)\n",
    "    for idx, line in tqdm(dataframe.iterrows(), total=total, leave=False):\n",
    "        fixed_text = Text(line[text_field], lang=lang).spellsafe\n",
    "        fixed_texts.append(fixed_text)\n",
    "\n",
    "    return fixed_texts"
   ]
  },
  {
   "cell_type": "markdown",
   "metadata": {},
   "source": [
    "# IMDB"
   ]
  },
  {
   "cell_type": "code",
   "execution_count": 28,
   "metadata": {},
   "outputs": [],
   "source": [
    "data_train = pd.read_csv('/media/data/nlp/sentiment/IMDB/splits/train.csv')\n",
    "data_val = pd.read_csv('/media/data/nlp/sentiment/IMDB/splits/validation.csv')\n",
    "data_test = pd.read_csv('/media/data/nlp/sentiment/IMDB/splits/test.csv')"
   ]
  },
  {
   "cell_type": "code",
   "execution_count": 26,
   "metadata": {},
   "outputs": [
    {
     "data": {
      "text/html": [
       "<div>\n",
       "<style scoped>\n",
       "    .dataframe tbody tr th:only-of-type {\n",
       "        vertical-align: middle;\n",
       "    }\n",
       "\n",
       "    .dataframe tbody tr th {\n",
       "        vertical-align: top;\n",
       "    }\n",
       "\n",
       "    .dataframe thead th {\n",
       "        text-align: right;\n",
       "    }\n",
       "</style>\n",
       "<table border=\"1\" class=\"dataframe\">\n",
       "  <thead>\n",
       "    <tr style=\"text-align: right;\">\n",
       "      <th></th>\n",
       "      <th>Unnamed: 0</th>\n",
       "      <th>sentiment</th>\n",
       "      <th>text_original</th>\n",
       "      <th>text_spellchecked</th>\n",
       "    </tr>\n",
       "  </thead>\n",
       "  <tbody>\n",
       "    <tr>\n",
       "      <th>8006</th>\n",
       "      <td>8006</td>\n",
       "      <td>0</td>\n",
       "      <td>i can't believe i missed this one. made in 197...</td>\n",
       "      <td>i can't believe i missed this one. made in 197...</td>\n",
       "    </tr>\n",
       "  </tbody>\n",
       "</table>\n",
       "</div>"
      ],
      "text/plain": [
       "      Unnamed: 0  sentiment  \\\n",
       "8006        8006          0   \n",
       "\n",
       "                                          text_original  \\\n",
       "8006  i can't believe i missed this one. made in 197...   \n",
       "\n",
       "                                      text_spellchecked  \n",
       "8006  i can't believe i missed this one. made in 197...  "
      ]
     },
     "execution_count": 26,
     "metadata": {},
     "output_type": "execute_result"
    }
   ],
   "source": [
    "data_test.sample()"
   ]
  },
  {
   "cell_type": "code",
   "execution_count": 16,
   "metadata": {},
   "outputs": [],
   "source": [
    "from tqdm import tqdm"
   ]
  },
  {
   "cell_type": "code",
   "execution_count": 19,
   "metadata": {},
   "outputs": [
    {
     "name": "stderr",
     "output_type": "stream",
     "text": [
      "\n",
      "  0%|          | 0/21250 [00:00<?, ?it/s]\u001b[A\n",
      "  0%|          | 2/21250 [00:00<17:56, 19.74it/s]\u001b[A\n",
      "  0%|          | 5/21250 [00:00<14:47, 23.94it/s]\u001b[A\n",
      "Exception in thread Thread-7:\n",
      "Traceback (most recent call last):\n",
      "  File \"/usr/lib/python3.5/threading.py\", line 914, in _bootstrap_inner\n",
      "    self.run()\n",
      "  File \"/home/phobos_aijun/.virtualenvs/pytorch-env/lib/python3.5/site-packages/tqdm/_tqdm.py\", line 144, in run\n",
      "    for instance in self.tqdm_cls._instances:\n",
      "  File \"/home/phobos_aijun/.virtualenvs/pytorch-env/lib/python3.5/_weakrefset.py\", line 60, in __iter__\n",
      "    for itemref in self.data:\n",
      "RuntimeError: Set changed size during iteration\n",
      "\n"
     ]
    }
   ],
   "source": [
    "data_train_sp = pd.DataFrame(spellcheck_dataframe(data_train, lang='en'))\n",
    "data_val_sp = pd.DataFrame(spellcheck_dataframe(data_val, lang='en'))\n",
    "data_test_sp = pd.DataFrame(spellcheck_dataframe(data_test, lang='en'))"
   ]
  },
  {
   "cell_type": "code",
   "execution_count": 30,
   "metadata": {},
   "outputs": [],
   "source": [
    "data_train_sp['sentiment'] = data_train['sentiment'] == 'pos'\n",
    "data_val_sp['sentiment'] = data_val['sentiment'] == 'pos'\n",
    "data_test_sp['sentiment'] = data_test['sentiment'] == 'pos'\n"
   ]
  },
  {
   "cell_type": "code",
   "execution_count": 22,
   "metadata": {},
   "outputs": [
    {
     "data": {
      "text/html": [
       "<div>\n",
       "<style scoped>\n",
       "    .dataframe tbody tr th:only-of-type {\n",
       "        vertical-align: middle;\n",
       "    }\n",
       "\n",
       "    .dataframe tbody tr th {\n",
       "        vertical-align: top;\n",
       "    }\n",
       "\n",
       "    .dataframe thead th {\n",
       "        text-align: right;\n",
       "    }\n",
       "</style>\n",
       "<table border=\"1\" class=\"dataframe\">\n",
       "  <thead>\n",
       "    <tr style=\"text-align: right;\">\n",
       "      <th></th>\n",
       "      <th>sentiment</th>\n",
       "      <th>text_original</th>\n",
       "      <th>text_spellchecked</th>\n",
       "    </tr>\n",
       "  </thead>\n",
       "  <tbody>\n",
       "    <tr>\n",
       "      <th>15263</th>\n",
       "      <td>0</td>\n",
       "      <td>anyone who knows me even remotely can tell you...</td>\n",
       "      <td>anyone who knows me even remotely can tell you...</td>\n",
       "    </tr>\n",
       "  </tbody>\n",
       "</table>\n",
       "</div>"
      ],
      "text/plain": [
       "       sentiment                                      text_original  \\\n",
       "15263          0  anyone who knows me even remotely can tell you...   \n",
       "\n",
       "                                       text_spellchecked  \n",
       "15263  anyone who knows me even remotely can tell you...  "
      ]
     },
     "execution_count": 22,
     "metadata": {},
     "output_type": "execute_result"
    }
   ],
   "source": [
    "data_train_sp.sample()"
   ]
  },
  {
   "cell_type": "code",
   "execution_count": 23,
   "metadata": {},
   "outputs": [
    {
     "data": {
      "text/plain": [
       "19739"
      ]
     },
     "execution_count": 23,
     "metadata": {},
     "output_type": "execute_result"
    }
   ],
   "source": [
    "sum(data_train_sp['text_original'] != data_train_sp['text_spellchecked'])"
   ]
  },
  {
   "cell_type": "code",
   "execution_count": 32,
   "metadata": {},
   "outputs": [],
   "source": [
    "data_train_sp.to_csv('/media/data/nlp/sentiment/IMDB/splits/train.csv')\n",
    "data_val_sp.to_csv('/media/data/nlp/sentiment/IMDB/splits/validation.csv')\n",
    "data_test_sp.to_csv('/media/data/nlp/sentiment/IMDB/splits/test.csv')"
   ]
  },
  {
   "cell_type": "markdown",
   "metadata": {},
   "source": [
    "# SST"
   ]
  },
  {
   "cell_type": "code",
   "execution_count": 27,
   "metadata": {},
   "outputs": [],
   "source": [
    "data_train = pd.read_csv('/media/data/nlp/sentiment/stanfordSentimentTreebank/splits/train.csv')\n",
    "data_val = pd.read_csv('/media/data/nlp/sentiment/stanfordSentimentTreebank/splits/validation.csv')\n",
    "data_test = pd.read_csv('/media/data/nlp/sentiment/stanfordSentimentTreebank/splits/test.csv')"
   ]
  },
  {
   "cell_type": "code",
   "execution_count": 20,
   "metadata": {},
   "outputs": [
    {
     "name": "stderr",
     "output_type": "stream",
     "text": [
      "100%|██████████| 6920/6920 [03:27<00:00, 33.30it/s]\n",
      "100%|██████████| 872/872 [00:24<00:00, 35.91it/s]\n",
      "100%|██████████| 1821/1821 [00:56<00:00, 32.43it/s]\n"
     ]
    }
   ],
   "source": [
    "data_train_sp = pd.DataFrame(spellcheck_dataframe(data_train))\n",
    "data_val_sp = pd.DataFrame(spellcheck_dataframe(data_val))\n",
    "data_test_sp = pd.DataFrame(spellcheck_dataframe(data_test))"
   ]
  },
  {
   "cell_type": "code",
   "execution_count": 32,
   "metadata": {},
   "outputs": [],
   "source": [
    "data_train_sp.to_csv('/media/data/nlp/sentiment/stanfordSentimentTreebank/splits/train.csv')\n",
    "data_val_sp.to_csv('/media/data/nlp/sentiment/stanfordSentimentTreebank/splits/validation.csv')\n",
    "data_test_sp.to_csv('/media/data/nlp/sentiment/stanfordSentimentTreebank/splits/test.csv')"
   ]
  },
  {
   "cell_type": "code",
   "execution_count": 26,
   "metadata": {},
   "outputs": [
    {
     "data": {
      "text/html": [
       "<div>\n",
       "<style scoped>\n",
       "    .dataframe tbody tr th:only-of-type {\n",
       "        vertical-align: middle;\n",
       "    }\n",
       "\n",
       "    .dataframe tbody tr th {\n",
       "        vertical-align: top;\n",
       "    }\n",
       "\n",
       "    .dataframe thead th {\n",
       "        text-align: right;\n",
       "    }\n",
       "</style>\n",
       "<table border=\"1\" class=\"dataframe\">\n",
       "  <thead>\n",
       "    <tr style=\"text-align: right;\">\n",
       "      <th></th>\n",
       "      <th>Unnamed: 0</th>\n",
       "      <th>sentiment</th>\n",
       "      <th>text_original</th>\n",
       "      <th>text_spellchecked</th>\n",
       "    </tr>\n",
       "  </thead>\n",
       "  <tbody>\n",
       "    <tr>\n",
       "      <th>4772</th>\n",
       "      <td>4772</td>\n",
       "      <td>negative</td>\n",
       "      <td>feels less like a change in -lrb- herzog 's -r...</td>\n",
       "      <td>feels less like a change in -lrb- herzog 's -r...</td>\n",
       "    </tr>\n",
       "    <tr>\n",
       "      <th>5536</th>\n",
       "      <td>5536</td>\n",
       "      <td>negative</td>\n",
       "      <td>just is n't as weird as it ought to be .</td>\n",
       "      <td>just isn't as weird as it ought to be .</td>\n",
       "    </tr>\n",
       "    <tr>\n",
       "      <th>6714</th>\n",
       "      <td>6714</td>\n",
       "      <td>negative</td>\n",
       "      <td>a complete waste of time .</td>\n",
       "      <td>a complete waste of time .</td>\n",
       "    </tr>\n",
       "    <tr>\n",
       "      <th>5678</th>\n",
       "      <td>5678</td>\n",
       "      <td>negative</td>\n",
       "      <td>depressingly thin and exhaustingly contrived .</td>\n",
       "      <td>depressingly thin and exhaustingly contrived .</td>\n",
       "    </tr>\n",
       "    <tr>\n",
       "      <th>1140</th>\n",
       "      <td>1140</td>\n",
       "      <td>positive</td>\n",
       "      <td>a slight but sweet film .</td>\n",
       "      <td>a slight but sweet film .</td>\n",
       "    </tr>\n",
       "  </tbody>\n",
       "</table>\n",
       "</div>"
      ],
      "text/plain": [
       "      Unnamed: 0 sentiment                                      text_original  \\\n",
       "4772        4772  negative  feels less like a change in -lrb- herzog 's -r...   \n",
       "5536        5536  negative           just is n't as weird as it ought to be .   \n",
       "6714        6714  negative                         a complete waste of time .   \n",
       "5678        5678  negative     depressingly thin and exhaustingly contrived .   \n",
       "1140        1140  positive                          a slight but sweet film .   \n",
       "\n",
       "                                      text_spellchecked  \n",
       "4772  feels less like a change in -lrb- herzog 's -r...  \n",
       "5536            just isn't as weird as it ought to be .  \n",
       "6714                         a complete waste of time .  \n",
       "5678     depressingly thin and exhaustingly contrived .  \n",
       "1140                          a slight but sweet film .  "
      ]
     },
     "execution_count": 26,
     "metadata": {},
     "output_type": "execute_result"
    }
   ],
   "source": [
    "pd.read_csv('/media/data/nlp/sentiment/stanfordSentimentTreebank/splits/train.csv').sample(5)"
   ]
  },
  {
   "cell_type": "code",
   "execution_count": null,
   "metadata": {},
   "outputs": [],
   "source": []
  },
  {
   "cell_type": "markdown",
   "metadata": {},
   "source": [
    "# Mokoron"
   ]
  },
  {
   "cell_type": "code",
   "execution_count": 4,
   "metadata": {
    "collapsed": false
   },
   "outputs": [],
   "source": [
    "data_pos = pd.read_csv('../data/ru-mokoron/positive.csv',\n",
    "                   names=['id', 'date', 'user', 'text', 'sentiment'], index_col=0,\n",
    "                   sep=';', usecols=[0, 1, 2, 3, 4])\n",
    "data_neg = pd.read_csv('../data/ru-mokoron/negative.csv',\n",
    "                   names=['id', 'date', 'user', 'text', 'sentiment'], index_col=0,\n",
    "                   sep=';', usecols=[0, 1, 2, 3, 4])\n",
    "\n",
    "data = pd.concat([data_pos, data_neg])"
   ]
  },
  {
   "cell_type": "code",
   "execution_count": 5,
   "metadata": {
    "collapsed": false
   },
   "outputs": [
    {
     "data": {
      "text/html": [
       "<div>\n",
       "<style scoped>\n",
       "    .dataframe tbody tr th:only-of-type {\n",
       "        vertical-align: middle;\n",
       "    }\n",
       "\n",
       "    .dataframe tbody tr th {\n",
       "        vertical-align: top;\n",
       "    }\n",
       "\n",
       "    .dataframe thead th {\n",
       "        text-align: right;\n",
       "    }\n",
       "</style>\n",
       "<table border=\"1\" class=\"dataframe\">\n",
       "  <thead>\n",
       "    <tr style=\"text-align: right;\">\n",
       "      <th></th>\n",
       "      <th>date</th>\n",
       "      <th>user</th>\n",
       "      <th>text</th>\n",
       "      <th>sentiment</th>\n",
       "    </tr>\n",
       "    <tr>\n",
       "      <th>id</th>\n",
       "      <th></th>\n",
       "      <th></th>\n",
       "      <th></th>\n",
       "      <th></th>\n",
       "    </tr>\n",
       "  </thead>\n",
       "  <tbody>\n",
       "    <tr>\n",
       "      <th>410790781600165888</th>\n",
       "      <td>1386775129</td>\n",
       "      <td>NKAnnet</td>\n",
       "      <td>@Marinkatwit ага смотрела:-) :-) крутые песенк...</td>\n",
       "      <td>1</td>\n",
       "    </tr>\n",
       "    <tr>\n",
       "      <th>423086524247580672</th>\n",
       "      <td>1389706662</td>\n",
       "      <td>enter_ru</td>\n",
       "      <td>@gimlis Как товар надлежащего качества без бра...</td>\n",
       "      <td>-1</td>\n",
       "    </tr>\n",
       "    <tr>\n",
       "      <th>414620033315532800</th>\n",
       "      <td>1387688093</td>\n",
       "      <td>n_merkulova</td>\n",
       "      <td>@Julia_Kantaeva фуфуфу, холод, мороз! Не хочу ...</td>\n",
       "      <td>-1</td>\n",
       "    </tr>\n",
       "    <tr>\n",
       "      <th>411194442373021696</th>\n",
       "      <td>1386871369</td>\n",
       "      <td>one_litter</td>\n",
       "      <td>@red_unicorn0 интересно как ты представляешь м...</td>\n",
       "      <td>1</td>\n",
       "    </tr>\n",
       "    <tr>\n",
       "      <th>409830126382493697</th>\n",
       "      <td>1386546091</td>\n",
       "      <td>Andy_Igorevich</td>\n",
       "      <td>Интересно, успею я набрать 1000 твитов до Ново...</td>\n",
       "      <td>1</td>\n",
       "    </tr>\n",
       "  </tbody>\n",
       "</table>\n",
       "</div>"
      ],
      "text/plain": [
       "                          date            user  \\\n",
       "id                                               \n",
       "410790781600165888  1386775129         NKAnnet   \n",
       "423086524247580672  1389706662        enter_ru   \n",
       "414620033315532800  1387688093     n_merkulova   \n",
       "411194442373021696  1386871369      one_litter   \n",
       "409830126382493697  1386546091  Andy_Igorevich   \n",
       "\n",
       "                                                                 text  \\\n",
       "id                                                                      \n",
       "410790781600165888  @Marinkatwit ага смотрела:-) :-) крутые песенк...   \n",
       "423086524247580672  @gimlis Как товар надлежащего качества без бра...   \n",
       "414620033315532800  @Julia_Kantaeva фуфуфу, холод, мороз! Не хочу ...   \n",
       "411194442373021696  @red_unicorn0 интересно как ты представляешь м...   \n",
       "409830126382493697  Интересно, успею я набрать 1000 твитов до Ново...   \n",
       "\n",
       "                    sentiment  \n",
       "id                             \n",
       "410790781600165888          1  \n",
       "423086524247580672         -1  \n",
       "414620033315532800         -1  \n",
       "411194442373021696          1  \n",
       "409830126382493697          1  "
      ]
     },
     "execution_count": 5,
     "metadata": {},
     "output_type": "execute_result"
    }
   ],
   "source": [
    "data.sample(5)"
   ]
  },
  {
   "cell_type": "code",
   "execution_count": 6,
   "metadata": {
    "collapsed": false
   },
   "outputs": [
    {
     "data": {
      "text/plain": [
       "((226834, 4), (114911, 4), (111923, 4))"
      ]
     },
     "execution_count": 6,
     "metadata": {},
     "output_type": "execute_result"
    }
   ],
   "source": [
    "data.shape, data_pos.shape, data_neg.shape"
   ]
  },
  {
   "cell_type": "code",
   "execution_count": 8,
   "metadata": {
    "collapsed": true
   },
   "outputs": [],
   "source": [
    "from tqdm import tqdm_notebook"
   ]
  },
  {
   "cell_type": "code",
   "execution_count": 9,
   "metadata": {
    "collapsed": false
   },
   "outputs": [
    {
     "name": "stderr",
     "output_type": "stream",
     "text": [
      "100%|██████████| 226834/226834 [1:53:39<00:00, 33.26it/s]\n"
     ]
    }
   ],
   "source": [
    "fixed_texts = []\n",
    "\n",
    "total = len(data)\n",
    "for idx, line in tqdm(data.iterrows(), total=total):\n",
    "    fixed_text = Text(line.text).spellsafe\n",
    "    fixed_texts.append({\n",
    "        'id': idx,\n",
    "        'text': fixed_text,\n",
    "        'original_text': line.text,\n",
    "        'sentiment': line.sentiment\n",
    "    })"
   ]
  },
  {
   "cell_type": "code",
   "execution_count": 10,
   "metadata": {
    "collapsed": true
   },
   "outputs": [],
   "source": [
    "fixed_texts_df = pd.DataFrame(fixed_texts)"
   ]
  },
  {
   "cell_type": "code",
   "execution_count": 15,
   "metadata": {
    "collapsed": false
   },
   "outputs": [
    {
     "data": {
      "text/html": [
       "<div>\n",
       "<style scoped>\n",
       "    .dataframe tbody tr th:only-of-type {\n",
       "        vertical-align: middle;\n",
       "    }\n",
       "\n",
       "    .dataframe tbody tr th {\n",
       "        vertical-align: top;\n",
       "    }\n",
       "\n",
       "    .dataframe thead th {\n",
       "        text-align: right;\n",
       "    }\n",
       "</style>\n",
       "<table border=\"1\" class=\"dataframe\">\n",
       "  <thead>\n",
       "    <tr style=\"text-align: right;\">\n",
       "      <th></th>\n",
       "      <th>id</th>\n",
       "      <th>original_text</th>\n",
       "      <th>sentiment</th>\n",
       "      <th>text</th>\n",
       "    </tr>\n",
       "  </thead>\n",
       "  <tbody>\n",
       "    <tr>\n",
       "      <th>183018</th>\n",
       "      <td>417350736423292928</td>\n",
       "      <td>ЗБС меня мама наказала (( на улицу нельзя((</td>\n",
       "      <td>-1</td>\n",
       "      <td>ЗБС меня мама наказала (( на улицу нельзя((</td>\n",
       "    </tr>\n",
       "    <tr>\n",
       "      <th>216959</th>\n",
       "      <td>423694828938203136</td>\n",
       "      <td>RT @NPlakhotnik: @KLitvinenko_O @Alya__Seal @L...</td>\n",
       "      <td>-1</td>\n",
       "      <td>RT @NPlakhotnik: @KLitvinenko_O @Alya__Seal @L...</td>\n",
       "    </tr>\n",
       "    <tr>\n",
       "      <th>155129</th>\n",
       "      <td>413927178020343808</td>\n",
       "      <td>ЕЩЕ У МЕНЯ ГОРИТ ЛИЦО СЪЕШЬТЕ ЕГО ИЛИ ЧТО НИБД...</td>\n",
       "      <td>-1</td>\n",
       "      <td>ЕЩЕ У МЕНЯ ГОРИТ ЛИЦО СЪЕШЬТЕ ЕГО ИЛИ ЧТО НИБД...</td>\n",
       "    </tr>\n",
       "    <tr>\n",
       "      <th>182299</th>\n",
       "      <td>417305860172296192</td>\n",
       "      <td>@MishaKrupin Бля вот живут же ебаные евреи(</td>\n",
       "      <td>-1</td>\n",
       "      <td>@MishaKrupin Бля вот живут же ебаные евреи(</td>\n",
       "    </tr>\n",
       "    <tr>\n",
       "      <th>164486</th>\n",
       "      <td>415101071380328448</td>\n",
       "      <td>когда я уже вместо того ,чтобы идти на репетиц...</td>\n",
       "      <td>-1</td>\n",
       "      <td>когда я уже вместо того ,чтобы идти на репетиц...</td>\n",
       "    </tr>\n",
       "    <tr>\n",
       "      <th>2747</th>\n",
       "      <td>409041916274438144</td>\n",
       "      <td>RT @firenetwiffi: Дядя который снимался в \" ос...</td>\n",
       "      <td>1</td>\n",
       "      <td>RT @firenetwiffi: Дядя который снимался в \" ос...</td>\n",
       "    </tr>\n",
       "    <tr>\n",
       "      <th>183893</th>\n",
       "      <td>417516997996711936</td>\n",
       "      <td>@MrsLovegood Пусть это будет уткой, Господи;(</td>\n",
       "      <td>-1</td>\n",
       "      <td>@MrsLovegood Пусть это будет уткой, Господи;(</td>\n",
       "    </tr>\n",
       "    <tr>\n",
       "      <th>208907</th>\n",
       "      <td>422390663712231425</td>\n",
       "      <td>так хочется многое рассказать ,но не могу, так...</td>\n",
       "      <td>-1</td>\n",
       "      <td>так хочется многое рассказать ,но не могу, так...</td>\n",
       "    </tr>\n",
       "    <tr>\n",
       "      <th>82114</th>\n",
       "      <td>410763357562871809</td>\n",
       "      <td>@russian_bruin @Pavlyxin @fcdin самое забавное...</td>\n",
       "      <td>1</td>\n",
       "      <td>@Russian_bruin @Pavlyxin @fcdin самое забавное...</td>\n",
       "    </tr>\n",
       "    <tr>\n",
       "      <th>33259</th>\n",
       "      <td>409756592981434368</td>\n",
       "      <td>Спасибо блять одной пизде, что я страдаю хуйне...</td>\n",
       "      <td>1</td>\n",
       "      <td>Спасибо блять одной пизде, что я страдаю хуйне...</td>\n",
       "    </tr>\n",
       "  </tbody>\n",
       "</table>\n",
       "</div>"
      ],
      "text/plain": [
       "                        id                                      original_text  \\\n",
       "183018  417350736423292928        ЗБС меня мама наказала (( на улицу нельзя((   \n",
       "216959  423694828938203136  RT @NPlakhotnik: @KLitvinenko_O @Alya__Seal @L...   \n",
       "155129  413927178020343808  ЕЩЕ У МЕНЯ ГОРИТ ЛИЦО СЪЕШЬТЕ ЕГО ИЛИ ЧТО НИБД...   \n",
       "182299  417305860172296192        @MishaKrupin Бля вот живут же ебаные евреи(   \n",
       "164486  415101071380328448  когда я уже вместо того ,чтобы идти на репетиц...   \n",
       "2747    409041916274438144  RT @firenetwiffi: Дядя который снимался в \" ос...   \n",
       "183893  417516997996711936      @MrsLovegood Пусть это будет уткой, Господи;(   \n",
       "208907  422390663712231425  так хочется многое рассказать ,но не могу, так...   \n",
       "82114   410763357562871809  @russian_bruin @Pavlyxin @fcdin самое забавное...   \n",
       "33259   409756592981434368  Спасибо блять одной пизде, что я страдаю хуйне...   \n",
       "\n",
       "        sentiment                                               text  \n",
       "183018         -1        ЗБС меня мама наказала (( на улицу нельзя((  \n",
       "216959         -1  RT @NPlakhotnik: @KLitvinenko_O @Alya__Seal @L...  \n",
       "155129         -1  ЕЩЕ У МЕНЯ ГОРИТ ЛИЦО СЪЕШЬТЕ ЕГО ИЛИ ЧТО НИБД...  \n",
       "182299         -1        @MishaKrupin Бля вот живут же ебаные евреи(  \n",
       "164486         -1  когда я уже вместо того ,чтобы идти на репетиц...  \n",
       "2747            1  RT @firenetwiffi: Дядя который снимался в \" ос...  \n",
       "183893         -1      @MrsLovegood Пусть это будет уткой, Господи;(  \n",
       "208907         -1  так хочется многое рассказать ,но не могу, так...  \n",
       "82114           1  @Russian_bruin @Pavlyxin @fcdin самое забавное...  \n",
       "33259           1  Спасибо блять одной пизде, что я страдаю хуйне...  "
      ]
     },
     "execution_count": 15,
     "metadata": {},
     "output_type": "execute_result"
    }
   ],
   "source": [
    "fixed_texts_df.sample(10)"
   ]
  },
  {
   "cell_type": "code",
   "execution_count": 16,
   "metadata": {
    "collapsed": true
   },
   "outputs": [],
   "source": [
    "fixed_texts_df.to_csv('../data/ru-mokoron/spellchecked.csv')"
   ]
  },
  {
   "cell_type": "markdown",
   "metadata": {},
   "source": [
    "# Airline tweets"
   ]
  },
  {
   "cell_type": "code",
   "execution_count": 3,
   "metadata": {},
   "outputs": [
    {
     "name": "stdout",
     "output_type": "stream",
     "text": [
      "test.csv  train.csv  validation.csv\n"
     ]
    }
   ],
   "source": [
    "ls ../../data/airline_tweets/"
   ]
  },
  {
   "cell_type": "code",
   "execution_count": 8,
   "metadata": {},
   "outputs": [
    {
     "data": {
      "text/html": [
       "<div>\n",
       "<style scoped>\n",
       "    .dataframe tbody tr th:only-of-type {\n",
       "        vertical-align: middle;\n",
       "    }\n",
       "\n",
       "    .dataframe tbody tr th {\n",
       "        vertical-align: top;\n",
       "    }\n",
       "\n",
       "    .dataframe thead th {\n",
       "        text-align: right;\n",
       "    }\n",
       "</style>\n",
       "<table border=\"1\" class=\"dataframe\">\n",
       "  <thead>\n",
       "    <tr style=\"text-align: right;\">\n",
       "      <th></th>\n",
       "      <th>tweet_id</th>\n",
       "      <th>airline_sentiment</th>\n",
       "      <th>airline_sentiment_confidence</th>\n",
       "      <th>negativereason</th>\n",
       "      <th>negativereason_confidence</th>\n",
       "      <th>airline</th>\n",
       "      <th>airline_sentiment_gold</th>\n",
       "      <th>name</th>\n",
       "      <th>negativereason_gold</th>\n",
       "      <th>retweet_count</th>\n",
       "      <th>text</th>\n",
       "      <th>tweet_coord</th>\n",
       "      <th>tweet_created</th>\n",
       "      <th>tweet_location</th>\n",
       "      <th>user_timezone</th>\n",
       "    </tr>\n",
       "  </thead>\n",
       "  <tbody>\n",
       "    <tr>\n",
       "      <th>2099</th>\n",
       "      <td>569656088817233921</td>\n",
       "      <td>negative</td>\n",
       "      <td>1.000</td>\n",
       "      <td>Can't Tell</td>\n",
       "      <td>0.6735</td>\n",
       "      <td>US Airways</td>\n",
       "      <td>NaN</td>\n",
       "      <td>JK47theweapon</td>\n",
       "      <td>NaN</td>\n",
       "      <td>1</td>\n",
       "      <td>@USAirways You suck in Philadelphia.  Let us o...</td>\n",
       "      <td>NaN</td>\n",
       "      <td>2015-02-22 16:32:49 -0800</td>\n",
       "      <td>Philly Area</td>\n",
       "      <td>Eastern Time (US &amp; Canada)</td>\n",
       "    </tr>\n",
       "    <tr>\n",
       "      <th>5498</th>\n",
       "      <td>569995335893848064</td>\n",
       "      <td>neutral</td>\n",
       "      <td>0.639</td>\n",
       "      <td>NaN</td>\n",
       "      <td>NaN</td>\n",
       "      <td>American</td>\n",
       "      <td>NaN</td>\n",
       "      <td>scottfmurphy</td>\n",
       "      <td>NaN</td>\n",
       "      <td>0</td>\n",
       "      <td>@AmericanAir boom. http://t.co/PzGc6Jch7n</td>\n",
       "      <td>NaN</td>\n",
       "      <td>2015-02-23 15:00:52 -0800</td>\n",
       "      <td>New York, NY</td>\n",
       "      <td>Central Time (US &amp; Canada)</td>\n",
       "    </tr>\n",
       "  </tbody>\n",
       "</table>\n",
       "</div>"
      ],
      "text/plain": [
       "                tweet_id airline_sentiment  airline_sentiment_confidence  \\\n",
       "2099  569656088817233921          negative                         1.000   \n",
       "5498  569995335893848064           neutral                         0.639   \n",
       "\n",
       "     negativereason  negativereason_confidence     airline  \\\n",
       "2099     Can't Tell                     0.6735  US Airways   \n",
       "5498            NaN                        NaN    American   \n",
       "\n",
       "     airline_sentiment_gold           name negativereason_gold  retweet_count  \\\n",
       "2099                    NaN  JK47theweapon                 NaN              1   \n",
       "5498                    NaN   scottfmurphy                 NaN              0   \n",
       "\n",
       "                                                   text tweet_coord  \\\n",
       "2099  @USAirways You suck in Philadelphia.  Let us o...         NaN   \n",
       "5498          @AmericanAir boom. http://t.co/PzGc6Jch7n         NaN   \n",
       "\n",
       "                  tweet_created tweet_location               user_timezone  \n",
       "2099  2015-02-22 16:32:49 -0800    Philly Area  Eastern Time (US & Canada)  \n",
       "5498  2015-02-23 15:00:52 -0800   New York, NY  Central Time (US & Canada)  "
      ]
     },
     "execution_count": 8,
     "metadata": {},
     "output_type": "execute_result"
    }
   ],
   "source": [
    "pd.read_csv('../../data/airline_tweets/train.csv').sample(2)"
   ]
  },
  {
   "cell_type": "code",
   "execution_count": 11,
   "metadata": {},
   "outputs": [
    {
     "name": "stderr",
     "output_type": "stream",
     "text": [
      "  0%|          | 4/10099 [00:00<04:39, 36.09it/s]"
     ]
    },
    {
     "name": "stdout",
     "output_type": "stream",
     "text": [
      "changed texts ratio:  1.0\n"
     ]
    },
    {
     "name": "stderr",
     "output_type": "stream",
     "text": [
      "  0%|          | 0/2164 [00:00<?, ?it/s]"
     ]
    },
    {
     "name": "stdout",
     "output_type": "stream",
     "text": [
      "changed texts ratio:  1.0\n"
     ]
    },
    {
     "name": "stderr",
     "output_type": "stream",
     "text": [
      "                                                   "
     ]
    },
    {
     "name": "stdout",
     "output_type": "stream",
     "text": [
      "changed texts ratio:  1.0\n"
     ]
    },
    {
     "name": "stderr",
     "output_type": "stream",
     "text": []
    }
   ],
   "source": [
    "for filename in  ['test.csv', 'train.csv', 'validation.csv']:\n",
    "    filepath = '../../data/airline_tweets/' + filename\n",
    "    data = pd.read_csv(filepath)\n",
    "    spellchecked = spellcheck_dataframe_simple(data)\n",
    "    data['text_spellchecked'] = spellchecked\n",
    "    print('changed texts ratio: ', sum(data.text != data.text_spellchecked) / len(data))\n",
    "    data.to_csv(filepath, index=False)"
   ]
  },
  {
   "cell_type": "code",
   "execution_count": 23,
   "metadata": {},
   "outputs": [
    {
     "name": "stdout",
     "output_type": "stream",
     "text": [
      "changed texts ratio:  0.7315157116451017\n",
      "changed texts ratio:  0.739479156352114\n",
      "changed texts ratio:  0.737985212569316\n"
     ]
    }
   ],
   "source": [
    "for filename in  ['test.csv', 'train.csv', 'validation.csv']:\n",
    "    filepath = '../../data/airline_tweets/' + filename\n",
    "    data = pd.read_csv(filepath)\n",
    "#     spellchecked = spellcheck_dataframe_simple(data)\n",
    "#     data['text_spellchecked'] = spellchecked\n",
    "    print('changed texts ratio: ', sum(data.text != data.text_spellchecked) / len(data))\n",
    "#     data.to_csv(filepath, index=False)"
   ]
  },
  {
   "cell_type": "code",
   "execution_count": 24,
   "metadata": {},
   "outputs": [
    {
     "data": {
      "text/html": [
       "<div>\n",
       "<style scoped>\n",
       "    .dataframe tbody tr th:only-of-type {\n",
       "        vertical-align: middle;\n",
       "    }\n",
       "\n",
       "    .dataframe tbody tr th {\n",
       "        vertical-align: top;\n",
       "    }\n",
       "\n",
       "    .dataframe thead th {\n",
       "        text-align: right;\n",
       "    }\n",
       "</style>\n",
       "<table border=\"1\" class=\"dataframe\">\n",
       "  <thead>\n",
       "    <tr style=\"text-align: right;\">\n",
       "      <th></th>\n",
       "      <th>tweet_id</th>\n",
       "      <th>airline_sentiment</th>\n",
       "      <th>airline_sentiment_confidence</th>\n",
       "      <th>negativereason</th>\n",
       "      <th>negativereason_confidence</th>\n",
       "      <th>airline</th>\n",
       "      <th>airline_sentiment_gold</th>\n",
       "      <th>name</th>\n",
       "      <th>negativereason_gold</th>\n",
       "      <th>retweet_count</th>\n",
       "      <th>text</th>\n",
       "      <th>tweet_coord</th>\n",
       "      <th>tweet_created</th>\n",
       "      <th>tweet_location</th>\n",
       "      <th>user_timezone</th>\n",
       "      <th>text_spellchecked</th>\n",
       "    </tr>\n",
       "  </thead>\n",
       "  <tbody>\n",
       "    <tr>\n",
       "      <th>7711</th>\n",
       "      <td>569658322732756992</td>\n",
       "      <td>neutral</td>\n",
       "      <td>0.7067</td>\n",
       "      <td>NaN</td>\n",
       "      <td>0.0000</td>\n",
       "      <td>Southwest</td>\n",
       "      <td>NaN</td>\n",
       "      <td>Ashishwadhwa9</td>\n",
       "      <td>NaN</td>\n",
       "      <td>0</td>\n",
       "      <td>@SouthwestAir -U dont have Atlanta to San fran...</td>\n",
       "      <td>NaN</td>\n",
       "      <td>2015-02-22 16:41:42 -0800</td>\n",
       "      <td>NaN</td>\n",
       "      <td>NaN</td>\n",
       "      <td>@South west Air -U don't have Atlanta to San F...</td>\n",
       "    </tr>\n",
       "    <tr>\n",
       "      <th>5388</th>\n",
       "      <td>568282478076669952</td>\n",
       "      <td>negative</td>\n",
       "      <td>1.0000</td>\n",
       "      <td>Customer Service Issue</td>\n",
       "      <td>0.6739</td>\n",
       "      <td>US Airways</td>\n",
       "      <td>NaN</td>\n",
       "      <td>Gregg_Silver</td>\n",
       "      <td>NaN</td>\n",
       "      <td>0</td>\n",
       "      <td>@USAirways no. Other than being on my credit c...</td>\n",
       "      <td>NaN</td>\n",
       "      <td>2015-02-18 21:34:35 -0800</td>\n",
       "      <td>NaN</td>\n",
       "      <td>Quito</td>\n",
       "      <td>@US Airways no. Other than being on my credit ...</td>\n",
       "    </tr>\n",
       "  </tbody>\n",
       "</table>\n",
       "</div>"
      ],
      "text/plain": [
       "                tweet_id airline_sentiment  airline_sentiment_confidence  \\\n",
       "7711  569658322732756992           neutral                        0.7067   \n",
       "5388  568282478076669952          negative                        1.0000   \n",
       "\n",
       "              negativereason  negativereason_confidence     airline  \\\n",
       "7711                     NaN                     0.0000   Southwest   \n",
       "5388  Customer Service Issue                     0.6739  US Airways   \n",
       "\n",
       "     airline_sentiment_gold           name negativereason_gold  retweet_count  \\\n",
       "7711                    NaN  Ashishwadhwa9                 NaN              0   \n",
       "5388                    NaN   Gregg_Silver                 NaN              0   \n",
       "\n",
       "                                                   text tweet_coord  \\\n",
       "7711  @SouthwestAir -U dont have Atlanta to San fran...         NaN   \n",
       "5388  @USAirways no. Other than being on my credit c...         NaN   \n",
       "\n",
       "                  tweet_created tweet_location user_timezone  \\\n",
       "7711  2015-02-22 16:41:42 -0800            NaN           NaN   \n",
       "5388  2015-02-18 21:34:35 -0800            NaN         Quito   \n",
       "\n",
       "                                      text_spellchecked  \n",
       "7711  @South west Air -U don't have Atlanta to San F...  \n",
       "5388  @US Airways no. Other than being on my credit ...  "
      ]
     },
     "execution_count": 24,
     "metadata": {},
     "output_type": "execute_result"
    }
   ],
   "source": [
    "pd.read_csv('../../data/airline_tweets/train.csv').sample(2)"
   ]
  },
  {
   "cell_type": "markdown",
   "metadata": {},
   "source": [
    "# Exp"
   ]
  },
  {
   "cell_type": "code",
   "execution_count": 3,
   "metadata": {
    "collapsed": true
   },
   "outputs": [],
   "source": [
    "import requests"
   ]
  },
  {
   "cell_type": "code",
   "execution_count": 28,
   "metadata": {
    "collapsed": true
   },
   "outputs": [],
   "source": [
    "params = {'text': 'какого цвеета ты сегодя?', 'lang': 'ru,en'}\n",
    "res = requests.get('http://speller.yandex.net/services/spellservice.json/checkText', params=params)"
   ]
  },
  {
   "cell_type": "code",
   "execution_count": 32,
   "metadata": {
    "collapsed": false
   },
   "outputs": [
    {
     "data": {
      "text/plain": [
       "[{'code': 1,\n",
       "  'col': 7,\n",
       "  'len': 6,\n",
       "  'pos': 7,\n",
       "  'row': 0,\n",
       "  's': ['цвета'],\n",
       "  'word': 'цвеета'},\n",
       " {'code': 1,\n",
       "  'col': 17,\n",
       "  'len': 6,\n",
       "  'pos': 17,\n",
       "  'row': 0,\n",
       "  's': ['сегодня'],\n",
       "  'word': 'сегодя'}]"
      ]
     },
     "execution_count": 32,
     "metadata": {},
     "output_type": "execute_result"
    }
   ],
   "source": [
    "res.json()"
   ]
  },
  {
   "cell_type": "code",
   "execution_count": 33,
   "metadata": {
    "collapsed": true
   },
   "outputs": [],
   "source": [
    "t = 'какого цвеета ты сегодя?'"
   ]
  },
  {
   "cell_type": "code",
   "execution_count": 35,
   "metadata": {
    "collapsed": false
   },
   "outputs": [
    {
     "data": {
      "text/plain": [
       "'цвеета'"
      ]
     },
     "execution_count": 35,
     "metadata": {},
     "output_type": "execute_result"
    }
   ],
   "source": [
    "t[7:7+6]"
   ]
  },
  {
   "cell_type": "code",
   "execution_count": null,
   "metadata": {
    "collapsed": true
   },
   "outputs": [],
   "source": []
  }
 ],
 "metadata": {
  "kernelspec": {
   "display_name": "Python 3",
   "language": "python",
   "name": "python3"
  },
  "language_info": {
   "codemirror_mode": {
    "name": "ipython",
    "version": 3
   },
   "file_extension": ".py",
   "mimetype": "text/x-python",
   "name": "python",
   "nbconvert_exporter": "python",
   "pygments_lexer": "ipython3",
   "version": "3.6.5"
  }
 },
 "nbformat": 4,
 "nbformat_minor": 2
}
