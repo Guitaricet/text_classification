{
 "cells": [
  {
   "cell_type": "code",
   "execution_count": 1,
   "metadata": {},
   "outputs": [],
   "source": [
    "import numpy as np\n",
    "import pandas as pd"
   ]
  },
  {
   "cell_type": "markdown",
   "metadata": {},
   "source": [
    "# Mokoron"
   ]
  },
  {
   "cell_type": "code",
   "execution_count": 20,
   "metadata": {},
   "outputs": [],
   "source": [
    "data = pd.concat([pd.read_csv('../../data/mokoron/train.csv'),\n",
    "                  ],\n",
    "                 sort=False)"
   ]
  },
  {
   "cell_type": "code",
   "execution_count": 21,
   "metadata": {},
   "outputs": [
    {
     "data": {
      "text/plain": [
       "(152208, 5)"
      ]
     },
     "execution_count": 21,
     "metadata": {},
     "output_type": "execute_result"
    }
   ],
   "source": [
    "data.shape"
   ]
  },
  {
   "cell_type": "code",
   "execution_count": 22,
   "metadata": {},
   "outputs": [
    {
     "data": {
      "text/html": [
       "<div>\n",
       "<style scoped>\n",
       "    .dataframe tbody tr th:only-of-type {\n",
       "        vertical-align: middle;\n",
       "    }\n",
       "\n",
       "    .dataframe tbody tr th {\n",
       "        vertical-align: top;\n",
       "    }\n",
       "\n",
       "    .dataframe thead th {\n",
       "        text-align: right;\n",
       "    }\n",
       "</style>\n",
       "<table border=\"1\" class=\"dataframe\">\n",
       "  <thead>\n",
       "    <tr style=\"text-align: right;\">\n",
       "      <th></th>\n",
       "      <th>Unnamed: 0</th>\n",
       "      <th>id</th>\n",
       "      <th>text_original</th>\n",
       "      <th>sentiment</th>\n",
       "      <th>text_spellchecked</th>\n",
       "    </tr>\n",
       "  </thead>\n",
       "  <tbody>\n",
       "    <tr>\n",
       "      <th>128541</th>\n",
       "      <td>29234</td>\n",
       "      <td>409624466722136065</td>\n",
       "      <td>RT @xatyxoduk: и ещё  сурганова :) белая песня...</td>\n",
       "      <td>1</td>\n",
       "      <td>RT @xatyxoduk: и ещё  Сурганова :) белая песня...</td>\n",
       "    </tr>\n",
       "    <tr>\n",
       "      <th>55711</th>\n",
       "      <td>189139</td>\n",
       "      <td>418632507907514368</td>\n",
       "      <td>2 часа сна никак не сочетается с поездкой на к...</td>\n",
       "      <td>-1</td>\n",
       "      <td>2 часа сна никак не сочетается с поездкой на к...</td>\n",
       "    </tr>\n",
       "    <tr>\n",
       "      <th>116927</th>\n",
       "      <td>187926</td>\n",
       "      <td>418301886547390464</td>\n",
       "      <td>@4_poison_4 давайте в другой день со мноой (((</td>\n",
       "      <td>-1</td>\n",
       "      <td>@4_poison_4 давайте в другой день со мной (((</td>\n",
       "    </tr>\n",
       "    <tr>\n",
       "      <th>6805</th>\n",
       "      <td>195728</td>\n",
       "      <td>419579427777826817</td>\n",
       "      <td>Я опять накручиваю себя :( \\nя скучаю :( \\nРуз...</td>\n",
       "      <td>-1</td>\n",
       "      <td>Я опять накручиваю себя :( \\nя скучаю :( \\nРу ...</td>\n",
       "    </tr>\n",
       "    <tr>\n",
       "      <th>104078</th>\n",
       "      <td>107465</td>\n",
       "      <td>411156454910214144</td>\n",
       "      <td>RT @LuizaAntonovaa: Сегодня меня все раздражае...</td>\n",
       "      <td>1</td>\n",
       "      <td>RT @LuizaAntonovaa: Сегодня меня все раздражае...</td>\n",
       "    </tr>\n",
       "  </tbody>\n",
       "</table>\n",
       "</div>"
      ],
      "text/plain": [
       "        Unnamed: 0                  id  \\\n",
       "128541       29234  409624466722136065   \n",
       "55711       189139  418632507907514368   \n",
       "116927      187926  418301886547390464   \n",
       "6805        195728  419579427777826817   \n",
       "104078      107465  411156454910214144   \n",
       "\n",
       "                                            text_original  sentiment  \\\n",
       "128541  RT @xatyxoduk: и ещё  сурганова :) белая песня...          1   \n",
       "55711   2 часа сна никак не сочетается с поездкой на к...         -1   \n",
       "116927     @4_poison_4 давайте в другой день со мноой (((         -1   \n",
       "6805    Я опять накручиваю себя :( \\nя скучаю :( \\nРуз...         -1   \n",
       "104078  RT @LuizaAntonovaa: Сегодня меня все раздражае...          1   \n",
       "\n",
       "                                        text_spellchecked  \n",
       "128541  RT @xatyxoduk: и ещё  Сурганова :) белая песня...  \n",
       "55711   2 часа сна никак не сочетается с поездкой на к...  \n",
       "116927      @4_poison_4 давайте в другой день со мной (((  \n",
       "6805    Я опять накручиваю себя :( \\nя скучаю :( \\nРу ...  \n",
       "104078  RT @LuizaAntonovaa: Сегодня меня все раздражае...  "
      ]
     },
     "execution_count": 22,
     "metadata": {},
     "output_type": "execute_result"
    }
   ],
   "source": [
    "data.sample(5)"
   ]
  },
  {
   "cell_type": "code",
   "execution_count": 23,
   "metadata": {},
   "outputs": [],
   "source": [
    "texts = data['text_original']"
   ]
  },
  {
   "cell_type": "code",
   "execution_count": 24,
   "metadata": {},
   "outputs": [],
   "source": [
    "import re"
   ]
  },
  {
   "cell_type": "code",
   "execution_count": 25,
   "metadata": {},
   "outputs": [
    {
     "data": {
      "text/plain": [
       "'hey, you wwff'"
      ]
     },
     "execution_count": 25,
     "metadata": {},
     "output_type": "execute_result"
    }
   ],
   "source": [
    "re.sub('\\n', ' ', 'hey, you\\nwwff')"
   ]
  },
  {
   "cell_type": "code",
   "execution_count": 27,
   "metadata": {},
   "outputs": [],
   "source": [
    "with open('../../../robust-w2v/data/mokoron/input.txt', 'w') as f:\n",
    "    for text in texts:\n",
    "        f.write(re.sub('\\n', ' ', text) + '\\n')"
   ]
  },
  {
   "cell_type": "code",
   "execution_count": 28,
   "metadata": {},
   "outputs": [],
   "source": [
    "texts = pd.read_csv('../../data/mokoron/validation.csv')['text_original']"
   ]
  },
  {
   "cell_type": "code",
   "execution_count": 30,
   "metadata": {},
   "outputs": [
    {
     "data": {
      "text/plain": [
       "32616"
      ]
     },
     "execution_count": 30,
     "metadata": {},
     "output_type": "execute_result"
    }
   ],
   "source": [
    "len(texts)"
   ]
  },
  {
   "cell_type": "code",
   "execution_count": 31,
   "metadata": {},
   "outputs": [],
   "source": [
    "with open('../../../robust-w2v/data/mokoron/valid.txt', 'w') as f:\n",
    "    for text in texts:\n",
    "        f.write(re.sub('\\n', ' ', text) + '\\n')"
   ]
  },
  {
   "cell_type": "code",
   "execution_count": 14,
   "metadata": {},
   "outputs": [
    {
     "data": {
      "text/plain": [
       "0        @oleg_zavorotnyk по диплому Социолог...но явно...\n",
       "1        Уснула вчера рано..но так ни хера не выспалась!:(\n",
       "2        RT @malu_ffs: Найл и Хуярбара были на шоу Гари...\n",
       "3        Спасибо Медианяне за то, что в статье о Еврови...\n",
       "4        @Noodle_nerd КУЧА ДЕЛ, КУЧА ЗАБОТ. ВООБЩЕ НИЧЕ...\n",
       "5               хооолодно :(хочу домой,в кроватку,с тобой.\n",
       "6        Плохие такие,плохая такая!Вообще уже...:((((((...\n",
       "7        Матурым,син кая???я очень скучаю(( позвони мне...\n",
       "8        RT @ju_inspired: печально немного :( http://t....\n",
       "9        RT @F1Popov: И госпиталь в Гренобле, и менедже...\n",
       "10       Алина пизданулась раз 10 :D\\nуги не скользкие ...\n",
       "11       @Heechul_maniac я понимаю, что тебе от этого н...\n",
       "12       @SabinaKovaleva БЛЯЯЯЯЯЯЯЯЯЯЯЯЯЯ САБИНАААААААА...\n",
       "13       RT @Sm0ke_Mirr0rs: @AlyaFedorenko Издеваешься,...\n",
       "14       Вот так- полтора часа в зале,а на улице опять ...\n",
       "15       Хотя ничего страшного, ведь снег и мороз напом...\n",
       "16       @i_adept Интересная у вас область работы, жалк...\n",
       "17       @sunny__banny боюсь, что от тараканов он меня ...\n",
       "18       Сфоткал спину одноклассника. СМОТРИТЕ СКОЛЬКО ...\n",
       "19       @realritaskeeter оуу хорошо ,что я не перешёл ...\n",
       "20       @I_fall_down правда простудился, но это со мно...\n",
       "21       Я все еще грущу о том, что покупка Аэропорта о...\n",
       "22       RT @xudozefagihe: Перезагрузил компутер и дырв...\n",
       "23       У кого тараканы, а у меня медведи завелись( ht...\n",
       "24          @god_nastya сериали про китайцов,с китайцами.(\n",
       "25       RT @BugaaBugatti: Шинэ Жилийн бэлэг ;-) http:/...\n",
       "26       вчера купила билет! теперь 100% еду в петровск...\n",
       "27               RT @nogivapuvul: #life День гавно ИМХО =(\n",
       "28       ну я жду,что не кого нет весёлой музыки,или вы...\n",
       "29       RT @Oleg_Kobrin: Смотрю Наполи - Арсенал , за ...\n",
       "                               ...                        \n",
       "32586    RT @pita_space: совершенствование - задача на ...\n",
       "32587    #RT Nickelback – Lullaby\\nПод этот кип хочется...\n",
       "32588    Интересно, я могу думать о чём-либо ещё, помим...\n",
       "32589    Так вот ты какая, неведомая еб*ная ху*ня...о_О...\n",
       "32590    @malayaa__ просто я была в летнем лагере \"Селе...\n",
       "32591    @mayorova_you так приходи, дам))))у  меня его ...\n",
       "32592    Господи как мне плохо(Без тебя....боже.....еще...\n",
       "32593    а ты ебана сучка с:\\nзавидовать не хорошо:) ht...\n",
       "32594    @katya_perek да я не ругалась, а как раз наобо...\n",
       "32595    @GaniQueen О БЛИН, НАДО В ВАННУ ГОРЯЧУЮ!!! ЭТО...\n",
       "32596    Блеаааааааааать :( сессия в такую погоду? No-n...\n",
       "32597    всё настроение испортили..((\\nспасибо блин!!!(...\n",
       "32598        @chernobayka так я уже на соревы собираюсь(((\n",
       "32599    @m_merti бляяя, пиздец. Я ничего не учила. Как...\n",
       "32600    Воду говнюки отключили, потом включили холодну...\n",
       "32601    RT @Horanso_on: #ДИРЕКШИОНЕРФОЛЛОВЬДИРЕКШИОНЕР...\n",
       "32602           RT @ka_iriss: Тепло, хорошо, клонит в сон(\n",
       "32603    Стала уже довольно дорогим и родным человеком:...\n",
       "32604    -Как погода? Как дела? -Холодно. -На улице? -И...\n",
       "32605    @The__Romanova именно!! Я включила что б посмо...\n",
       "32606    Никогда не понимала людей, которым лень нажать...\n",
       "32607    Вчера выпал,а сегодня уже солнце,ну и зима у н...\n",
       "32608    @GrandiSognatore если честно-вообще не помню Р...\n",
       "32609    раньше оч круто смотрела фильмы.Теперь не рабо...\n",
       "32610    отличная погода, а я сижу дома и готовлюсь к з...\n",
       "32611    На фотографии рост девушки можно вычислить по ...\n",
       "32612    @missx1998 а,что не отдали?а у меня дядя хорош...\n",
       "32613       На душе ужасно хреново(\\nвообще ничего не хочу\n",
       "32614    @GornikFanny777 У меня утром в архиве на фото ...\n",
       "32615    Приложение «Фонарик» для\\nAndroid следит за по...\n",
       "Name: text_original, Length: 184824, dtype: object"
      ]
     },
     "execution_count": 14,
     "metadata": {},
     "output_type": "execute_result"
    }
   ],
   "source": [
    "texts"
   ]
  },
  {
   "cell_type": "code",
   "execution_count": null,
   "metadata": {},
   "outputs": [],
   "source": []
  },
  {
   "cell_type": "code",
   "execution_count": null,
   "metadata": {},
   "outputs": [],
   "source": []
  }
 ],
 "metadata": {
  "kernelspec": {
   "display_name": "Python 3",
   "language": "python",
   "name": "python3"
  },
  "language_info": {
   "codemirror_mode": {
    "name": "ipython",
    "version": 3
   },
   "file_extension": ".py",
   "mimetype": "text/x-python",
   "name": "python",
   "nbconvert_exporter": "python",
   "pygments_lexer": "ipython3",
   "version": "3.6.5"
  }
 },
 "nbformat": 4,
 "nbformat_minor": 2
}
