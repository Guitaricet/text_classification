{
 "cells": [
  {
   "cell_type": "code",
   "execution_count": 1,
   "metadata": {},
   "outputs": [],
   "source": [
    "import numpy as np\n",
    "import pandas as pd"
   ]
  },
  {
   "cell_type": "markdown",
   "metadata": {},
   "source": [
    "# Mokoron"
   ]
  },
  {
   "cell_type": "markdown",
   "metadata": {},
   "source": [
    "### Train"
   ]
  },
  {
   "cell_type": "code",
   "execution_count": 20,
   "metadata": {},
   "outputs": [],
   "source": [
    "data = pd.read_csv('../../data/mokoron/train.csv')"
   ]
  },
  {
   "cell_type": "code",
   "execution_count": 21,
   "metadata": {},
   "outputs": [
    {
     "data": {
      "text/plain": [
       "(152208, 5)"
      ]
     },
     "execution_count": 21,
     "metadata": {},
     "output_type": "execute_result"
    }
   ],
   "source": [
    "data.shape"
   ]
  },
  {
   "cell_type": "code",
   "execution_count": 22,
   "metadata": {},
   "outputs": [
    {
     "data": {
      "text/html": [
       "<div>\n",
       "<style scoped>\n",
       "    .dataframe tbody tr th:only-of-type {\n",
       "        vertical-align: middle;\n",
       "    }\n",
       "\n",
       "    .dataframe tbody tr th {\n",
       "        vertical-align: top;\n",
       "    }\n",
       "\n",
       "    .dataframe thead th {\n",
       "        text-align: right;\n",
       "    }\n",
       "</style>\n",
       "<table border=\"1\" class=\"dataframe\">\n",
       "  <thead>\n",
       "    <tr style=\"text-align: right;\">\n",
       "      <th></th>\n",
       "      <th>Unnamed: 0</th>\n",
       "      <th>id</th>\n",
       "      <th>text_original</th>\n",
       "      <th>sentiment</th>\n",
       "      <th>text_spellchecked</th>\n",
       "    </tr>\n",
       "  </thead>\n",
       "  <tbody>\n",
       "    <tr>\n",
       "      <th>128541</th>\n",
       "      <td>29234</td>\n",
       "      <td>409624466722136065</td>\n",
       "      <td>RT @xatyxoduk: и ещё  сурганова :) белая песня...</td>\n",
       "      <td>1</td>\n",
       "      <td>RT @xatyxoduk: и ещё  Сурганова :) белая песня...</td>\n",
       "    </tr>\n",
       "    <tr>\n",
       "      <th>55711</th>\n",
       "      <td>189139</td>\n",
       "      <td>418632507907514368</td>\n",
       "      <td>2 часа сна никак не сочетается с поездкой на к...</td>\n",
       "      <td>-1</td>\n",
       "      <td>2 часа сна никак не сочетается с поездкой на к...</td>\n",
       "    </tr>\n",
       "    <tr>\n",
       "      <th>116927</th>\n",
       "      <td>187926</td>\n",
       "      <td>418301886547390464</td>\n",
       "      <td>@4_poison_4 давайте в другой день со мноой (((</td>\n",
       "      <td>-1</td>\n",
       "      <td>@4_poison_4 давайте в другой день со мной (((</td>\n",
       "    </tr>\n",
       "    <tr>\n",
       "      <th>6805</th>\n",
       "      <td>195728</td>\n",
       "      <td>419579427777826817</td>\n",
       "      <td>Я опять накручиваю себя :( \\nя скучаю :( \\nРуз...</td>\n",
       "      <td>-1</td>\n",
       "      <td>Я опять накручиваю себя :( \\nя скучаю :( \\nРу ...</td>\n",
       "    </tr>\n",
       "    <tr>\n",
       "      <th>104078</th>\n",
       "      <td>107465</td>\n",
       "      <td>411156454910214144</td>\n",
       "      <td>RT @LuizaAntonovaa: Сегодня меня все раздражае...</td>\n",
       "      <td>1</td>\n",
       "      <td>RT @LuizaAntonovaa: Сегодня меня все раздражае...</td>\n",
       "    </tr>\n",
       "  </tbody>\n",
       "</table>\n",
       "</div>"
      ],
      "text/plain": [
       "        Unnamed: 0                  id  \\\n",
       "128541       29234  409624466722136065   \n",
       "55711       189139  418632507907514368   \n",
       "116927      187926  418301886547390464   \n",
       "6805        195728  419579427777826817   \n",
       "104078      107465  411156454910214144   \n",
       "\n",
       "                                            text_original  sentiment  \\\n",
       "128541  RT @xatyxoduk: и ещё  сурганова :) белая песня...          1   \n",
       "55711   2 часа сна никак не сочетается с поездкой на к...         -1   \n",
       "116927     @4_poison_4 давайте в другой день со мноой (((         -1   \n",
       "6805    Я опять накручиваю себя :( \\nя скучаю :( \\nРуз...         -1   \n",
       "104078  RT @LuizaAntonovaa: Сегодня меня все раздражае...          1   \n",
       "\n",
       "                                        text_spellchecked  \n",
       "128541  RT @xatyxoduk: и ещё  Сурганова :) белая песня...  \n",
       "55711   2 часа сна никак не сочетается с поездкой на к...  \n",
       "116927      @4_poison_4 давайте в другой день со мной (((  \n",
       "6805    Я опять накручиваю себя :( \\nя скучаю :( \\nРу ...  \n",
       "104078  RT @LuizaAntonovaa: Сегодня меня все раздражае...  "
      ]
     },
     "execution_count": 22,
     "metadata": {},
     "output_type": "execute_result"
    }
   ],
   "source": [
    "data.sample(5)"
   ]
  },
  {
   "cell_type": "code",
   "execution_count": 23,
   "metadata": {},
   "outputs": [],
   "source": [
    "texts = data['text_original']"
   ]
  },
  {
   "cell_type": "code",
   "execution_count": 24,
   "metadata": {},
   "outputs": [],
   "source": [
    "import re"
   ]
  },
  {
   "cell_type": "code",
   "execution_count": 25,
   "metadata": {},
   "outputs": [
    {
     "data": {
      "text/plain": [
       "'hey, you wwff'"
      ]
     },
     "execution_count": 25,
     "metadata": {},
     "output_type": "execute_result"
    }
   ],
   "source": [
    "re.sub('\\n', ' ', 'hey, you\\nwwff')"
   ]
  },
  {
   "cell_type": "code",
   "execution_count": 27,
   "metadata": {},
   "outputs": [],
   "source": [
    "with open('../../../robust-w2v/data/mokoron/input.txt', 'w') as f:\n",
    "    for text in texts:\n",
    "        f.write(re.sub('\\n', ' ', text) + '\\n')"
   ]
  },
  {
   "cell_type": "markdown",
   "metadata": {},
   "source": [
    "### Validation"
   ]
  },
  {
   "cell_type": "code",
   "execution_count": 44,
   "metadata": {},
   "outputs": [],
   "source": [
    "valid_data = pd.read_csv('../../data/mokoron/validation.csv')"
   ]
  },
  {
   "cell_type": "code",
   "execution_count": 34,
   "metadata": {},
   "outputs": [
    {
     "data": {
      "text/html": [
       "<div>\n",
       "<style scoped>\n",
       "    .dataframe tbody tr th:only-of-type {\n",
       "        vertical-align: middle;\n",
       "    }\n",
       "\n",
       "    .dataframe tbody tr th {\n",
       "        vertical-align: top;\n",
       "    }\n",
       "\n",
       "    .dataframe thead th {\n",
       "        text-align: right;\n",
       "    }\n",
       "</style>\n",
       "<table border=\"1\" class=\"dataframe\">\n",
       "  <thead>\n",
       "    <tr style=\"text-align: right;\">\n",
       "      <th></th>\n",
       "      <th>Unnamed: 0</th>\n",
       "      <th>id</th>\n",
       "      <th>text_original</th>\n",
       "      <th>sentiment</th>\n",
       "      <th>text_spellchecked</th>\n",
       "    </tr>\n",
       "  </thead>\n",
       "  <tbody>\n",
       "    <tr>\n",
       "      <th>11457</th>\n",
       "      <td>147203</td>\n",
       "      <td>413162528815206400</td>\n",
       "      <td>ненавижу это состояние, когда безумно нравится...</td>\n",
       "      <td>-1</td>\n",
       "      <td>ненавижу это состояние, когда безумно нравится...</td>\n",
       "    </tr>\n",
       "  </tbody>\n",
       "</table>\n",
       "</div>"
      ],
      "text/plain": [
       "       Unnamed: 0                  id  \\\n",
       "11457      147203  413162528815206400   \n",
       "\n",
       "                                           text_original  sentiment  \\\n",
       "11457  ненавижу это состояние, когда безумно нравится...         -1   \n",
       "\n",
       "                                       text_spellchecked  \n",
       "11457  ненавижу это состояние, когда безумно нравится...  "
      ]
     },
     "execution_count": 34,
     "metadata": {},
     "output_type": "execute_result"
    }
   ],
   "source": [
    "valid_data.sample()"
   ]
  },
  {
   "cell_type": "code",
   "execution_count": 36,
   "metadata": {},
   "outputs": [
    {
     "data": {
      "text/plain": [
       "array([-1,  1])"
      ]
     },
     "execution_count": 36,
     "metadata": {},
     "output_type": "execute_result"
    }
   ],
   "source": [
    "valid_data.sentiment.unique()"
   ]
  },
  {
   "cell_type": "code",
   "execution_count": 47,
   "metadata": {},
   "outputs": [],
   "source": [
    "valid_data['SentimentText'] = valid_data['text_original']\n",
    "valid_data['Sentiment'] = (valid_data['sentiment'] > 0).astype(int)\n",
    "valid_data_rove = valid_data[['SentimentText', 'Sentiment']]"
   ]
  },
  {
   "cell_type": "code",
   "execution_count": 52,
   "metadata": {},
   "outputs": [
    {
     "data": {
      "text/html": [
       "<div>\n",
       "<style scoped>\n",
       "    .dataframe tbody tr th:only-of-type {\n",
       "        vertical-align: middle;\n",
       "    }\n",
       "\n",
       "    .dataframe tbody tr th {\n",
       "        vertical-align: top;\n",
       "    }\n",
       "\n",
       "    .dataframe thead th {\n",
       "        text-align: right;\n",
       "    }\n",
       "</style>\n",
       "<table border=\"1\" class=\"dataframe\">\n",
       "  <thead>\n",
       "    <tr style=\"text-align: right;\">\n",
       "      <th></th>\n",
       "      <th>SentimentText</th>\n",
       "      <th>Sentiment</th>\n",
       "    </tr>\n",
       "  </thead>\n",
       "  <tbody>\n",
       "    <tr>\n",
       "      <th>19373</th>\n",
       "      <td>@mellomanko @ViktoriyaJuve спасибо спасибо спа...</td>\n",
       "      <td>1</td>\n",
       "    </tr>\n",
       "  </tbody>\n",
       "</table>\n",
       "</div>"
      ],
      "text/plain": [
       "                                           SentimentText  Sentiment\n",
       "19373  @mellomanko @ViktoriyaJuve спасибо спасибо спа...          1"
      ]
     },
     "execution_count": 52,
     "metadata": {},
     "output_type": "execute_result"
    }
   ],
   "source": [
    "valid_data_rove.sample()"
   ]
  },
  {
   "cell_type": "code",
   "execution_count": 53,
   "metadata": {},
   "outputs": [],
   "source": [
    "valid_data_rove.to_csv('../../../robust-w2v/data/mokoron/valid.txt', index=False)"
   ]
  },
  {
   "cell_type": "markdown",
   "metadata": {},
   "source": [
    "# Brown\n",
    "\n",
    "It is downloaded from official cite in plaintext format"
   ]
  },
  {
   "cell_type": "code",
   "execution_count": null,
   "metadata": {},
   "outputs": [],
   "source": []
  }
 ],
 "metadata": {
  "kernelspec": {
   "display_name": "Python 3",
   "language": "python",
   "name": "python3"
  },
  "language_info": {
   "codemirror_mode": {
    "name": "ipython",
    "version": 3
   },
   "file_extension": ".py",
   "mimetype": "text/x-python",
   "name": "python",
   "nbconvert_exporter": "python",
   "pygments_lexer": "ipython3",
   "version": "3.6.5"
  }
 },
 "nbformat": 4,
 "nbformat_minor": 2
}
