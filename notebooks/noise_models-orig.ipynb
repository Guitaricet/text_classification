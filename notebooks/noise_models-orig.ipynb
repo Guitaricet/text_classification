{
 "cells": [
  {
   "cell_type": "code",
   "execution_count": 1,
   "metadata": {},
   "outputs": [],
   "source": [
    "ALPHABET = [' ', 'e', 't', 'a', 'i', 'o', 's', 'n', 'r', 'h', 'l', 'd', 'c', 'm', 'u', 'f', 'g', 'y', 'b', 'w', 'p',\\\n",
    "            '.', 'v', ',', 'k', \"'\", '/', '>', '<', '-', '\"', 'j', 'x', ')', '(', '!', 'z', 'q', '0', '1', '?', ':',\\\n",
    "            '9', '2', '*', ';', '3', '5', '8', '4', '7', '&', '6', 'é', '\\x96', '`', '$', '\\x85', '_', '%', '=', '#',\\\n",
    "            'UNK']"
   ]
  },
  {
   "cell_type": "code",
   "execution_count": 13,
   "metadata": {},
   "outputs": [],
   "source": [
    "from random import random, choice\n",
    "\n",
    "def noise_generator(string, noise_level, chars=ALPHABET+['']):\n",
    "    noised = \"\"\n",
    "    for c in string:\n",
    "        if random() > noise_level:\n",
    "            noised += c\n",
    "        else:\n",
    "#         if random() < noise_level:\n",
    "            noised += choice(chars)\n",
    "    assert len(noised) == len(string)\n",
    "    return noised\n"
   ]
  },
  {
   "cell_type": "code",
   "execution_count": 3,
   "metadata": {},
   "outputs": [],
   "source": [
    "text = \"\"\"Spanish is the second most spoken language in the United States of America. Forty-five million Hispanophones speak Spanish as their first, second or heritage language,[1] and there are six million Spanish language students in the United States.[2] This makes the United States the third-largest Hispanophone country in the world after Mexico and Colombia, and before Spain. Spanish has both the largest number of native language Romance speakers and native Indo-European language speakers in the world.[3] About half of all American Spanish speakers also assessed themselves as speaking English \"very well\" in the 2000 U.S. Census.[4]\n",
    "\n",
    "There are more Spanish-speakers in the United States than speakers of French, German, Italian, Hawaiian, varieties of Chinese and Native American languages combined. According to the 2012 American Community Survey conducted by the U.S. Census Bureau, Spanish is the primary language spoken at home by 38.3 million people aged five or older, more than twice that of 1990.[5][6]\n",
    "\n",
    "The Spanish language has been present in what is now the United States since the 16th and 17th centuries, with the arrival of Spanish colonization in North America. Colonizers settled in areas that would later become the states of Florida, Texas, Colorado, New Mexico, Arizona, Nevada, Utah, and California. The Spanish explorers explored areas of 42 future U.S. states leaving behind a varying range of Hispanic legacy in the North American continent. Western regions of the Louisiana Territory were also under Spanish rule between 1763 and 1800, after the French and Indian War, further extending the Spanish influence throughout the modern-day United States of America.\n",
    "\n",
    "After the incorporation of these areas into the United States in the first half of the 19th century, the Spanish language was later reinforced in the country by the acquisition of Puerto Rico in 1898. Later waves of emigration from Mexico, Cuba, El Salvador and elsewhere in Hispanic America to the United States beginning in the second half of the 19th century to the present-day have strengthened the role of the Spanish language in the country. Today, Hispanics are one of the fastest growing ethnic groups in the United States, thus increasing the use and importance of American Spanish in the United States.\"\"\""
   ]
  },
  {
   "cell_type": "code",
   "execution_count": 7,
   "metadata": {},
   "outputs": [
    {
     "data": {
      "text/plain": [
       "'Spanibh is the tecond most spoken lan*uage in ;he cnitedUNKStltes offAmerica. ;orty-\"ive million Héscagowhonzs 3peak Spanish as their first, seco*d or heritage language,[1] >nd there are siximillion \"panish language students in ;he United States.n2] This makes the Unit$d States the third-largest*Hispanooho-e country in th7 rbrld after Mexicoa2% Colombia, and _e\\'ore Spain. Saa`ish has both the lar est number of nativw langul>eaRomanck speakers and :ative IndozEulopean language speakers 9n;;he world.[3] About ;alf of all American1Spanish speakers also assess9d t#emsilves as spea;ing:Enzlish \"very w\\x96ll\" in thei2a00 U.S. Census.[4]\\n\\nTh$re are more0Spanish-speakers in the United Stytes than speakers of Frenw., German, It1lian, Hajaiian, vaoiefijs of Chinese qnd Na3ive Am?ricfn sanguages combi1ed.\\x85According to thr 201: Ameri0an Community Survey conducted by =he U.S` Cnlsus Bureau, Sp\\x96nish is the primary language spoken0at home \"y 38.3 million peop?e aged fivc or oldew, zore than t;ice that tf m990.[5][6]\\n\\nThe Spl7ish lagua:2 haslbee2 present in wha0 is.<o& dhe)UniteddSi*tes s\"nce theu16th and.1)t. centuries, with t`e arrival of S\"axiu\\' colonization i? b>rth Ame;ica. Colon8zert cettled in areas tha! would later v\"come the sta/es of Florida, Texas, C.lorado, New Mexico, >rizona, Nevada,6U#h, a#d Ca)ifornia. The Spani&h explorers explored areas of 4: futurs U.6. states leaving be<ind a vnrying range of Hispa\"ic lyga\"y in t e \\x85orth Am rican continent. Wesyern regions of the ?ou%viana Territory5were&als4 under Spanish rule beéween ng63(and 1-00> _f er the French and In?van War, gurthe4oextenditg the Spanish infl9ence throughout the moder7-ddy UnitedkS)awes of Ameriaa.\\n\\nAfter the iccorporation of ty/se areas into ,he United St&tes in&the *krst half_of the 19th cent0ry3 tha &panish lab\\x96u:ge wns =ater reinforsed 7n the country #x t-x acquisition of Puerto Rico in 1898. water wa(es of)emihration gjom`Mexico, Cuba,hEl Salvador and elsewhere in Hmsp\\'nic#Americ\\x96 to the UniteduStat(s3beginn\\x85nj in the second half of0the w9th centur= to th3 present-daywhave atrenathenwd the rolelo<othe Spanish langunge in the counéry. Tosay, Hispé\"ics are ose?of3tfe fastest<growing (thnic )roups in the United States, thu8 increasing the useyand importance of American Spanisw in the United States.'"
      ]
     },
     "execution_count": 7,
     "metadata": {},
     "output_type": "execute_result"
    }
   ],
   "source": [
    "noise_generator(text, 0.1)"
   ]
  },
  {
   "cell_type": "code",
   "execution_count": 4,
   "metadata": {},
   "outputs": [],
   "source": [
    "text = text[:1024].lower()"
   ]
  },
  {
   "cell_type": "code",
   "execution_count": 5,
   "metadata": {},
   "outputs": [
    {
     "data": {
      "text/plain": [
       "'spanish is the second most spoken language in the united states of america. forty-five million hispanophones speak spanish as their first, second or heritage language,[1] and there are six million spanish language students in the united states.[2] this makes the united states the third-largest hispanophone country in the world after mexico and colombia, and before spain. spanish has both the largest number of native language romance speakers and native indo-european language speakers in the world.[3] about half of all american spanish speakers also assessed themselves as speaking english \"very well\" in the 2000 u.s. census.[4]\\n\\nthere are more spanish-speakers in the united states than speakers of french, german, italian, hawaiian, varieties of chinese and native american languages combined. according to the 2012 american community survey conducted by the u.s. census bureau, spanish is the primary language spoken at home by 38.3 million people aged five or older, more than twice that of 1990.[5][6]\\n\\nthe spanis'"
      ]
     },
     "execution_count": 5,
     "metadata": {},
     "output_type": "execute_result"
    }
   ],
   "source": [
    "text"
   ]
  },
  {
   "cell_type": "code",
   "execution_count": 17,
   "metadata": {},
   "outputs": [
    {
     "data": {
      "text/plain": [
       "'Spanish is the second most spoken language in the United States of America. Forty-five million Hispanophones speak Spanish as their first, second or heritage language,[1] and there are six million Spanish language students in the United States.[2] This makes the United States the third-largest Hispanophone country in the world after Mexico9and Colombia, and before Spain. Spanish has both the largest number of#native language Romance speakers and na=ive Indo-European language speakers in1the world.[3] About half of all Americav Spanish speakers also assessed themselves as speaking English \"very well\" in the 2000 U.\\x96. Census.[4]\\n\\nThere are more Spanish-speakers in the United States than speakers of French, German, Italian, Hawaiian, varieties of Chinese and Native American languages combined. According to the 2012 American Community Survey conducted by the U.S. Census Bureau, Spanish is the primary language spoken at home by *8.3 million people aged five or older, more than twice that of 199q.[5][6]\\n\\nThe Spanish language has been presentrin what is now the United States since the 16th and 17th centuries, with the arrival of Spanish colonization in North America. Colonizers settled in areas that would later become the states ofyFlorida, Texas, Colorado, New Mexico, Arizona, Nevada, Utah, a`d California. The Spanish exp;orers explored areas of 42 future U.S. states leaving behind a varying range of Hispanic legacy in 8he North American continent. Western regions of the Louisiana Territory were also under Spanish rule between 1763 and 1800, after the French and Indian War, further extending the Spanish influence throughout the modern-day United States of America.\\n\\nAfter the incorporation of these areas into the United States in the first half of the 19th century, the Spanish language was later reinforced in the country by \\x96he acquisition of Puerto Rico in 1898. Later waves of emigration from Mexico, Cuba, El Salvador and elsewhere in Hispanic America to the United States beginning in the second half of the 19th century to the present-day have strengthened the role of the Spanish language&in the country. Today, Hispanics are one of the fastest growing ethnic groups in the United States, thus increasing the use and importance of American Spanish in the United States.'"
      ]
     },
     "execution_count": 17,
     "metadata": {},
     "output_type": "execute_result"
    }
   ],
   "source": [
    "noise_generator(text, 0.01)"
   ]
  },
  {
   "cell_type": "code",
   "execution_count": 22,
   "metadata": {},
   "outputs": [
    {
     "data": {
      "text/plain": [
       "'spanish is the second most spoken language i the united states of america. forty-five millon hispanophones spek spanish as their first, second 2rheritage language,[1] and there are six million spanish language students in the united states.[2] this maks the uited sbtates he third-largest hispanophone country ing the wo-rld after mexico and colomb!ia, and before/ spain. spanish has bhotPADh the larPADgest number of native language rmance speakers and native indo-european language speakers% i.n the world.u[3] abo>ut half of alll americanpanish speakers also assessed themselves a speaking english \"v_ery well\" in t(hoe 2000 u.s. census.[4]\\n\\nthere are morespanish-speakers in the united sttes tvhan speakers of frech, geran, italian, hawaiian, varieti?s of chinese and native american languages co_msbined. according to the 212 american community urvey conducted by the u.s. cen.sus bureau, spanish is the primary language spoken at home by 38.3 millioun people agedfiv>e or older, morethan twice tat of 1990.[5][6]\\n\\nthe 8spanis'"
      ]
     },
     "execution_count": 22,
     "metadata": {},
     "output_type": "execute_result"
    }
   ],
   "source": [
    "noise_generator(text, 0.02)"
   ]
  },
  {
   "cell_type": "code",
   "execution_count": 11,
   "metadata": {},
   "outputs": [
    {
     "data": {
      "text/plain": [
       "'Spanish is thj second_most spoken language ,n the UnitedfSthtes of America. F\"rty-fcve million Hispan.phohes speak Spaniuh as their first, second or heritqge language,[1] and the0e are six million Spanish language students (n the United States.[2] This makes the mnited States thc third-largest Hispanophone country.in the world aft,r Mexico and Colombia, and before Spain. Sp4nish has both the largest number of nativa`language Romancb speakers and native Indo-European language speakers in the\"world.[3] About half of all A-erican Spanish speakers also UNKssessed themselvrs as speaking English \"veré well\" in the 2(00 U.S. Census\\x96[4k\\n\\nThere are mo?e S\\x85anish-spxa2ers in the U7ited States than speakers of French, German, Italigl, Hawaiian, varieties ff Chinese and NativvfAmerican0languages combined. eccording4to the 2012 American Community Survey co4ducted b$ the U.S. Census Bureau, upanish is the primary language spoken at home by 38.y m>llion people aget five or older, more than fwice 2hat of 1990.[5][6]\\n\\nThe Spanish language has be`n pr=*eni in _hat is now the UUNKited States since the 16th and 17th centuries, with the arrival of Spanish colonization in North AmeriUNKr. Colonizers settle% in5areas that wou7d later bexome the ssates of Florida, 0exas, Coloradl, New Mexico, Arizona, Nevada, Utah, and California. The Spa6ish explorers eyplored areas of 42 future U.S. sta1es leaving behi;d a varying ra_ge of Hispanic legacy in the North American continent. Western regions of the Loui6iana Territor. were alsobundee Spanish rule betwjen\\x961763 and 1800, after the Frelch and Indian _ar, f-rther exaending the Spanish influence throughout the modern-duy7United St:,es of America.\\n\\nAfter the incorporation of-these areassinto the Uniteé Stat3s in the first half of the 19th ce`tury, the Spanish language was later reinforced in thb country by the acquisition of Puerto R\\x85co in91 98. Later wavesaof emigrationofrom Mexico, C5bu, El S5lvador and elsewhern3in Hispanic America to the United States beginning in the secozd half of the 19th cent\\x96ry to the present->ay ha\"e strengthened 7he r;le%ot the Spanishtlangyage in the country. Today,7Hispa>ic_ are one of the fastest growing ethnic groups in tje United S\\x96a9es, thus incr.asicg the \\'se and importance of Amer7can Spanish in the United Stakes.'"
      ]
     },
     "execution_count": 11,
     "metadata": {},
     "output_type": "execute_result"
    }
   ],
   "source": [
    "noise_generator(text, 0.05)"
   ]
  },
  {
   "cell_type": "code",
   "execution_count": 4,
   "metadata": {},
   "outputs": [
    {
     "data": {
      "text/plain": [
       "'Spanéi? is t=hems)con most pspoked langgep inb t>e Unwioted;Sttesof1 Amerc`.= Fo`rt0y-fie miliofn is9p_a;op3hes)\\x85seak Sa.ish asz th2eirf/ist, .ecok2 \\'orh h\\'e ri5tag7lanuage,[1]éavndy nh\\x85e.re aresiUNKx` mm=iion0 S;nish ylalug\"e sszen4ts in th U-ninted éStat.[] uhtismak.\\' th# $Unteéd tates (te trd-lagms Hsrpaknophone 2cumntry ui\\x85n thkerld agfer Mexco and mo6léia, and be%ore: gSpan. 8Spanis hasbot>h te lhagf9t _n,mbedr bof dnative langae fRomance 2spexker:s6 cn\"` ntsi\\x85ve <do-Erpneanlanguaog,x spea esu in the wo;rd\\'[3]Aout hal o<al Am\\x85ercan ani4sh spe`k;ers a&ls ranssessed tuhem,elvesads sp\\x85e(akvin 5E3l&is,very xwl.lx\" i the 0v0h0;U.oS. Cen/sus/[4]/\\n\\nT3erhe are more Spanish-skeakes nh\\x96e1 ,nite2 \\'Stesthan speakers f Fr2ech, Ge-man, t<a,link H>apwian,< )zari#téiew of Chinese nd Nj>t_ive Am6ec`a6n l;anguagexomhbined. Acsco.rding7 o t_he 20z12! Ameri!c0an ommu_ni ty SuirUNKv)y ocduc%ted  \\'thkeU.. eCnsp Bure:u, Spangismh i nthe primarsy\\x85\"l(2gu6age spok-enat o`meby 383milina popleged five or ld:er, o.re han twice h f 190o.[5][6]UNK\\nhe Spani=soh angag kh\"as *een5 presetin hat=its owzhe. Uit,edl 1States3 in\"c(e the #6thl lan 17th centi`es, with& thenarhr8l< of Spish cUNKolnm-ttn n o\\x96th !Amferica.b Cloizers sett5led 3i(rfes tat woxuld 7atu bec2m_e vhe sk% iof< F)o1rUNKida eas,j Colrkado jNw3 x(ico,r-izo, N7eada ta, ;n Calixona The p-an?is_ explr=es epco2red areas of42 fiuture US. ntat$esilaving behind a ai:g rnge of Hzisp.anic ljegacy inthex Nno\\x96th  mercanm&qnin\\x96en5t.W0stedn rpegtiosy )o<f8 Luisiaa aTrritioUNKy 7wer9e lso uner 7Span4sh ul bée tween 1763 7and 80,; futaer t\"hbe Fenchn :ndndin Wab, fuher x)tenédn h<e Spani fnuencel 7throuug,ot5thwe mdern-da 4U1n8ite Stajsf mpeca.\\ni\\nAflt#er tfh6e in<orpofratpUNK o tee rmeas nto\\x96 the Unxi0tre Srtat %in hefr6ha1lf of 4te 19h cenury, tjheSpani9 léa1guae\"as l\"atier reinfc&edjin h coln%-v byh aUNKcqui\\x96tjioz of Pur$o\\x85Ric:o i?n#\\x968 Lja;e a\\x96es of emiratinh fom. exic Cubaw, Ellador an#e2l?ehee in Hispne Aerica yto ohe U\\x85iten Szt(kte2s< begin$ing tin= t9heks\\'eo=ndhalf of \"thhe 1 ;cenwtjury tox t0he prhesnt-daeyf ha etrengthene thehroe o theSpa1nsh anjgua2ge inthe of,n,r.Tod,, Hispanics ta3r< ,one 7ouf( te f-sftest g)rowindg*6tnc groupas  i/ the= Ui`ted Stat,thus *inac>ears\\'inp te ueo and= imgpor\\x96te ofmerieca\"n2 panishin3th Uniwted States.'"
      ]
     },
     "execution_count": 4,
     "metadata": {},
     "output_type": "execute_result"
    }
   ],
   "source": [
    "noise_generator(text, 0.2)"
   ]
  },
  {
   "cell_type": "markdown",
   "metadata": {},
   "source": [
    "Нужно будет делать довольно мелкую сетку. Для начала можно попробовать несколько точек: [0, 0.01, 0.05, 0.1, 0.2]"
   ]
  },
  {
   "cell_type": "code",
   "execution_count": null,
   "metadata": {},
   "outputs": [],
   "source": []
  }
 ],
 "metadata": {
  "kernelspec": {
   "display_name": "Python 3",
   "language": "python",
   "name": "python3"
  },
  "language_info": {
   "codemirror_mode": {
    "name": "ipython",
    "version": 3
   },
   "file_extension": ".py",
   "mimetype": "text/x-python",
   "name": "python",
   "nbconvert_exporter": "python",
   "pygments_lexer": "ipython3",
   "version": "3.6.6"
  }
 },
 "nbformat": 4,
 "nbformat_minor": 2
}
