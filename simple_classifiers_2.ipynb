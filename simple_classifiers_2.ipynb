{
 "cells": [
  {
   "cell_type": "code",
   "execution_count": 28,
   "metadata": {
    "scrolled": false
   },
   "outputs": [
    {
     "name": "stdout",
     "output_type": "stream",
     "text": [
      "downloading aclImdb_v1.tar.gz\n"
     ]
    },
    {
     "data": {
      "text/plain": [
       "'/media/data/nlp/data/imdb/aclImdb'"
      ]
     },
     "execution_count": 28,
     "metadata": {},
     "output_type": "execute_result"
    }
   ],
   "source": [
    "train.download('/media/data/nlp/data/')"
   ]
  },
  {
   "cell_type": "code",
   "execution_count": 1,
   "metadata": {},
   "outputs": [],
   "source": [
    "import torch\n",
    "import torch.nn as nn\n",
    "import torch.optim as optim\n",
    "import torch.nn.functional as F\n",
    "\n",
    "from torch.autograd import Variable\n",
    "\n",
    "from tensorboardX import SummaryWriter\n",
    "from tqdm import tqdm as tqdm\n",
    "\n",
    "CUDA = torch.cuda.is_available()\n",
    "\n",
    "import numpy as np\n",
    "\n",
    "import torchtext\n",
    "from collections import Counter"
   ]
  },
  {
   "cell_type": "markdown",
   "metadata": {},
   "source": [
    "# Dataset"
   ]
  },
  {
   "cell_type": "code",
   "execution_count": 2,
   "metadata": {},
   "outputs": [],
   "source": [
    "text = torchtext.data.Field(\n",
    "    lower=False, include_lengths=False, fix_length=2048, tensor_type=torch.FloatTensor, batch_first=True,\n",
    "    tokenize=lambda x: x, use_vocab=False, sequential=False\n",
    ")\n",
    "label = torchtext.data.Field(sequential=False, use_vocab=False)\n",
    "\n",
    "train, test = torchtext.datasets.IMDB.splits(text, label)"
   ]
  },
  {
   "cell_type": "code",
   "execution_count": 3,
   "metadata": {},
   "outputs": [
    {
     "data": {
      "text/plain": [
       "'pos'"
      ]
     },
     "execution_count": 3,
     "metadata": {},
     "output_type": "execute_result"
    }
   ],
   "source": [
    "train[0].label"
   ]
  },
  {
   "cell_type": "code",
   "execution_count": 4,
   "metadata": {
    "scrolled": true
   },
   "outputs": [
    {
     "data": {
      "text/plain": [
       "'updated January 1st, 2006<br /><br />Parsifal is one of my two favorite Wagner operas or music dramas, to be more accurate, (Meistersinger is the other.) though it\\'s hard to imagine it as the \"top of anyone\\'s pops\". The libretto, by the composer as usual, is a muddle of religion, paganism, eroticism, and possibly even homo-eroticism, and its length may make it seem to the audience like hearing paint dry.<br /><br />Wagner, being a famous anti-Semite, (Klingsor may be one of his surrogate Jewish villains.) naturally entrusted the premiere to an unconverted (not for want of RW\\'s trying!) Hermann Levi, who was his favorite conductor! (Go figure!) Kundry, a most mixed-up-gal and another likely Jewish surrogate, is both villainous or benevolent, depending on the scene.<br /><br />Considering that many video versions of Parsifal seem on the stodgy side, this film of the opera is, in comparison, a breath of fresh air. Hans-Jürgen Syberberg, the director, has brought considerable imagination to it but it\\'s hard to know why he made some of his choices. For example: the notorious dual Parsifals (of each gender!), the puppets, the death-mask-of-Wagner set and various dolls and symbols such as the Nazi swastika in one of the traveling scenes. (If I remember, the \"real\" Engelbert Humperdinck wrote the actual music to pad out the scene changes.) Though Wagner himself died much too early to be an actual Nazi, many of his descendants (As well as his second wife Cosima.) were at least fellow-travelers, including their grandson Wolfgang Wagner who still runs the Bayreuth Festival at an advanced age. In fact, Wolfgang\\'s son Gottfried Wagner, in complete opposition to his father, has tried to come to terms honestly with his great-grandfather.<br /><br />Syberberg, too, seems politically ambiguous from what I\\'ve read. In 1977, he made a well-known film on Hitler, \"Hitler: ein Film aus Deutschland\" (Sometimes called \"Our Hitler\" in English.). Since it lasts all of 8 hours and hasn\\'t been widely distributed, most people have not seen it (including myself.).<br /><br />Armin Jordan, the conductor of the audio CD on which this film is based, plays Amfortas (sung by Wolfgang Schöne) Edith Clever (Yvonne Minton) plays Kundry, Michael Kutter and Karin Krick play the dual Parsifals (Both sung by Reiner Goldberg.!) and Robert Lloyd and Aage Haugland both play and sing Gurnemanz and Klingsor.<br /><br />Though the opera takes place over a long period of time and all (except Kundry?) have been described as having aged considerably between Acts 2 and 3, no one looks a day older by the end of the opera. (The magic of the Grail? In this opera the Grail is the cup from which Jesus drank at the Last Supper and not Mary Magdalene as in more recent times, an idea I find preposterous!).<br /><br />The conducting and singing are all quite serviceable and the DVD seems to have improved the sound, if not the picture, to a great extent. (Yes, I agree that \"Kna\\'s\" approach is superior, even on the second, stereo, version but he is probably superior to all recorded versions on the whole.)<br /><br />Not a Parsifal for all Wagnerites but I think it works quite well as a filmed opera.'"
      ]
     },
     "execution_count": 4,
     "metadata": {},
     "output_type": "execute_result"
    }
   ],
   "source": [
    "train[444].text"
   ]
  },
  {
   "cell_type": "code",
   "execution_count": 5,
   "metadata": {
    "scrolled": true
   },
   "outputs": [
    {
     "data": {
      "text/plain": [
       "25000"
      ]
     },
     "execution_count": 5,
     "metadata": {},
     "output_type": "execute_result"
    }
   ],
   "source": [
    "sum(len(t.label) > 1 for t in train)"
   ]
  },
  {
   "cell_type": "code",
   "execution_count": 6,
   "metadata": {},
   "outputs": [
    {
     "name": "stdout",
     "output_type": "stream",
     "text": [
      "Train:  Counter({'n': 12500, 'p': 12500})\n",
      "Test:   Counter({'n': 12500, 'p': 12500})\n"
     ]
    }
   ],
   "source": [
    "print('Train: ', Counter([t.label[0] for t in train]))\n",
    "print('Test:  ', Counter([t.label[0] for t in test]))"
   ]
  },
  {
   "cell_type": "code",
   "execution_count": 7,
   "metadata": {},
   "outputs": [
    {
     "ename": "NameError",
     "evalue": "name 'train_labels_counter' is not defined",
     "output_type": "error",
     "traceback": [
      "\u001b[0;31m---------------------------------------------------------------------------\u001b[0m",
      "\u001b[0;31mNameError\u001b[0m                                 Traceback (most recent call last)",
      "\u001b[0;32m<ipython-input-7-6c5eaefb81d5>\u001b[0m in \u001b[0;36m<module>\u001b[0;34m()\u001b[0m\n\u001b[0;32m----> 1\u001b[0;31m \u001b[0mtrain_labels_counter\u001b[0m\u001b[0;34m\u001b[0m\u001b[0m\n\u001b[0m",
      "\u001b[0;31mNameError\u001b[0m: name 'train_labels_counter' is not defined"
     ]
    }
   ],
   "source": [
    "train_labels_counter"
   ]
  },
  {
   "cell_type": "code",
   "execution_count": 8,
   "metadata": {},
   "outputs": [],
   "source": [
    "all_lens = [len(' '.join(t.text)) for t in train]"
   ]
  },
  {
   "cell_type": "code",
   "execution_count": 9,
   "metadata": {},
   "outputs": [
    {
     "ename": "NameError",
     "evalue": "name 'plt' is not defined",
     "output_type": "error",
     "traceback": [
      "\u001b[0;31m---------------------------------------------------------------------------\u001b[0m",
      "\u001b[0;31mNameError\u001b[0m                                 Traceback (most recent call last)",
      "\u001b[0;32m<ipython-input-9-de1581efa9d5>\u001b[0m in \u001b[0;36m<module>\u001b[0;34m()\u001b[0m\n\u001b[0;32m----> 1\u001b[0;31m \u001b[0mplt\u001b[0m\u001b[0;34m.\u001b[0m\u001b[0mhist\u001b[0m\u001b[0;34m(\u001b[0m\u001b[0mall_lens\u001b[0m\u001b[0;34m)\u001b[0m\u001b[0;34m\u001b[0m\u001b[0m\n\u001b[0m",
      "\u001b[0;31mNameError\u001b[0m: name 'plt' is not defined"
     ]
    }
   ],
   "source": [
    "plt.hist(all_lens)"
   ]
  },
  {
   "cell_type": "markdown",
   "metadata": {},
   "source": [
    "# Preprocessing\n",
    "\n",
    "* one hot all chars, UNK \n",
    "* pad sequences\n",
    "* pytorchify it: FloatTensor\n",
    "* make torch dataloader"
   ]
  },
  {
   "cell_type": "code",
   "execution_count": 4,
   "metadata": {},
   "outputs": [],
   "source": [
    "c = Counter(''.join([' '.join(t.text) for t in train]))"
   ]
  },
  {
   "cell_type": "code",
   "execution_count": 5,
   "metadata": {},
   "outputs": [
    {
     "data": {
      "text/plain": [
       "178"
      ]
     },
     "execution_count": 5,
     "metadata": {},
     "output_type": "execute_result"
    }
   ],
   "source": [
    "len(c)"
   ]
  },
  {
   "cell_type": "code",
   "execution_count": 6,
   "metadata": {},
   "outputs": [],
   "source": [
    "ALPHABET = [char[0] for char in c.most_common(126)]  # all other chars used less ~ 100 times in a test\n",
    "ALPHABET.append('UNK')\n",
    "ALPHABET.append('PAD')\n",
    "\n",
    "ALPHABET_LEN = len(ALPHABET)\n",
    "\n",
    "char2int = {s: i for s, i in zip(ALPHABET, range(ALPHABET_LEN))}\n",
    "\n",
    "MAXLEN = 2048\n",
    "\n",
    "BATCH_SIZE = 32"
   ]
  },
  {
   "cell_type": "code",
   "execution_count": 7,
   "metadata": {},
   "outputs": [],
   "source": [
    "def one_hot(char):\n",
    "    zeros = np.zeros(ALPHABET_LEN)\n",
    "    if char in char2int:\n",
    "        zeros[char2int[char]] = 1.\n",
    "    else:\n",
    "        zeros[char2int['UNK']] = 1.\n",
    "\n",
    "def preprocess_text(text, maxlen=MAXLEN):\n",
    "    one_hotted_text = np.zeros((BATCH_SIZE, ALPHABET_LEN, maxlen))\n",
    "    for bi, batch in enumerate(text):\n",
    "        for i, char in enumerate(batch):\n",
    "            if i >= MAXLEN:\n",
    "                break\n",
    "            one_hotted_text[bi, char2int.get(char, char2int['UNK']), i] = 1.\n",
    "        if i < MAXLEN:\n",
    "            for j in range(i+1, MAXLEN):\n",
    "                one_hotted_text[bi, char2int['PAD'], j] = 1.\n",
    "\n",
    "    return torch.FloatTensor(one_hotted_text)"
   ]
  },
  {
   "cell_type": "code",
   "execution_count": 8,
   "metadata": {},
   "outputs": [],
   "source": [
    "all_texts = [t.text for t in train]\n",
    "all_labels = [int(t.label == 'pos') for t in train]"
   ]
  },
  {
   "cell_type": "code",
   "execution_count": 9,
   "metadata": {},
   "outputs": [],
   "source": [
    "from sklearn.utils import shuffle\n",
    "X, y = shuffle(all_texts, all_labels)"
   ]
  },
  {
   "cell_type": "code",
   "execution_count": 10,
   "metadata": {},
   "outputs": [],
   "source": [
    "del all_texts, all_labels"
   ]
  },
  {
   "cell_type": "code",
   "execution_count": 11,
   "metadata": {},
   "outputs": [],
   "source": [
    "batch_idx = 0\n",
    "\n",
    "def next_batch():\n",
    "    global batch_idx\n",
    "    return X[batch_idx:batch_idx+BATCH_SIZE], y[batch_idx:batch_idx+BATCH_SIZE]"
   ]
  },
  {
   "cell_type": "code",
   "execution_count": 141,
   "metadata": {},
   "outputs": [
    {
     "data": {
      "text/plain": [
       "(['It should be against the law not to experience this extremely funny stand up show with Eddie Murphy. I have never seen anything like it.<br /><br />Murphy goes on for almost 70 minutes about dicks, pussy, tits and insaults so many famous people including his own \"family\". Among the people who gets it by murphy are: Elvis, Mr.T, Michael Jackson, Stevie Wonder, Mick Jagger, Luther Vandross and James Brown. I have seriously never laughed so hard of anything my entire life. I mean, when a person doesn\\'t know who Mr. T is, but still laughs so hard of Murphy as Mr. T, there\\'s something about it. At the time I saw the show I couldn\\'t remember who Mr T. was but still laughed. Now I know who he is and that just makes it so much more funny. Because that\\'s what Eddie do - he can make those impressions so good that it don\\'t matter who the hell he\\'s trying to do, it\\'s still hilarious. And on top of that, we learn that Murphy actually is a very good singer. Please watch it..',\n",
       "  \"ATTENTION, SPOILER!<br /><br />Many people told me that «Planet of the Apes» was Tim Burton's worst movie and apart from that much weaker than the original film. So I decided not to see it. Another friend of mine who hadn't seen the movie yet, advised me to watch it in spite of this because `a Tim-Burton-movie is still a Tim-Burton-movie'. I decided to do it, and I found that he was right.<br /><br />It's clear that a remake of such a famous film as `Planet of the Apes' is automatically influenced by commercial thinking. Still, Tim Burton managed his film to represent his weird playfulness just as well as `Beetlejuice' or `Batman'. If you are already fond of Burton-movies, it's hard not to like one of his films, even if it has some flaws: nerve-racking monkey squeals, over-dressed apes and a leading actor who could have been, without difficulties, replaced by anbody else.<br /><br />What the film gives us in the first place, is an answer to the question: What's the result when Tim Burton is instructed to create a remake? First of all, Burton wouldn't be Burton, if he wouldn't refuse to call it a remake from the start; it's a `re-imagining'. On the other hand, Burton knows that almost every viewer of his movie has seen the very first film version starring Charlton Heston (as human), and he knows that a remake doesn't exist without its model and that the two films will not stop being compared. So all he does is playing with this comparison at every moment of his film, e. g. by referencing to quotes. Concerning the story-line, Burton does a brilliant job by answering open questions of the original first, and then driving the whole audience to despair by destroying this wonderful clarity and ending the movie with \\x96 AND HERE IS THE SPOILER \\x96 Leo coming back to earth and finding himself inside a world that seems to have been ruled by apes forever. <br /><br />Now, this is the burtonesque answer to people's expectations they hold because of the astonishing, shocking ending of the first `Planet of the Apes'. An ending, even more unexpected, more astonishing and: completely confusing, because \\x96 and here I'm disagreeing with various `Planet of the Apes'-homepages and -platforms \\x96 it does not make any sense. There cannot be a meaning to it, or just a so complicated one that it becomes ineffective. Tim Burton is playing his cruel games, he does it with a grin and he does it well. Burton fans will sure like it, others may feel betrayed and complain about some sort of manierism. Well, and I don't think producers will ever ask Burton to direct a remake again\\x85\",\n",
       "  \"In 2054 Paris, Avalon, a computer generated system, controls the city and when a young woman is kidnapped, detective Karas (Craig) must go against Avalon to find her.<br /><br />Renaissance is a splendid blend of film making mixed with a conceptual futuristic narrative that lights up the screen in a shocking manor with a noir themed ideology and conceptual montages that should delight many.<br /><br />Pixar are the animation masters. Their numerous Oscar winning films are endless from the charming Toy Story to the mystifying Wall-E and so any company or director has a real challenge to knock them of their perch. Renaissance isn't a film aimed for the young audience though, and like 2007's Persepolis, brings a strong and mature approach to the genre of animation to make an older and more challenging film to its targeted older generation.<br /><br />In 2005 Robert Rodriguez released a shockingly brilliant noir Sin City that shook up the whole usage of green screen with a splendid balance of filming in black and white with the odd spurts of colour and a year later, Christian Volckman took up a similar approach with this equally visually masterful stroke of film making.<br /><br />Volckman's picture however is a full on animation but it doesn't half look realistic for the majority of it's strong 1 hour and 40 minutes of running time. The faces of the character's are well portrayed and in particular, this film has got to be the finest ever for the usage of shadow. The fact we never know if its night or day is irrelevant when simply gazing into the stony faces as the shadows blend across their expressions. It is almost a clever use of pathetic fallacy, and is finely directed also.<br /><br />For anyone who has seen Persepolis you will have come to the conclusion it is one of the finest directed animations ever screened for the simple but highly conceptual artistic style by Marjane Satrapi<br /><br />Renaissance is equally on terms with that picture and in many instances rivals it with stronger graphics and a darker tone to reflect the mood. One scene in particular when Karas appears out of darkness is beautifully shot.<br /><br />The narrative revolves around a stubborn and nosey political government who keeps tabs on every citizen. The running of Paris is down to the mysterious Avalon which we don't see nearly enough to get an essence of its true dominance. Renaissance is controlling the narrative around a tired cop's attempts to rescue the mysterious woman, and then we see Craig's tired and boring cop attempt a rescue whilst battling with other elements. There are many things wrong with the scripting, not to mention the tired exasperated cop routine is now old, but there is plenty of dashing adrenaline and springy banter between characters to keep it alive right till a wonderfully shot shocking last couple of stages.\",\n",
       "  \"I wouldn't be surprised if Soderbergh was pressured to avoid making pre- revolution Cuba as graphically corrupt as it was. Merely reciting a few statistics isn't going to make it with the younger crowd. Still, part one, which is almost entirely shot in the jungle, does capture the feel of that place, especially when traversing the mountainous areas of Cuba. I liked Del Toro's interpretation of Che Guevara's personality. And the actor who plays Castro, Bichir, also did a great job, against all odds. It's clear Soderbergh doesn't look down on these people, but it's also clear he's not going to plea their case to 'yanquis' far removed from the recent past. Some of the more important historical aspects contradict what I've read. To my knowledge Castro did not court the Soviet Union until all attempts to gain acceptance from the United States were exhausted. But on other aspects he is right on, especially as to the looting by the expatriates as the island went other rebel control. The country's treasury was left empty.\",\n",
       "  \"Genie (Zoe Trilling) arrives in Egypt to visit her hypocritical, bible-quoting archeologist father (William Finley) and attracts the attention of a group of cultists led by a descendant of the Marquis de Sade (Robert Englund). Englund also plays de Sade in flashbacks, ranting in his cell. Genie is led astray by Mohammed (Juliano Merr), who rides around naked on a horse and Sabina (Alona Kamhi), a bisexual who introduces her to opium smoking, which leads to a wild hallucination featuring topless harem dancers, a woman simulating oral sex on a snake, an orgy and her father preaching in the background! Meanwhile, black hooded cult members decapitate, gouge out eyeballs and slit throats. When Genie is slipped drugs in her tea, she imagines de Sade hanging from a cross, a gold-painted woman in a leafy g-string and herself bloody on a bed covered in snakes. It's all because she's the reincarnation of de Sade's lost love.<br /><br />This typically sleazy Harry Alan Towers production is redundant, seedy and pretty senseless, but the sets, costumes, cinematography and location work are all excellent and at least there's always something going on.<br /><br />Score: 3 out of 10\",\n",
       "  'This is a very real and funny movie about a Japanese man having a mid-life crisis. In Japan, ballroom dancing is not approved of. But when Shohei Sugiyama becomes obsessed with meeting the beautiful young girl he sees in the window of a dance studio, he suddenly finds himself enrolled in dance classes. No one is more surprised when he begins to like it than he. But he must keep his secret pleasure from his coworkers and family. When the truth comes out it is quite funny.',\n",
       "  'There was nothing of value in the original movie, this one was even lamer. The fact that I even found it to rent was absolutely amazing. Anyone connected to this film has to be high on something! So what was the story line? What was with the girl? Was the viewer supposed to get the story line in the first four minutes of the film. Sadly, I tried several times to watch this. I even borrowed a kid from someone to get some feedback. Kid said it was stupid, and he was four years old. I find that possibly some credit could go to the filming director, as possibly some of the shots made the movie more than a B film. That might be pushing it. I did love the theme song. Good thing it was only a dollar, it was worth it. I suppose you might enjoy the film if you were high as the cast and crew would have to be. Is pot legal in France?',\n",
       "  \"Wendy Wu: Homecoming Warrior has a very good, strong plot but is ruined by cheesy details throughout the movie. I am a younger teenager and didn't enjoy this movie very much. I thought the effects were horrible, but they might seem entertaining to younger children. The matrix moves ruined the action, you know that it was absolutely fake. Then there was the Yen Lo, an evil spirit who temporarily possesses random people and homecoming in which Wendy was striving to win. It all ends like a typical feel good movie when Wendy and her Buddhist monk cousin Shen defeat Yen Lo (and destroy him forever) in the end. So Wendy learns a lesson...blah, blah, blah. I'm ready for the next DCOM.\",\n",
       "  \"This Showtime movie really deserves a far better viewer rating than a 4.5; I gave it a 10 based on the story and the acting of the two stars. After reading the viewer comments, I was surprised at how many folks expected this movie to be a comedy. Yeah, I see that IMDb lists it as Comedy/Drama under Genre. That sure is misleading, isn't it? Fortunately, I saw the movie before logging onto this website so I did not have that expectation. In fact, based on the synopsis of what I heard, I fully expected it to simply be a Drama. I'm wondering if disappoint at this not being a funny movie caused so many low votes.<br /><br />Another factor that might have caused low votes is that this movie is very much 'character-driven'. 'Driving Miss Daisy' is an example of another character-driven movie that comes to mind. Someone's previous comment complained about a boring trial. Tom's (Danny Glover) work scenes seemed to distract from the real plot of the movie. That is, how he was engineering the upward social climb of his family - or his personal troops, if you will. However, they served to establish credibility and justification as his right to move to Greenwich and move 'up' in the world.<br /><br />Tom's obsession became a compulsion. He proved that he would stop at nothing to blend into the white neighborhood. His chagrin when another black person moved next door was not due to skin color. It was because of everything the 'interloper' represented; everything that Tom had left behind. In essence, Tom had become an Oreo cookie: Black on the outside but White on the inside.<br /><br />The last 20 minutes of this movie are among the most powerfully written, directed and acted (by Whoopi Goldberg) I have ever had the pleasure to witness. I realized that the climax of the film was not the obvious event that happened next door (don't want to give it away). The climax is verbal and Whoopi delivers it. I am still not clear if it is the conversation when she informs Tom which college Tom -Two is going to or when she releases it, all in the middle of the night and Tom wakes up. Nevertheless, the denouement is great. You know that life on that street will never be the same.<br /><br />My favorite kind of character-driven flick: people go through problems, some pain, do their dance, they grow, they change, and life goes on. As an audience member, I may learn something or be inspired.\",\n",
       "  'Actually, this flick, made in 1999, has pretty good production values. The actors are attractive, and reasonably talented. There aren\\'t a bunch of clowns running around blasting away, expending hundreds of rounds, but never hitting flesh. Nor are there wild car chases/crashes where thousands of dollars worth of beautiful machines are uselessly trashed.<br /><br />The interiors look respectably modern, architecturally, and the equipment looks up to snuff. Well, there is that high tech computer room furnished with what look like leftovers from a \\'50s electronics lab. And the pancake make-up on the corpses cracked me up. Not pancake make-up in the conventional sense, but what looks like dried pancake batter slathered over their exposed skin. This is supposed to support the idea that the bodies have calcified -- though how the virus would accomplish this transmutation is an exercise left for the student (viewer).<br /><br />Ah yes, the virus. I would like to tell you that this is not the absolute worst premise for a sci-fi, horror flick I know of, but I can\\'t. A computer virus that is transmitted via a television (or computer monitor) screen and becomes a lethal biological pathogen? Gimme a break. Warp drives a la \"Star Trek\" are one thing, but photons becoming viruses? This is so silly the desired \"fright factor\" just isn\\'t realizable. The flick could have used one of those awful dream sequences where the dead come alive, or have a cat jump out of the closet, or something, because the viral thingamajig isn\\'t doing it. <br /><br />One presumes Robert Wagner has the same excuse for playing in this inanity that Lord Oliver gave for some of his later, trashy venues. He needed the money. No other comparison between the two should be construed,however.',\n",
       "  'One would think that a film about a young person\\'s coming to terms with his burgeoning homosexuality would be anything but boring. Think again. This production should be bottled and sold as a cure for insomnia because it\\'s about ten times as potent as any sleep aid on the market. It\\'s almost as if the film maker *considered* making a movie, but got lazy and decided instead to run a series of random (and randomly BORING) images and go-nowhere scenes, throw in a couple of actual scenes featuring actual acting, pretend that good lighting ins\\'t important in the film-making process, and wrap it up under the auspices of an \"arthouse\" film. This is exactly kind of crappy product that makes it easy for a lot of traditional film-makers to poo-poo the indie film movement, and which keeps the general public from more easily embracing indie films.<br /><br />If you\\'re interested in films covering this subject matter, you\\'d be much better off tuning in to some of the great short films available at Logo\\'s website or renting Get Real. Better yet, read Stone Butch Blues. Whatever you do, skip this long-winded piece of dreck.',\n",
       "  'This scared the hell out of me when i was a teenager. Now I find it more amusing than scary, but with some pretty unsettling moments and with a kind of sleazy quality to it that I like. And, come to think of it, the plot is rather disgusting actually...but handled with some kind of taste. If there is a problem with this movie, it is that there are HUGE gaps where nothing exciting or interesting happens. Also, the ending goes on forever, making a potentially tense climax seem silly after a while with Barbara Bach screaming and screaming. The \"monster\", after it is exposed, isn\\'t very scary either unfortunately. The somewhat drab look of the movie also works against it, making it appear as a TV-movie more than something made for theaters. But it is an example of films that are rarely made nowadays so I urge horror fans to watch it and feel a bit nostalgic...',\n",
       "  \"99.999% pure crap. And the other .001% was a brief moment where I thought the blond chick was going to disrobe. Nope.<br /><br />The dialogue was legendarily bad. The action sucked, and there was no sex (the afore mentioned blond chick is modestly dressed, alas, the whole movie). The CGI had the dubious honor of being the worst I've ever seen on film, and the anachronisms were numerous and glaring. Acting was mediocre even from Ben Cross and Marina Sirtis, the only 'names' in this movie. And Marina Sirtis looked really, really bad.<br /><br />I've seen high school plays more capably produced. This is the kind of movie that MST3K thrived on. Heads should roll at Sci-Fi for allowing this steaming pile on the air.\",\n",
       "  'Unfortunately, this movie never made it to DVD. I saw it when it was first released to the theaters in 1983, and then again when the VHS was released in 1992. When I recently saw a VHS copy at a flea market, I immediately bought it. I was not disappointed. First, the obvious: Claudia Ohana is beautiful and a joy to behold. But then, the film takes you into an unreal world where you have to reflect on your values and decide what is really important to you. The movie is about a lot of things. It is about how the World Bank and large corporations exploit and enslave developing countries with their capitalist schemes to force them into a debt that they can never repay. It is about how our economic system exploits us by forcing us into debt with credit cards, mortgage, and car payment. It is about trying to save an innocence that maybe we have never really had and maybe we cannot really save. It is about good and evil and about how hard it is sometimes to tell one from the other. It raises a lot of questions but does not give answers. I think sometimes this is good. For this reason, this is a film really worth saving and seeing.',\n",
       "  'Having seen \"Triumph of the Will,\" I can only say this movie is ghastly, even measured against the historically low \"standards\" of the time. Naturally it\\'s all totally fabricated and prejudicial. This is what one would expect of 1930\\'s German propaganda. Unfortunately, the quality of the presentation, itself, is hackneyed and cheap. It\\'s also so blatantly ridiculous that even contemporary Germans must\\'ve left the theater holding their noses. In a genre renowned for its base appeal, lack of originality and unapologetic wrong-headedness, this film doesn\\'t even qualify as \"bad.\" It would have to improve significantly to attain that status!',\n",
       "  \"I've seen (far too) many flicks from this company - this one is about middle of the pack. One the good side, its a bit more stylized and under control than some of their fare - less of the sophomoric attempts at humor and more adherence to story (for what its worth). Many of their titles, like Sexy Sixth Sense, are buried by baaaad performances and an amateurish sensibility. On the other side, I found the simulated sex scenes not as hot as some of their other flicks (like Vampire Vixens, Gladiator Eroticus, Spiderbabe or Mistress Frankenstein).<br /><br />Misty Mundae is always a 10 on the peter meter, as is Darian Caine. I found Barbara Joyce hot in a school-marm kinda way, and Ruby LaRocca a sexy little hottie.<br /><br />Watch this with the remote firmly in your (free) hand, on a night when you need a break from porn. Don't waste your time wanting to check the story - you've got better things to do w/ your life. It is not a movie, it's pure T&A, but not bad by that standard.\",\n",
       "  'I haven\\'t read a biography of Lincoln, so maybe this was an accurate portrayal......<br /><br />And maybe it\\'s because I\\'m used to the equally alienating and unrealistic worshiping portrayals that unnaturally deify Lincoln as brilliant, honorable, and the savior of our country......<br /><br />But why would they make a movie representing Lincoln as a buffoon? While Henry Fonda made an excellent Lincoln, his portrayal of him as an \"aw shucks, I\\'m just a simple guy\" seemed a little insulting.<br /><br />[Granted, that was Bushie Jr.\\'s whole campaign, to make us think he was \"just a regular guy\" so we wouldn\\'t care that he\\'s a rich & privileged moron -- but that\\'s a whole other story.]<br /><br />Not only did the film show Lincoln as sort of a simple (almost simple-minded) kind of guy , the film states that Lincoln just sort of got into law by accident, and that he wasn\\'t even that interested in the law - only with the falsely simplistic idea of the law being about rights & wrongs. In the film he\\'s not a very good defense attorney (he lounges around with his feet on the table and makes fun of the witnesses), and the outcome is mostly determined by chance/luck.<br /><br />Furthermore, partly because this was financed by Republicans (in reaction to some play sponsored by Democrats that had come out) and partly because it was just the sentiment of the times, the film is unfortunately religious, racist and conservative.<br /><br />Don\\'t waste your time on this film!',\n",
       "  \"Many people know how it feels when a loved one is lost. The feelings of pain, grief and sorrow can be unbearable. However, sometimes it is the memories they leave behind that trigger the saddest emotions. This theme is superbly portrayed in the short film 'Tulip', directed by the award winning Australian actress, Rachel Griffths. Described as a movie 'as much about memories as it is about love', a string of sensitivity and sentimentality is expertly threaded into this triumphant 15 minute film.<br /><br />'Tulip' is a beautifully wrought, touching and heart-warming story of a man's journey in coming to terms with the loss of his wife through the relationship he shares with a very special animal, 'Tulip'. The film opens with a rising dawn, the chirping of birds and a vast landscape, introducing the sense of rustic harmony present throughout the film. A soft music plays, marking the entrance of Ruth (Jean Bain). She wears a flowered dress and apron with a sun hat on her head. She gently pets Tulip, caressing her ears and patting her back. The furnishing of the house is impressive and the attention to detail is creditable (a vase of tulips can be seen on the bench), reflecting the peaceful rural community. Will (Charles 'Bud' Tingwell) greets Ruth as she is spooning the milk from the bucket. They pour the milk and coffee together, a sign of companionship and teamwork. Not a word is said but it is obvious that their relationship is close and affectionate; they paint a perfect picture of happiness.<br /><br />Sadly, happiness doesn't last forever. The tragic passing of Ruth affects Will deeply. An effective scene of fading cars highlights Will's isolation and vulnerability at the end of the day of the funeral. Soon he sinks into depression and becomes oblivious to his surroundings when everything seems hopeless and lost. At Will's moment of despair, Tulip becomes the symbol of Ruth, the genuine connection Will has with his late wife. It was through Tulip that Will learns to cope with the absence of Ruth and overcome the heartrending feelings of loneliness.<br /><br />Each of the characters is realistically and solidly portrayed, especially the part of Will. Charles 'Bud' Tingwell brings the character to life through personal investment. The recent loss of his own wife (Audrey Tingwell) is effectively reflected in his acting. Every sag of his shoulder and every frown on his brow make the viewer empathize strongly with the character. The character of Ruth is wonderfully carried out by Jean Bain. Although Ruth does not say a single word throughout the movie, her sweet personality and loving relationship with Will are obvious. Lois Ramsey and Kati Edwards give delightful performances in supporting roles as the friendly Margaret and Mary. They also add a subtle humor to the bittersweet story.<br /><br />An anecdote from Griffths' childhood, the story of loss and discovery is remarkably captured in 'Tulip'. Beautifully shot and superbly acted, this film will surely make you misty eyed, triumphant or feel like drinking a cup of milk.\",\n",
       "  \"Brian Yuzna is often frowned upon as a director for his trashy gore-fests, but the truth is that his films actually aren't bad at all. The Re-Animator sequels aren't as great as the original, but are still worthy as far as horror sequels are concerned. Return of the Living Dead 3 is the best of the series; and Society isn't a world away from being a surrealist horror masterpiece. This thriller certainly isn't a masterpiece; but it shows Yuzna's eye for horror excellently, and the plot moves in a way that is always thrilling and engaging. I'm really surprised that a horror movie about dentistry didn't turn up until 1996, as going to the dentist is almost a primal fear - it's running away from a tiger for the modern world. Dentistry doesn't frighten me, but surprisingly; I would appear to be in the minority. The plot follows perfectionist dentist Dr Feinstone. He has a nice house, a successful career and a beautiful wife - pretty much everything most people want. However, his life takes a turn for the worse when he discovers his wife's affair with the pool cleaner. And his life isn't the only one; as it's his patients who feel the full brunt of his anger...<br /><br />When it comes to scaring the audience, this movie really makes itself. However, credit has to go to the director for extracting the full quota of scares from the central theme. The fact that he does a good job is summed up by the fact that I'm not squeamish about going to the dentist - yet one particular scene actually made me cover my eyes! The film follows the standard man going insane plot outline, only with The Dentist you always get the impression that there's more to the film than what we're seeing. It isn't very often that a gore film can impress on a substance level - and while this won't be winning any awards, the parody on the upper class is nicely tied into the plot. The acting, while B-class, is actually quite impressive; with Corbin Bernsen taking the lead role and doing a good job of convincing the audience that he really is a man on the edge. I should thank Brian Yuzna for casting Ken Foree in the movie. The Dawn of the Dead star doesn't get enough work, and I really love seeing him in films. The rest of the cast doesn't massively impress, but all do their jobs well enough. Overall, The Dentist offers a refreshing change for nineties slasher movies. The gore scenes are sure to please horror fans, and I don't hesitate to recommend this film.\",\n",
       "  '\"Black Angel\" is minor whodunit, with June Vincent as a woman trying to save her husband from the electric chair after he is found guilty of killing an old acquaintance. Dan Duryea (the husband of the murdered woman) decides to help Vincent find the real culprit. Peter Lorre has one thankless role as a suspect. This film noir looks and plays like a cheap programmer, never achieving anything special. It is pleasant enough but then, at some point, it stops making sense and the solution to the mystery provokes one of those big \"give me a break\" reactions. That ending alone could have sank the film completely, but what precedes the conclusion is not very good either. Vincent is a wimpy heroine and Duryea was never very good at playing good guys. I love film noirs, but this one was a real disappointment.',\n",
       "  'Just saw this movie version of Frank Loesser\\'s Guys and Dolls for the third time with my mother who had never seen this before. She was pleasantly surprised by the singing voices of Jean Simmons and Marlon Brando. And she thought the Havana sequences where Simmons and Brando dance up a storm were excellent. Those were pretty impressive to me too and were usually the highlights of the film. Directed by Joseph L. Mankiewicz, this movie which originated as a story by Damon Runyon takes a while with the slow pacing of the non-musical scenes at first but pulls you in after a while. The other story with Frank Sinatra and Vivian Blaine wasn\\'t as compelling to me but still had their charms especially during the \"Sue Me\" number. Also loved Stubby Kaye\\'s \"Sit Down, You\\'re Rocking the Boat\" number and the performances of Sheldon Leonard and B. S. Pully. With a theatrical look throughout, Guys and Dolls isn\\'t a great film musical but certainly a very good one.',\n",
       "  \"The emotional impact of this movie defies words. It is elegant, subtle, beautiful, and tragic all rolled into two hours. This is Will Smith as he matures into his acting ability, the full range of it. Who knew? I saw The Pursuit of Happiness and thought, this must be a fluke for the blockbuster, over-the-top actor, Smith. His performances in both movies portray a whole other dimension to Smith, a refinement of talent, the selectivity of scripts, I'm not sure, but I view him differently now. Seven Pounds is one of those movies that in order to fully enjoy its essence you have to suspend your belief. Don't watch it for the plot, watch it for the fragile condition of the human heart, both literally and metaphorically. It is a story of human guilt, atonement, love, and sacrifice.\",\n",
       "  'Apparently Shakespeare equals high brow which equals in turn a bunch of folks not seeing something for what it really is. At one point in this film, someone (I believe Pacino\\'s producer) warns him that film is getting off track, that it was once about how the masses think about Shakespeare through the vehicle of RICHARD III. Instead he decides to shoot a chopped up play with random comments sprinkled throughout. Some scenes seemed to be included as home movies for Al (was there really ANY reason for the quick visit to Shakespeare\\'s birthplace, other than for a laugh about something unexpected which happens there?), and, before the film has really even begun, we are treated to seeing Al prance around and act cute and funny for the camera. I thought his silly act with Kay near the end of GODFATHER III with the knife to his throat was AN ACT - but apparently it\\'s how Al really behaves in person.<br /><br />Enough rambling. Here\\'s a shotgun smattering of why I didn\\'t even make it 3/4 of the way through this: 1) pretentious - Al always knows when the camera is on him, whether he\\'s acting as Richard or in a \\'real\\' conversation with someone - you can see it in the corner of his eyes, also, some of the actors around the rehearsal table become untethered and wax hammy to the extreme. If anyone reading this has ever spent any time with an group of actors and has witnessed this kind of thing from the outside, it\\'s unbearable. \"Look at me, chewing all the scenery!\" 2) Winona Ryder. When she appears as Lady Anne, this film comes to a screeching halt, which it never recovers from. She has nothing to add in the discussion scenes but the camera lingers on her to bring in the kiddoes. Her performance is dreadful, to boot. 3) the only things you really learn from this are told to you by the very scholars the filmmakers are trying to keep out of the picture. Of course, you also learn that Pacino shouldn\\'t be directing films (or doing Richard in the first place). I\\'d rather watch BOBBY DEERFIELD than this.<br /><br />Lastly, read the play and learn it for yourself. Go out and see it performed. In 1997 I saw the play performed at the University of Washington Ethnic Cultural Theater, and it made what we see in this film seem like high school drama (except for the gratuitous throat slashing of Clarence! My God! Was that necessary?!)<br /><br />It\\'s all just a bunch of sound and fury, signifying nada.',\n",
       "  \"I had nowhere to go. I was on a flight to Vancouver. I would probably have missed this film if I hadn't chosen Air Canada. Watched on a small screen in the back of the seat in front, I found this captivating and mesmerising. I did drift in a couple of places and had to skip back but I had to watch to it's end. Now I'm looking forward to the DVD release in Europe though whether I'll be quite as transfixed when I can walk out the door, is yet to be discovered!<br /><br />The photographic composition is stunning and the film gives so much insight and 'fills out' the story the photographs tell.<br /><br />Recommended (if you have time on your hands).\",\n",
       "  'About 4 years ago, I liked this movie. I would watch it over and over and over. But now... I don\\'t. Actually, I think this movie would have been great for Mystery Science Theater 3000. It has a bunch of comment-heavy actors (Macaulay Culkin, Christopher Lloyd, Patrick Stewart, Whoopi Goldberg), and a pretty cheesy plot. My favorite part is when Culkin is riding his bike and he comes across a gang and a gang member says, \"Hey, Tyler! Where ya goin\\'? The MOON??\" Also look out for the classic line, \"Do you have feeling in your toes?\"<br /><br />On the other hand, it\\'s better than \"The Good Son\".',\n",
       "  'I think that can sum up this show about as well as anything. Batman TAS may be the worst thing to ever happen to cartoons based on comic books because everything that comes after will be compared to it and nothing has measured up yet. It\\'s just too damn good. Was Batman Beyond good? \"Yeah, but it was no TAS.\" Is Justice League good? \"It\\'s not too bad, but it\\'s no TAS.\"<br /><br />The Batman is certainly no TAS, either, but I won\\'t hold that against it. It would be unfair and besides, it has plenty of other problems with it.<br /><br />The concept of a younger, less experienced Batman fighting crime is a fine one, and at times the art is very nice. But all of the rest of the time, the art is worthless Americanime, and this betrays a lot of the flaws of the show itself. It is paced, written, and designed like an Americanime. If I wanted to watch Jackie Chan Adventures, I\\'d watch Jackie Chan Adventures. Or I could just bang my head into a wall any time and get the same effect. The Joker is a homicidal, mentally unstable clown in a suit who uses his wits, unpredictability, and clever gadgets to fight Batman. When he is forced to fight hand to hand, he will either resort to something cheap or be totally outmatched. He is not meant to be a monkey with dreadlocks who knows kung-fu and can leap into twenty feet into the air, accompanied by speed lines. If they had wanted to do that with a villain, there were other less important characters they could have used or *gasp* they could have created a new one entirely. And it\\'s not that re-imaginings are a bad thing, don\\'t get me wrong. TAS (there I go again) took Mr. Freeze from your standard icegun-wielding B villain and made him into a memorable and morally complex character. Of course Freeze wasn\\'t exactly a classic villain at the time and they performed an upgrade, but the point stands. What The Batman does is it takes everything you liked about Batman comics and lore and takes a large, smelly dump on them. Guess what? They were eating corn.<br /><br />It\\'s obvious this show can\\'t stand against TAS but stand it on its own legs and it still doesn\\'t work for me. The plots aren\\'t good and they don\\'t develop any better. They\\'ve been written for the demographic of children under twelve. Should children be able to enjoy a show? Of course they should. This shouldn\\'t be an adult show with swearing, nudity, and gratuitous violence. But the mark of a truly good show is that it can be enjoyed on different levels by all ages. This show misses that mark.<br /><br />Is this show a TAS? No, of course not. The problem is it\\'s not even a JLU.',\n",
       "  \"This mindless movie is a piece of crap and boring like the full house repetitions. For all the people who want to see a great, exciting and cool horror movie shouldn't even think about watching this bunch of mindless work. a F- in my opinion. I have one question, what were they thinking? Let's make a list: 1) bad script 2) bad script 3) bad script 4) bad acting 5) bad directing and last but not least a bad script. I mean I am not like grumping about every movie, but I was disappointed when I watched it. This movie should be banned into a box, locked and sunk down into the sea. So please don't do something like this again, please, please, please!!!!\",\n",
       "  \"As a kid, I loved this game. I played it a zillion times during Spring 1993 with my friend Andrew. I used to play Axel or Blaze and he would be Adam and no matter how often we played it we never seemed to get bored. Then Streets of Rage 2 came out. And we quickly forgot that this one even existed.<br /><br />You play as ex-cops Axel Stone, Adam or Blaze Fielding, who have quit the force in order to take on the bad guys in their own way. There are 8 levels to work thru in a run-down and corrupt city led by the evil Mr X. Beating up all the bad guys and the end-of-level boss is much fun. Level 4 (The Bridge) was my fave because you could chuck baddies down the holes into the river. You even have the chance to become Mr. X's right hand man at the end of the game (at a price). This leads to the 'bad ending' in which you become the the boss of the syndicate. Exactly how this is possible is a mystery since you destroy the syndicate on your way to Mr. X, but never mind.<br /><br />Streets of Rage also has truly fantastic music. The composer Yuzo Koshiro did absolute miracles with the limited technology of the Sega Genesis. The main theme, Level One, Level 4 and Final Boss are standout tunes. <br /><br />As a Wii owner I am proud to have this forever on my console. But with Streets of Rage 2 also available, it does kind of render the first one somewhat obsolete.<br /><br />Pros:<br /><br />Average graphics but nice backgrounds represented in a comic-book like panel progression that fits the tone of the game.<br /><br />Great tunes.<br /><br />Easy to get into and hard to put down.<br /><br />Cons:<br /><br />Vastly inferior to the infinitely more complex Streets of Rage 2.<br /><br />Poor enemy AI. Baddies often walk away from you instead of engaging in combat. This is especially infuriating with the Level 5 boss.<br /><br />Lack of combo moves.<br /><br />Lack of decent weapons.<br /><br />Bad guy models are repeated far too often.<br /><br />Graphics B- Sound A- Gameplay B- Lasting Appeal B-\",\n",
       "  'I rented this movie because it sounded pretty interesting but to my Horror this movie was the worst movie I had ever seen! I read the comment from Gumby-8 and he has to be a part of the cast or the crew. Unless Gumby-8 is a 4 year old child or some demented cult member no one in their right mind would think that this movie had any potential at all.<br /><br />I couldn\\'t believe Gumby-8\\'s comments. <br /><br />Quoting: \"From the \"Dune\" inspired opening animation to the quick pace...this film keeps the eye moving and works so well that repeat viewing is not unexpected.\"<br /><br />The Animation is the only aspect of the movie that was interesting and the fact of that the film keeps the eye moving, well that\\'s because you keep looking for any type of suspense. I mean give me a break Halloween was shot with a budget of $100,000.00 and a painted mask and also by the way became a cult classic. As far as \"repeat viewing is not unexpected\" I think he made a typo.<br /><br />Another quote from Gumby-8 the only Fan: \"The acting is also a strong aspect of the film.\"<br /><br />With all due respect for the actors, their performance is nothing more than the respective talent of Robert Napton.<br /><br />The catchy Tagline: \"Beware the hour between dusk and darkness\"<br /><br />That\\'s because there is no dusk or darkness in this movie.<br /><br />MPAA rating \"Rated R for some violence/gore\"<br /><br />The only gore you see is some red paint on a sheet over a dead body you never see. As far as I know it might be a clump of grass.<br /><br />In summation, I have seen horror flicks from the 50\\'s, 60\\'s and 70\\'s. I have seen what I thought to be the absolutely worst and some that were very good. The director of this film either did not make any attempt, was asleep, or took a hit of acid. Whatever the case I think the actors deserve applause for trying to salvage a very poor job of direction. I would give this film a rating of .5 for a \\'B\\' movie.',\n",
       "  \"I just saw this movie tonight, opening night. It was great!! I'm a big fan of sports movies, and this was right up there as one of my favorites. Dennis Quaid was great. (Oh, by the way, Mr. Quaid, if you read this...my sister lives in Austin, where you live.....and she was supposed to buy you a drink once...well...she kinda stood you up...but she didn't mean to! :C) [not that anyone's going to believe that...]) ANYWAY, it's a great movie. Everyone who likes a good sports movie, should go out and see it! :C)\",\n",
       "  'I knew my summary would get you. How is this movie like a Pet Rock and Disco?! Well, unless you lived through the 1970s or 80s, you probably can\\'t understand WHY anyone would like a New Coke or own a Pet Rock (and frankly, at least in the case of Pet Rocks, I STILL don\\'t understand it completely). They\\'re just a couple things that seemed to make sense at the time but really baffle the younger generation. The same can be said for Kay Kyser and his band. At the time (the 1940s mostly), they were very popular and had enough clout that the studio starred them with Boris Karloff, Bela Lugosi AND Peter Lorre in this film. Yet, if you didn\\'t live at that time (it was well before my time), you wonder why anyone liked this sort of \"entertainment\". After all, Kyser and his band mates are incredibly obnoxious and their humor is very, very broad (i.e., unsophisticated and cheesy). Frankly, I couldn\\'t stand their antics nor did I appreciate that there were just too many musical numbers in the film. Because of these factors, the great supporting cast was given a back seat and fans of these actors will probably be disappointed.<br /><br />The film involves Kyser and the band coming to a mansion where a young lady and her wacky aunt live. Once there, the bridge is washed out and strange happenings begin. Eventually, it culminates in some attempts on Sally\\'s life and a séance (of sorts). It\\'s all played for laughs--and it\\'s really not a horror movie despite the cast.<br /><br />Overall, it\\'s passable entertainment at best. As a Lugosi and Karloff fan, I sure felt cheated having to watch Kyser and his knuckleheads.',\n",
       "  'If you are looking for a definitive biography of the life of boxer James Corbett, then this is probably not the film for you. The famed boxer receives a 1940s \"Hollywood-ization\" of his life--making the story far more entertaining and engaging than real life. However, because the performances were so good (particularly by Errol Flynn) and the script so likable, the film\\'s embellishments can be forgiven.<br /><br />Errol Flynn plays Gay Nineties-era boxer James \"Gentleman Jim\" Corbett--a man who became world boxing champ in 1892. The film goes from his rather humble beginnings and follows his through his career through him winning the title match against John L. Sullivan. However, while it could have focused mostly on the matches, most are rather brief in the film (except for the final title match) and the emphasis is on Corbett\\'s brash personality as well as his relationship with the lady played by Alexis Smith. Throughout the film, there is excellent supporting work done by a cast of wonderful supporting actors (such as the perennial supporting actor in Flynn films, Alan Hale) and the writing really helped bring these people alive.<br /><br />What is particularly nice about the film is seeing the athleticism of Flynn as a boxer. While a few of the shots are of doubles, almost all the boxing scenes are of Flynn and he did a convincing job as a pugilist. This was a nice departure for Flynn, who generally played \"pretty boy\" roles or swashbucklers and this shows just how tough a character he was. To find out more about this, try reading a biography of him--he was quite the rough and tumble character before coming to Hollywood.<br /><br />Now as for the REAL James Corbett, read on if you aren\\'t afraid of finding out how the movie isn\\'t accurate. First, Corbett was NOT a poor guy coming from a poor family, but was college educated and bright. Second, while he DID get Alexis Smith at the end of the film, they also divorced a few years later. Third, the wonderfully touching final scene of the film between Sullivan and Corbett was probably the best part of the film, Sullivan was a jerk and this never could have happened--in reality, Sullivan was more the egomaniac and Corbett was not the fat-headed guy they portrayed in the film--though it made for a lovely film.'],\n",
       " [1,\n",
       "  1,\n",
       "  1,\n",
       "  1,\n",
       "  0,\n",
       "  1,\n",
       "  0,\n",
       "  0,\n",
       "  1,\n",
       "  0,\n",
       "  0,\n",
       "  0,\n",
       "  0,\n",
       "  1,\n",
       "  0,\n",
       "  0,\n",
       "  0,\n",
       "  1,\n",
       "  1,\n",
       "  0,\n",
       "  1,\n",
       "  1,\n",
       "  0,\n",
       "  1,\n",
       "  0,\n",
       "  0,\n",
       "  0,\n",
       "  1,\n",
       "  0,\n",
       "  1,\n",
       "  0,\n",
       "  1])"
      ]
     },
     "execution_count": 141,
     "metadata": {},
     "output_type": "execute_result"
    }
   ],
   "source": [
    "next_batch()"
   ]
  },
  {
   "cell_type": "markdown",
   "metadata": {},
   "source": [
    "# Models"
   ]
  },
  {
   "cell_type": "code",
   "execution_count": 12,
   "metadata": {},
   "outputs": [],
   "source": [
    "import torch\n",
    "import torch.nn as nn\n",
    "import torch.optim as optim\n",
    "import torch.nn.functional as F\n",
    "\n",
    "from torch.autograd import Variable\n",
    "\n",
    "from tensorboardX import SummaryWriter\n",
    "from tqdm import tqdm_notebook as tqdm\n",
    "\n",
    "CUDA = torch.cuda.is_available()"
   ]
  },
  {
   "cell_type": "code",
   "execution_count": 13,
   "metadata": {},
   "outputs": [
    {
     "data": {
      "text/plain": [
       "True"
      ]
     },
     "execution_count": 13,
     "metadata": {},
     "output_type": "execute_result"
    }
   ],
   "source": [
    "CUDA"
   ]
  },
  {
   "cell_type": "code",
   "execution_count": 14,
   "metadata": {},
   "outputs": [],
   "source": [
    "BATCH_SIZE = 32"
   ]
  },
  {
   "cell_type": "markdown",
   "metadata": {},
   "source": [
    "## CharCNN"
   ]
  },
  {
   "cell_type": "code",
   "execution_count": 15,
   "metadata": {},
   "outputs": [],
   "source": [
    "class CharCNN(nn.Module):\n",
    "    def __init__(self, kernel_size=5, hidden_size=256, label_size=1):\n",
    "        super(CharCNN, self).__init__()\n",
    "\n",
    "        self.conv = nn.Sequential(\n",
    "            nn.Conv1d(\n",
    "                in_channels=ALPHABET_LEN,\n",
    "                out_channels=hidden_size,\n",
    "                kernel_size=kernel_size\n",
    "            ),\n",
    "            nn.ReLU(),\n",
    "            nn.MaxPool1d(kernel_size=hidden_size)\n",
    "        )\n",
    "        self.projector = nn.Linear(256*7, label_size)\n",
    "#         self.probs = nn.Softmax()\n",
    "\n",
    "    def forward(self, inp):\n",
    "        #       BATCH x ALPHABET_SIZE x MAXLEN\n",
    "        convolved = self.conv(inp)\n",
    "        #       BATCH x hidden_size x 1\n",
    "        rshpd = convolved.view(BATCH_SIZE, -1)\n",
    "        projected = self.projector(rshpd)\n",
    "#         return self.probs(projected)\n",
    "        return projected"
   ]
  },
  {
   "cell_type": "code",
   "execution_count": 16,
   "metadata": {},
   "outputs": [],
   "source": [
    "writer = SummaryWriter(comment='_charCNN')"
   ]
  },
  {
   "cell_type": "code",
   "execution_count": 17,
   "metadata": {},
   "outputs": [],
   "source": [
    "global_step = 0"
   ]
  },
  {
   "cell_type": "code",
   "execution_count": 18,
   "metadata": {},
   "outputs": [
    {
     "data": {
      "text/plain": [
       "CharCNN(\n",
       "  (conv): Sequential(\n",
       "    (0): Conv1d (128, 256, kernel_size=(5,), stride=(1,))\n",
       "    (1): ReLU()\n",
       "    (2): MaxPool1d(kernel_size=256, stride=256, padding=0, dilation=1, ceil_mode=False)\n",
       "  )\n",
       "  (projector): Linear(in_features=1792, out_features=1)\n",
       ")"
      ]
     },
     "execution_count": 18,
     "metadata": {},
     "output_type": "execute_result"
    }
   ],
   "source": [
    "model = CharCNN(kernel_size=5, hidden_size=256, label_size=1)\n",
    "\n",
    "if CUDA:\n",
    "    model.cuda()\n",
    "\n",
    "model.train()"
   ]
  },
  {
   "cell_type": "code",
   "execution_count": 19,
   "metadata": {},
   "outputs": [],
   "source": [
    "optimizer = optim.Adam(params=model.parameters(), lr=10**-3)\n",
    "\n",
    "optimizer.zero_grad()"
   ]
  },
  {
   "cell_type": "code",
   "execution_count": 20,
   "metadata": {},
   "outputs": [],
   "source": [
    "text, label = next_batch()\n",
    "label = Variable(torch.FloatTensor(label).view(-1, 1).cuda())"
   ]
  },
  {
   "cell_type": "code",
   "execution_count": 22,
   "metadata": {},
   "outputs": [
    {
     "data": {
      "text/plain": [
       "Variable containing:\n",
       " 0\n",
       "[torch.cuda.FloatTensor of size 1 (GPU 0)]"
      ]
     },
     "execution_count": 22,
     "metadata": {},
     "output_type": "execute_result"
    }
   ],
   "source": [
    "F.binary_cross_entropy(label, label)"
   ]
  },
  {
   "cell_type": "code",
   "execution_count": null,
   "metadata": {},
   "outputs": [],
   "source": []
  },
  {
   "cell_type": "code",
   "execution_count": 29,
   "metadata": {},
   "outputs": [
    {
     "data": {
      "text/plain": [
       "Variable containing:\n",
       " 0.5388\n",
       "[torch.cuda.FloatTensor of size 1 (GPU 0)]"
      ]
     },
     "execution_count": 29,
     "metadata": {},
     "output_type": "execute_result"
    }
   ],
   "source": [
    "F.binary_cross_entropy_with_logits(label, label)"
   ]
  },
  {
   "cell_type": "code",
   "execution_count": 23,
   "metadata": {},
   "outputs": [],
   "source": [
    "one_hotted_text = preprocess_text(text)"
   ]
  },
  {
   "cell_type": "code",
   "execution_count": 24,
   "metadata": {},
   "outputs": [],
   "source": [
    "one_hotted_text = Variable(one_hotted_text).cuda()"
   ]
  },
  {
   "cell_type": "code",
   "execution_count": 26,
   "metadata": {},
   "outputs": [],
   "source": [
    "prediction = model(one_hotted_text)"
   ]
  },
  {
   "cell_type": "code",
   "execution_count": 29,
   "metadata": {},
   "outputs": [
    {
     "ename": "RuntimeError",
     "evalue": "cudaEventSynchronize in future::wait: device-side assert triggered",
     "output_type": "error",
     "traceback": [
      "\u001b[0;31m---------------------------------------------------------------------------\u001b[0m",
      "\u001b[0;31mRuntimeError\u001b[0m                              Traceback (most recent call last)",
      "\u001b[0;32m<ipython-input-29-4c0af923077d>\u001b[0m in \u001b[0;36m<module>\u001b[0;34m()\u001b[0m\n\u001b[0;32m----> 1\u001b[0;31m \u001b[0mF\u001b[0m\u001b[0;34m.\u001b[0m\u001b[0mbinary_cross_entropy\u001b[0m\u001b[0;34m(\u001b[0m\u001b[0mprediction\u001b[0m\u001b[0;34m,\u001b[0m \u001b[0mlabel\u001b[0m\u001b[0;34m)\u001b[0m\u001b[0;34m\u001b[0m\u001b[0m\n\u001b[0m",
      "\u001b[0;32m~/.virtualenvs/pytorch-env/lib/python3.5/site-packages/torch/nn/functional.py\u001b[0m in \u001b[0;36mbinary_cross_entropy\u001b[0;34m(input, target, weight, size_average)\u001b[0m\n\u001b[1;32m   1177\u001b[0m             \u001b[0mweight\u001b[0m \u001b[0;34m=\u001b[0m \u001b[0mVariable\u001b[0m\u001b[0;34m(\u001b[0m\u001b[0mweight\u001b[0m\u001b[0;34m)\u001b[0m\u001b[0;34m\u001b[0m\u001b[0m\n\u001b[1;32m   1178\u001b[0m \u001b[0;34m\u001b[0m\u001b[0m\n\u001b[0;32m-> 1179\u001b[0;31m     \u001b[0;32mreturn\u001b[0m \u001b[0mtorch\u001b[0m\u001b[0;34m.\u001b[0m\u001b[0m_C\u001b[0m\u001b[0;34m.\u001b[0m\u001b[0m_nn\u001b[0m\u001b[0;34m.\u001b[0m\u001b[0mbinary_cross_entropy\u001b[0m\u001b[0;34m(\u001b[0m\u001b[0minput\u001b[0m\u001b[0;34m,\u001b[0m \u001b[0mtarget\u001b[0m\u001b[0;34m,\u001b[0m \u001b[0mweight\u001b[0m\u001b[0;34m,\u001b[0m \u001b[0msize_average\u001b[0m\u001b[0;34m)\u001b[0m\u001b[0;34m\u001b[0m\u001b[0m\n\u001b[0m\u001b[1;32m   1180\u001b[0m \u001b[0;34m\u001b[0m\u001b[0m\n\u001b[1;32m   1181\u001b[0m \u001b[0;34m\u001b[0m\u001b[0m\n",
      "\u001b[0;31mRuntimeError\u001b[0m: cudaEventSynchronize in future::wait: device-side assert triggered"
     ]
    }
   ],
   "source": [
    "F.binary_cross_entropy(prediction, label)"
   ]
  },
  {
   "cell_type": "code",
   "execution_count": null,
   "metadata": {},
   "outputs": [],
   "source": []
  },
  {
   "cell_type": "code",
   "execution_count": null,
   "metadata": {},
   "outputs": [],
   "source": []
  },
  {
   "cell_type": "code",
   "execution_count": null,
   "metadata": {},
   "outputs": [],
   "source": []
  },
  {
   "cell_type": "code",
   "execution_count": 35,
   "metadata": {},
   "outputs": [
    {
     "ename": "ValueError",
     "evalue": "Target size (torch.Size([32])) must be the same as input size (torch.Size([32, 1]))",
     "output_type": "error",
     "traceback": [
      "\u001b[0;31m---------------------------------------------------------------------------\u001b[0m",
      "\u001b[0;31mValueError\u001b[0m                                Traceback (most recent call last)",
      "\u001b[0;32m<ipython-input-35-4ef34ebe97a2>\u001b[0m in \u001b[0;36m<module>\u001b[0;34m()\u001b[0m\n\u001b[0;32m----> 1\u001b[0;31m \u001b[0mloss\u001b[0m \u001b[0;34m=\u001b[0m \u001b[0mF\u001b[0m\u001b[0;34m.\u001b[0m\u001b[0mbinary_cross_entropy_with_logits\u001b[0m\u001b[0;34m(\u001b[0m\u001b[0mprediction\u001b[0m\u001b[0;34m,\u001b[0m \u001b[0mlabel\u001b[0m\u001b[0;34m)\u001b[0m\u001b[0;34m\u001b[0m\u001b[0m\n\u001b[0m",
      "\u001b[0;32m~/.virtualenvs/pytorch-env/lib/python3.5/site-packages/torch/nn/functional.py\u001b[0m in \u001b[0;36mbinary_cross_entropy_with_logits\u001b[0;34m(input, target, weight, size_average)\u001b[0m\n\u001b[1;32m   1204\u001b[0m     \"\"\"\n\u001b[1;32m   1205\u001b[0m     \u001b[0;32mif\u001b[0m \u001b[0;32mnot\u001b[0m \u001b[0;34m(\u001b[0m\u001b[0mtarget\u001b[0m\u001b[0;34m.\u001b[0m\u001b[0msize\u001b[0m\u001b[0;34m(\u001b[0m\u001b[0;34m)\u001b[0m \u001b[0;34m==\u001b[0m \u001b[0minput\u001b[0m\u001b[0;34m.\u001b[0m\u001b[0msize\u001b[0m\u001b[0;34m(\u001b[0m\u001b[0;34m)\u001b[0m\u001b[0;34m)\u001b[0m\u001b[0;34m:\u001b[0m\u001b[0;34m\u001b[0m\u001b[0m\n\u001b[0;32m-> 1206\u001b[0;31m         \u001b[0;32mraise\u001b[0m \u001b[0mValueError\u001b[0m\u001b[0;34m(\u001b[0m\u001b[0;34m\"Target size ({}) must be the same as input size ({})\"\u001b[0m\u001b[0;34m.\u001b[0m\u001b[0mformat\u001b[0m\u001b[0;34m(\u001b[0m\u001b[0mtarget\u001b[0m\u001b[0;34m.\u001b[0m\u001b[0msize\u001b[0m\u001b[0;34m(\u001b[0m\u001b[0;34m)\u001b[0m\u001b[0;34m,\u001b[0m \u001b[0minput\u001b[0m\u001b[0;34m.\u001b[0m\u001b[0msize\u001b[0m\u001b[0;34m(\u001b[0m\u001b[0;34m)\u001b[0m\u001b[0;34m)\u001b[0m\u001b[0;34m)\u001b[0m\u001b[0;34m\u001b[0m\u001b[0m\n\u001b[0m\u001b[1;32m   1207\u001b[0m \u001b[0;34m\u001b[0m\u001b[0m\n\u001b[1;32m   1208\u001b[0m     \u001b[0mmax_val\u001b[0m \u001b[0;34m=\u001b[0m \u001b[0;34m(\u001b[0m\u001b[0;34m-\u001b[0m\u001b[0minput\u001b[0m\u001b[0;34m)\u001b[0m\u001b[0;34m.\u001b[0m\u001b[0mclamp\u001b[0m\u001b[0;34m(\u001b[0m\u001b[0mmin\u001b[0m\u001b[0;34m=\u001b[0m\u001b[0;36m0\u001b[0m\u001b[0;34m)\u001b[0m\u001b[0;34m\u001b[0m\u001b[0m\n",
      "\u001b[0;31mValueError\u001b[0m: Target size (torch.Size([32])) must be the same as input size (torch.Size([32, 1]))"
     ]
    }
   ],
   "source": [
    "loss = F.binary_cross_entropy_with_logits(prediction, label)"
   ]
  },
  {
   "cell_type": "code",
   "execution_count": null,
   "metadata": {},
   "outputs": [],
   "source": []
  },
  {
   "cell_type": "code",
   "execution_count": 23,
   "metadata": {
    "scrolled": true
   },
   "outputs": [
    {
     "data": {
      "application/vnd.jupyter.widget-view+json": {
       "model_id": "2e3562b996894ce4bef3542f1debbbec",
       "version_major": 2,
       "version_minor": 0
      },
      "text/html": [
       "<p>Failed to display Jupyter Widget of type <code>HBox</code>.</p>\n",
       "<p>\n",
       "  If you're reading this message in the Jupyter Notebook or JupyterLab Notebook, it may mean\n",
       "  that the widgets JavaScript is still loading. If this message persists, it\n",
       "  likely means that the widgets JavaScript library is either not installed or\n",
       "  not enabled. See the <a href=\"https://ipywidgets.readthedocs.io/en/stable/user_install.html\">Jupyter\n",
       "  Widgets Documentation</a> for setup instructions.\n",
       "</p>\n",
       "<p>\n",
       "  If you're reading this message in another frontend (for example, a static\n",
       "  rendering on GitHub or <a href=\"https://nbviewer.jupyter.org/\">NBViewer</a>),\n",
       "  it may mean that your frontend doesn't currently support widgets.\n",
       "</p>\n"
      ],
      "text/plain": [
       "HBox(children=(IntProgress(value=0, max=10), HTML(value='')))"
      ]
     },
     "metadata": {},
     "output_type": "display_data"
    },
    {
     "name": "stdout",
     "output_type": "stream",
     "text": [
      "\n"
     ]
    },
    {
     "ename": "RuntimeError",
     "evalue": "cuda runtime error (59) : device-side assert triggered at /pytorch/torch/lib/THC/generic/THCTensorCopy.c:20",
     "output_type": "error",
     "traceback": [
      "\u001b[0;31m---------------------------------------------------------------------------\u001b[0m",
      "\u001b[0;31mRuntimeError\u001b[0m                              Traceback (most recent call last)",
      "\u001b[0;32m<ipython-input-23-3a75729e443b>\u001b[0m in \u001b[0;36m<module>\u001b[0;34m()\u001b[0m\n\u001b[1;32m      8\u001b[0m         \u001b[0mtext\u001b[0m\u001b[0;34m,\u001b[0m \u001b[0mlabel\u001b[0m \u001b[0;34m=\u001b[0m \u001b[0mnext_batch\u001b[0m\u001b[0;34m(\u001b[0m\u001b[0;34m)\u001b[0m\u001b[0;34m\u001b[0m\u001b[0m\n\u001b[1;32m      9\u001b[0m \u001b[0;34m\u001b[0m\u001b[0m\n\u001b[0;32m---> 10\u001b[0;31m         \u001b[0mlabel\u001b[0m \u001b[0;34m=\u001b[0m \u001b[0mVariable\u001b[0m\u001b[0;34m(\u001b[0m\u001b[0mtorch\u001b[0m\u001b[0;34m.\u001b[0m\u001b[0mLongTensor\u001b[0m\u001b[0;34m(\u001b[0m\u001b[0mlabel\u001b[0m\u001b[0;34m)\u001b[0m\u001b[0;34m.\u001b[0m\u001b[0mcuda\u001b[0m\u001b[0;34m(\u001b[0m\u001b[0;34m)\u001b[0m\u001b[0;34m)\u001b[0m \u001b[0;31m# if CUDA else Variable(torch.LongTensor(label))\u001b[0m\u001b[0;34m\u001b[0m\u001b[0m\n\u001b[0m\u001b[1;32m     11\u001b[0m \u001b[0;34m\u001b[0m\u001b[0m\n\u001b[1;32m     12\u001b[0m         \u001b[0mglobal_step\u001b[0m \u001b[0;34m+=\u001b[0m \u001b[0;36m1\u001b[0m\u001b[0;34m\u001b[0m\u001b[0m\n",
      "\u001b[0;32m~/.virtualenvs/pytorch-env/lib/python3.5/site-packages/torch/_utils.py\u001b[0m in \u001b[0;36m_cuda\u001b[0;34m(self, device, async)\u001b[0m\n\u001b[1;32m     67\u001b[0m         \u001b[0;32melse\u001b[0m\u001b[0;34m:\u001b[0m\u001b[0;34m\u001b[0m\u001b[0m\n\u001b[1;32m     68\u001b[0m             \u001b[0mnew_type\u001b[0m \u001b[0;34m=\u001b[0m \u001b[0mgetattr\u001b[0m\u001b[0;34m(\u001b[0m\u001b[0mtorch\u001b[0m\u001b[0;34m.\u001b[0m\u001b[0mcuda\u001b[0m\u001b[0;34m,\u001b[0m \u001b[0mself\u001b[0m\u001b[0;34m.\u001b[0m\u001b[0m__class__\u001b[0m\u001b[0;34m.\u001b[0m\u001b[0m__name__\u001b[0m\u001b[0;34m)\u001b[0m\u001b[0;34m\u001b[0m\u001b[0m\n\u001b[0;32m---> 69\u001b[0;31m             \u001b[0;32mreturn\u001b[0m \u001b[0mnew_type\u001b[0m\u001b[0;34m(\u001b[0m\u001b[0mself\u001b[0m\u001b[0;34m.\u001b[0m\u001b[0msize\u001b[0m\u001b[0;34m(\u001b[0m\u001b[0;34m)\u001b[0m\u001b[0;34m)\u001b[0m\u001b[0;34m.\u001b[0m\u001b[0mcopy_\u001b[0m\u001b[0;34m(\u001b[0m\u001b[0mself\u001b[0m\u001b[0;34m,\u001b[0m \u001b[0masync\u001b[0m\u001b[0;34m)\u001b[0m\u001b[0;34m\u001b[0m\u001b[0m\n\u001b[0m\u001b[1;32m     70\u001b[0m \u001b[0;34m\u001b[0m\u001b[0m\n\u001b[1;32m     71\u001b[0m \u001b[0;34m\u001b[0m\u001b[0m\n",
      "\u001b[0;31mRuntimeError\u001b[0m: cuda runtime error (59) : device-side assert triggered at /pytorch/torch/lib/THC/generic/THCTensorCopy.c:20"
     ]
    }
   ],
   "source": [
    "N_EPOCHS = 10\n",
    "\n",
    "for epoch in tqdm(range(N_EPOCHS)):\n",
    "    global batch_idx\n",
    "    batch_idx = 0\n",
    "    X, y = shuffle(X, y)\n",
    "    while batch_idx < len(X) - BATCH_SIZE:\n",
    "        text, label = next_batch()\n",
    "        \n",
    "        label = Variable(torch.LongTensor(label).cuda()) # if CUDA else Variable(torch.LongTensor(label))\n",
    "\n",
    "        global_step += 1\n",
    "\n",
    "        one_hotted_text = preprocess_text(text)\n",
    "        one_hotted_text = Variable(one_hotted_text).cuda() # if CUDA else Variable(ohe_hotted_text)\n",
    "        prediction = model(one_hotted_text)\n",
    "\n",
    "        print(prediction)\n",
    "        \n",
    "        loss = F.binary_cross_entropy_with_logits(prediction, label)\n",
    "        \n",
    "        print(loss)\n",
    "        \n",
    "        writer.add_scalar('loss', loss.data[0])\n",
    "        \n",
    "        loss.backward()        \n",
    "        optimizer.step()\n"
   ]
  },
  {
   "cell_type": "markdown",
   "metadata": {},
   "source": [
    "# Ээээээксперименты"
   ]
  },
  {
   "cell_type": "code",
   "execution_count": 14,
   "metadata": {},
   "outputs": [
    {
     "data": {
      "text/plain": [
       "True"
      ]
     },
     "execution_count": 14,
     "metadata": {},
     "output_type": "execute_result"
    }
   ],
   "source": [
    "isinstance(train, torch.utils.data.Dataset)"
   ]
  },
  {
   "cell_type": "code",
   "execution_count": 112,
   "metadata": {},
   "outputs": [
    {
     "data": {
      "text/plain": [
       "'pos'"
      ]
     },
     "execution_count": 112,
     "metadata": {},
     "output_type": "execute_result"
    }
   ],
   "source": [
    "train[4].label"
   ]
  },
  {
   "cell_type": "code",
   "execution_count": 40,
   "metadata": {
    "scrolled": true
   },
   "outputs": [
    {
     "name": "stdout",
     "output_type": "stream",
     "text": [
      "<bound method Iterator.data of <torchtext.data.iterator.BucketIterator object at 0x7fe78f0e80b8>>\n"
     ]
    }
   ],
   "source": [
    "for i in train.iters(batch_size=BATCH_SIZE, shuffle=True):\n",
    "    print(i.data)\n",
    "    print(i.)\n",
    "    break"
   ]
  },
  {
   "cell_type": "code",
   "execution_count": 42,
   "metadata": {
    "scrolled": false
   },
   "outputs": [
    {
     "ename": "TypeError",
     "evalue": "__init__() got an unexpected keyword argument 'shuffle'",
     "output_type": "error",
     "traceback": [
      "\u001b[0;31m---------------------------------------------------------------------------\u001b[0m",
      "\u001b[0;31mTypeError\u001b[0m                                 Traceback (most recent call last)",
      "\u001b[0;32m<ipython-input-42-3eb11e86d75b>\u001b[0m in \u001b[0;36m<module>\u001b[0;34m()\u001b[0m\n\u001b[0;32m----> 1\u001b[0;31m \u001b[0miterator\u001b[0m \u001b[0;34m=\u001b[0m \u001b[0mtrain\u001b[0m\u001b[0;34m.\u001b[0m\u001b[0miters\u001b[0m\u001b[0;34m(\u001b[0m\u001b[0mbatch_size\u001b[0m\u001b[0;34m=\u001b[0m\u001b[0mBATCH_SIZE\u001b[0m\u001b[0;34m,\u001b[0m \u001b[0mshuffle\u001b[0m\u001b[0;34m=\u001b[0m\u001b[0;32mTrue\u001b[0m\u001b[0;34m)\u001b[0m\u001b[0;34m\u001b[0m\u001b[0m\n\u001b[0m",
      "\u001b[0;32m~/.virtualenvs/pytorch-env/lib/python3.5/site-packages/torchtext/datasets/imdb.py\u001b[0m in \u001b[0;36miters\u001b[0;34m(cls, batch_size, device, root, vectors, **kwargs)\u001b[0m\n\u001b[1;32m     71\u001b[0m         \u001b[0mLABEL\u001b[0m \u001b[0;34m=\u001b[0m \u001b[0mdata\u001b[0m\u001b[0;34m.\u001b[0m\u001b[0mField\u001b[0m\u001b[0;34m(\u001b[0m\u001b[0msequential\u001b[0m\u001b[0;34m=\u001b[0m\u001b[0;32mFalse\u001b[0m\u001b[0;34m)\u001b[0m\u001b[0;34m\u001b[0m\u001b[0m\n\u001b[1;32m     72\u001b[0m \u001b[0;34m\u001b[0m\u001b[0m\n\u001b[0;32m---> 73\u001b[0;31m         \u001b[0mtrain\u001b[0m\u001b[0;34m,\u001b[0m \u001b[0mtest\u001b[0m \u001b[0;34m=\u001b[0m \u001b[0mcls\u001b[0m\u001b[0;34m.\u001b[0m\u001b[0msplits\u001b[0m\u001b[0;34m(\u001b[0m\u001b[0mTEXT\u001b[0m\u001b[0;34m,\u001b[0m \u001b[0mLABEL\u001b[0m\u001b[0;34m,\u001b[0m \u001b[0mroot\u001b[0m\u001b[0;34m=\u001b[0m\u001b[0mroot\u001b[0m\u001b[0;34m,\u001b[0m \u001b[0;34m**\u001b[0m\u001b[0mkwargs\u001b[0m\u001b[0;34m)\u001b[0m\u001b[0;34m\u001b[0m\u001b[0m\n\u001b[0m\u001b[1;32m     74\u001b[0m \u001b[0;34m\u001b[0m\u001b[0m\n\u001b[1;32m     75\u001b[0m         \u001b[0mTEXT\u001b[0m\u001b[0;34m.\u001b[0m\u001b[0mbuild_vocab\u001b[0m\u001b[0;34m(\u001b[0m\u001b[0mtrain\u001b[0m\u001b[0;34m,\u001b[0m \u001b[0mvectors\u001b[0m\u001b[0;34m=\u001b[0m\u001b[0mvectors\u001b[0m\u001b[0;34m)\u001b[0m\u001b[0;34m\u001b[0m\u001b[0m\n",
      "\u001b[0;32m~/.virtualenvs/pytorch-env/lib/python3.5/site-packages/torchtext/datasets/imdb.py\u001b[0m in \u001b[0;36msplits\u001b[0;34m(cls, text_field, label_field, root, train, test, **kwargs)\u001b[0m\n\u001b[1;32m     52\u001b[0m         return super(IMDB, cls).splits(\n\u001b[1;32m     53\u001b[0m             \u001b[0mroot\u001b[0m\u001b[0;34m=\u001b[0m\u001b[0mroot\u001b[0m\u001b[0;34m,\u001b[0m \u001b[0mtext_field\u001b[0m\u001b[0;34m=\u001b[0m\u001b[0mtext_field\u001b[0m\u001b[0;34m,\u001b[0m \u001b[0mlabel_field\u001b[0m\u001b[0;34m=\u001b[0m\u001b[0mlabel_field\u001b[0m\u001b[0;34m,\u001b[0m\u001b[0;34m\u001b[0m\u001b[0m\n\u001b[0;32m---> 54\u001b[0;31m             train=train, validation=None, test=test, **kwargs)\n\u001b[0m\u001b[1;32m     55\u001b[0m \u001b[0;34m\u001b[0m\u001b[0m\n\u001b[1;32m     56\u001b[0m     \u001b[0;34m@\u001b[0m\u001b[0mclassmethod\u001b[0m\u001b[0;34m\u001b[0m\u001b[0m\n",
      "\u001b[0;32m~/.virtualenvs/pytorch-env/lib/python3.5/site-packages/torchtext/data/dataset.py\u001b[0m in \u001b[0;36msplits\u001b[0;34m(cls, path, root, train, validation, test, **kwargs)\u001b[0m\n\u001b[1;32m     67\u001b[0m             \u001b[0mpath\u001b[0m \u001b[0;34m=\u001b[0m \u001b[0mcls\u001b[0m\u001b[0;34m.\u001b[0m\u001b[0mdownload\u001b[0m\u001b[0;34m(\u001b[0m\u001b[0mroot\u001b[0m\u001b[0;34m)\u001b[0m\u001b[0;34m\u001b[0m\u001b[0m\n\u001b[1;32m     68\u001b[0m         train_data = None if train is None else cls(\n\u001b[0;32m---> 69\u001b[0;31m             os.path.join(path, train), **kwargs)\n\u001b[0m\u001b[1;32m     70\u001b[0m         val_data = None if validation is None else cls(\n\u001b[1;32m     71\u001b[0m             os.path.join(path, validation), **kwargs)\n",
      "\u001b[0;32m~/.virtualenvs/pytorch-env/lib/python3.5/site-packages/torchtext/datasets/imdb.py\u001b[0m in \u001b[0;36m__init__\u001b[0;34m(self, path, text_field, label_field, **kwargs)\u001b[0m\n\u001b[1;32m     34\u001b[0m                 \u001b[0mexamples\u001b[0m\u001b[0;34m.\u001b[0m\u001b[0mappend\u001b[0m\u001b[0;34m(\u001b[0m\u001b[0mdata\u001b[0m\u001b[0;34m.\u001b[0m\u001b[0mExample\u001b[0m\u001b[0;34m.\u001b[0m\u001b[0mfromlist\u001b[0m\u001b[0;34m(\u001b[0m\u001b[0;34m[\u001b[0m\u001b[0mtext\u001b[0m\u001b[0;34m,\u001b[0m \u001b[0mlabel\u001b[0m\u001b[0;34m]\u001b[0m\u001b[0;34m,\u001b[0m \u001b[0mfields\u001b[0m\u001b[0;34m)\u001b[0m\u001b[0;34m)\u001b[0m\u001b[0;34m\u001b[0m\u001b[0m\n\u001b[1;32m     35\u001b[0m \u001b[0;34m\u001b[0m\u001b[0m\n\u001b[0;32m---> 36\u001b[0;31m         \u001b[0msuper\u001b[0m\u001b[0;34m(\u001b[0m\u001b[0mIMDB\u001b[0m\u001b[0;34m,\u001b[0m \u001b[0mself\u001b[0m\u001b[0;34m)\u001b[0m\u001b[0;34m.\u001b[0m\u001b[0m__init__\u001b[0m\u001b[0;34m(\u001b[0m\u001b[0mexamples\u001b[0m\u001b[0;34m,\u001b[0m \u001b[0mfields\u001b[0m\u001b[0;34m,\u001b[0m \u001b[0;34m**\u001b[0m\u001b[0mkwargs\u001b[0m\u001b[0;34m)\u001b[0m\u001b[0;34m\u001b[0m\u001b[0m\n\u001b[0m\u001b[1;32m     37\u001b[0m \u001b[0;34m\u001b[0m\u001b[0m\n\u001b[1;32m     38\u001b[0m     \u001b[0;34m@\u001b[0m\u001b[0mclassmethod\u001b[0m\u001b[0;34m\u001b[0m\u001b[0m\n",
      "\u001b[0;31mTypeError\u001b[0m: __init__() got an unexpected keyword argument 'shuffle'"
     ]
    }
   ],
   "source": [
    "iterator = train.iters(batch_size=BATCH_SIZE)"
   ]
  },
  {
   "cell_type": "code",
   "execution_count": 103,
   "metadata": {},
   "outputs": [],
   "source": [
    "X, y = train.iters(batch_size=BATCH_SIZE)"
   ]
  },
  {
   "cell_type": "code",
   "execution_count": 55,
   "metadata": {},
   "outputs": [],
   "source": [
    "X.create_batches()"
   ]
  },
  {
   "cell_type": "code",
   "execution_count": 113,
   "metadata": {
    "scrolled": true
   },
   "outputs": [
    {
     "name": "stdout",
     "output_type": "stream",
     "text": [
      "Variable containing:\n",
      " 3.0390e+03  1.4994e+04  1.3300e+02  ...   1.3240e+04  9.0000e+00  1.3300e+02\n",
      " 1.0722e+04  8.8797e+04  3.3900e+03  ...   5.0000e+00  2.8400e+02  4.7000e+01\n",
      " 7.0000e+00  1.3000e+01  5.0000e+01  ...   3.6000e+01  1.1000e+01  1.0320e+03\n",
      "                ...                   ⋱                   ...                \n",
      " 1.0000e+00  1.0000e+00  1.0000e+00  ...   4.0000e+00  2.1060e+03  4.1700e+03\n",
      " 1.0000e+00  1.0000e+00  1.0000e+00  ...   4.7000e+01  5.5000e+01  4.0000e+00\n",
      " 1.0000e+00  1.0000e+00  1.0000e+00  ...   4.1644e+04  2.7662e+05  5.6432e+04\n",
      "[torch.cuda.LongTensor of size 241x32 (GPU 0)]\n",
      "\n",
      "Variable containing:\n",
      " 1\n",
      " 2\n",
      " 1\n",
      " 1\n",
      " 1\n",
      " 1\n",
      " 1\n",
      " 1\n",
      " 1\n",
      " 2\n",
      " 2\n",
      " 2\n",
      " 1\n",
      " 1\n",
      " 2\n",
      " 1\n",
      " 1\n",
      " 2\n",
      " 1\n",
      " 1\n",
      " 1\n",
      " 1\n",
      " 1\n",
      " 2\n",
      " 2\n",
      " 1\n",
      " 2\n",
      " 1\n",
      " 1\n",
      " 2\n",
      " 1\n",
      " 2\n",
      "[torch.cuda.LongTensor of size 32 (GPU 0)]\n",
      "\n"
     ]
    }
   ],
   "source": [
    "for x in X:\n",
    "    print(x.text)\n",
    "    print(x.label)\n",
    "    break"
   ]
  },
  {
   "cell_type": "code",
   "execution_count": 66,
   "metadata": {
    "scrolled": true
   },
   "outputs": [
    {
     "name": "stdout",
     "output_type": "stream",
     "text": [
      "Variable containing:\n",
      "\n",
      "Columns 0 to 5 \n",
      " 6.7900e+02  1.1600e+03  1.9000e+01  2.3400e+02  4.9000e+01  1.3300e+02\n",
      " 4.1000e+02  4.6500e+02  3.2369e+04  3.0000e+00  7.0000e+00  9.5000e+01\n",
      " 1.1700e+02  9.5000e+01  1.9600e+03  2.3000e+02  2.0000e+00  2.4000e+01\n",
      " 8.3000e+01  2.0910e+03  1.6000e+01  3.8500e+02  7.9700e+02  8.0000e+00\n",
      " 4.0000e+00  1.3300e+02  3.0950e+03  5.0000e+00  2.1000e+01  9.2000e+01\n",
      " 3.4300e+02  8.1290e+03  1.3600e+03  1.1263e+04  1.5290e+03  2.5950e+03\n",
      " 2.0000e+01  1.2900e+02  8.5000e+01  0.0000e+00  1.5200e+02  2.0000e+00\n",
      " 1.1400e+02  7.7000e+01  3.2000e+01  6.1086e+04  2.8000e+01  2.2090e+03\n",
      " 1.2300e+02  2.4300e+02  2.8190e+03  9.0000e+00  2.5000e+01  6.1200e+02\n",
      " 2.6000e+01  3.3700e+02  9.5100e+02  4.3900e+02  4.8800e+02  8.1000e+01\n",
      " 1.7200e+02  6.0000e+00  1.9000e+01  1.1000e+01  1.2000e+01  2.9200e+02\n",
      " 1.5000e+01  1.1800e+02  1.8540e+03  1.7154e+04  1.4200e+02  2.0000e+00\n",
      " 9.9000e+01  4.0000e+00  2.2000e+01  5.6000e+01  1.6000e+01  1.1220e+03\n",
      " 1.5000e+01  2.1980e+03  7.7720e+03  1.4000e+01  4.5000e+01  5.0000e+00\n",
      " 0.0000e+00  6.0000e+00  4.0000e+00  4.0000e+01  1.3000e+02  2.0000e+00\n",
      " 3.0000e+01  1.8420e+03  2.0000e+00  9.8207e+04  3.1200e+02  2.4000e+01\n",
      " 2.0000e+00  1.5900e+03  4.3700e+02  5.6000e+01  1.1400e+02  1.5400e+02\n",
      " 1.6900e+02  1.6740e+03  7.6000e+01  5.9000e+01  2.5600e+02  1.2000e+01\n",
      " 2.2800e+02  9.9000e+01  4.1000e+01  2.1640e+03  2.1200e+02  6.3000e+01\n",
      " 1.8000e+01  7.3000e+01  2.0306e+05  8.9000e+01  1.9500e+02  4.8000e+01\n",
      " 2.4300e+02  7.0000e+00  1.1700e+02  3.6040e+03  1.2000e+01  9.7180e+03\n",
      " 2.6000e+01  6.8000e+01  3.6803e+04  1.0500e+03  3.0000e+00  1.3300e+02\n",
      " 6.9000e+02  1.0480e+03  6.6270e+03  5.5000e+01  3.5600e+02  2.1200e+02\n",
      " 1.2930e+03  2.6940e+04  1.6257e+04  2.6762e+05  5.9400e+03  1.9040e+03\n",
      "\n",
      "Columns 6 to 11 \n",
      " 1.3720e+03  4.9000e+01  4.9000e+01  4.9000e+01  1.5200e+02  7.8090e+03\n",
      " 1.2870e+03  7.0000e+00  7.0000e+00  2.1000e+01  8.8200e+02  2.8600e+02\n",
      " 1.5600e+03  1.7200e+02  3.0000e+00  7.0000e+00  1.3000e+02  5.0000e+00\n",
      " 1.3934e+04  8.7400e+02  5.3300e+02  1.9470e+03  5.8000e+01  9.1000e+01\n",
      " 5.0000e+00  2.0000e+00  1.6200e+02  1.2300e+02  3.0000e+00  1.8838e+04\n",
      " 1.3950e+05  2.6000e+02  9.6000e+01  4.2000e+01  1.8560e+03  3.3011e+04\n",
      " 6.2000e+01  1.0830e+03  4.1000e+02  4.6000e+01  4.2591e+04  5.0000e+00\n",
      " 2.8000e+01  1.3000e+02  1.1700e+02  6.8000e+01  4.5000e+01  1.0606e+04\n",
      " 0.0000e+00  1.0910e+03  3.4300e+02  1.8230e+03  1.6000e+01  2.6633e+04\n",
      " 4.1380e+04  1.9000e+01  2.0000e+01  0.0000e+00  1.1700e+02  0.0000e+00\n",
      " 1.3400e+02  2.8000e+02  1.1400e+02  4.1720e+03  1.2284e+04  1.6600e+02\n",
      " 3.2000e+01  7.0000e+00  6.7900e+02  1.0000e+01  1.0400e+02  5.0000e+00\n",
      " 1.9812e+04  2.6160e+03  6.3000e+01  1.8644e+04  5.0600e+02  4.5300e+03\n",
      " 0.0000e+00  4.0000e+00  1.1800e+02  4.6000e+01  1.1040e+03  1.8747e+04\n",
      " 0.0000e+00  2.0000e+00  1.2000e+01  7.8390e+03  1.1000e+01  5.0000e+00\n",
      " 0.0000e+00  1.3900e+02  1.7000e+01  3.1230e+03  1.4400e+02  1.4740e+03\n",
      " 4.0000e+01  1.3087e+04  8.2970e+03  3.8499e+04  5.0570e+03  1.8562e+04\n",
      " 3.6300e+02  1.9000e+01  7.3700e+02  5.8960e+03  3.1100e+02  7.1000e+01\n",
      " 1.2000e+01  2.7800e+03  3.7000e+01  2.5000e+01  4.0000e+00  3.2400e+02\n",
      " 1.6500e+02  2.6130e+03  9.0000e+00  6.8000e+01  3.0000e+00  3.2000e+01\n",
      " 4.0000e+00  5.0000e+00  2.5000e+01  0.0000e+00  5.9200e+02  1.4900e+02\n",
      " 1.4570e+03  2.0000e+00  6.0000e+00  1.3000e+01  3.0000e+00  0.0000e+00\n",
      " 1.2000e+01  1.9870e+03  2.9880e+03  7.3000e+02  7.4930e+03  1.0000e+00\n",
      " 8.1490e+03  1.0000e+00  1.0000e+00  1.0000e+00  1.0000e+00  1.0000e+00\n",
      "\n",
      "Columns 12 to 17 \n",
      " 2.9024e+04  4.5543e+04  3.2500e+02  1.3300e+02  3.2300e+02  4.9000e+01\n",
      " 0.0000e+00  6.6550e+03  1.1000e+03  1.5080e+03  5.0000e+00  7.0000e+00\n",
      " 4.1100e+02  3.0000e+00  2.1544e+04  1.2100e+02  2.0000e+00  3.0000e+00\n",
      " 1.6000e+01  8.9670e+03  2.0770e+03  5.6000e+01  1.5910e+03  5.3000e+01\n",
      " 8.0550e+03  1.5000e+01  5.0230e+03  7.0000e+00  1.2700e+02  1.4400e+02\n",
      " 1.7481e+04  3.0000e+00  1.8800e+02  3.9200e+02  9.7000e+01  4.9000e+01\n",
      " 1.9000e+01  0.0000e+00  6.4000e+01  5.0000e+00  8.0000e+00  7.0000e+00\n",
      " 5.2800e+03  8.9911e+04  1.7970e+03  1.8040e+03  1.0640e+03  4.7000e+01\n",
      " 4.0000e+00  2.4000e+01  6.0000e+00  4.0000e+00  1.0610e+03  8.2800e+02\n",
      " 0.0000e+00  1.9760e+03  2.0000e+00  4.3300e+02  1.2380e+03  1.9570e+03\n",
      " 1.0472e+04  1.1570e+03  1.8678e+05  1.2160e+03  1.5131e+04  1.1000e+02\n",
      " 2.1950e+03  6.2000e+01  7.5500e+02  9.0000e+00  1.3700e+02  1.1000e+01\n",
      " 3.1000e+01  1.4700e+02  9.0000e+00  8.6000e+01  4.0000e+00  2.4000e+01\n",
      " 2.2400e+02  8.5000e+01  5.6500e+02  2.5000e+01  4.2360e+03  7.3000e+01\n",
      " 1.7000e+01  7.8000e+01  3.4600e+02  1.7380e+03  1.2580e+03  6.5000e+01\n",
      " 0.0000e+00  5.0000e+00  2.5000e+02  1.4800e+02  8.5000e+01  6.8000e+01\n",
      " 8.0000e+00  9.2000e+01  4.0000e+00  1.2000e+01  1.1000e+01  5.3000e+01\n",
      " 4.4000e+01  1.3700e+03  1.8100e+02  3.0000e+00  3.2000e+01  1.0688e+04\n",
      " 3.8400e+02  3.0490e+03  3.2000e+01  3.5600e+02  3.0000e+00  1.7745e+04\n",
      " 2.4410e+03  5.7888e+04  5.0000e+00  3.0000e+02  4.4100e+02  1.0000e+00\n",
      " 1.4610e+03  4.9845e+04  4.4000e+02  1.0000e+00  1.0000e+00  1.0000e+00\n",
      " 1.1400e+02  1.0000e+00  1.0000e+00  1.0000e+00  1.0000e+00  1.0000e+00\n",
      " 1.0000e+00  1.0000e+00  1.0000e+00  1.0000e+00  1.0000e+00  1.0000e+00\n",
      " 1.0000e+00  1.0000e+00  1.0000e+00  1.0000e+00  1.0000e+00  1.0000e+00\n",
      "\n",
      "Columns 18 to 23 \n",
      " 2.4990e+03  1.5200e+02  6.3213e+04  5.7730e+03  4.4350e+03  3.0000e+00\n",
      " 3.0000e+00  2.8000e+01  1.2000e+01  2.7864e+04  1.1000e+01  9.3010e+03\n",
      " 5.2940e+03  3.6000e+01  1.6000e+01  4.2270e+03  1.0900e+02  2.4000e+01\n",
      " 3.2000e+01  2.7289e+04  3.7000e+01  9.0000e+00  2.3810e+03  1.0000e+01\n",
      " 5.0000e+00  8.9769e+04  6.6000e+01  1.4900e+02  6.0000e+00  4.1900e+02\n",
      " 1.0731e+04  5.0600e+02  7.2240e+03  5.4100e+02  1.1700e+02  8.4800e+02\n",
      " 0.0000e+00  1.2900e+02  4.5570e+03  8.8000e+01  1.3990e+03  1.1700e+02\n",
      " 1.4611e+04  9.2180e+03  2.1000e+01  1.1000e+01  5.0000e+00  0.0000e+00\n",
      " 4.4073e+04  8.0000e+00  1.5290e+03  2.4740e+03  4.2800e+03  1.1280e+03\n",
      " 0.0000e+00  4.4560e+04  0.0000e+00  2.1000e+01  1.0470e+05  8.2140e+03\n",
      " 9.5000e+01  1.5200e+02  1.0539e+05  2.0000e+00  5.6000e+01  7.0000e+00\n",
      " 3.1700e+02  2.8000e+01  2.1073e+04  2.3040e+03  2.1627e+04  1.7320e+03\n",
      " 1.5280e+03  8.4000e+02  4.8500e+02  1.2000e+01  1.3000e+01  3.6700e+02\n",
      " 4.0000e+00  2.7289e+04  5.6000e+01  7.5840e+03  0.0000e+00  0.0000e+00\n",
      " 1.9000e+01  8.9769e+04  1.4000e+01  1.4610e+03  8.3900e+02  6.0000e+00\n",
      " 0.0000e+00  1.4110e+03  1.0000e+01  1.2000e+01  4.0000e+00  9.4100e+02\n",
      " 0.0000e+00  0.0000e+00  0.0000e+00  1.3423e+04  4.5640e+03  1.0000e+00\n",
      " 8.4000e+01  3.8100e+02  1.6886e+05  8.3512e+04  1.0000e+00  1.0000e+00\n",
      " 0.0000e+00  1.1090e+03  1.0000e+00  1.0000e+00  1.0000e+00  1.0000e+00\n",
      " 1.0000e+00  1.0000e+00  1.0000e+00  1.0000e+00  1.0000e+00  1.0000e+00\n",
      " 1.0000e+00  1.0000e+00  1.0000e+00  1.0000e+00  1.0000e+00  1.0000e+00\n",
      " 1.0000e+00  1.0000e+00  1.0000e+00  1.0000e+00  1.0000e+00  1.0000e+00\n",
      " 1.0000e+00  1.0000e+00  1.0000e+00  1.0000e+00  1.0000e+00  1.0000e+00\n",
      " 1.0000e+00  1.0000e+00  1.0000e+00  1.0000e+00  1.0000e+00  1.0000e+00\n",
      "\n",
      "Columns 24 to 29 \n",
      " 5.6100e+02  4.9000e+01  1.1215e+04  2.5500e+02  2.5440e+03  9.0000e+00\n",
      " 1.2900e+02  7.0000e+00  4.0000e+00  3.0000e+00  1.0643e+04  4.5600e+02\n",
      " 2.0000e+00  3.0000e+00  8.9900e+02  1.3370e+03  4.8000e+01  1.1000e+01\n",
      " 1.0315e+04  9.5000e+01  4.3700e+02  5.1000e+01  8.3550e+03  6.0600e+02\n",
      " 1.9200e+02  1.2100e+02  3.0000e+01  3.0000e+00  1.8760e+03  5.0000e+00\n",
      " 1.0600e+02  1.6740e+03  9.1800e+02  4.6500e+02  7.8000e+01  6.0550e+03\n",
      " 9.5000e+01  9.9000e+01  0.0000e+00  5.1000e+01  4.8000e+01  1.0300e+02\n",
      " 1.2600e+02  1.2000e+01  4.0000e+00  3.0000e+00  0.0000e+00  0.0000e+00\n",
      " 5.0000e+00  7.0000e+00  8.1700e+02  5.6618e+04  1.0000e+00  1.0000e+00\n",
      " 1.0440e+03  2.6000e+01  5.1363e+04  1.0000e+00  1.0000e+00  1.0000e+00\n",
      " 1.7700e+02  1.6150e+03  1.0000e+00  1.0000e+00  1.0000e+00  1.0000e+00\n",
      " 3.9600e+02  2.0000e+01  1.0000e+00  1.0000e+00  1.0000e+00  1.0000e+00\n",
      " 7.1000e+01  4.5300e+02  1.0000e+00  1.0000e+00  1.0000e+00  1.0000e+00\n",
      " 2.5499e+04  3.8080e+03  1.0000e+00  1.0000e+00  1.0000e+00  1.0000e+00\n",
      " 1.7700e+02  1.0000e+00  1.0000e+00  1.0000e+00  1.0000e+00  1.0000e+00\n",
      " 6.8010e+03  1.0000e+00  1.0000e+00  1.0000e+00  1.0000e+00  1.0000e+00\n",
      " 1.0000e+00  1.0000e+00  1.0000e+00  1.0000e+00  1.0000e+00  1.0000e+00\n",
      " 1.0000e+00  1.0000e+00  1.0000e+00  1.0000e+00  1.0000e+00  1.0000e+00\n",
      " 1.0000e+00  1.0000e+00  1.0000e+00  1.0000e+00  1.0000e+00  1.0000e+00\n",
      " 1.0000e+00  1.0000e+00  1.0000e+00  1.0000e+00  1.0000e+00  1.0000e+00\n",
      " 1.0000e+00  1.0000e+00  1.0000e+00  1.0000e+00  1.0000e+00  1.0000e+00\n",
      " 1.0000e+00  1.0000e+00  1.0000e+00  1.0000e+00  1.0000e+00  1.0000e+00\n",
      " 1.0000e+00  1.0000e+00  1.0000e+00  1.0000e+00  1.0000e+00  1.0000e+00\n",
      " 1.0000e+00  1.0000e+00  1.0000e+00  1.0000e+00  1.0000e+00  1.0000e+00\n",
      "\n",
      "Columns 30 to 31 \n",
      " 9.2130e+03  0.0000e+00\n",
      " 2.0000e+00  0.0000e+00\n",
      " 1.2840e+03  0.0000e+00\n",
      " 1.0050e+03  2.1619e+04\n",
      " 2.0000e+00  1.0000e+00\n",
      " 1.6390e+03  1.0000e+00\n",
      " 1.0000e+00  1.0000e+00\n",
      " 1.0000e+00  1.0000e+00\n",
      " 1.0000e+00  1.0000e+00\n",
      " 1.0000e+00  1.0000e+00\n",
      " 1.0000e+00  1.0000e+00\n",
      " 1.0000e+00  1.0000e+00\n",
      " 1.0000e+00  1.0000e+00\n",
      " 1.0000e+00  1.0000e+00\n",
      " 1.0000e+00  1.0000e+00\n",
      " 1.0000e+00  1.0000e+00\n",
      " 1.0000e+00  1.0000e+00\n",
      " 1.0000e+00  1.0000e+00\n",
      " 1.0000e+00  1.0000e+00\n",
      " 1.0000e+00  1.0000e+00\n",
      " 1.0000e+00  1.0000e+00\n",
      " 1.0000e+00  1.0000e+00\n",
      " 1.0000e+00  1.0000e+00\n",
      " 1.0000e+00  1.0000e+00\n",
      "[torch.cuda.LongTensor of size 24x32 (GPU 0)]\n",
      "\n"
     ]
    }
   ],
   "source": [
    "for x in y:\n",
    "    print(x.text)\n",
    "    break"
   ]
  },
  {
   "cell_type": "code",
   "execution_count": 115,
   "metadata": {},
   "outputs": [],
   "source": [
    "all_texts = [t.text[:MAXLEN] for t in train]"
   ]
  },
  {
   "cell_type": "code",
   "execution_count": null,
   "metadata": {},
   "outputs": [],
   "source": []
  },
  {
   "cell_type": "code",
   "execution_count": 37,
   "metadata": {},
   "outputs": [],
   "source": [
    "dataloader = torch.utils.data.DataLoader(train.iters(), batch_size=BATCH_SIZE, shuffle=True)"
   ]
  },
  {
   "cell_type": "code",
   "execution_count": null,
   "metadata": {},
   "outputs": [],
   "source": []
  },
  {
   "cell_type": "code",
   "execution_count": null,
   "metadata": {},
   "outputs": [],
   "source": []
  }
 ],
 "metadata": {
  "kernelspec": {
   "display_name": "pytorch-env",
   "language": "python",
   "name": "pytorch-env"
  },
  "language_info": {
   "codemirror_mode": {
    "name": "ipython",
    "version": 3
   },
   "file_extension": ".py",
   "mimetype": "text/x-python",
   "name": "python",
   "nbconvert_exporter": "python",
   "pygments_lexer": "ipython3",
   "version": "3.5.2"
  }
 },
 "nbformat": 4,
 "nbformat_minor": 2
}
