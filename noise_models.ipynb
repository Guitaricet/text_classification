{
 "cells": [
  {
   "cell_type": "code",
   "execution_count": 2,
   "metadata": {},
   "outputs": [],
   "source": [
    "ALPHABET = [' ', 'e', 't', 'a', 'i', 'o', 's', 'n', 'r', 'h', 'l', 'd', 'c', 'm', 'u', 'f', 'g', 'y', 'b', 'w', 'p',\\\n",
    "            '.', 'v', ',', 'k', \"'\", '/', '>', '<', '-', '\"', 'j', 'x', ')', '(', '!', 'z', 'q', '0', '1', '?', ':',\\\n",
    "            '9', '2', '*', ';', '3', '5', '8', '4', '7', '&', '6', 'é', '\\x96', '`', '$', '\\x85', '_', '%', '=', '#',\\\n",
    "            'UNK', 'PAD']"
   ]
  },
  {
   "cell_type": "code",
   "execution_count": 11,
   "metadata": {},
   "outputs": [],
   "source": [
    "from random import random, choice\n",
    "\n",
    "def noise_generator(string, noise_level, chars=ALPHABET+['']):\n",
    "    noised = \"\"\n",
    "    for c in string:\n",
    "        if random() > noise_level:\n",
    "            noised += c\n",
    "        if random() < noise_level:\n",
    "            noised += choice(chars)\n",
    "    return noised\n"
   ]
  },
  {
   "cell_type": "code",
   "execution_count": 4,
   "metadata": {},
   "outputs": [],
   "source": [
    "text = \"\"\"Spanish is the second most spoken language in the United States of America. Forty-five million Hispanophones speak Spanish as their first, second or heritage language,[1] and there are six million Spanish language students in the United States.[2] This makes the United States the third-largest Hispanophone country in the world after Mexico and Colombia, and before Spain. Spanish has both the largest number of native language Romance speakers and native Indo-European language speakers in the world.[3] About half of all American Spanish speakers also assessed themselves as speaking English \"very well\" in the 2000 U.S. Census.[4]\n",
    "\n",
    "There are more Spanish-speakers in the United States than speakers of French, German, Italian, Hawaiian, varieties of Chinese and Native American languages combined. According to the 2012 American Community Survey conducted by the U.S. Census Bureau, Spanish is the primary language spoken at home by 38.3 million people aged five or older, more than twice that of 1990.[5][6]\n",
    "\n",
    "The Spanish language has been present in what is now the United States since the 16th and 17th centuries, with the arrival of Spanish colonization in North America. Colonizers settled in areas that would later become the states of Florida, Texas, Colorado, New Mexico, Arizona, Nevada, Utah, and California. The Spanish explorers explored areas of 42 future U.S. states leaving behind a varying range of Hispanic legacy in the North American continent. Western regions of the Louisiana Territory were also under Spanish rule between 1763 and 1800, after the French and Indian War, further extending the Spanish influence throughout the modern-day United States of America.\n",
    "\n",
    "After the incorporation of these areas into the United States in the first half of the 19th century, the Spanish language was later reinforced in the country by the acquisition of Puerto Rico in 1898. Later waves of emigration from Mexico, Cuba, El Salvador and elsewhere in Hispanic America to the United States beginning in the second half of the 19th century to the present-day have strengthened the role of the Spanish language in the country. Today, Hispanics are one of the fastest growing ethnic groups in the United States, thus increasing the use and importance of American Spanish in the United States.\"\"\""
   ]
  },
  {
   "cell_type": "code",
   "execution_count": 16,
   "metadata": {},
   "outputs": [],
   "source": [
    "text = text[:1024].lower()"
   ]
  },
  {
   "cell_type": "code",
   "execution_count": 17,
   "metadata": {},
   "outputs": [
    {
     "data": {
      "text/plain": [
       "'spanish is the second most spoken language in the united states of america. forty-five million hispanophones speak spanish as their first, second or heritage language,[1] and there are six million spanish language students in the united states.[2] this makes the united states the third-largest hispanophone country in the world after mexico and colombia, and before spain. spanish has both the largest number of native language romance speakers and native indo-european language speakers in the world.[3] about half of all american spanish speakers also assessed themselves as speaking english \"very well\" in the 2000 u.s. census.[4]\\n\\nthere are more spanish-speakers in the united states than speakers of french, german, italian, hawaiian, varieties of chinese and native american languages combined. according to the 2012 american community survey conducted by the u.s. census bureau, spanish is the primary language spoken at home by 38.3 million people aged five or older, more than twice that of 1990.[5][6]\\n\\nthe spanis'"
      ]
     },
     "execution_count": 17,
     "metadata": {},
     "output_type": "execute_result"
    }
   ],
   "source": [
    "text"
   ]
  },
  {
   "cell_type": "code",
   "execution_count": 18,
   "metadata": {},
   "outputs": [
    {
     "data": {
      "text/plain": [
       "'spanish is the second most spoken language in the united states of america. forty-five million hispanophones speak spanish as their first, second or heritage language,[1]and there are six million spanish languag students in the united states.[2] this makes the united 5sttes the third-largest hispanophone country in the world after mexico and colombia, an before spain. spanish has both the% largest number of native language romance speakers and native indo-european language speakers in the world.[3] about half of all american spanish speakers also assessed themselvves as speaking english \"very well\" in the! 2000 u.s. census.[4]\\n\\nthere ae more spanish-speakers in the united states than speakers of french, german, italian, hawaiian, varieties of chinese and native american langua8g\\'es combined. according to the 2012 ameriucan community survey conducted by the u.s. census #bureau, spanish is the primary language spoken at home by 38.3 million people aged five r older, moe 3than twice that of 1990.[5][6]\\n\\nthe spani'"
      ]
     },
     "execution_count": 18,
     "metadata": {},
     "output_type": "execute_result"
    }
   ],
   "source": [
    "noise_generator(text, 0.01)"
   ]
  },
  {
   "cell_type": "code",
   "execution_count": 22,
   "metadata": {},
   "outputs": [
    {
     "data": {
      "text/plain": [
       "'spanish is the second most spoken language i the united states of america. forty-five millon hispanophones spek spanish as their first, second 2rheritage language,[1] and there are six million spanish language students in the united states.[2] this maks the uited sbtates he third-largest hispanophone country ing the wo-rld after mexico and colomb!ia, and before/ spain. spanish has bhotPADh the larPADgest number of native language rmance speakers and native indo-european language speakers% i.n the world.u[3] abo>ut half of alll americanpanish speakers also assessed themselves a speaking english \"v_ery well\" in t(hoe 2000 u.s. census.[4]\\n\\nthere are morespanish-speakers in the united sttes tvhan speakers of frech, geran, italian, hawaiian, varieti?s of chinese and native american languages co_msbined. according to the 212 american community urvey conducted by the u.s. cen.sus bureau, spanish is the primary language spoken at home by 38.3 millioun people agedfiv>e or older, morethan twice tat of 1990.[5][6]\\n\\nthe 8spanis'"
      ]
     },
     "execution_count": 22,
     "metadata": {},
     "output_type": "execute_result"
    }
   ],
   "source": [
    "noise_generator(text, 0.02)"
   ]
  },
  {
   "cell_type": "code",
   "execution_count": 19,
   "metadata": {},
   "outputs": [
    {
     "data": {
      "text/plain": [
       "'spanish is the second mosi s`poken lanuagve in thev united stat=es of america. forty-five mi!llion# ispanphones spak spanish as their fist,secon or eritge lag6uage[1] and ther ar=e six millon sPADpanis.h languged students iin the united staPADte)s.[2] this makes thPADe united states th third-largest hispanophvone cbounty in th3eworl<d after moexico ad colombia, andbfore spain spanisbh has both the largesnumber of native languag romance s1peakers and natipve ndo-europea(n language spea&ker(s in the worbld.[3] about half f all american spnish sekers also as>sessed thebmselves as speaing efngish \"vry well\" in t\"h 2000 u.s. census.[.4]\\n\\nt5here are more spanish-speakers in sthe united states tha speakers offrench, german, it1alia2n, hawaii$n, varitiesof hi;nese and nati americUNKan language combined.c ac(cording to the 2012 american community surv`ey conducted xy the u.s. census 7ureau, spanaish is the prim*afry language spoken at home by 38. million people ageu ive or older, more than twice tha of 1990.[5][6]\\n\\nthe sanis'"
      ]
     },
     "execution_count": 19,
     "metadata": {},
     "output_type": "execute_result"
    }
   ],
   "source": [
    "noise_generator(text, 0.05)"
   ]
  },
  {
   "cell_type": "code",
   "execution_count": 20,
   "metadata": {},
   "outputs": [
    {
     "data": {
      "text/plain": [
       "'spanis is the 8sebn: #otl s%oken PADlanégua\\x96ge in the unt?ed states of americ.? forty-five mi.llion h1ispanophone spek panish ass ther first, s!econd or heriag vlanguage[1\\x85]nd PADthere aresix milli spanish lawguagje studnts i`4 the unteod states.[2&] his makes te united statsthe ghilrd\\x85-!lar=gest,hsanophone w=untry in \\x85the3 word after mexio and c?olombia, and bkefre spain. spani0shhas both >th9e arge:st 6number f native langmu.age romanc$e spkers and native indoeuropeasn language\\x85 <speakrs inth wor ld.3] 9abut hal  of sal l a)meri,an spanis speakers also asse1ssed them(selves as speahkin!g8english !\"verywell\" in the2c000 u..s. census.[t4]\\n\\nthere are *more spani$shspaker,s i he uni_ted states than spekers  :french germand,nialian, hawaiia5nz, v;aPADrieties of chiniee an naiveamerican languaPADg,es écombnegd. accyoding tm te 20é1=2 ameriscyan co\\x96mmun?ty suveky conducted b the uPAD.s. censusbgureu, spanihirse th` rimary \"la0nguage& spoen at home lbyh38.3millio7n0 people aged fve or  older, moethan twice> tsagt of 1\"90.t[5][6]\\n\\nthe spanis'"
      ]
     },
     "execution_count": 20,
     "metadata": {},
     "output_type": "execute_result"
    }
   ],
   "source": [
    "noise_generator(text, 0.1)"
   ]
  },
  {
   "cell_type": "code",
   "execution_count": 21,
   "metadata": {},
   "outputs": [
    {
     "data": {
      "text/plain": [
       "'spanrshis_ tnhbe `second mos s\\x96poePADn lzanga1 inth9e unkit\\x96d tat-e of am?er4ckah. f1orté-ivemill!i nhsPADpan6poces pelaspzaih athe(re first, \"so3d orher,tge xla_nu,%1] a`n/d hlri acreé sx m!illilon qpanisoh lmanguag)e sxt\\'ude(ntsin- theunied $staeks.UNK[2]his amaes -t85e 4unit_e d stqas thhe th2ir-largetr hispUNKanpovnye ucozn?tr un t)hUNKe %ornld \\'aftezr yegx\\'i\"co axnd1:colomiand b1ef&okre sjpa\\x85n.spcniés ha$ \\'both thew alarest nuym8berrx odf na.ivelanguge 9ancespeakers a d` natieahnd-euqropyan laguage sackersz mikn te w`orld&3] aouit h?lf of7 ml$$ rcan paiqsh seakrsi aso asseset hemsls as \\'s5eang e.nlish \"vey ywhelgpinthd a200) ;.s cen>sus.[44]\\ntrye retmore-s(péaish8s#pea6ki in thée united states< /than?spears/ of kench,8gPADelmn5, ivtiha, hwbaiian, var)eties o 3chine$e n!dUNK na<t,ive \\x85mer?can flnfguagek 2combined.j ccordrng<tthé 201<2 amricaUNKne!commu;niy  ulve counduct=d` by =the3 i.s.s icess bu9realu, spnsh s t1e piasy !langfage spoyken t=hcoe by 38.3 jmillin& peoplce va(gpe\\x85d6f`ive orj o\\x85der#, ore than tice9tha0of1990[5([6!zth?e yspan0s'"
      ]
     },
     "execution_count": 21,
     "metadata": {},
     "output_type": "execute_result"
    }
   ],
   "source": [
    "noise_generator(text, 0.2)"
   ]
  },
  {
   "cell_type": "markdown",
   "metadata": {},
   "source": [
    "Нужно будет делать довольно мелкую сетку. Для начала можно попробовать несколько точек: [0, 0.01, 0.05, 0.1, 0.2]"
   ]
  },
  {
   "cell_type": "code",
   "execution_count": null,
   "metadata": {},
   "outputs": [],
   "source": []
  }
 ],
 "metadata": {
  "kernelspec": {
   "display_name": "pytorch-env",
   "language": "python",
   "name": "pytorch-env"
  },
  "language_info": {
   "codemirror_mode": {
    "name": "ipython",
    "version": 3
   },
   "file_extension": ".py",
   "mimetype": "text/x-python",
   "name": "python",
   "nbconvert_exporter": "python",
   "pygments_lexer": "ipython3",
   "version": "3.5.2"
  }
 },
 "nbformat": 4,
 "nbformat_minor": 2
}
