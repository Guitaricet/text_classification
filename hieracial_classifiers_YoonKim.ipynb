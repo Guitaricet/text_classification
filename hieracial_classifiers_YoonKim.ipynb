{
 "cells": [
  {
   "cell_type": "markdown",
   "metadata": {},
   "source": [
    "# Yoon Kim"
   ]
  },
  {
   "cell_type": "code",
   "execution_count": 1,
   "metadata": {},
   "outputs": [
    {
     "data": {
      "text/plain": [
       "True"
      ]
     },
     "execution_count": 1,
     "metadata": {},
     "output_type": "execute_result"
    }
   ],
   "source": [
    "import numpy as np\n",
    "from sklearn.metrics import accuracy_score\n",
    "\n",
    "import torch\n",
    "import torch.nn as nn\n",
    "import torch.optim as optim\n",
    "import torch.nn.functional as F\n",
    "\n",
    "from torch.autograd import Variable\n",
    "from torch.utils.data.sampler import SubsetRandomSampler\n",
    "\n",
    "import torchtext\n",
    "\n",
    "from tensorboardX import SummaryWriter\n",
    "from tqdm import tqdm as tqdm\n",
    "\n",
    "np.random.seed(42)\n",
    "CUDA = torch.cuda.is_available()\n",
    "\n",
    "CUDA"
   ]
  },
  {
   "cell_type": "code",
   "execution_count": 4,
   "metadata": {},
   "outputs": [],
   "source": [
    "# alphabet from the paper\n",
    "# https://papers.nips.cc/paper/5782-character-level-convolutional-networks-for-text-classification.pdf\n",
    "ALPHABET = ['\\n'] + [s for s in \"\"\" abcdefghijklmnopqrstuvwxyz0123456789-,;.!?:’’’/\\|_@#$%ˆ&* ̃‘+-=<>()[]{}\"\"\"]\n",
    "\n",
    "MAX_WORD_LEN = 16  # chars in word (try 32?)\n",
    "MAX_TEXT_LEN = 256  # words in text"
   ]
  },
  {
   "cell_type": "code",
   "execution_count": null,
   "metadata": {},
   "outputs": [],
   "source": []
  },
  {
   "cell_type": "markdown",
   "metadata": {},
   "source": [
    "# Data preparation"
   ]
  },
  {
   "cell_type": "markdown",
   "metadata": {},
   "source": [
    "Чтобы использовать CNN на слова, нужно фиксировать длину слова."
   ]
  },
  {
   "cell_type": "code",
   "execution_count": null,
   "metadata": {},
   "outputs": [],
   "source": []
  },
  {
   "cell_type": "markdown",
   "metadata": {},
   "source": [
    "# Model"
   ]
  },
  {
   "cell_type": "code",
   "execution_count": 5,
   "metadata": {},
   "outputs": [],
   "source": [
    "class YoonKimModel:\n",
    "    def __init__(self, n_filters, cnn_kernel_size, pool_kernel_size, pool_stride,\n",
    "                 hidden_dim_2, dropout=0.5, init_function=None, embedding_dim=len(ALPHABET)):\n",
    "        super(YoonKimModel, self).__init__()\n",
    "        self.dropout = dropout\n",
    "        self.init_function = init_function\n",
    "        self.embedding_dim = embedding_dim\n",
    "        self.n_filters = n_filters\n",
    "        self.cnn_kernel_size = cnn_kernel_size\n",
    "        self.pool_kernel_size = pool_kernel_size\n",
    "        self.pool_stride = pool_stride\n",
    "        self.hidden_dim_2 = hidden_dim_2\n",
    "\n",
    "        self.embedding = nn.Linear(len(ALPHABET), embedding_dim)\n",
    "        self.chars_cnn = nn.Sequential(\n",
    "            nn.Conv1d(embedding_dim, n_filters, kernel_size=cnn_kernel_size, stride=1),\n",
    "            nn.ReLU(),\n",
    "            nn.MaxPool1d(kernel_size=pool_kernel_size, stride=pool_stride)\n",
    "        )\n",
    "        if init_function is not None:\n",
    "            self.conv[0].weight = init_function(self.conv[0].weight)\n",
    "\n",
    "        self.conv_dim = n_filters * int(((MAX_WORD_LEN - cnn_kernel_size) / 1 - pool_kernel_size) / pool_stride + 1)\n",
    "\n",
    "        self.words_rnn = nn.GRU(conv_dim, hidden_dim_2, dropout=dropout)\n",
    "        self.projector = nn.Linear(hidden_dim_2, 2)\n",
    "        \n",
    "    def forward(self, x):\n",
    "        # как избавиться от зависимости от BATCH_SIZE?\n",
    "        words_tensor = torch.zeros(MAX_TEXT_LEN, BATCH_SIZE, self.conv_dim)\n",
    "        for i, word in enumerate(x[:MAX_TEXT_LEN]):\n",
    "            word = self.embedding(word)\n",
    "            word = self.chars_cnn(word)\n",
    "            word = word.view(word.size(0), -1)\n",
    "            words_tensor[i, :] = word\n",
    "\n",
    "        x, _ = self.words_rnn(words_tensor)\n",
    "        x = self.projector(x[-1])\n",
    "        return x\n",
    "\n",
    "#     def describe(self):\n",
    "#         return 'YoonKimModel_filters_%s_cnn_%s_pool_%s_stride_%s'"
   ]
  },
  {
   "cell_type": "code",
   "execution_count": 7,
   "metadata": {},
   "outputs": [
    {
     "ename": "NameError",
     "evalue": "name 'hidden_dim_2' is not defined",
     "output_type": "error",
     "traceback": [
      "\u001b[0;31m---------------------------------------------------------------------------\u001b[0m",
      "\u001b[0;31mNameError\u001b[0m                                 Traceback (most recent call last)",
      "\u001b[0;32m<ipython-input-7-adf909f8b9c5>\u001b[0m in \u001b[0;36m<module>\u001b[0;34m()\u001b[0m\n\u001b[0;32m----> 1\u001b[0;31m \u001b[0mmodel\u001b[0m \u001b[0;34m=\u001b[0m \u001b[0mYoonKimModel\u001b[0m\u001b[0;34m(\u001b[0m\u001b[0mn_filters\u001b[0m\u001b[0;34m=\u001b[0m\u001b[0;36m256\u001b[0m\u001b[0;34m,\u001b[0m \u001b[0mcnn_kernel_size\u001b[0m\u001b[0;34m=\u001b[0m\u001b[0;36m5\u001b[0m\u001b[0;34m,\u001b[0m \u001b[0mpool_kernel_size\u001b[0m\u001b[0;34m=\u001b[0m\u001b[0;36m4\u001b[0m\u001b[0;34m,\u001b[0m \u001b[0mpool_stride\u001b[0m\u001b[0;34m=\u001b[0m\u001b[0;36m3\u001b[0m\u001b[0;34m,\u001b[0m \u001b[0mdropout\u001b[0m\u001b[0;34m=\u001b[0m\u001b[0;36m0.5\u001b[0m\u001b[0;34m)\u001b[0m\u001b[0;34m\u001b[0m\u001b[0m\n\u001b[0m",
      "\u001b[0;32m<ipython-input-5-78d58edb298b>\u001b[0m in \u001b[0;36m__init__\u001b[0;34m(self, n_filters, cnn_kernel_size, pool_kernel_size, pool_stride, dropout, init_function, embedding_dim)\u001b[0m\n\u001b[1;32m      9\u001b[0m         \u001b[0mself\u001b[0m\u001b[0;34m.\u001b[0m\u001b[0mpool_kernel_size\u001b[0m \u001b[0;34m=\u001b[0m \u001b[0mpool_kernel_size\u001b[0m\u001b[0;34m\u001b[0m\u001b[0m\n\u001b[1;32m     10\u001b[0m         \u001b[0mself\u001b[0m\u001b[0;34m.\u001b[0m\u001b[0mpool_stride\u001b[0m \u001b[0;34m=\u001b[0m \u001b[0mpool_stride\u001b[0m\u001b[0;34m\u001b[0m\u001b[0m\n\u001b[0;32m---> 11\u001b[0;31m         \u001b[0mself\u001b[0m\u001b[0;34m.\u001b[0m\u001b[0mhidden_dim_2\u001b[0m \u001b[0;34m=\u001b[0m \u001b[0mhidden_dim_2\u001b[0m\u001b[0;34m\u001b[0m\u001b[0m\n\u001b[0m\u001b[1;32m     12\u001b[0m \u001b[0;34m\u001b[0m\u001b[0m\n\u001b[1;32m     13\u001b[0m         \u001b[0mself\u001b[0m\u001b[0;34m.\u001b[0m\u001b[0membedding\u001b[0m \u001b[0;34m=\u001b[0m \u001b[0mnn\u001b[0m\u001b[0;34m.\u001b[0m\u001b[0mLinear\u001b[0m\u001b[0;34m(\u001b[0m\u001b[0mlen\u001b[0m\u001b[0;34m(\u001b[0m\u001b[0mALPHABET\u001b[0m\u001b[0;34m)\u001b[0m\u001b[0;34m,\u001b[0m \u001b[0membedding_dim\u001b[0m\u001b[0;34m)\u001b[0m\u001b[0;34m\u001b[0m\u001b[0m\n",
      "\u001b[0;31mNameError\u001b[0m: name 'hidden_dim_2' is not defined"
     ]
    }
   ],
   "source": [
    "model = YoonKimModel(n_filters=256, cnn_kernel_size=5, pool_kernel_size=4, pool_stride=3, dropout=0.5)"
   ]
  },
  {
   "cell_type": "code",
   "execution_count": null,
   "metadata": {},
   "outputs": [],
   "source": []
  }
 ],
 "metadata": {
  "kernelspec": {
   "display_name": "Python 3",
   "language": "python",
   "name": "python3"
  },
  "language_info": {
   "codemirror_mode": {
    "name": "ipython",
    "version": 3
   },
   "file_extension": ".py",
   "mimetype": "text/x-python",
   "name": "python",
   "nbconvert_exporter": "python",
   "pygments_lexer": "ipython3",
   "version": "3.5.2"
  }
 },
 "nbformat": 4,
 "nbformat_minor": 2
}
