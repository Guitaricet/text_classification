{
 "cells": [
  {
   "cell_type": "code",
   "execution_count": 65,
   "metadata": {},
   "outputs": [
    {
     "name": "stdout",
     "output_type": "stream",
     "text": [
      "42 is a cool magic number\n"
     ]
    }
   ],
   "source": [
    "import requests\n",
    "\n",
    "\n",
    "class Speller(object):\n",
    "    service = 'http://speller.yandex.net/services/spellservice.json/checkText'\n",
    "\n",
    "    def __init__(self, text, options=None, lang=None, format_text=None):\n",
    "        self.text = text\n",
    "        self.options = options\n",
    "        self.lang = lang\n",
    "        self.format_text = format_text\n",
    "        self._answer = None\n",
    "\n",
    "    def check(self):\n",
    "        data = {'text': self.text}\n",
    "        if self.options:\n",
    "            data['options'] = self.options\n",
    "        if self.lang:\n",
    "            data['lang'] = self.lang\n",
    "        if self.format_text:\n",
    "            data['format'] = self.format_text\n",
    "        answer = requests.post(url=self.service, data=data).json()\n",
    "        return answer\n",
    "\n",
    "    @property\n",
    "    def answer(self):\n",
    "        if self._answer is None:\n",
    "            self._answer = self.check()\n",
    "        return self._answer\n",
    "\n",
    "    @property\n",
    "    def correct(self):\n",
    "        return not self.answer\n",
    "\n",
    "    @property\n",
    "    def spellsafe(self):\n",
    "        raise NotImplementedError(\"Subclasses should implement this!\")\n",
    "\n",
    "\n",
    "class Word(Speller):\n",
    "\n",
    "    @property\n",
    "    def variants(self):\n",
    "        if self.correct:\n",
    "            return\n",
    "        return self.answer[0]['s']\n",
    "\n",
    "    @property\n",
    "    def spellsafe(self):\n",
    "        if self.correct:\n",
    "            return\n",
    "        return self.variants[0]\n",
    "\n",
    "\n",
    "class Text(Speller):\n",
    "\n",
    "    @property\n",
    "    def spellsafe(self):\n",
    "        changes = {el['word']: el['s'][0] for el in self.answer if len(el['s']) > 0}\n",
    "        result = self.text\n",
    "        for wrong, fixed in changes.items():\n",
    "            result = result.replace(wrong, fixed)\n",
    "        return result\n",
    "\n",
    "    @property\n",
    "    def errors(self):\n",
    "        return [el['word'] for el in self.answer]\n",
    "\n",
    "print(Text('42 is a cUl maagic namber').spellsafe)"
   ]
  },
  {
   "cell_type": "code",
   "execution_count": 44,
   "metadata": {},
   "outputs": [],
   "source": [
    "import pandas as pd"
   ]
  },
  {
   "cell_type": "code",
   "execution_count": 67,
   "metadata": {},
   "outputs": [],
   "source": [
    "data_pos = pd.read_csv('/media/data/nlp/sentiment/ru-mokoron/positive.csv',\n",
    "                   names=['id', 'date', 'user', 'text', 'sentiment'], index_col=0,\n",
    "                   sep=';', usecols=[0, 1, 2, 3, 4])\n",
    "data_neg = pd.read_csv('/media/data/nlp/sentiment/ru-mokoron/negative.csv',\n",
    "                   names=['id', 'date', 'user', 'text', 'sentiment'], index_col=0,\n",
    "                   sep=';', usecols=[0, 1, 2, 3, 4])\n",
    "\n",
    "data = pd.concat([data_pos, data_neg])"
   ]
  },
  {
   "cell_type": "code",
   "execution_count": 47,
   "metadata": {},
   "outputs": [
    {
     "data": {
      "text/html": [
       "<div>\n",
       "<style scoped>\n",
       "    .dataframe tbody tr th:only-of-type {\n",
       "        vertical-align: middle;\n",
       "    }\n",
       "\n",
       "    .dataframe tbody tr th {\n",
       "        vertical-align: top;\n",
       "    }\n",
       "\n",
       "    .dataframe thead th {\n",
       "        text-align: right;\n",
       "    }\n",
       "</style>\n",
       "<table border=\"1\" class=\"dataframe\">\n",
       "  <thead>\n",
       "    <tr style=\"text-align: right;\">\n",
       "      <th></th>\n",
       "      <th>date</th>\n",
       "      <th>user</th>\n",
       "      <th>text</th>\n",
       "      <th>sentiment</th>\n",
       "    </tr>\n",
       "    <tr>\n",
       "      <th>id</th>\n",
       "      <th></th>\n",
       "      <th></th>\n",
       "      <th></th>\n",
       "      <th></th>\n",
       "    </tr>\n",
       "  </thead>\n",
       "  <tbody>\n",
       "    <tr>\n",
       "      <th>409345048023539712</th>\n",
       "      <td>1386430439</td>\n",
       "      <td>MissOlens</td>\n",
       "      <td>@Taisia_or_Tasya дура, ахах, сама иди) я лучше...</td>\n",
       "      <td>1</td>\n",
       "    </tr>\n",
       "    <tr>\n",
       "      <th>411978782774276096</th>\n",
       "      <td>1387058370</td>\n",
       "      <td>LisEvelina</td>\n",
       "      <td>я плачу, ибо соскучилась по своим моделям:((((((</td>\n",
       "      <td>-1</td>\n",
       "    </tr>\n",
       "    <tr>\n",
       "      <th>409375138216673280</th>\n",
       "      <td>1386437613</td>\n",
       "      <td>suprinosha</td>\n",
       "      <td>RT @mashynya7: пиццуля с Катюлей :* http://t.c...</td>\n",
       "      <td>1</td>\n",
       "    </tr>\n",
       "    <tr>\n",
       "      <th>414395330872872960</th>\n",
       "      <td>1387634520</td>\n",
       "      <td>alien_im_mir</td>\n",
       "      <td>Я бы в розовом пошла, но обуви к нему нет... Л...</td>\n",
       "      <td>-1</td>\n",
       "    </tr>\n",
       "    <tr>\n",
       "      <th>409992912148369408</th>\n",
       "      <td>1386584902</td>\n",
       "      <td>Green_Diva</td>\n",
       "      <td>RT @FRERARD_MM: мишель,я еще не скинул фотку :...</td>\n",
       "      <td>1</td>\n",
       "    </tr>\n",
       "  </tbody>\n",
       "</table>\n",
       "</div>"
      ],
      "text/plain": [
       "                          date          user  \\\n",
       "id                                             \n",
       "409345048023539712  1386430439     MissOlens   \n",
       "411978782774276096  1387058370    LisEvelina   \n",
       "409375138216673280  1386437613    suprinosha   \n",
       "414395330872872960  1387634520  alien_im_mir   \n",
       "409992912148369408  1386584902    Green_Diva   \n",
       "\n",
       "                                                                 text  \\\n",
       "id                                                                      \n",
       "409345048023539712  @Taisia_or_Tasya дура, ахах, сама иди) я лучше...   \n",
       "411978782774276096   я плачу, ибо соскучилась по своим моделям:((((((   \n",
       "409375138216673280  RT @mashynya7: пиццуля с Катюлей :* http://t.c...   \n",
       "414395330872872960  Я бы в розовом пошла, но обуви к нему нет... Л...   \n",
       "409992912148369408  RT @FRERARD_MM: мишель,я еще не скинул фотку :...   \n",
       "\n",
       "                    sentiment  \n",
       "id                             \n",
       "409345048023539712          1  \n",
       "411978782774276096         -1  \n",
       "409375138216673280          1  \n",
       "414395330872872960         -1  \n",
       "409992912148369408          1  "
      ]
     },
     "execution_count": 47,
     "metadata": {},
     "output_type": "execute_result"
    }
   ],
   "source": [
    "data.sample(5)"
   ]
  },
  {
   "cell_type": "code",
   "execution_count": 68,
   "metadata": {},
   "outputs": [
    {
     "data": {
      "text/plain": [
       "((226834, 4), (114911, 4), (111923, 4))"
      ]
     },
     "execution_count": 68,
     "metadata": {},
     "output_type": "execute_result"
    }
   ],
   "source": [
    "data.shape, data_pos.shape, data_neg.shape"
   ]
  },
  {
   "cell_type": "code",
   "execution_count": 69,
   "metadata": {},
   "outputs": [],
   "source": [
    "from tqdm import tqdm"
   ]
  },
  {
   "cell_type": "code",
   "execution_count": 66,
   "metadata": {},
   "outputs": [
    {
     "name": "stderr",
     "output_type": "stream",
     "text": [
      "\n",
      "\n",
      "  0%|          | 0/226834 [00:00<?, ?it/s]\u001b[A\u001b[A\n",
      "\n",
      "  0%|          | 30/226834 [00:01<2:07:13, 29.71it/s]\u001b[A\u001b[A\n",
      "\n",
      "  0%|          | 59/226834 [00:02<2:09:28, 29.19it/s]\u001b[A\u001b[A\n",
      "\n",
      "  0%|          | 90/226834 [00:03<2:07:54, 29.54it/s]\u001b[A\u001b[A\n",
      "\n",
      "  0%|          | 121/226834 [00:04<2:07:18, 29.68it/s]\u001b[A\u001b[A\n",
      "\n",
      "  0%|          | 152/226834 [00:05<2:06:26, 29.88it/s]\u001b[A\u001b[A\n",
      "\n",
      "  0%|          | 182/226834 [00:06<2:06:49, 29.78it/s]\u001b[A\u001b[A\n",
      "\n",
      "  0%|          | 213/226834 [00:07<2:06:23, 29.88it/s]\u001b[A\u001b[A\n",
      "\n",
      "  0%|          | 241/226834 [00:08<2:07:53, 29.53it/s]\u001b[A\u001b[A\n",
      "\n",
      "  0%|          | 273/226834 [00:09<2:07:02, 29.72it/s]\u001b[A\u001b[A\n",
      "\n",
      "  0%|          | 304/226834 [00:10<2:06:50, 29.77it/s]\u001b[A\u001b[A\n",
      "\n",
      "  0%|          | 335/226834 [00:11<2:06:31, 29.83it/s]\u001b[A\u001b[A\n",
      "\n",
      "  0%|          | 365/226834 [00:12<2:06:45, 29.78it/s]\u001b[A\u001b[A\n",
      "\n",
      "  0%|          | 395/226834 [00:13<2:06:40, 29.79it/s]\u001b[A\u001b[A\n",
      "\n",
      "  0%|          | 426/226834 [00:14<2:06:20, 29.87it/s]\u001b[A\u001b[A\n",
      "\n",
      "  0%|          | 456/226834 [00:15<2:06:27, 29.83it/s]\u001b[A\u001b[A\n",
      "\n",
      "  0%|          | 487/226834 [00:16<2:06:16, 29.87it/s]\u001b[A\u001b[A\n",
      "\n",
      "\u001b[A\u001b[A"
     ]
    },
    {
     "ename": "KeyboardInterrupt",
     "evalue": "",
     "output_type": "error",
     "traceback": [
      "\u001b[0;31m---------------------------------------------------------------------------\u001b[0m",
      "\u001b[0;31mKeyboardInterrupt\u001b[0m                         Traceback (most recent call last)",
      "\u001b[0;32m<ipython-input-66-cd904dad5199>\u001b[0m in \u001b[0;36m<module>\u001b[0;34m()\u001b[0m\n\u001b[1;32m      3\u001b[0m \u001b[0mtotal\u001b[0m \u001b[0;34m=\u001b[0m \u001b[0mlen\u001b[0m\u001b[0;34m(\u001b[0m\u001b[0mdata\u001b[0m\u001b[0;34m)\u001b[0m\u001b[0;34m\u001b[0m\u001b[0m\n\u001b[1;32m      4\u001b[0m \u001b[0;32mfor\u001b[0m \u001b[0midx\u001b[0m\u001b[0;34m,\u001b[0m \u001b[0mline\u001b[0m \u001b[0;32min\u001b[0m \u001b[0mtqdm\u001b[0m\u001b[0;34m(\u001b[0m\u001b[0mdata\u001b[0m\u001b[0;34m.\u001b[0m\u001b[0miterrows\u001b[0m\u001b[0;34m(\u001b[0m\u001b[0;34m)\u001b[0m\u001b[0;34m,\u001b[0m \u001b[0mtotal\u001b[0m\u001b[0;34m=\u001b[0m\u001b[0mtotal\u001b[0m\u001b[0;34m,\u001b[0m \u001b[0mleave\u001b[0m\u001b[0;34m=\u001b[0m\u001b[0;32mTrue\u001b[0m\u001b[0;34m,\u001b[0m \u001b[0mmininterval\u001b[0m\u001b[0;34m=\u001b[0m\u001b[0;36m1.0\u001b[0m\u001b[0;34m)\u001b[0m\u001b[0;34m:\u001b[0m\u001b[0;34m\u001b[0m\u001b[0m\n\u001b[0;32m----> 5\u001b[0;31m     \u001b[0mfixed_text\u001b[0m \u001b[0;34m=\u001b[0m \u001b[0mText\u001b[0m\u001b[0;34m(\u001b[0m\u001b[0mline\u001b[0m\u001b[0;34m.\u001b[0m\u001b[0mtext\u001b[0m\u001b[0;34m)\u001b[0m\u001b[0;34m.\u001b[0m\u001b[0mspellsafe\u001b[0m\u001b[0;34m\u001b[0m\u001b[0m\n\u001b[0m\u001b[1;32m      6\u001b[0m     fixed_texts.append({\n\u001b[1;32m      7\u001b[0m         \u001b[0;34m'id'\u001b[0m\u001b[0;34m:\u001b[0m \u001b[0midx\u001b[0m\u001b[0;34m,\u001b[0m\u001b[0;34m\u001b[0m\u001b[0m\n",
      "\u001b[0;32m<ipython-input-65-66ac5f7f1f1a>\u001b[0m in \u001b[0;36mspellsafe\u001b[0;34m(self)\u001b[0m\n\u001b[1;32m     57\u001b[0m     \u001b[0;34m@\u001b[0m\u001b[0mproperty\u001b[0m\u001b[0;34m\u001b[0m\u001b[0m\n\u001b[1;32m     58\u001b[0m     \u001b[0;32mdef\u001b[0m \u001b[0mspellsafe\u001b[0m\u001b[0;34m(\u001b[0m\u001b[0mself\u001b[0m\u001b[0;34m)\u001b[0m\u001b[0;34m:\u001b[0m\u001b[0;34m\u001b[0m\u001b[0m\n\u001b[0;32m---> 59\u001b[0;31m         \u001b[0mchanges\u001b[0m \u001b[0;34m=\u001b[0m \u001b[0;34m{\u001b[0m\u001b[0mel\u001b[0m\u001b[0;34m[\u001b[0m\u001b[0;34m'word'\u001b[0m\u001b[0;34m]\u001b[0m\u001b[0;34m:\u001b[0m \u001b[0mel\u001b[0m\u001b[0;34m[\u001b[0m\u001b[0;34m's'\u001b[0m\u001b[0;34m]\u001b[0m\u001b[0;34m[\u001b[0m\u001b[0;36m0\u001b[0m\u001b[0;34m]\u001b[0m \u001b[0;32mfor\u001b[0m \u001b[0mel\u001b[0m \u001b[0;32min\u001b[0m \u001b[0mself\u001b[0m\u001b[0;34m.\u001b[0m\u001b[0manswer\u001b[0m \u001b[0;32mif\u001b[0m \u001b[0mlen\u001b[0m\u001b[0;34m(\u001b[0m\u001b[0mel\u001b[0m\u001b[0;34m[\u001b[0m\u001b[0;34m's'\u001b[0m\u001b[0;34m]\u001b[0m\u001b[0;34m)\u001b[0m \u001b[0;34m>\u001b[0m \u001b[0;36m0\u001b[0m\u001b[0;34m}\u001b[0m\u001b[0;34m\u001b[0m\u001b[0m\n\u001b[0m\u001b[1;32m     60\u001b[0m         \u001b[0mresult\u001b[0m \u001b[0;34m=\u001b[0m \u001b[0mself\u001b[0m\u001b[0;34m.\u001b[0m\u001b[0mtext\u001b[0m\u001b[0;34m\u001b[0m\u001b[0m\n\u001b[1;32m     61\u001b[0m         \u001b[0;32mfor\u001b[0m \u001b[0mwrong\u001b[0m\u001b[0;34m,\u001b[0m \u001b[0mfixed\u001b[0m \u001b[0;32min\u001b[0m \u001b[0mchanges\u001b[0m\u001b[0;34m.\u001b[0m\u001b[0mitems\u001b[0m\u001b[0;34m(\u001b[0m\u001b[0;34m)\u001b[0m\u001b[0;34m:\u001b[0m\u001b[0;34m\u001b[0m\u001b[0m\n",
      "\u001b[0;32m<ipython-input-65-66ac5f7f1f1a>\u001b[0m in \u001b[0;36manswer\u001b[0;34m(self)\u001b[0m\n\u001b[1;32m     26\u001b[0m     \u001b[0;32mdef\u001b[0m \u001b[0manswer\u001b[0m\u001b[0;34m(\u001b[0m\u001b[0mself\u001b[0m\u001b[0;34m)\u001b[0m\u001b[0;34m:\u001b[0m\u001b[0;34m\u001b[0m\u001b[0m\n\u001b[1;32m     27\u001b[0m         \u001b[0;32mif\u001b[0m \u001b[0mself\u001b[0m\u001b[0;34m.\u001b[0m\u001b[0m_answer\u001b[0m \u001b[0;32mis\u001b[0m \u001b[0;32mNone\u001b[0m\u001b[0;34m:\u001b[0m\u001b[0;34m\u001b[0m\u001b[0m\n\u001b[0;32m---> 28\u001b[0;31m             \u001b[0mself\u001b[0m\u001b[0;34m.\u001b[0m\u001b[0m_answer\u001b[0m \u001b[0;34m=\u001b[0m \u001b[0mself\u001b[0m\u001b[0;34m.\u001b[0m\u001b[0mcheck\u001b[0m\u001b[0;34m(\u001b[0m\u001b[0;34m)\u001b[0m\u001b[0;34m\u001b[0m\u001b[0m\n\u001b[0m\u001b[1;32m     29\u001b[0m         \u001b[0;32mreturn\u001b[0m \u001b[0mself\u001b[0m\u001b[0;34m.\u001b[0m\u001b[0m_answer\u001b[0m\u001b[0;34m\u001b[0m\u001b[0m\n\u001b[1;32m     30\u001b[0m \u001b[0;34m\u001b[0m\u001b[0m\n",
      "\u001b[0;32m<ipython-input-65-66ac5f7f1f1a>\u001b[0m in \u001b[0;36mcheck\u001b[0;34m(self)\u001b[0m\n\u001b[1;32m     20\u001b[0m         \u001b[0;32mif\u001b[0m \u001b[0mself\u001b[0m\u001b[0;34m.\u001b[0m\u001b[0mformat_text\u001b[0m\u001b[0;34m:\u001b[0m\u001b[0;34m\u001b[0m\u001b[0m\n\u001b[1;32m     21\u001b[0m             \u001b[0mdata\u001b[0m\u001b[0;34m[\u001b[0m\u001b[0;34m'format'\u001b[0m\u001b[0;34m]\u001b[0m \u001b[0;34m=\u001b[0m \u001b[0mself\u001b[0m\u001b[0;34m.\u001b[0m\u001b[0mformat_text\u001b[0m\u001b[0;34m\u001b[0m\u001b[0m\n\u001b[0;32m---> 22\u001b[0;31m         \u001b[0manswer\u001b[0m \u001b[0;34m=\u001b[0m \u001b[0mrequests\u001b[0m\u001b[0;34m.\u001b[0m\u001b[0mpost\u001b[0m\u001b[0;34m(\u001b[0m\u001b[0murl\u001b[0m\u001b[0;34m=\u001b[0m\u001b[0mself\u001b[0m\u001b[0;34m.\u001b[0m\u001b[0mservice\u001b[0m\u001b[0;34m,\u001b[0m \u001b[0mdata\u001b[0m\u001b[0;34m=\u001b[0m\u001b[0mdata\u001b[0m\u001b[0;34m)\u001b[0m\u001b[0;34m.\u001b[0m\u001b[0mjson\u001b[0m\u001b[0;34m(\u001b[0m\u001b[0;34m)\u001b[0m\u001b[0;34m\u001b[0m\u001b[0m\n\u001b[0m\u001b[1;32m     23\u001b[0m         \u001b[0;32mreturn\u001b[0m \u001b[0manswer\u001b[0m\u001b[0;34m\u001b[0m\u001b[0m\n\u001b[1;32m     24\u001b[0m \u001b[0;34m\u001b[0m\u001b[0m\n",
      "\u001b[0;32m~/.virtualenvs/pytorch-env/lib/python3.5/site-packages/requests/api.py\u001b[0m in \u001b[0;36mpost\u001b[0;34m(url, data, json, **kwargs)\u001b[0m\n\u001b[1;32m    110\u001b[0m     \"\"\"\n\u001b[1;32m    111\u001b[0m \u001b[0;34m\u001b[0m\u001b[0m\n\u001b[0;32m--> 112\u001b[0;31m     \u001b[0;32mreturn\u001b[0m \u001b[0mrequest\u001b[0m\u001b[0;34m(\u001b[0m\u001b[0;34m'post'\u001b[0m\u001b[0;34m,\u001b[0m \u001b[0murl\u001b[0m\u001b[0;34m,\u001b[0m \u001b[0mdata\u001b[0m\u001b[0;34m=\u001b[0m\u001b[0mdata\u001b[0m\u001b[0;34m,\u001b[0m \u001b[0mjson\u001b[0m\u001b[0;34m=\u001b[0m\u001b[0mjson\u001b[0m\u001b[0;34m,\u001b[0m \u001b[0;34m**\u001b[0m\u001b[0mkwargs\u001b[0m\u001b[0;34m)\u001b[0m\u001b[0;34m\u001b[0m\u001b[0m\n\u001b[0m\u001b[1;32m    113\u001b[0m \u001b[0;34m\u001b[0m\u001b[0m\n\u001b[1;32m    114\u001b[0m \u001b[0;34m\u001b[0m\u001b[0m\n",
      "\u001b[0;32m~/.virtualenvs/pytorch-env/lib/python3.5/site-packages/requests/api.py\u001b[0m in \u001b[0;36mrequest\u001b[0;34m(method, url, **kwargs)\u001b[0m\n\u001b[1;32m     56\u001b[0m     \u001b[0;31m# cases, and look like a memory leak in others.\u001b[0m\u001b[0;34m\u001b[0m\u001b[0;34m\u001b[0m\u001b[0m\n\u001b[1;32m     57\u001b[0m     \u001b[0;32mwith\u001b[0m \u001b[0msessions\u001b[0m\u001b[0;34m.\u001b[0m\u001b[0mSession\u001b[0m\u001b[0;34m(\u001b[0m\u001b[0;34m)\u001b[0m \u001b[0;32mas\u001b[0m \u001b[0msession\u001b[0m\u001b[0;34m:\u001b[0m\u001b[0;34m\u001b[0m\u001b[0m\n\u001b[0;32m---> 58\u001b[0;31m         \u001b[0;32mreturn\u001b[0m \u001b[0msession\u001b[0m\u001b[0;34m.\u001b[0m\u001b[0mrequest\u001b[0m\u001b[0;34m(\u001b[0m\u001b[0mmethod\u001b[0m\u001b[0;34m=\u001b[0m\u001b[0mmethod\u001b[0m\u001b[0;34m,\u001b[0m \u001b[0murl\u001b[0m\u001b[0;34m=\u001b[0m\u001b[0murl\u001b[0m\u001b[0;34m,\u001b[0m \u001b[0;34m**\u001b[0m\u001b[0mkwargs\u001b[0m\u001b[0;34m)\u001b[0m\u001b[0;34m\u001b[0m\u001b[0m\n\u001b[0m\u001b[1;32m     59\u001b[0m \u001b[0;34m\u001b[0m\u001b[0m\n\u001b[1;32m     60\u001b[0m \u001b[0;34m\u001b[0m\u001b[0m\n",
      "\u001b[0;32m~/.virtualenvs/pytorch-env/lib/python3.5/site-packages/requests/sessions.py\u001b[0m in \u001b[0;36mrequest\u001b[0;34m(self, method, url, params, data, headers, cookies, files, auth, timeout, allow_redirects, proxies, hooks, stream, verify, cert, json)\u001b[0m\n\u001b[1;32m    492\u001b[0m             \u001b[0mhooks\u001b[0m\u001b[0;34m=\u001b[0m\u001b[0mhooks\u001b[0m\u001b[0;34m,\u001b[0m\u001b[0;34m\u001b[0m\u001b[0m\n\u001b[1;32m    493\u001b[0m         )\n\u001b[0;32m--> 494\u001b[0;31m         \u001b[0mprep\u001b[0m \u001b[0;34m=\u001b[0m \u001b[0mself\u001b[0m\u001b[0;34m.\u001b[0m\u001b[0mprepare_request\u001b[0m\u001b[0;34m(\u001b[0m\u001b[0mreq\u001b[0m\u001b[0;34m)\u001b[0m\u001b[0;34m\u001b[0m\u001b[0m\n\u001b[0m\u001b[1;32m    495\u001b[0m \u001b[0;34m\u001b[0m\u001b[0m\n\u001b[1;32m    496\u001b[0m         \u001b[0mproxies\u001b[0m \u001b[0;34m=\u001b[0m \u001b[0mproxies\u001b[0m \u001b[0;32mor\u001b[0m \u001b[0;34m{\u001b[0m\u001b[0;34m}\u001b[0m\u001b[0;34m\u001b[0m\u001b[0m\n",
      "\u001b[0;32m~/.virtualenvs/pytorch-env/lib/python3.5/site-packages/requests/sessions.py\u001b[0m in \u001b[0;36mprepare_request\u001b[0;34m(self, request)\u001b[0m\n\u001b[1;32m    413\u001b[0m         \u001b[0;31m# Bootstrap CookieJar.\u001b[0m\u001b[0;34m\u001b[0m\u001b[0;34m\u001b[0m\u001b[0m\n\u001b[1;32m    414\u001b[0m         \u001b[0;32mif\u001b[0m \u001b[0;32mnot\u001b[0m \u001b[0misinstance\u001b[0m\u001b[0;34m(\u001b[0m\u001b[0mcookies\u001b[0m\u001b[0;34m,\u001b[0m \u001b[0mcookielib\u001b[0m\u001b[0;34m.\u001b[0m\u001b[0mCookieJar\u001b[0m\u001b[0;34m)\u001b[0m\u001b[0;34m:\u001b[0m\u001b[0;34m\u001b[0m\u001b[0m\n\u001b[0;32m--> 415\u001b[0;31m             \u001b[0mcookies\u001b[0m \u001b[0;34m=\u001b[0m \u001b[0mcookiejar_from_dict\u001b[0m\u001b[0;34m(\u001b[0m\u001b[0mcookies\u001b[0m\u001b[0;34m)\u001b[0m\u001b[0;34m\u001b[0m\u001b[0m\n\u001b[0m\u001b[1;32m    416\u001b[0m \u001b[0;34m\u001b[0m\u001b[0m\n\u001b[1;32m    417\u001b[0m         \u001b[0;31m# Merge with session cookies\u001b[0m\u001b[0;34m\u001b[0m\u001b[0;34m\u001b[0m\u001b[0m\n",
      "\u001b[0;32m~/.virtualenvs/pytorch-env/lib/python3.5/site-packages/requests/cookies.py\u001b[0m in \u001b[0;36mcookiejar_from_dict\u001b[0;34m(cookie_dict, cookiejar, overwrite)\u001b[0m\n\u001b[1;32m    510\u001b[0m     \"\"\"\n\u001b[1;32m    511\u001b[0m     \u001b[0;32mif\u001b[0m \u001b[0mcookiejar\u001b[0m \u001b[0;32mis\u001b[0m \u001b[0;32mNone\u001b[0m\u001b[0;34m:\u001b[0m\u001b[0;34m\u001b[0m\u001b[0m\n\u001b[0;32m--> 512\u001b[0;31m         \u001b[0mcookiejar\u001b[0m \u001b[0;34m=\u001b[0m \u001b[0mRequestsCookieJar\u001b[0m\u001b[0;34m(\u001b[0m\u001b[0;34m)\u001b[0m\u001b[0;34m\u001b[0m\u001b[0m\n\u001b[0m\u001b[1;32m    513\u001b[0m \u001b[0;34m\u001b[0m\u001b[0m\n\u001b[1;32m    514\u001b[0m     \u001b[0;32mif\u001b[0m \u001b[0mcookie_dict\u001b[0m \u001b[0;32mis\u001b[0m \u001b[0;32mnot\u001b[0m \u001b[0;32mNone\u001b[0m\u001b[0;34m:\u001b[0m\u001b[0;34m\u001b[0m\u001b[0m\n",
      "\u001b[0;32m/usr/lib/python3.5/http/cookiejar.py\u001b[0m in \u001b[0;36m__init__\u001b[0;34m(self, policy)\u001b[0m\n\u001b[1;32m   1239\u001b[0m     \u001b[0;32mdef\u001b[0m \u001b[0m__init__\u001b[0m\u001b[0;34m(\u001b[0m\u001b[0mself\u001b[0m\u001b[0;34m,\u001b[0m \u001b[0mpolicy\u001b[0m\u001b[0;34m=\u001b[0m\u001b[0;32mNone\u001b[0m\u001b[0;34m)\u001b[0m\u001b[0;34m:\u001b[0m\u001b[0;34m\u001b[0m\u001b[0m\n\u001b[1;32m   1240\u001b[0m         \u001b[0;32mif\u001b[0m \u001b[0mpolicy\u001b[0m \u001b[0;32mis\u001b[0m \u001b[0;32mNone\u001b[0m\u001b[0;34m:\u001b[0m\u001b[0;34m\u001b[0m\u001b[0m\n\u001b[0;32m-> 1241\u001b[0;31m             \u001b[0mpolicy\u001b[0m \u001b[0;34m=\u001b[0m \u001b[0mDefaultCookiePolicy\u001b[0m\u001b[0;34m(\u001b[0m\u001b[0;34m)\u001b[0m\u001b[0;34m\u001b[0m\u001b[0m\n\u001b[0m\u001b[1;32m   1242\u001b[0m         \u001b[0mself\u001b[0m\u001b[0;34m.\u001b[0m\u001b[0m_policy\u001b[0m \u001b[0;34m=\u001b[0m \u001b[0mpolicy\u001b[0m\u001b[0;34m\u001b[0m\u001b[0m\n\u001b[1;32m   1243\u001b[0m \u001b[0;34m\u001b[0m\u001b[0m\n",
      "\u001b[0;32m/usr/lib/python3.5/http/cookiejar.py\u001b[0m in \u001b[0;36m__init__\u001b[0;34m(self, blocked_domains, allowed_domains, netscape, rfc2965, rfc2109_as_netscape, hide_cookie2, strict_domain, strict_rfc2965_unverifiable, strict_ns_unverifiable, strict_ns_domain, strict_ns_set_initial_dollar, strict_ns_set_path)\u001b[0m\n\u001b[1;32m    871\u001b[0m     \u001b[0mDomainStrict\u001b[0m \u001b[0;34m=\u001b[0m \u001b[0mDomainStrictNoDots\u001b[0m\u001b[0;34m|\u001b[0m\u001b[0mDomainStrictNonDomain\u001b[0m\u001b[0;34m\u001b[0m\u001b[0m\n\u001b[1;32m    872\u001b[0m \u001b[0;34m\u001b[0m\u001b[0m\n\u001b[0;32m--> 873\u001b[0;31m     def __init__(self,\n\u001b[0m\u001b[1;32m    874\u001b[0m                  \u001b[0mblocked_domains\u001b[0m\u001b[0;34m=\u001b[0m\u001b[0;32mNone\u001b[0m\u001b[0;34m,\u001b[0m \u001b[0mallowed_domains\u001b[0m\u001b[0;34m=\u001b[0m\u001b[0;32mNone\u001b[0m\u001b[0;34m,\u001b[0m\u001b[0;34m\u001b[0m\u001b[0m\n\u001b[1;32m    875\u001b[0m                  \u001b[0mnetscape\u001b[0m\u001b[0;34m=\u001b[0m\u001b[0;32mTrue\u001b[0m\u001b[0;34m,\u001b[0m \u001b[0mrfc2965\u001b[0m\u001b[0;34m=\u001b[0m\u001b[0;32mFalse\u001b[0m\u001b[0;34m,\u001b[0m\u001b[0;34m\u001b[0m\u001b[0m\n",
      "\u001b[0;31mKeyboardInterrupt\u001b[0m: "
     ]
    }
   ],
   "source": [
    "fixed_texts = []\n",
    "\n",
    "total = len(data)\n",
    "for idx, line in tqdm(data.iterrows(), total=total, mininterval=1.0):\n",
    "    fixed_text = Text(line.text).spellsafe\n",
    "    fixed_texts.append({\n",
    "        'id': idx,\n",
    "        'text': fixed_text,\n",
    "        'original_text': line.text,\n",
    "        'sentiment': line.sentiment\n",
    "    })"
   ]
  },
  {
   "cell_type": "code",
   "execution_count": 59,
   "metadata": {},
   "outputs": [],
   "source": [
    "fixed_texts_df = pd.DataFrame(fixed_texts)"
   ]
  },
  {
   "cell_type": "code",
   "execution_count": 60,
   "metadata": {},
   "outputs": [
    {
     "data": {
      "text/html": [
       "<div>\n",
       "<style scoped>\n",
       "    .dataframe tbody tr th:only-of-type {\n",
       "        vertical-align: middle;\n",
       "    }\n",
       "\n",
       "    .dataframe tbody tr th {\n",
       "        vertical-align: top;\n",
       "    }\n",
       "\n",
       "    .dataframe thead th {\n",
       "        text-align: right;\n",
       "    }\n",
       "</style>\n",
       "<table border=\"1\" class=\"dataframe\">\n",
       "  <thead>\n",
       "    <tr style=\"text-align: right;\">\n",
       "      <th></th>\n",
       "      <th>id</th>\n",
       "      <th>original_text</th>\n",
       "      <th>sentiment</th>\n",
       "      <th>text</th>\n",
       "    </tr>\n",
       "  </thead>\n",
       "  <tbody>\n",
       "    <tr>\n",
       "      <th>39709</th>\n",
       "      <td>409901001601482752</td>\n",
       "      <td>RT @jufyzatugade: Календарь \"2011, блеать\"   К...</td>\n",
       "      <td>1</td>\n",
       "      <td>&lt;__main__.Text object at 0x7f7de2e01668&gt;</td>\n",
       "    </tr>\n",
       "    <tr>\n",
       "      <th>19535</th>\n",
       "      <td>409391359544418308</td>\n",
       "      <td>Мего крутой день))) прям весь день как праздни...</td>\n",
       "      <td>1</td>\n",
       "      <td>&lt;__main__.Text object at 0x7f7de3c6a358&gt;</td>\n",
       "    </tr>\n",
       "    <tr>\n",
       "      <th>4391</th>\n",
       "      <td>409055865749377024</td>\n",
       "      <td>RT @MAPCOKEMOB_MHE: @yulechka_minion @EnvoyPas...</td>\n",
       "      <td>1</td>\n",
       "      <td>&lt;__main__.Text object at 0x7f7de3ff4dd8&gt;</td>\n",
       "    </tr>\n",
       "    <tr>\n",
       "      <th>90609</th>\n",
       "      <td>410847118157676544</td>\n",
       "      <td>@chippolinka пасиба) Будем придумывать сценари...</td>\n",
       "      <td>1</td>\n",
       "      <td>&lt;__main__.Text object at 0x7f7de45ebf98&gt;</td>\n",
       "    </tr>\n",
       "    <tr>\n",
       "      <th>2405</th>\n",
       "      <td>408932134838341632</td>\n",
       "      <td>@itolmach у вас столько крутых деталей в доме!...</td>\n",
       "      <td>1</td>\n",
       "      <td>&lt;__main__.Text object at 0x7f7de40484a8&gt;</td>\n",
       "    </tr>\n",
       "    <tr>\n",
       "      <th>143062</th>\n",
       "      <td>412598177888358400</td>\n",
       "      <td>мля надо срочно где то найти объектив гелиос 4...</td>\n",
       "      <td>-1</td>\n",
       "      <td>&lt;__main__.Text object at 0x7f7de2710898&gt;</td>\n",
       "    </tr>\n",
       "    <tr>\n",
       "      <th>89113</th>\n",
       "      <td>410833740722896896</td>\n",
       "      <td>Мы готовы ко сну! Ахаха :) Спокойной ночи всем...</td>\n",
       "      <td>1</td>\n",
       "      <td>&lt;__main__.Text object at 0x7f7de77ad400&gt;</td>\n",
       "    </tr>\n",
       "    <tr>\n",
       "      <th>13466</th>\n",
       "      <td>409324774725529600</td>\n",
       "      <td>@ACostantinis мама !не тебе одной !я с ней с у...</td>\n",
       "      <td>1</td>\n",
       "      <td>&lt;__main__.Text object at 0x7f7de3e52e80&gt;</td>\n",
       "    </tr>\n",
       "    <tr>\n",
       "      <th>177531</th>\n",
       "      <td>416834399888744448</td>\n",
       "      <td>RT @Ackles_Collins: @xoxo_oleenom раз друзья н...</td>\n",
       "      <td>-1</td>\n",
       "      <td>&lt;__main__.Text object at 0x7f7de1ff53c8&gt;</td>\n",
       "    </tr>\n",
       "    <tr>\n",
       "      <th>122465</th>\n",
       "      <td>410039219768160257</td>\n",
       "      <td>блин, если я пью чай без сахара, это не означа...</td>\n",
       "      <td>-1</td>\n",
       "      <td>&lt;__main__.Text object at 0x7f7de2aa46d8&gt;</td>\n",
       "    </tr>\n",
       "  </tbody>\n",
       "</table>\n",
       "</div>"
      ],
      "text/plain": [
       "                        id                                      original_text  \\\n",
       "39709   409901001601482752  RT @jufyzatugade: Календарь \"2011, блеать\"   К...   \n",
       "19535   409391359544418308  Мего крутой день))) прям весь день как праздни...   \n",
       "4391    409055865749377024  RT @MAPCOKEMOB_MHE: @yulechka_minion @EnvoyPas...   \n",
       "90609   410847118157676544  @chippolinka пасиба) Будем придумывать сценари...   \n",
       "2405    408932134838341632  @itolmach у вас столько крутых деталей в доме!...   \n",
       "143062  412598177888358400  мля надо срочно где то найти объектив гелиос 4...   \n",
       "89113   410833740722896896  Мы готовы ко сну! Ахаха :) Спокойной ночи всем...   \n",
       "13466   409324774725529600  @ACostantinis мама !не тебе одной !я с ней с у...   \n",
       "177531  416834399888744448  RT @Ackles_Collins: @xoxo_oleenom раз друзья н...   \n",
       "122465  410039219768160257  блин, если я пью чай без сахара, это не означа...   \n",
       "\n",
       "        sentiment                                      text  \n",
       "39709           1  <__main__.Text object at 0x7f7de2e01668>  \n",
       "19535           1  <__main__.Text object at 0x7f7de3c6a358>  \n",
       "4391            1  <__main__.Text object at 0x7f7de3ff4dd8>  \n",
       "90609           1  <__main__.Text object at 0x7f7de45ebf98>  \n",
       "2405            1  <__main__.Text object at 0x7f7de40484a8>  \n",
       "143062         -1  <__main__.Text object at 0x7f7de2710898>  \n",
       "89113           1  <__main__.Text object at 0x7f7de77ad400>  \n",
       "13466           1  <__main__.Text object at 0x7f7de3e52e80>  \n",
       "177531         -1  <__main__.Text object at 0x7f7de1ff53c8>  \n",
       "122465         -1  <__main__.Text object at 0x7f7de2aa46d8>  "
      ]
     },
     "execution_count": 60,
     "metadata": {},
     "output_type": "execute_result"
    }
   ],
   "source": [
    "fixed_texts_df.sample(10)"
   ]
  },
  {
   "cell_type": "markdown",
   "metadata": {},
   "source": [
    "# Exp"
   ]
  },
  {
   "cell_type": "code",
   "execution_count": 3,
   "metadata": {},
   "outputs": [],
   "source": [
    "import requests"
   ]
  },
  {
   "cell_type": "code",
   "execution_count": 28,
   "metadata": {},
   "outputs": [],
   "source": [
    "params = {'text': 'какого цвеета ты сегодя?', 'lang': 'ru,en'}\n",
    "res = requests.get('http://speller.yandex.net/services/spellservice.json/checkText', params=params)"
   ]
  },
  {
   "cell_type": "code",
   "execution_count": 32,
   "metadata": {},
   "outputs": [
    {
     "data": {
      "text/plain": [
       "[{'code': 1,\n",
       "  'col': 7,\n",
       "  'len': 6,\n",
       "  'pos': 7,\n",
       "  'row': 0,\n",
       "  's': ['цвета'],\n",
       "  'word': 'цвеета'},\n",
       " {'code': 1,\n",
       "  'col': 17,\n",
       "  'len': 6,\n",
       "  'pos': 17,\n",
       "  'row': 0,\n",
       "  's': ['сегодня'],\n",
       "  'word': 'сегодя'}]"
      ]
     },
     "execution_count": 32,
     "metadata": {},
     "output_type": "execute_result"
    }
   ],
   "source": [
    "res.json()"
   ]
  },
  {
   "cell_type": "code",
   "execution_count": 33,
   "metadata": {},
   "outputs": [],
   "source": [
    "t = 'какого цвеета ты сегодя?'"
   ]
  },
  {
   "cell_type": "code",
   "execution_count": 35,
   "metadata": {},
   "outputs": [
    {
     "data": {
      "text/plain": [
       "'цвеета'"
      ]
     },
     "execution_count": 35,
     "metadata": {},
     "output_type": "execute_result"
    }
   ],
   "source": [
    "t[7:7+6]"
   ]
  },
  {
   "cell_type": "code",
   "execution_count": null,
   "metadata": {},
   "outputs": [],
   "source": []
  }
 ],
 "metadata": {
  "kernelspec": {
   "display_name": "pytorch-env",
   "language": "python",
   "name": "pytorch-env"
  },
  "language_info": {
   "codemirror_mode": {
    "name": "ipython",
    "version": 3
   },
   "file_extension": ".py",
   "mimetype": "text/x-python",
   "name": "python",
   "nbconvert_exporter": "python",
   "pygments_lexer": "ipython3",
   "version": "3.5.2"
  }
 },
 "nbformat": 4,
 "nbformat_minor": 2
}
